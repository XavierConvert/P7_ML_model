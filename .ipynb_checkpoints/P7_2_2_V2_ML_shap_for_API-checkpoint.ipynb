{
 "cells": [
  {
   "cell_type": "markdown",
   "metadata": {},
   "source": [
    "# 0. Commentaire\n",
    "\n",
    "## 0.1 Cette verison semble fonctionner: je réussis à appeler un SK_ID dans l'API qui me renvoie les shpa.values\n",
    "\n",
    "=> modèle splitté en 3: \n",
    "\n",
    "    - la partie sampler (qui elle ne sembe pas s'appliquer => j'ai toujours 61498 lignes dans mon df shap values)\n",
    "    - la partie transformer (transfromer2) = imputer + standard scaler\n",
    "    - la partie estimateur (LogReg2)\n",
    "\n",
    "=> A inclure dans P7_2_1 pour vérifier quele shap.base est identique dans l'onglet 'Shap_test' et dans l'onglet 'shap_val\n",
    "\n",
    "## 0.2 Remarque: différence entre .loc et .iloc dans le résultat affiché dans l'API\n",
    "\n",
    "Ave iloc pas d'index affiché / Avec .loc index affiché suivi de : puis donnée souhaitée (impact ajout d'une couche de dictionnaire)\n",
    "\n",
    "=> Tester le passage du SK_ID dans l'index..."
   ]
  },
  {
   "cell_type": "code",
   "execution_count": 1,
   "metadata": {},
   "outputs": [
    {
     "data": {
      "text/plain": [
       "'c:\\\\Users\\\\xavie\\\\P7\\\\P7_ML_model'"
      ]
     },
     "execution_count": 1,
     "metadata": {},
     "output_type": "execute_result"
    }
   ],
   "source": [
    "pwd"
   ]
  },
  {
   "cell_type": "markdown",
   "metadata": {},
   "source": [
    "# 1 Intro"
   ]
  },
  {
   "cell_type": "markdown",
   "metadata": {},
   "source": [
    "Adaptation best_model pour appel shap_values dans API\n",
    "\n",
    "=> LogiticRegression()"
   ]
  },
  {
   "cell_type": "markdown",
   "metadata": {},
   "source": [
    "## 1.1 Imports"
   ]
  },
  {
   "cell_type": "code",
   "execution_count": 2,
   "metadata": {},
   "outputs": [],
   "source": [
    "import pandas as pd\n",
    "import numpy as np\n",
    "import matplotlib.pyplot as plt\n",
    "import seaborn as sns\n",
    "import chardet\n",
    "import missingno as msno\n",
    "from sklearn.model_selection import train_test_split\n",
    "from sklearn.dummy import DummyClassifier\n",
    "from sklearn.impute import KNNImputer\n",
    "from sklearn.impute import SimpleImputer\n",
    "from sklearn.preprocessing import StandardScaler\n",
    "from sklearn.preprocessing import FunctionTransformer\n",
    "from sklearn.preprocessing import OneHotEncoder\n",
    "from sklearn.compose import ColumnTransformer\n",
    "from sklearn.model_selection import GridSearchCV\n",
    "from sklearn.model_selection import cross_val_score\n",
    "from sklearn.pipeline import Pipeline\n",
    "from sklearn.metrics import *\n",
    "from sklearn.linear_model import LogisticRegression\n",
    "from sklearn.ensemble import RandomForestClassifier\n",
    "from sklearn.utils import class_weight\n",
    "from imblearn.under_sampling import RandomUnderSampler\n",
    "from imblearn.pipeline import Pipeline as Pipeline_imb"
   ]
  },
  {
   "cell_type": "markdown",
   "metadata": {},
   "source": [
    "## 1.2 Fonctions utiles"
   ]
  },
  {
   "cell_type": "code",
   "execution_count": 3,
   "metadata": {},
   "outputs": [],
   "source": [
    "from src.fonctions import *"
   ]
  },
  {
   "cell_type": "code",
   "execution_count": 4,
   "metadata": {},
   "outputs": [],
   "source": [
    "pd.set_option('display.max_columns', None)"
   ]
  },
  {
   "cell_type": "code",
   "execution_count": 5,
   "metadata": {},
   "outputs": [
    {
     "data": {
      "text/plain": [
       "\"If Dispaly == False then all cell starting starting with 'If Display=True' won't be ran.\\nElse they will\\n\\nThis short function allows to by-pass instructions which are long to run (ex MSNO on huge dataset or sns.pairplot)\""
      ]
     },
     "execution_count": 5,
     "metadata": {},
     "output_type": "execute_result"
    }
   ],
   "source": [
    "DISPLAY=True\n",
    "\n",
    "\"\"\"If Dispaly == False then all cell starting starting with 'If Display=True' won't be ran.\n",
    "Else they will\n",
    "\n",
    "This short function allows to by-pass instructions which are long to run (ex MSNO on huge dataset or sns.pairplot)\"\"\""
   ]
  },
  {
   "cell_type": "markdown",
   "metadata": {},
   "source": [
    "# 2 Data"
   ]
  },
  {
   "cell_type": "markdown",
   "metadata": {},
   "source": [
    "## 2.1 Import and display"
   ]
  },
  {
   "cell_type": "code",
   "execution_count": 6,
   "metadata": {},
   "outputs": [],
   "source": [
    "train_V1=pd.read_csv('train_V1.csv')"
   ]
  },
  {
   "cell_type": "code",
   "execution_count": 7,
   "metadata": {},
   "outputs": [
    {
     "data": {
      "text/plain": [
       "(307490, 23)"
      ]
     },
     "execution_count": 7,
     "metadata": {},
     "output_type": "execute_result"
    }
   ],
   "source": [
    "train_V1.shape"
   ]
  },
  {
   "cell_type": "code",
   "execution_count": 8,
   "metadata": {},
   "outputs": [
    {
     "data": {
      "text/plain": [
       "(61498, 23)"
      ]
     },
     "execution_count": 8,
     "metadata": {},
     "output_type": "execute_result"
    }
   ],
   "source": [
    "train_V1=train_V1.sample(frac=0.2)\n",
    "train_V1.shape"
   ]
  },
  {
   "cell_type": "markdown",
   "metadata": {},
   "source": [
    "# 3 Best model (issu de P7_2_1)"
   ]
  },
  {
   "cell_type": "code",
   "execution_count": 9,
   "metadata": {},
   "outputs": [
    {
     "data": {
      "text/plain": [
       "Pipeline(steps=[('sampler', RandomUnderSampler()),\n",
       "                ('imputer', SimpleImputer(strategy='median')),\n",
       "                ('scaler', StandardScaler()),\n",
       "                ('estimator', LogisticRegression())])"
      ]
     },
     "execution_count": 9,
     "metadata": {},
     "output_type": "execute_result"
    }
   ],
   "source": [
    "best_model=Pipeline_imb([\n",
    "    ('sampler',RandomUnderSampler()),\n",
    "    ('imputer',SimpleImputer(strategy='median')),\n",
    "    ('scaler',StandardScaler()),\n",
    "    ('estimator',LogisticRegression())\n",
    "])\n",
    "best_model"
   ]
  },
  {
   "cell_type": "code",
   "execution_count": 10,
   "metadata": {},
   "outputs": [
    {
     "data": {
      "text/plain": [
       "(61498, 15)"
      ]
     },
     "execution_count": 10,
     "metadata": {},
     "output_type": "execute_result"
    }
   ],
   "source": [
    "X=train_V1.drop(['SK_ID_CURR','TARGET','OWN_CAR_AGE','NAME_HOUSING_TYPE','AMT_GOODS_PRICE','NAME_INCOME_TYPE','NAME_FAMILY_STATUS','NAME_EDUCATION_TYPE'],axis=1)\n",
    "X.shape"
   ]
  },
  {
   "cell_type": "code",
   "execution_count": 11,
   "metadata": {},
   "outputs": [
    {
     "data": {
      "text/plain": [
       "(61498,)"
      ]
     },
     "execution_count": 11,
     "metadata": {},
     "output_type": "execute_result"
    }
   ],
   "source": [
    "y=train_V1['TARGET']\n",
    "y.shape"
   ]
  },
  {
   "cell_type": "markdown",
   "metadata": {},
   "source": [
    "Entraienemtnt via GridSearch"
   ]
  },
  {
   "cell_type": "code",
   "execution_count": 12,
   "metadata": {},
   "outputs": [],
   "source": [
    "grid= GridSearchCV(\n",
    "    best_model,\n",
    "    param_grid={},\n",
    "    cv=10,\n",
    "    scoring=('roc_auc','accuracy','f1','recall','precision'),\n",
    "    n_jobs=-1,\n",
    "    verbose=2,\n",
    "    return_train_score=True,\n",
    "    refit='roc_auc'\n",
    "    )"
   ]
  },
  {
   "cell_type": "code",
   "execution_count": 13,
   "metadata": {},
   "outputs": [
    {
     "name": "stdout",
     "output_type": "stream",
     "text": [
      "Fitting 10 folds for each of 1 candidates, totalling 10 fits\n"
     ]
    },
    {
     "data": {
      "text/plain": [
       "GridSearchCV(cv=10,\n",
       "             estimator=Pipeline(steps=[('sampler', RandomUnderSampler()),\n",
       "                                       ('imputer',\n",
       "                                        SimpleImputer(strategy='median')),\n",
       "                                       ('scaler', StandardScaler()),\n",
       "                                       ('estimator', LogisticRegression())]),\n",
       "             n_jobs=-1, param_grid={}, refit='roc_auc', return_train_score=True,\n",
       "             scoring=('roc_auc', 'accuracy', 'f1', 'recall', 'precision'),\n",
       "             verbose=2)"
      ]
     },
     "execution_count": 13,
     "metadata": {},
     "output_type": "execute_result"
    }
   ],
   "source": [
    "grid.fit(X,y)"
   ]
  },
  {
   "cell_type": "code",
   "execution_count": 14,
   "metadata": {},
   "outputs": [
    {
     "data": {
      "text/html": [
       "<div>\n",
       "<style scoped>\n",
       "    .dataframe tbody tr th:only-of-type {\n",
       "        vertical-align: middle;\n",
       "    }\n",
       "\n",
       "    .dataframe tbody tr th {\n",
       "        vertical-align: top;\n",
       "    }\n",
       "\n",
       "    .dataframe thead th {\n",
       "        text-align: right;\n",
       "    }\n",
       "</style>\n",
       "<table border=\"1\" class=\"dataframe\">\n",
       "  <thead>\n",
       "    <tr style=\"text-align: right;\">\n",
       "      <th></th>\n",
       "      <th>mean_fit_time</th>\n",
       "      <th>std_fit_time</th>\n",
       "      <th>mean_score_time</th>\n",
       "      <th>std_score_time</th>\n",
       "      <th>params</th>\n",
       "      <th>mean_test_roc_auc</th>\n",
       "      <th>std_test_roc_auc</th>\n",
       "      <th>rank_test_roc_auc</th>\n",
       "      <th>mean_train_roc_auc</th>\n",
       "      <th>std_train_roc_auc</th>\n",
       "      <th>mean_test_accuracy</th>\n",
       "      <th>std_test_accuracy</th>\n",
       "      <th>rank_test_accuracy</th>\n",
       "      <th>mean_train_accuracy</th>\n",
       "      <th>std_train_accuracy</th>\n",
       "      <th>mean_test_f1</th>\n",
       "      <th>std_test_f1</th>\n",
       "      <th>rank_test_f1</th>\n",
       "      <th>mean_train_f1</th>\n",
       "      <th>std_train_f1</th>\n",
       "      <th>mean_test_recall</th>\n",
       "      <th>std_test_recall</th>\n",
       "      <th>rank_test_recall</th>\n",
       "      <th>mean_train_recall</th>\n",
       "      <th>std_train_recall</th>\n",
       "      <th>mean_test_precision</th>\n",
       "      <th>std_test_precision</th>\n",
       "      <th>rank_test_precision</th>\n",
       "      <th>mean_train_precision</th>\n",
       "      <th>std_train_precision</th>\n",
       "      <th>log_target</th>\n",
       "      <th>transf_feat</th>\n",
       "      <th>features</th>\n",
       "    </tr>\n",
       "  </thead>\n",
       "  <tbody>\n",
       "    <tr>\n",
       "      <th>0</th>\n",
       "      <td>0.09</td>\n",
       "      <td>0.0</td>\n",
       "      <td>0.02</td>\n",
       "      <td>0.0</td>\n",
       "      <td>{}</td>\n",
       "      <td>0.74</td>\n",
       "      <td>0.01</td>\n",
       "      <td>1</td>\n",
       "      <td>0.74</td>\n",
       "      <td>0.0</td>\n",
       "      <td>0.68</td>\n",
       "      <td>0.01</td>\n",
       "      <td>1</td>\n",
       "      <td>0.68</td>\n",
       "      <td>0.0</td>\n",
       "      <td>0.25</td>\n",
       "      <td>0.01</td>\n",
       "      <td>1</td>\n",
       "      <td>0.25</td>\n",
       "      <td>0.0</td>\n",
       "      <td>0.67</td>\n",
       "      <td>0.02</td>\n",
       "      <td>1</td>\n",
       "      <td>0.67</td>\n",
       "      <td>0.0</td>\n",
       "      <td>0.16</td>\n",
       "      <td>0.0</td>\n",
       "      <td>1</td>\n",
       "      <td>0.16</td>\n",
       "      <td>0.0</td>\n",
       "      <td>0</td>\n",
       "      <td>0</td>\n",
       "      <td>Sans_SK_ID_CURR</td>\n",
       "    </tr>\n",
       "  </tbody>\n",
       "</table>\n",
       "</div>"
      ],
      "text/plain": [
       "   mean_fit_time  std_fit_time  mean_score_time  std_score_time params  \\\n",
       "0           0.09           0.0             0.02             0.0     {}   \n",
       "\n",
       "   mean_test_roc_auc  std_test_roc_auc  rank_test_roc_auc  mean_train_roc_auc  \\\n",
       "0               0.74              0.01                  1                0.74   \n",
       "\n",
       "   std_train_roc_auc  mean_test_accuracy  std_test_accuracy  \\\n",
       "0                0.0                0.68               0.01   \n",
       "\n",
       "   rank_test_accuracy  mean_train_accuracy  std_train_accuracy  mean_test_f1  \\\n",
       "0                   1                 0.68                 0.0          0.25   \n",
       "\n",
       "   std_test_f1  rank_test_f1  mean_train_f1  std_train_f1  mean_test_recall  \\\n",
       "0         0.01             1           0.25           0.0              0.67   \n",
       "\n",
       "   std_test_recall  rank_test_recall  mean_train_recall  std_train_recall  \\\n",
       "0             0.02                 1               0.67               0.0   \n",
       "\n",
       "   mean_test_precision  std_test_precision  rank_test_precision  \\\n",
       "0                 0.16                 0.0                    1   \n",
       "\n",
       "   mean_train_precision  std_train_precision  log_target  transf_feat  \\\n",
       "0                  0.16                  0.0           0            0   \n",
       "\n",
       "          features  \n",
       "0  Sans_SK_ID_CURR  "
      ]
     },
     "execution_count": 14,
     "metadata": {},
     "output_type": "execute_result"
    }
   ],
   "source": [
    "res=result(grid, features='Sans_SK_ID_CURR')\n",
    "res.sort_values(by='mean_test_roc_auc',ascending=False).head(5)"
   ]
  },
  {
   "cell_type": "code",
   "execution_count": 15,
   "metadata": {},
   "outputs": [],
   "source": [
    "RES=pd.DataFrame()"
   ]
  },
  {
   "cell_type": "code",
   "execution_count": 16,
   "metadata": {},
   "outputs": [
    {
     "data": {
      "text/html": [
       "<div>\n",
       "<style scoped>\n",
       "    .dataframe tbody tr th:only-of-type {\n",
       "        vertical-align: middle;\n",
       "    }\n",
       "\n",
       "    .dataframe tbody tr th {\n",
       "        vertical-align: top;\n",
       "    }\n",
       "\n",
       "    .dataframe thead th {\n",
       "        text-align: right;\n",
       "    }\n",
       "</style>\n",
       "<table border=\"1\" class=\"dataframe\">\n",
       "  <thead>\n",
       "    <tr style=\"text-align: right;\">\n",
       "      <th></th>\n",
       "      <th>mean_fit_time</th>\n",
       "      <th>std_fit_time</th>\n",
       "      <th>mean_score_time</th>\n",
       "      <th>std_score_time</th>\n",
       "      <th>params</th>\n",
       "      <th>mean_test_roc_auc</th>\n",
       "      <th>std_test_roc_auc</th>\n",
       "      <th>rank_test_roc_auc</th>\n",
       "      <th>mean_train_roc_auc</th>\n",
       "      <th>std_train_roc_auc</th>\n",
       "      <th>mean_test_accuracy</th>\n",
       "      <th>std_test_accuracy</th>\n",
       "      <th>rank_test_accuracy</th>\n",
       "      <th>mean_train_accuracy</th>\n",
       "      <th>std_train_accuracy</th>\n",
       "      <th>mean_test_f1</th>\n",
       "      <th>std_test_f1</th>\n",
       "      <th>rank_test_f1</th>\n",
       "      <th>mean_train_f1</th>\n",
       "      <th>std_train_f1</th>\n",
       "      <th>mean_test_recall</th>\n",
       "      <th>std_test_recall</th>\n",
       "      <th>rank_test_recall</th>\n",
       "      <th>mean_train_recall</th>\n",
       "      <th>std_train_recall</th>\n",
       "      <th>mean_test_precision</th>\n",
       "      <th>std_test_precision</th>\n",
       "      <th>rank_test_precision</th>\n",
       "      <th>mean_train_precision</th>\n",
       "      <th>std_train_precision</th>\n",
       "      <th>log_target</th>\n",
       "      <th>transf_feat</th>\n",
       "      <th>features</th>\n",
       "    </tr>\n",
       "  </thead>\n",
       "  <tbody>\n",
       "    <tr>\n",
       "      <th>0</th>\n",
       "      <td>0.09</td>\n",
       "      <td>0.0</td>\n",
       "      <td>0.02</td>\n",
       "      <td>0.0</td>\n",
       "      <td>{}</td>\n",
       "      <td>0.74</td>\n",
       "      <td>0.01</td>\n",
       "      <td>1</td>\n",
       "      <td>0.74</td>\n",
       "      <td>0.0</td>\n",
       "      <td>0.68</td>\n",
       "      <td>0.01</td>\n",
       "      <td>1</td>\n",
       "      <td>0.68</td>\n",
       "      <td>0.0</td>\n",
       "      <td>0.25</td>\n",
       "      <td>0.01</td>\n",
       "      <td>1</td>\n",
       "      <td>0.25</td>\n",
       "      <td>0.0</td>\n",
       "      <td>0.67</td>\n",
       "      <td>0.02</td>\n",
       "      <td>1</td>\n",
       "      <td>0.67</td>\n",
       "      <td>0.0</td>\n",
       "      <td>0.16</td>\n",
       "      <td>0.0</td>\n",
       "      <td>1</td>\n",
       "      <td>0.16</td>\n",
       "      <td>0.0</td>\n",
       "      <td>0</td>\n",
       "      <td>0</td>\n",
       "      <td>Sans_SK_ID_CURR</td>\n",
       "    </tr>\n",
       "  </tbody>\n",
       "</table>\n",
       "</div>"
      ],
      "text/plain": [
       "   mean_fit_time  std_fit_time  mean_score_time  std_score_time params  \\\n",
       "0           0.09           0.0             0.02             0.0     {}   \n",
       "\n",
       "   mean_test_roc_auc  std_test_roc_auc  rank_test_roc_auc  mean_train_roc_auc  \\\n",
       "0               0.74              0.01                  1                0.74   \n",
       "\n",
       "   std_train_roc_auc  mean_test_accuracy  std_test_accuracy  \\\n",
       "0                0.0                0.68               0.01   \n",
       "\n",
       "   rank_test_accuracy  mean_train_accuracy  std_train_accuracy  mean_test_f1  \\\n",
       "0                   1                 0.68                 0.0          0.25   \n",
       "\n",
       "   std_test_f1  rank_test_f1  mean_train_f1  std_train_f1  mean_test_recall  \\\n",
       "0         0.01             1           0.25           0.0              0.67   \n",
       "\n",
       "   std_test_recall  rank_test_recall  mean_train_recall  std_train_recall  \\\n",
       "0             0.02                 1               0.67               0.0   \n",
       "\n",
       "   mean_test_precision  std_test_precision  rank_test_precision  \\\n",
       "0                 0.16                 0.0                    1   \n",
       "\n",
       "   mean_train_precision  std_train_precision  log_target  transf_feat  \\\n",
       "0                  0.16                  0.0           0            0   \n",
       "\n",
       "          features  \n",
       "0  Sans_SK_ID_CURR  "
      ]
     },
     "execution_count": 16,
     "metadata": {},
     "output_type": "execute_result"
    }
   ],
   "source": [
    "RES=pd.concat([RES, res],axis=0, ignore_index=True)\n",
    "RES"
   ]
  },
  {
   "cell_type": "markdown",
   "metadata": {},
   "source": [
    "# 4 Adpatation modèle pour appel SHAP dans l'API\n",
    "\n",
    "Rappel: Shap ne prend que l'estimateur (et pas le pipeline entier) pour calculer explaienr/shap_values\n",
    "\n",
    "Or en récupérant le best_model, et en le décomposant, dans l'API je dois faire appel à l'Id des crédits/clients. Cet Id n'est pas utilisé dans le best_model.\n",
    "\n",
    "2 solutions:\n",
    "\n",
    "- 1/ j'ajoute l'id dans le bet_model, au risque d'avoir des résultats un peu moins bons => partie 4.1\n",
    "- 2/ Comme pour l'AMNT_GOOD_PRICE, je reconstitue le df après l'entrainement => partie 4.2\n"
   ]
  },
  {
   "cell_type": "markdown",
   "metadata": {},
   "source": [
    "## 4.1 Ajout de SK_ID_CURR dans le modèle "
   ]
  },
  {
   "cell_type": "code",
   "execution_count": 17,
   "metadata": {},
   "outputs": [
    {
     "data": {
      "text/plain": [
       "(61498, 16)"
      ]
     },
     "execution_count": 17,
     "metadata": {},
     "output_type": "execute_result"
    }
   ],
   "source": [
    "X2=train_V1.drop(['TARGET','OWN_CAR_AGE','NAME_HOUSING_TYPE','AMT_GOODS_PRICE','NAME_INCOME_TYPE','NAME_FAMILY_STATUS','NAME_EDUCATION_TYPE'],axis=1)\n",
    "X2.shape"
   ]
  },
  {
   "cell_type": "code",
   "execution_count": 18,
   "metadata": {},
   "outputs": [
    {
     "data": {
      "text/plain": [
       "(61498,)"
      ]
     },
     "execution_count": 18,
     "metadata": {},
     "output_type": "execute_result"
    }
   ],
   "source": [
    "y2=y\n",
    "y2.shape"
   ]
  },
  {
   "cell_type": "code",
   "execution_count": 19,
   "metadata": {},
   "outputs": [],
   "source": [
    "grid= GridSearchCV(\n",
    "    best_model,\n",
    "    param_grid={},\n",
    "    cv=10,\n",
    "    scoring=('roc_auc','accuracy','f1','recall','precision'),\n",
    "    n_jobs=-1,\n",
    "    verbose=2,\n",
    "    return_train_score=True,\n",
    "    refit='roc_auc')"
   ]
  },
  {
   "cell_type": "code",
   "execution_count": 20,
   "metadata": {},
   "outputs": [
    {
     "name": "stdout",
     "output_type": "stream",
     "text": [
      "Fitting 10 folds for each of 1 candidates, totalling 10 fits\n"
     ]
    },
    {
     "data": {
      "text/plain": [
       "GridSearchCV(cv=10,\n",
       "             estimator=Pipeline(steps=[('sampler', RandomUnderSampler()),\n",
       "                                       ('imputer',\n",
       "                                        SimpleImputer(strategy='median')),\n",
       "                                       ('scaler', StandardScaler()),\n",
       "                                       ('estimator', LogisticRegression())]),\n",
       "             n_jobs=-1, param_grid={}, refit='roc_auc', return_train_score=True,\n",
       "             scoring=('roc_auc', 'accuracy', 'f1', 'recall', 'precision'),\n",
       "             verbose=2)"
      ]
     },
     "execution_count": 20,
     "metadata": {},
     "output_type": "execute_result"
    }
   ],
   "source": [
    "grid.fit(X2,y2)"
   ]
  },
  {
   "cell_type": "code",
   "execution_count": 21,
   "metadata": {},
   "outputs": [
    {
     "data": {
      "text/html": [
       "<div>\n",
       "<style scoped>\n",
       "    .dataframe tbody tr th:only-of-type {\n",
       "        vertical-align: middle;\n",
       "    }\n",
       "\n",
       "    .dataframe tbody tr th {\n",
       "        vertical-align: top;\n",
       "    }\n",
       "\n",
       "    .dataframe thead th {\n",
       "        text-align: right;\n",
       "    }\n",
       "</style>\n",
       "<table border=\"1\" class=\"dataframe\">\n",
       "  <thead>\n",
       "    <tr style=\"text-align: right;\">\n",
       "      <th></th>\n",
       "      <th>mean_fit_time</th>\n",
       "      <th>std_fit_time</th>\n",
       "      <th>mean_score_time</th>\n",
       "      <th>std_score_time</th>\n",
       "      <th>params</th>\n",
       "      <th>mean_test_roc_auc</th>\n",
       "      <th>std_test_roc_auc</th>\n",
       "      <th>rank_test_roc_auc</th>\n",
       "      <th>mean_train_roc_auc</th>\n",
       "      <th>std_train_roc_auc</th>\n",
       "      <th>mean_test_accuracy</th>\n",
       "      <th>std_test_accuracy</th>\n",
       "      <th>rank_test_accuracy</th>\n",
       "      <th>mean_train_accuracy</th>\n",
       "      <th>std_train_accuracy</th>\n",
       "      <th>mean_test_f1</th>\n",
       "      <th>std_test_f1</th>\n",
       "      <th>rank_test_f1</th>\n",
       "      <th>mean_train_f1</th>\n",
       "      <th>std_train_f1</th>\n",
       "      <th>mean_test_recall</th>\n",
       "      <th>std_test_recall</th>\n",
       "      <th>rank_test_recall</th>\n",
       "      <th>mean_train_recall</th>\n",
       "      <th>std_train_recall</th>\n",
       "      <th>mean_test_precision</th>\n",
       "      <th>std_test_precision</th>\n",
       "      <th>rank_test_precision</th>\n",
       "      <th>mean_train_precision</th>\n",
       "      <th>std_train_precision</th>\n",
       "      <th>log_target</th>\n",
       "      <th>transf_feat</th>\n",
       "      <th>features</th>\n",
       "    </tr>\n",
       "  </thead>\n",
       "  <tbody>\n",
       "    <tr>\n",
       "      <th>0</th>\n",
       "      <td>0.08</td>\n",
       "      <td>0.0</td>\n",
       "      <td>0.02</td>\n",
       "      <td>0.0</td>\n",
       "      <td>{}</td>\n",
       "      <td>0.74</td>\n",
       "      <td>0.01</td>\n",
       "      <td>1</td>\n",
       "      <td>0.74</td>\n",
       "      <td>0.0</td>\n",
       "      <td>0.68</td>\n",
       "      <td>0.01</td>\n",
       "      <td>1</td>\n",
       "      <td>0.68</td>\n",
       "      <td>0.0</td>\n",
       "      <td>0.25</td>\n",
       "      <td>0.01</td>\n",
       "      <td>1</td>\n",
       "      <td>0.26</td>\n",
       "      <td>0.0</td>\n",
       "      <td>0.67</td>\n",
       "      <td>0.02</td>\n",
       "      <td>1</td>\n",
       "      <td>0.67</td>\n",
       "      <td>0.0</td>\n",
       "      <td>0.16</td>\n",
       "      <td>0.0</td>\n",
       "      <td>1</td>\n",
       "      <td>0.16</td>\n",
       "      <td>0.0</td>\n",
       "      <td>0</td>\n",
       "      <td>0</td>\n",
       "      <td>Avec_SK_ID_CURR</td>\n",
       "    </tr>\n",
       "  </tbody>\n",
       "</table>\n",
       "</div>"
      ],
      "text/plain": [
       "   mean_fit_time  std_fit_time  mean_score_time  std_score_time params  \\\n",
       "0           0.08           0.0             0.02             0.0     {}   \n",
       "\n",
       "   mean_test_roc_auc  std_test_roc_auc  rank_test_roc_auc  mean_train_roc_auc  \\\n",
       "0               0.74              0.01                  1                0.74   \n",
       "\n",
       "   std_train_roc_auc  mean_test_accuracy  std_test_accuracy  \\\n",
       "0                0.0                0.68               0.01   \n",
       "\n",
       "   rank_test_accuracy  mean_train_accuracy  std_train_accuracy  mean_test_f1  \\\n",
       "0                   1                 0.68                 0.0          0.25   \n",
       "\n",
       "   std_test_f1  rank_test_f1  mean_train_f1  std_train_f1  mean_test_recall  \\\n",
       "0         0.01             1           0.26           0.0              0.67   \n",
       "\n",
       "   std_test_recall  rank_test_recall  mean_train_recall  std_train_recall  \\\n",
       "0             0.02                 1               0.67               0.0   \n",
       "\n",
       "   mean_test_precision  std_test_precision  rank_test_precision  \\\n",
       "0                 0.16                 0.0                    1   \n",
       "\n",
       "   mean_train_precision  std_train_precision  log_target  transf_feat  \\\n",
       "0                  0.16                  0.0           0            0   \n",
       "\n",
       "          features  \n",
       "0  Avec_SK_ID_CURR  "
      ]
     },
     "execution_count": 21,
     "metadata": {},
     "output_type": "execute_result"
    }
   ],
   "source": [
    "res=result(grid, features='Avec_SK_ID_CURR')\n",
    "res.sort_values(by='mean_test_roc_auc',ascending=False).head(5)"
   ]
  },
  {
   "cell_type": "code",
   "execution_count": 22,
   "metadata": {},
   "outputs": [
    {
     "data": {
      "text/html": [
       "<div>\n",
       "<style scoped>\n",
       "    .dataframe tbody tr th:only-of-type {\n",
       "        vertical-align: middle;\n",
       "    }\n",
       "\n",
       "    .dataframe tbody tr th {\n",
       "        vertical-align: top;\n",
       "    }\n",
       "\n",
       "    .dataframe thead th {\n",
       "        text-align: right;\n",
       "    }\n",
       "</style>\n",
       "<table border=\"1\" class=\"dataframe\">\n",
       "  <thead>\n",
       "    <tr style=\"text-align: right;\">\n",
       "      <th></th>\n",
       "      <th>mean_fit_time</th>\n",
       "      <th>std_fit_time</th>\n",
       "      <th>mean_score_time</th>\n",
       "      <th>std_score_time</th>\n",
       "      <th>params</th>\n",
       "      <th>mean_test_roc_auc</th>\n",
       "      <th>std_test_roc_auc</th>\n",
       "      <th>rank_test_roc_auc</th>\n",
       "      <th>mean_train_roc_auc</th>\n",
       "      <th>std_train_roc_auc</th>\n",
       "      <th>mean_test_accuracy</th>\n",
       "      <th>std_test_accuracy</th>\n",
       "      <th>rank_test_accuracy</th>\n",
       "      <th>mean_train_accuracy</th>\n",
       "      <th>std_train_accuracy</th>\n",
       "      <th>mean_test_f1</th>\n",
       "      <th>std_test_f1</th>\n",
       "      <th>rank_test_f1</th>\n",
       "      <th>mean_train_f1</th>\n",
       "      <th>std_train_f1</th>\n",
       "      <th>mean_test_recall</th>\n",
       "      <th>std_test_recall</th>\n",
       "      <th>rank_test_recall</th>\n",
       "      <th>mean_train_recall</th>\n",
       "      <th>std_train_recall</th>\n",
       "      <th>mean_test_precision</th>\n",
       "      <th>std_test_precision</th>\n",
       "      <th>rank_test_precision</th>\n",
       "      <th>mean_train_precision</th>\n",
       "      <th>std_train_precision</th>\n",
       "      <th>log_target</th>\n",
       "      <th>transf_feat</th>\n",
       "      <th>features</th>\n",
       "    </tr>\n",
       "  </thead>\n",
       "  <tbody>\n",
       "    <tr>\n",
       "      <th>0</th>\n",
       "      <td>0.09</td>\n",
       "      <td>0.0</td>\n",
       "      <td>0.02</td>\n",
       "      <td>0.0</td>\n",
       "      <td>{}</td>\n",
       "      <td>0.74</td>\n",
       "      <td>0.01</td>\n",
       "      <td>1</td>\n",
       "      <td>0.74</td>\n",
       "      <td>0.0</td>\n",
       "      <td>0.68</td>\n",
       "      <td>0.01</td>\n",
       "      <td>1</td>\n",
       "      <td>0.68</td>\n",
       "      <td>0.0</td>\n",
       "      <td>0.25</td>\n",
       "      <td>0.01</td>\n",
       "      <td>1</td>\n",
       "      <td>0.25</td>\n",
       "      <td>0.0</td>\n",
       "      <td>0.67</td>\n",
       "      <td>0.02</td>\n",
       "      <td>1</td>\n",
       "      <td>0.67</td>\n",
       "      <td>0.0</td>\n",
       "      <td>0.16</td>\n",
       "      <td>0.0</td>\n",
       "      <td>1</td>\n",
       "      <td>0.16</td>\n",
       "      <td>0.0</td>\n",
       "      <td>0</td>\n",
       "      <td>0</td>\n",
       "      <td>Sans_SK_ID_CURR</td>\n",
       "    </tr>\n",
       "    <tr>\n",
       "      <th>1</th>\n",
       "      <td>0.08</td>\n",
       "      <td>0.0</td>\n",
       "      <td>0.02</td>\n",
       "      <td>0.0</td>\n",
       "      <td>{}</td>\n",
       "      <td>0.74</td>\n",
       "      <td>0.01</td>\n",
       "      <td>1</td>\n",
       "      <td>0.74</td>\n",
       "      <td>0.0</td>\n",
       "      <td>0.68</td>\n",
       "      <td>0.01</td>\n",
       "      <td>1</td>\n",
       "      <td>0.68</td>\n",
       "      <td>0.0</td>\n",
       "      <td>0.25</td>\n",
       "      <td>0.01</td>\n",
       "      <td>1</td>\n",
       "      <td>0.26</td>\n",
       "      <td>0.0</td>\n",
       "      <td>0.67</td>\n",
       "      <td>0.02</td>\n",
       "      <td>1</td>\n",
       "      <td>0.67</td>\n",
       "      <td>0.0</td>\n",
       "      <td>0.16</td>\n",
       "      <td>0.0</td>\n",
       "      <td>1</td>\n",
       "      <td>0.16</td>\n",
       "      <td>0.0</td>\n",
       "      <td>0</td>\n",
       "      <td>0</td>\n",
       "      <td>Avec_SK_ID_CURR</td>\n",
       "    </tr>\n",
       "  </tbody>\n",
       "</table>\n",
       "</div>"
      ],
      "text/plain": [
       "   mean_fit_time  std_fit_time  mean_score_time  std_score_time params  \\\n",
       "0           0.09           0.0             0.02             0.0     {}   \n",
       "1           0.08           0.0             0.02             0.0     {}   \n",
       "\n",
       "   mean_test_roc_auc  std_test_roc_auc  rank_test_roc_auc  mean_train_roc_auc  \\\n",
       "0               0.74              0.01                  1                0.74   \n",
       "1               0.74              0.01                  1                0.74   \n",
       "\n",
       "   std_train_roc_auc  mean_test_accuracy  std_test_accuracy  \\\n",
       "0                0.0                0.68               0.01   \n",
       "1                0.0                0.68               0.01   \n",
       "\n",
       "   rank_test_accuracy  mean_train_accuracy  std_train_accuracy  mean_test_f1  \\\n",
       "0                   1                 0.68                 0.0          0.25   \n",
       "1                   1                 0.68                 0.0          0.25   \n",
       "\n",
       "   std_test_f1  rank_test_f1  mean_train_f1  std_train_f1  mean_test_recall  \\\n",
       "0         0.01             1           0.25           0.0              0.67   \n",
       "1         0.01             1           0.26           0.0              0.67   \n",
       "\n",
       "   std_test_recall  rank_test_recall  mean_train_recall  std_train_recall  \\\n",
       "0             0.02                 1               0.67               0.0   \n",
       "1             0.02                 1               0.67               0.0   \n",
       "\n",
       "   mean_test_precision  std_test_precision  rank_test_precision  \\\n",
       "0                 0.16                 0.0                    1   \n",
       "1                 0.16                 0.0                    1   \n",
       "\n",
       "   mean_train_precision  std_train_precision  log_target  transf_feat  \\\n",
       "0                  0.16                  0.0           0            0   \n",
       "1                  0.16                  0.0           0            0   \n",
       "\n",
       "          features  \n",
       "0  Sans_SK_ID_CURR  \n",
       "1  Avec_SK_ID_CURR  "
      ]
     },
     "execution_count": 22,
     "metadata": {},
     "output_type": "execute_result"
    }
   ],
   "source": [
    "RES=pd.concat([RES, res],axis=0, ignore_index=True)\n",
    "RES"
   ]
  },
  {
   "cell_type": "markdown",
   "metadata": {},
   "source": [
    "Résultats sensiblement identiques avec ou sans SK_ID_CURR\n",
    "\n",
    "=> On peut ajouter l'id dans notre best_model sans diminuer la qualité du modèle"
   ]
  },
  {
   "cell_type": "markdown",
   "metadata": {},
   "source": [
    "Enregistrment du modèle au format pkl pour utilisation dans l'API"
   ]
  },
  {
   "cell_type": "code",
   "execution_count": 23,
   "metadata": {},
   "outputs": [],
   "source": [
    "X_train,X_test,y_train,y_test=train_test_split(X2,y2,test_size=0.2)"
   ]
  },
  {
   "cell_type": "code",
   "execution_count": 24,
   "metadata": {},
   "outputs": [
    {
     "name": "stdout",
     "output_type": "stream",
     "text": [
      "Train set: (49198, 16)\n",
      "Test set: (12300, 16)\n",
      "Train target: (49198,)\n",
      "Test target: (12300,)\n"
     ]
    }
   ],
   "source": [
    "print('Train set:',X_train.shape)\n",
    "print('Test set:',X_test.shape)\n",
    "print('Train target:',y_train.shape)\n",
    "print('Test target:',y_test.shape)"
   ]
  },
  {
   "cell_type": "code",
   "execution_count": 25,
   "metadata": {},
   "outputs": [
    {
     "data": {
      "text/plain": [
       "Pipeline(steps=[('sampler', RandomUnderSampler()),\n",
       "                ('imputer', SimpleImputer(strategy='median')),\n",
       "                ('scaler', StandardScaler()),\n",
       "                ('estimator', LogisticRegression())])"
      ]
     },
     "execution_count": 25,
     "metadata": {},
     "output_type": "execute_result"
    }
   ],
   "source": [
    "best_model.fit(X_train,y_train)"
   ]
  },
  {
   "cell_type": "code",
   "execution_count": 26,
   "metadata": {},
   "outputs": [],
   "source": [
    "lr_predict=best_model.predict(X_test)"
   ]
  },
  {
   "cell_type": "code",
   "execution_count": 27,
   "metadata": {},
   "outputs": [
    {
     "name": "stdout",
     "output_type": "stream",
     "text": [
      "Accuracy score = 0.6853658536585366\n",
      "Precision score = 0.16105656848994857\n",
      "Recall score = 0.7103092783505155\n",
      "F1 score = 0.2625762195121951\n",
      "ROC AUC score = 0.696769820110827\n"
     ]
    }
   ],
   "source": [
    "print_score(y_test, lr_predict)"
   ]
  },
  {
   "cell_type": "markdown",
   "metadata": {},
   "source": [
    "Enregistrement de la partie transformer"
   ]
  },
  {
   "cell_type": "code",
   "execution_count": 28,
   "metadata": {},
   "outputs": [
    {
     "data": {
      "text/plain": [
       "Pipeline(steps=[('sampler', RandomUnderSampler()),\n",
       "                ('imputer', SimpleImputer(strategy='median')),\n",
       "                ('scaler', StandardScaler())])"
      ]
     },
     "execution_count": 28,
     "metadata": {},
     "output_type": "execute_result"
    }
   ],
   "source": [
    "best_model[:-1]"
   ]
  },
  {
   "cell_type": "code",
   "execution_count": 29,
   "metadata": {},
   "outputs": [
    {
     "data": {
      "text/plain": [
       "LogisticRegression()"
      ]
     },
     "execution_count": 29,
     "metadata": {},
     "output_type": "execute_result"
    }
   ],
   "source": [
    "best_model[-1]"
   ]
  },
  {
   "cell_type": "code",
   "execution_count": 30,
   "metadata": {},
   "outputs": [],
   "source": [
    "import pickle\n",
    "pickle_out = open(\"transformer.pkl\",\"wb\")\n",
    "pickle.dump(best_model[:-1], pickle_out)\n",
    "pickle_out.close()"
   ]
  },
  {
   "cell_type": "markdown",
   "metadata": {},
   "source": [
    "Enregistrement de la partie estimateur"
   ]
  },
  {
   "cell_type": "code",
   "execution_count": 31,
   "metadata": {},
   "outputs": [],
   "source": [
    "pickle_out = open(\"logreg.pkl\",\"wb\")\n",
    "pickle.dump(best_model[-1], pickle_out)\n",
    "pickle_out.close()"
   ]
  },
  {
   "cell_type": "markdown",
   "metadata": {},
   "source": [
    "Essai..."
   ]
  },
  {
   "cell_type": "code",
   "execution_count": 32,
   "metadata": {},
   "outputs": [
    {
     "data": {
      "text/html": [
       "<div>\n",
       "<style scoped>\n",
       "    .dataframe tbody tr th:only-of-type {\n",
       "        vertical-align: middle;\n",
       "    }\n",
       "\n",
       "    .dataframe tbody tr th {\n",
       "        vertical-align: top;\n",
       "    }\n",
       "\n",
       "    .dataframe thead th {\n",
       "        text-align: right;\n",
       "    }\n",
       "</style>\n",
       "<table border=\"1\" class=\"dataframe\">\n",
       "  <thead>\n",
       "    <tr style=\"text-align: right;\">\n",
       "      <th></th>\n",
       "      <th>SK_ID_CURR</th>\n",
       "      <th>FLAG_OWN_CAR</th>\n",
       "      <th>FLAG_OWN_REALTY</th>\n",
       "      <th>AMT_INCOME_TOTAL</th>\n",
       "      <th>AMT_CREDIT</th>\n",
       "      <th>AMT_ANNUITY</th>\n",
       "      <th>CNT_FAM_MEMBERS</th>\n",
       "      <th>EXT_SOURCE_1</th>\n",
       "      <th>EXT_SOURCE_2</th>\n",
       "      <th>EXT_SOURCE_3</th>\n",
       "      <th>client_age</th>\n",
       "      <th>client_prof_exp</th>\n",
       "      <th>Cash_loans</th>\n",
       "      <th>GENDER_FEMALE</th>\n",
       "      <th>active_client</th>\n",
       "      <th>relationship</th>\n",
       "    </tr>\n",
       "  </thead>\n",
       "  <tbody>\n",
       "    <tr>\n",
       "      <th>0</th>\n",
       "      <td>0.710589</td>\n",
       "      <td>1.447295</td>\n",
       "      <td>-1.493513</td>\n",
       "      <td>0.309995</td>\n",
       "      <td>0.090659</td>\n",
       "      <td>0.200422</td>\n",
       "      <td>-0.171723</td>\n",
       "      <td>-0.030379</td>\n",
       "      <td>1.169096</td>\n",
       "      <td>0.337265</td>\n",
       "      <td>-1.257509</td>\n",
       "      <td>0.223641</td>\n",
       "      <td>0.2945</td>\n",
       "      <td>-1.261683</td>\n",
       "      <td>0.422859</td>\n",
       "      <td>0.611684</td>\n",
       "    </tr>\n",
       "    <tr>\n",
       "      <th>1</th>\n",
       "      <td>1.000780</td>\n",
       "      <td>-0.690944</td>\n",
       "      <td>0.669562</td>\n",
       "      <td>-0.431351</td>\n",
       "      <td>-0.279229</td>\n",
       "      <td>-0.416381</td>\n",
       "      <td>-0.171723</td>\n",
       "      <td>-0.030379</td>\n",
       "      <td>-0.517024</td>\n",
       "      <td>-0.640683</td>\n",
       "      <td>1.436344</td>\n",
       "      <td>-0.866747</td>\n",
       "      <td>0.2945</td>\n",
       "      <td>0.792592</td>\n",
       "      <td>-2.364853</td>\n",
       "      <td>0.611684</td>\n",
       "    </tr>\n",
       "    <tr>\n",
       "      <th>2</th>\n",
       "      <td>1.269476</td>\n",
       "      <td>-0.690944</td>\n",
       "      <td>0.669562</td>\n",
       "      <td>-0.854978</td>\n",
       "      <td>0.257200</td>\n",
       "      <td>-0.351092</td>\n",
       "      <td>-1.246716</td>\n",
       "      <td>-0.030379</td>\n",
       "      <td>1.181336</td>\n",
       "      <td>1.550973</td>\n",
       "      <td>0.847064</td>\n",
       "      <td>0.041910</td>\n",
       "      <td>0.2945</td>\n",
       "      <td>0.792592</td>\n",
       "      <td>0.422859</td>\n",
       "      <td>-1.634832</td>\n",
       "    </tr>\n",
       "    <tr>\n",
       "      <th>3</th>\n",
       "      <td>-0.561761</td>\n",
       "      <td>-0.690944</td>\n",
       "      <td>0.669562</td>\n",
       "      <td>0.204089</td>\n",
       "      <td>-0.099642</td>\n",
       "      <td>-0.200500</td>\n",
       "      <td>0.903271</td>\n",
       "      <td>2.105773</td>\n",
       "      <td>1.054033</td>\n",
       "      <td>1.096857</td>\n",
       "      <td>0.173601</td>\n",
       "      <td>1.132298</td>\n",
       "      <td>0.2945</td>\n",
       "      <td>0.792592</td>\n",
       "      <td>0.422859</td>\n",
       "      <td>0.611684</td>\n",
       "    </tr>\n",
       "    <tr>\n",
       "      <th>4</th>\n",
       "      <td>-0.872492</td>\n",
       "      <td>-0.690944</td>\n",
       "      <td>0.669562</td>\n",
       "      <td>0.998388</td>\n",
       "      <td>-0.089720</td>\n",
       "      <td>-0.086326</td>\n",
       "      <td>-1.246716</td>\n",
       "      <td>-0.030379</td>\n",
       "      <td>0.977652</td>\n",
       "      <td>0.043950</td>\n",
       "      <td>0.762881</td>\n",
       "      <td>-0.685016</td>\n",
       "      <td>0.2945</td>\n",
       "      <td>0.792592</td>\n",
       "      <td>0.422859</td>\n",
       "      <td>-1.634832</td>\n",
       "    </tr>\n",
       "    <tr>\n",
       "      <th>...</th>\n",
       "      <td>...</td>\n",
       "      <td>...</td>\n",
       "      <td>...</td>\n",
       "      <td>...</td>\n",
       "      <td>...</td>\n",
       "      <td>...</td>\n",
       "      <td>...</td>\n",
       "      <td>...</td>\n",
       "      <td>...</td>\n",
       "      <td>...</td>\n",
       "      <td>...</td>\n",
       "      <td>...</td>\n",
       "      <td>...</td>\n",
       "      <td>...</td>\n",
       "      <td>...</td>\n",
       "      <td>...</td>\n",
       "    </tr>\n",
       "    <tr>\n",
       "      <th>61493</th>\n",
       "      <td>-1.561244</td>\n",
       "      <td>-0.690944</td>\n",
       "      <td>0.669562</td>\n",
       "      <td>-0.325444</td>\n",
       "      <td>1.333517</td>\n",
       "      <td>0.359543</td>\n",
       "      <td>0.903271</td>\n",
       "      <td>-0.030379</td>\n",
       "      <td>-0.500483</td>\n",
       "      <td>1.935665</td>\n",
       "      <td>-0.415680</td>\n",
       "      <td>1.314030</td>\n",
       "      <td>0.2945</td>\n",
       "      <td>-1.261683</td>\n",
       "      <td>0.422859</td>\n",
       "      <td>0.611684</td>\n",
       "    </tr>\n",
       "    <tr>\n",
       "      <th>61494</th>\n",
       "      <td>-0.637148</td>\n",
       "      <td>-0.690944</td>\n",
       "      <td>0.669562</td>\n",
       "      <td>-0.325444</td>\n",
       "      <td>-0.807165</td>\n",
       "      <td>-0.706409</td>\n",
       "      <td>-0.171723</td>\n",
       "      <td>-0.030379</td>\n",
       "      <td>-0.821672</td>\n",
       "      <td>0.797882</td>\n",
       "      <td>1.267979</td>\n",
       "      <td>-0.866747</td>\n",
       "      <td>0.2945</td>\n",
       "      <td>0.792592</td>\n",
       "      <td>-2.364853</td>\n",
       "      <td>0.611684</td>\n",
       "    </tr>\n",
       "    <tr>\n",
       "      <th>61495</th>\n",
       "      <td>0.114579</td>\n",
       "      <td>-0.690944</td>\n",
       "      <td>0.669562</td>\n",
       "      <td>-0.590211</td>\n",
       "      <td>1.488874</td>\n",
       "      <td>2.687644</td>\n",
       "      <td>-0.171723</td>\n",
       "      <td>-0.030379</td>\n",
       "      <td>1.181185</td>\n",
       "      <td>1.687005</td>\n",
       "      <td>1.941442</td>\n",
       "      <td>-0.866747</td>\n",
       "      <td>0.2945</td>\n",
       "      <td>0.792592</td>\n",
       "      <td>-2.364853</td>\n",
       "      <td>0.611684</td>\n",
       "    </tr>\n",
       "    <tr>\n",
       "      <th>61496</th>\n",
       "      <td>-1.737549</td>\n",
       "      <td>-0.690944</td>\n",
       "      <td>-1.493513</td>\n",
       "      <td>3.381287</td>\n",
       "      <td>0.857823</td>\n",
       "      <td>0.376604</td>\n",
       "      <td>3.053257</td>\n",
       "      <td>0.660109</td>\n",
       "      <td>-0.150237</td>\n",
       "      <td>0.741622</td>\n",
       "      <td>0.005235</td>\n",
       "      <td>0.223641</td>\n",
       "      <td>0.2945</td>\n",
       "      <td>-1.261683</td>\n",
       "      <td>0.422859</td>\n",
       "      <td>0.611684</td>\n",
       "    </tr>\n",
       "    <tr>\n",
       "      <th>61497</th>\n",
       "      <td>1.271683</td>\n",
       "      <td>1.447295</td>\n",
       "      <td>0.669562</td>\n",
       "      <td>0.098182</td>\n",
       "      <td>-0.211286</td>\n",
       "      <td>-0.735281</td>\n",
       "      <td>0.903271</td>\n",
       "      <td>1.379409</td>\n",
       "      <td>0.820977</td>\n",
       "      <td>-0.903645</td>\n",
       "      <td>0.089418</td>\n",
       "      <td>-0.503284</td>\n",
       "      <td>0.2945</td>\n",
       "      <td>0.792592</td>\n",
       "      <td>0.422859</td>\n",
       "      <td>-1.634832</td>\n",
       "    </tr>\n",
       "  </tbody>\n",
       "</table>\n",
       "<p>61498 rows × 16 columns</p>\n",
       "</div>"
      ],
      "text/plain": [
       "       SK_ID_CURR  FLAG_OWN_CAR  FLAG_OWN_REALTY  AMT_INCOME_TOTAL  \\\n",
       "0        0.710589      1.447295        -1.493513          0.309995   \n",
       "1        1.000780     -0.690944         0.669562         -0.431351   \n",
       "2        1.269476     -0.690944         0.669562         -0.854978   \n",
       "3       -0.561761     -0.690944         0.669562          0.204089   \n",
       "4       -0.872492     -0.690944         0.669562          0.998388   \n",
       "...           ...           ...              ...               ...   \n",
       "61493   -1.561244     -0.690944         0.669562         -0.325444   \n",
       "61494   -0.637148     -0.690944         0.669562         -0.325444   \n",
       "61495    0.114579     -0.690944         0.669562         -0.590211   \n",
       "61496   -1.737549     -0.690944        -1.493513          3.381287   \n",
       "61497    1.271683      1.447295         0.669562          0.098182   \n",
       "\n",
       "       AMT_CREDIT  AMT_ANNUITY  CNT_FAM_MEMBERS  EXT_SOURCE_1  EXT_SOURCE_2  \\\n",
       "0        0.090659     0.200422        -0.171723     -0.030379      1.169096   \n",
       "1       -0.279229    -0.416381        -0.171723     -0.030379     -0.517024   \n",
       "2        0.257200    -0.351092        -1.246716     -0.030379      1.181336   \n",
       "3       -0.099642    -0.200500         0.903271      2.105773      1.054033   \n",
       "4       -0.089720    -0.086326        -1.246716     -0.030379      0.977652   \n",
       "...           ...          ...              ...           ...           ...   \n",
       "61493    1.333517     0.359543         0.903271     -0.030379     -0.500483   \n",
       "61494   -0.807165    -0.706409        -0.171723     -0.030379     -0.821672   \n",
       "61495    1.488874     2.687644        -0.171723     -0.030379      1.181185   \n",
       "61496    0.857823     0.376604         3.053257      0.660109     -0.150237   \n",
       "61497   -0.211286    -0.735281         0.903271      1.379409      0.820977   \n",
       "\n",
       "       EXT_SOURCE_3  client_age  client_prof_exp  Cash_loans  GENDER_FEMALE  \\\n",
       "0          0.337265   -1.257509         0.223641      0.2945      -1.261683   \n",
       "1         -0.640683    1.436344        -0.866747      0.2945       0.792592   \n",
       "2          1.550973    0.847064         0.041910      0.2945       0.792592   \n",
       "3          1.096857    0.173601         1.132298      0.2945       0.792592   \n",
       "4          0.043950    0.762881        -0.685016      0.2945       0.792592   \n",
       "...             ...         ...              ...         ...            ...   \n",
       "61493      1.935665   -0.415680         1.314030      0.2945      -1.261683   \n",
       "61494      0.797882    1.267979        -0.866747      0.2945       0.792592   \n",
       "61495      1.687005    1.941442        -0.866747      0.2945       0.792592   \n",
       "61496      0.741622    0.005235         0.223641      0.2945      -1.261683   \n",
       "61497     -0.903645    0.089418        -0.503284      0.2945       0.792592   \n",
       "\n",
       "       active_client  relationship  \n",
       "0           0.422859      0.611684  \n",
       "1          -2.364853      0.611684  \n",
       "2           0.422859     -1.634832  \n",
       "3           0.422859      0.611684  \n",
       "4           0.422859     -1.634832  \n",
       "...              ...           ...  \n",
       "61493       0.422859      0.611684  \n",
       "61494      -2.364853      0.611684  \n",
       "61495      -2.364853      0.611684  \n",
       "61496       0.422859      0.611684  \n",
       "61497       0.422859     -1.634832  \n",
       "\n",
       "[61498 rows x 16 columns]"
      ]
     },
     "execution_count": 32,
     "metadata": {},
     "output_type": "execute_result"
    }
   ],
   "source": [
    "TF=pd.DataFrame(best_model[:-1].transform(X2),columns = X2.columns)\n",
    "TF"
   ]
  },
  {
   "cell_type": "markdown",
   "metadata": {},
   "source": [
    "Pb: le SK_ID_CURR est scalé"
   ]
  },
  {
   "cell_type": "code",
   "execution_count": 33,
   "metadata": {},
   "outputs": [],
   "source": [
    "import shap"
   ]
  },
  {
   "cell_type": "code",
   "execution_count": 34,
   "metadata": {},
   "outputs": [],
   "source": [
    "explainer=shap.LinearExplainer(best_model[-1],TF)"
   ]
  },
  {
   "cell_type": "code",
   "execution_count": 35,
   "metadata": {},
   "outputs": [],
   "source": [
    "shap_values=explainer(TF)"
   ]
  },
  {
   "cell_type": "code",
   "execution_count": 36,
   "metadata": {},
   "outputs": [
    {
     "data": {
      "text/plain": [
       "shap._explanation.Explanation"
      ]
     },
     "execution_count": 36,
     "metadata": {},
     "output_type": "execute_result"
    }
   ],
   "source": [
    "type(shap_values)"
   ]
  },
  {
   "cell_type": "code",
   "execution_count": 37,
   "metadata": {},
   "outputs": [
    {
     "data": {
      "image/png": "[encoded data removed]",
      "text/plain": [
       "<Figure size 800x650 with 1 Axes>"
      ]
     },
     "metadata": {},
     "output_type": "display_data"
    }
   ],
   "source": [
    "shap.plots.bar(shap_values[0])"
   ]
  },
  {
   "cell_type": "code",
   "execution_count": 38,
   "metadata": {},
   "outputs": [
    {
     "data": {
      "text/plain": [
       ".values =\n",
       "array([-1.42379186e-02, -2.51475959e-01,  1.51439075e-02, -8.25659589e-03,\n",
       "       -4.25740527e-05,  5.40900297e-03,  1.78143706e-03,  4.59417058e-02,\n",
       "       -5.02071892e-01, -1.01788653e-01, -3.78612384e-02, -3.62088464e-02,\n",
       "        2.15469044e-02,  2.48571962e-01,  1.01756695e-01, -3.58689562e-03])\n",
       "\n",
       ".base_values =\n",
       "-0.20326287124495399\n",
       "\n",
       ".data =\n",
       "array([ 0.71058859,  1.44729507, -1.49351315,  0.30999528,  0.09065917,\n",
       "        0.20042159, -0.1717229 , -0.0303791 ,  1.1690956 ,  0.3372649 ,\n",
       "       -1.25750868,  0.22364128,  0.29450043, -1.26168276,  0.42285921,\n",
       "        0.61168351])"
      ]
     },
     "execution_count": 38,
     "metadata": {},
     "output_type": "execute_result"
    }
   ],
   "source": [
    "shap_values[0]"
   ]
  },
  {
   "cell_type": "code",
   "execution_count": 39,
   "metadata": {},
   "outputs": [
    {
     "data": {
      "text/html": [
       "<div>\n",
       "<style scoped>\n",
       "    .dataframe tbody tr th:only-of-type {\n",
       "        vertical-align: middle;\n",
       "    }\n",
       "\n",
       "    .dataframe tbody tr th {\n",
       "        vertical-align: top;\n",
       "    }\n",
       "\n",
       "    .dataframe thead th {\n",
       "        text-align: right;\n",
       "    }\n",
       "</style>\n",
       "<table border=\"1\" class=\"dataframe\">\n",
       "  <thead>\n",
       "    <tr style=\"text-align: right;\">\n",
       "      <th></th>\n",
       "      <th>0</th>\n",
       "    </tr>\n",
       "  </thead>\n",
       "  <tbody>\n",
       "    <tr>\n",
       "      <th>0</th>\n",
       "      <td>-0.203263</td>\n",
       "    </tr>\n",
       "    <tr>\n",
       "      <th>1</th>\n",
       "      <td>-0.203263</td>\n",
       "    </tr>\n",
       "    <tr>\n",
       "      <th>2</th>\n",
       "      <td>-0.203263</td>\n",
       "    </tr>\n",
       "    <tr>\n",
       "      <th>3</th>\n",
       "      <td>-0.203263</td>\n",
       "    </tr>\n",
       "    <tr>\n",
       "      <th>4</th>\n",
       "      <td>-0.203263</td>\n",
       "    </tr>\n",
       "    <tr>\n",
       "      <th>...</th>\n",
       "      <td>...</td>\n",
       "    </tr>\n",
       "    <tr>\n",
       "      <th>61493</th>\n",
       "      <td>-0.203263</td>\n",
       "    </tr>\n",
       "    <tr>\n",
       "      <th>61494</th>\n",
       "      <td>-0.203263</td>\n",
       "    </tr>\n",
       "    <tr>\n",
       "      <th>61495</th>\n",
       "      <td>-0.203263</td>\n",
       "    </tr>\n",
       "    <tr>\n",
       "      <th>61496</th>\n",
       "      <td>-0.203263</td>\n",
       "    </tr>\n",
       "    <tr>\n",
       "      <th>61497</th>\n",
       "      <td>-0.203263</td>\n",
       "    </tr>\n",
       "  </tbody>\n",
       "</table>\n",
       "<p>61498 rows × 1 columns</p>\n",
       "</div>"
      ],
      "text/plain": [
       "              0\n",
       "0     -0.203263\n",
       "1     -0.203263\n",
       "2     -0.203263\n",
       "3     -0.203263\n",
       "4     -0.203263\n",
       "...         ...\n",
       "61493 -0.203263\n",
       "61494 -0.203263\n",
       "61495 -0.203263\n",
       "61496 -0.203263\n",
       "61497 -0.203263\n",
       "\n",
       "[61498 rows x 1 columns]"
      ]
     },
     "execution_count": 39,
     "metadata": {},
     "output_type": "execute_result"
    }
   ],
   "source": [
    "tmp=pd.DataFrame(shap_values.base_values)\n",
    "tmp"
   ]
  },
  {
   "cell_type": "markdown",
   "metadata": {},
   "source": [
    "Valeurs d'origne de SKIDCURR"
   ]
  },
  {
   "cell_type": "code",
   "execution_count": 40,
   "metadata": {},
   "outputs": [
    {
     "data": {
      "text/plain": [
       "StandardScaler()"
      ]
     },
     "execution_count": 40,
     "metadata": {},
     "output_type": "execute_result"
    }
   ],
   "source": [
    "best_model[-2]"
   ]
  },
  {
   "cell_type": "code",
   "execution_count": 41,
   "metadata": {},
   "outputs": [
    {
     "data": {
      "text/plain": [
       "0        0.710589\n",
       "1        1.000780\n",
       "2        1.269476\n",
       "3       -0.561761\n",
       "4       -0.872492\n",
       "           ...   \n",
       "61493   -1.561244\n",
       "61494   -0.637148\n",
       "61495    0.114579\n",
       "61496   -1.737549\n",
       "61497    1.271683\n",
       "Name: SK_ID_CURR, Length: 61498, dtype: float64"
      ]
     },
     "execution_count": 41,
     "metadata": {},
     "output_type": "execute_result"
    }
   ],
   "source": [
    "TF['SK_ID_CURR']"
   ]
  },
  {
   "cell_type": "code",
   "execution_count": 42,
   "metadata": {},
   "outputs": [
    {
     "ename": "ValueError",
     "evalue": "Expected 2D array, got 1D array instead:\narray=[ 0.71058859  1.00078039  1.26947614 ...  0.1145786  -1.73754887\n  1.27168336].\nReshape your data either using array.reshape(-1, 1) if your data has a single feature or array.reshape(1, -1) if it contains a single sample.",
     "output_type": "error",
     "traceback": [
      "\u001b[1;31m---------------------------------------------------------------------------\u001b[0m",
      "\u001b[1;31mValueError\u001b[0m                                Traceback (most recent call last)",
      "\u001b[1;32m~\\AppData\\Local\\Temp\\ipykernel_31108\\2672331585.py\u001b[0m in \u001b[0;36m<module>\u001b[1;34m\u001b[0m\n\u001b[1;32m----> 1\u001b[1;33m \u001b[0mTF\u001b[0m\u001b[1;33m[\u001b[0m\u001b[1;34m'SK_ID_CURR'\u001b[0m\u001b[1;33m]\u001b[0m \u001b[1;33m=\u001b[0m \u001b[0mbest_model\u001b[0m\u001b[1;33m[\u001b[0m\u001b[1;33m-\u001b[0m\u001b[1;36m2\u001b[0m\u001b[1;33m]\u001b[0m\u001b[1;33m.\u001b[0m\u001b[0minverse_transform\u001b[0m\u001b[1;33m(\u001b[0m\u001b[0mTF\u001b[0m\u001b[1;33m[\u001b[0m\u001b[1;34m'SK_ID_CURR'\u001b[0m\u001b[1;33m]\u001b[0m\u001b[1;33m)\u001b[0m\u001b[1;33m\u001b[0m\u001b[1;33m\u001b[0m\u001b[0m\n\u001b[0m\u001b[0;32m      2\u001b[0m \u001b[0mTF\u001b[0m\u001b[1;33m\u001b[0m\u001b[1;33m\u001b[0m\u001b[0m\n",
      "\u001b[1;32mc:\\Users\\xavie\\anaconda3\\lib\\site-packages\\sklearn\\preprocessing\\_data.py\u001b[0m in \u001b[0;36minverse_transform\u001b[1;34m(self, X, copy)\u001b[0m\n\u001b[0;32m   1014\u001b[0m \u001b[1;33m\u001b[0m\u001b[0m\n\u001b[0;32m   1015\u001b[0m         \u001b[0mcopy\u001b[0m \u001b[1;33m=\u001b[0m \u001b[0mcopy\u001b[0m \u001b[1;32mif\u001b[0m \u001b[0mcopy\u001b[0m \u001b[1;32mis\u001b[0m \u001b[1;32mnot\u001b[0m \u001b[1;32mNone\u001b[0m \u001b[1;32melse\u001b[0m \u001b[0mself\u001b[0m\u001b[1;33m.\u001b[0m\u001b[0mcopy\u001b[0m\u001b[1;33m\u001b[0m\u001b[1;33m\u001b[0m\u001b[0m\n\u001b[1;32m-> 1016\u001b[1;33m         X = check_array(\n\u001b[0m\u001b[0;32m   1017\u001b[0m             \u001b[0mX\u001b[0m\u001b[1;33m,\u001b[0m\u001b[1;33m\u001b[0m\u001b[1;33m\u001b[0m\u001b[0m\n\u001b[0;32m   1018\u001b[0m             \u001b[0maccept_sparse\u001b[0m\u001b[1;33m=\u001b[0m\u001b[1;34m\"csr\"\u001b[0m\u001b[1;33m,\u001b[0m\u001b[1;33m\u001b[0m\u001b[1;33m\u001b[0m\u001b[0m\n",
      "\u001b[1;32mc:\\Users\\xavie\\anaconda3\\lib\\site-packages\\sklearn\\utils\\validation.py\u001b[0m in \u001b[0;36mcheck_array\u001b[1;34m(array, accept_sparse, accept_large_sparse, dtype, order, copy, force_all_finite, ensure_2d, allow_nd, ensure_min_samples, ensure_min_features, estimator)\u001b[0m\n\u001b[0;32m    767\u001b[0m             \u001b[1;31m# If input is 1D raise error\u001b[0m\u001b[1;33m\u001b[0m\u001b[1;33m\u001b[0m\u001b[0m\n\u001b[0;32m    768\u001b[0m             \u001b[1;32mif\u001b[0m \u001b[0marray\u001b[0m\u001b[1;33m.\u001b[0m\u001b[0mndim\u001b[0m \u001b[1;33m==\u001b[0m \u001b[1;36m1\u001b[0m\u001b[1;33m:\u001b[0m\u001b[1;33m\u001b[0m\u001b[1;33m\u001b[0m\u001b[0m\n\u001b[1;32m--> 769\u001b[1;33m                 raise ValueError(\n\u001b[0m\u001b[0;32m    770\u001b[0m                     \u001b[1;34m\"Expected 2D array, got 1D array instead:\\narray={}.\\n\"\u001b[0m\u001b[1;33m\u001b[0m\u001b[1;33m\u001b[0m\u001b[0m\n\u001b[0;32m    771\u001b[0m                     \u001b[1;34m\"Reshape your data either using array.reshape(-1, 1) if \"\u001b[0m\u001b[1;33m\u001b[0m\u001b[1;33m\u001b[0m\u001b[0m\n",
      "\u001b[1;31mValueError\u001b[0m: Expected 2D array, got 1D array instead:\narray=[ 0.71058859  1.00078039  1.26947614 ...  0.1145786  -1.73754887\n  1.27168336].\nReshape your data either using array.reshape(-1, 1) if your data has a single feature or array.reshape(1, -1) if it contains a single sample."
     ]
    }
   ],
   "source": [
    "TF['SK_ID_CURR'] = best_model[-2].inverse_transform(TF['SK_ID_CURR'])\n",
    "TF"
   ]
  },
  {
   "cell_type": "code",
   "execution_count": 43,
   "metadata": {},
   "outputs": [
    {
     "data": {
      "text/plain": [
       "(61498,)"
      ]
     },
     "execution_count": 43,
     "metadata": {},
     "output_type": "execute_result"
    }
   ],
   "source": [
    "id_sca=type(TF.SK_ID_CURR).to_numpy(self=TF.SK_ID_CURR)\n",
    "id_sca.shape"
   ]
  },
  {
   "cell_type": "code",
   "execution_count": 44,
   "metadata": {},
   "outputs": [
    {
     "ename": "ValueError",
     "evalue": "Expected 2D array, got 1D array instead:\narray=[ 0.71058859  1.00078039  1.26947614 ...  0.1145786  -1.73754887\n  1.27168336].\nReshape your data either using array.reshape(-1, 1) if your data has a single feature or array.reshape(1, -1) if it contains a single sample.",
     "output_type": "error",
     "traceback": [
      "\u001b[1;31m---------------------------------------------------------------------------\u001b[0m",
      "\u001b[1;31mValueError\u001b[0m                                Traceback (most recent call last)",
      "\u001b[1;32m~\\AppData\\Local\\Temp\\ipykernel_31108\\2496580120.py\u001b[0m in \u001b[0;36m<module>\u001b[1;34m\u001b[0m\n\u001b[1;32m----> 1\u001b[1;33m \u001b[0mid_orig\u001b[0m\u001b[1;33m=\u001b[0m\u001b[0mbest_model\u001b[0m\u001b[1;33m[\u001b[0m\u001b[1;33m-\u001b[0m\u001b[1;36m2\u001b[0m\u001b[1;33m]\u001b[0m\u001b[1;33m.\u001b[0m\u001b[0minverse_transform\u001b[0m\u001b[1;33m(\u001b[0m\u001b[0mid_sca\u001b[0m\u001b[1;33m)\u001b[0m\u001b[1;33m\u001b[0m\u001b[1;33m\u001b[0m\u001b[0m\n\u001b[0m\u001b[0;32m      2\u001b[0m \u001b[0mid_orig\u001b[0m\u001b[1;33m\u001b[0m\u001b[1;33m\u001b[0m\u001b[0m\n",
      "\u001b[1;32mc:\\Users\\xavie\\anaconda3\\lib\\site-packages\\sklearn\\preprocessing\\_data.py\u001b[0m in \u001b[0;36minverse_transform\u001b[1;34m(self, X, copy)\u001b[0m\n\u001b[0;32m   1014\u001b[0m \u001b[1;33m\u001b[0m\u001b[0m\n\u001b[0;32m   1015\u001b[0m         \u001b[0mcopy\u001b[0m \u001b[1;33m=\u001b[0m \u001b[0mcopy\u001b[0m \u001b[1;32mif\u001b[0m \u001b[0mcopy\u001b[0m \u001b[1;32mis\u001b[0m \u001b[1;32mnot\u001b[0m \u001b[1;32mNone\u001b[0m \u001b[1;32melse\u001b[0m \u001b[0mself\u001b[0m\u001b[1;33m.\u001b[0m\u001b[0mcopy\u001b[0m\u001b[1;33m\u001b[0m\u001b[1;33m\u001b[0m\u001b[0m\n\u001b[1;32m-> 1016\u001b[1;33m         X = check_array(\n\u001b[0m\u001b[0;32m   1017\u001b[0m             \u001b[0mX\u001b[0m\u001b[1;33m,\u001b[0m\u001b[1;33m\u001b[0m\u001b[1;33m\u001b[0m\u001b[0m\n\u001b[0;32m   1018\u001b[0m             \u001b[0maccept_sparse\u001b[0m\u001b[1;33m=\u001b[0m\u001b[1;34m\"csr\"\u001b[0m\u001b[1;33m,\u001b[0m\u001b[1;33m\u001b[0m\u001b[1;33m\u001b[0m\u001b[0m\n",
      "\u001b[1;32mc:\\Users\\xavie\\anaconda3\\lib\\site-packages\\sklearn\\utils\\validation.py\u001b[0m in \u001b[0;36mcheck_array\u001b[1;34m(array, accept_sparse, accept_large_sparse, dtype, order, copy, force_all_finite, ensure_2d, allow_nd, ensure_min_samples, ensure_min_features, estimator)\u001b[0m\n\u001b[0;32m    767\u001b[0m             \u001b[1;31m# If input is 1D raise error\u001b[0m\u001b[1;33m\u001b[0m\u001b[1;33m\u001b[0m\u001b[0m\n\u001b[0;32m    768\u001b[0m             \u001b[1;32mif\u001b[0m \u001b[0marray\u001b[0m\u001b[1;33m.\u001b[0m\u001b[0mndim\u001b[0m \u001b[1;33m==\u001b[0m \u001b[1;36m1\u001b[0m\u001b[1;33m:\u001b[0m\u001b[1;33m\u001b[0m\u001b[1;33m\u001b[0m\u001b[0m\n\u001b[1;32m--> 769\u001b[1;33m                 raise ValueError(\n\u001b[0m\u001b[0;32m    770\u001b[0m                     \u001b[1;34m\"Expected 2D array, got 1D array instead:\\narray={}.\\n\"\u001b[0m\u001b[1;33m\u001b[0m\u001b[1;33m\u001b[0m\u001b[0m\n\u001b[0;32m    771\u001b[0m                     \u001b[1;34m\"Reshape your data either using array.reshape(-1, 1) if \"\u001b[0m\u001b[1;33m\u001b[0m\u001b[1;33m\u001b[0m\u001b[0m\n",
      "\u001b[1;31mValueError\u001b[0m: Expected 2D array, got 1D array instead:\narray=[ 0.71058859  1.00078039  1.26947614 ...  0.1145786  -1.73754887\n  1.27168336].\nReshape your data either using array.reshape(-1, 1) if your data has a single feature or array.reshape(1, -1) if it contains a single sample."
     ]
    }
   ],
   "source": [
    "id_orig=best_model[-2].inverse_transform(id_sca)\n",
    "id_orig"
   ]
  },
  {
   "cell_type": "code",
   "execution_count": null,
   "metadata": {},
   "outputs": [],
   "source": []
  },
  {
   "cell_type": "markdown",
   "metadata": {},
   "source": [
    "## 4.2 Ajout de SK_ID_CURR après entrainement de best_model"
   ]
  },
  {
   "cell_type": "markdown",
   "metadata": {},
   "source": [
    "X: df sans SK_ID\n",
    "\n",
    "X2: df avec SK_ID"
   ]
  },
  {
   "cell_type": "markdown",
   "metadata": {},
   "source": [
    "Train test split sur base X2"
   ]
  },
  {
   "cell_type": "code",
   "execution_count": 45,
   "metadata": {},
   "outputs": [
    {
     "data": {
      "text/html": [
       "<div>\n",
       "<style scoped>\n",
       "    .dataframe tbody tr th:only-of-type {\n",
       "        vertical-align: middle;\n",
       "    }\n",
       "\n",
       "    .dataframe tbody tr th {\n",
       "        vertical-align: top;\n",
       "    }\n",
       "\n",
       "    .dataframe thead th {\n",
       "        text-align: right;\n",
       "    }\n",
       "</style>\n",
       "<table border=\"1\" class=\"dataframe\">\n",
       "  <thead>\n",
       "    <tr style=\"text-align: right;\">\n",
       "      <th></th>\n",
       "      <th>SK_ID_CURR</th>\n",
       "      <th>FLAG_OWN_CAR</th>\n",
       "      <th>FLAG_OWN_REALTY</th>\n",
       "      <th>AMT_INCOME_TOTAL</th>\n",
       "      <th>AMT_CREDIT</th>\n",
       "      <th>AMT_ANNUITY</th>\n",
       "      <th>CNT_FAM_MEMBERS</th>\n",
       "      <th>EXT_SOURCE_1</th>\n",
       "      <th>EXT_SOURCE_2</th>\n",
       "      <th>EXT_SOURCE_3</th>\n",
       "      <th>client_age</th>\n",
       "      <th>client_prof_exp</th>\n",
       "      <th>Cash_loans</th>\n",
       "      <th>GENDER_FEMALE</th>\n",
       "      <th>active_client</th>\n",
       "      <th>relationship</th>\n",
       "    </tr>\n",
       "  </thead>\n",
       "  <tbody>\n",
       "    <tr>\n",
       "      <th>217382</th>\n",
       "      <td>351895</td>\n",
       "      <td>1</td>\n",
       "      <td>0</td>\n",
       "      <td>189000.0</td>\n",
       "      <td>612612.0</td>\n",
       "      <td>29470.5</td>\n",
       "      <td>2.0</td>\n",
       "      <td>NaN</td>\n",
       "      <td>0.709967</td>\n",
       "      <td>0.522697</td>\n",
       "      <td>27</td>\n",
       "      <td>6.0</td>\n",
       "      <td>1</td>\n",
       "      <td>0</td>\n",
       "      <td>1</td>\n",
       "      <td>1</td>\n",
       "    </tr>\n",
       "    <tr>\n",
       "      <th>243237</th>\n",
       "      <td>381608</td>\n",
       "      <td>0</td>\n",
       "      <td>1</td>\n",
       "      <td>126000.0</td>\n",
       "      <td>474048.0</td>\n",
       "      <td>21010.5</td>\n",
       "      <td>2.0</td>\n",
       "      <td>NaN</td>\n",
       "      <td>0.358568</td>\n",
       "      <td>0.342529</td>\n",
       "      <td>59</td>\n",
       "      <td>-0.0</td>\n",
       "      <td>1</td>\n",
       "      <td>1</td>\n",
       "      <td>0</td>\n",
       "      <td>1</td>\n",
       "    </tr>\n",
       "    <tr>\n",
       "      <th>266800</th>\n",
       "      <td>409120</td>\n",
       "      <td>0</td>\n",
       "      <td>1</td>\n",
       "      <td>90000.0</td>\n",
       "      <td>675000.0</td>\n",
       "      <td>21906.0</td>\n",
       "      <td>1.0</td>\n",
       "      <td>NaN</td>\n",
       "      <td>0.712518</td>\n",
       "      <td>0.746300</td>\n",
       "      <td>52</td>\n",
       "      <td>5.0</td>\n",
       "      <td>1</td>\n",
       "      <td>1</td>\n",
       "      <td>1</td>\n",
       "      <td>0</td>\n",
       "    </tr>\n",
       "    <tr>\n",
       "      <th>104798</th>\n",
       "      <td>221618</td>\n",
       "      <td>0</td>\n",
       "      <td>1</td>\n",
       "      <td>180000.0</td>\n",
       "      <td>541323.0</td>\n",
       "      <td>23971.5</td>\n",
       "      <td>3.0</td>\n",
       "      <td>0.725967</td>\n",
       "      <td>0.685987</td>\n",
       "      <td>0.662638</td>\n",
       "      <td>44</td>\n",
       "      <td>11.0</td>\n",
       "      <td>1</td>\n",
       "      <td>1</td>\n",
       "      <td>1</td>\n",
       "      <td>1</td>\n",
       "    </tr>\n",
       "    <tr>\n",
       "      <th>77448</th>\n",
       "      <td>189802</td>\n",
       "      <td>0</td>\n",
       "      <td>1</td>\n",
       "      <td>247500.0</td>\n",
       "      <td>545040.0</td>\n",
       "      <td>25537.5</td>\n",
       "      <td>1.0</td>\n",
       "      <td>NaN</td>\n",
       "      <td>0.670069</td>\n",
       "      <td>NaN</td>\n",
       "      <td>51</td>\n",
       "      <td>1.0</td>\n",
       "      <td>1</td>\n",
       "      <td>1</td>\n",
       "      <td>1</td>\n",
       "      <td>0</td>\n",
       "    </tr>\n",
       "    <tr>\n",
       "      <th>...</th>\n",
       "      <td>...</td>\n",
       "      <td>...</td>\n",
       "      <td>...</td>\n",
       "      <td>...</td>\n",
       "      <td>...</td>\n",
       "      <td>...</td>\n",
       "      <td>...</td>\n",
       "      <td>...</td>\n",
       "      <td>...</td>\n",
       "      <td>...</td>\n",
       "      <td>...</td>\n",
       "      <td>...</td>\n",
       "      <td>...</td>\n",
       "      <td>...</td>\n",
       "      <td>...</td>\n",
       "      <td>...</td>\n",
       "    </tr>\n",
       "    <tr>\n",
       "      <th>16525</th>\n",
       "      <td>119280</td>\n",
       "      <td>0</td>\n",
       "      <td>1</td>\n",
       "      <td>135000.0</td>\n",
       "      <td>1078200.0</td>\n",
       "      <td>31653.0</td>\n",
       "      <td>3.0</td>\n",
       "      <td>NaN</td>\n",
       "      <td>0.362016</td>\n",
       "      <td>0.817172</td>\n",
       "      <td>37</td>\n",
       "      <td>12.0</td>\n",
       "      <td>1</td>\n",
       "      <td>0</td>\n",
       "      <td>1</td>\n",
       "      <td>1</td>\n",
       "    </tr>\n",
       "    <tr>\n",
       "      <th>98093</th>\n",
       "      <td>213899</td>\n",
       "      <td>0</td>\n",
       "      <td>1</td>\n",
       "      <td>135000.0</td>\n",
       "      <td>276277.5</td>\n",
       "      <td>17032.5</td>\n",
       "      <td>2.0</td>\n",
       "      <td>NaN</td>\n",
       "      <td>0.295078</td>\n",
       "      <td>0.607557</td>\n",
       "      <td>57</td>\n",
       "      <td>-0.0</td>\n",
       "      <td>1</td>\n",
       "      <td>1</td>\n",
       "      <td>0</td>\n",
       "      <td>1</td>\n",
       "    </tr>\n",
       "    <tr>\n",
       "      <th>164651</th>\n",
       "      <td>290869</td>\n",
       "      <td>0</td>\n",
       "      <td>1</td>\n",
       "      <td>112500.0</td>\n",
       "      <td>1136398.5</td>\n",
       "      <td>63585.0</td>\n",
       "      <td>2.0</td>\n",
       "      <td>NaN</td>\n",
       "      <td>0.712486</td>\n",
       "      <td>0.771362</td>\n",
       "      <td>65</td>\n",
       "      <td>-0.0</td>\n",
       "      <td>1</td>\n",
       "      <td>1</td>\n",
       "      <td>0</td>\n",
       "      <td>1</td>\n",
       "    </tr>\n",
       "    <tr>\n",
       "      <th>1057</th>\n",
       "      <td>101228</td>\n",
       "      <td>0</td>\n",
       "      <td>0</td>\n",
       "      <td>450000.0</td>\n",
       "      <td>900000.0</td>\n",
       "      <td>31887.0</td>\n",
       "      <td>5.0</td>\n",
       "      <td>0.527682</td>\n",
       "      <td>0.435009</td>\n",
       "      <td>0.597192</td>\n",
       "      <td>42</td>\n",
       "      <td>6.0</td>\n",
       "      <td>1</td>\n",
       "      <td>0</td>\n",
       "      <td>1</td>\n",
       "      <td>1</td>\n",
       "    </tr>\n",
       "    <tr>\n",
       "      <th>266980</th>\n",
       "      <td>409346</td>\n",
       "      <td>1</td>\n",
       "      <td>1</td>\n",
       "      <td>171000.0</td>\n",
       "      <td>499500.0</td>\n",
       "      <td>16636.5</td>\n",
       "      <td>3.0</td>\n",
       "      <td>0.626340</td>\n",
       "      <td>0.637417</td>\n",
       "      <td>0.294083</td>\n",
       "      <td>43</td>\n",
       "      <td>2.0</td>\n",
       "      <td>1</td>\n",
       "      <td>1</td>\n",
       "      <td>1</td>\n",
       "      <td>0</td>\n",
       "    </tr>\n",
       "  </tbody>\n",
       "</table>\n",
       "<p>61498 rows × 16 columns</p>\n",
       "</div>"
      ],
      "text/plain": [
       "        SK_ID_CURR  FLAG_OWN_CAR  FLAG_OWN_REALTY  AMT_INCOME_TOTAL  \\\n",
       "217382      351895             1                0          189000.0   \n",
       "243237      381608             0                1          126000.0   \n",
       "266800      409120             0                1           90000.0   \n",
       "104798      221618             0                1          180000.0   \n",
       "77448       189802             0                1          247500.0   \n",
       "...            ...           ...              ...               ...   \n",
       "16525       119280             0                1          135000.0   \n",
       "98093       213899             0                1          135000.0   \n",
       "164651      290869             0                1          112500.0   \n",
       "1057        101228             0                0          450000.0   \n",
       "266980      409346             1                1          171000.0   \n",
       "\n",
       "        AMT_CREDIT  AMT_ANNUITY  CNT_FAM_MEMBERS  EXT_SOURCE_1  EXT_SOURCE_2  \\\n",
       "217382    612612.0      29470.5              2.0           NaN      0.709967   \n",
       "243237    474048.0      21010.5              2.0           NaN      0.358568   \n",
       "266800    675000.0      21906.0              1.0           NaN      0.712518   \n",
       "104798    541323.0      23971.5              3.0      0.725967      0.685987   \n",
       "77448     545040.0      25537.5              1.0           NaN      0.670069   \n",
       "...            ...          ...              ...           ...           ...   \n",
       "16525    1078200.0      31653.0              3.0           NaN      0.362016   \n",
       "98093     276277.5      17032.5              2.0           NaN      0.295078   \n",
       "164651   1136398.5      63585.0              2.0           NaN      0.712486   \n",
       "1057      900000.0      31887.0              5.0      0.527682      0.435009   \n",
       "266980    499500.0      16636.5              3.0      0.626340      0.637417   \n",
       "\n",
       "        EXT_SOURCE_3  client_age  client_prof_exp  Cash_loans  GENDER_FEMALE  \\\n",
       "217382      0.522697          27              6.0           1              0   \n",
       "243237      0.342529          59             -0.0           1              1   \n",
       "266800      0.746300          52              5.0           1              1   \n",
       "104798      0.662638          44             11.0           1              1   \n",
       "77448            NaN          51              1.0           1              1   \n",
       "...              ...         ...              ...         ...            ...   \n",
       "16525       0.817172          37             12.0           1              0   \n",
       "98093       0.607557          57             -0.0           1              1   \n",
       "164651      0.771362          65             -0.0           1              1   \n",
       "1057        0.597192          42              6.0           1              0   \n",
       "266980      0.294083          43              2.0           1              1   \n",
       "\n",
       "        active_client  relationship  \n",
       "217382              1             1  \n",
       "243237              0             1  \n",
       "266800              1             0  \n",
       "104798              1             1  \n",
       "77448               1             0  \n",
       "...               ...           ...  \n",
       "16525               1             1  \n",
       "98093               0             1  \n",
       "164651              0             1  \n",
       "1057                1             1  \n",
       "266980              1             0  \n",
       "\n",
       "[61498 rows x 16 columns]"
      ]
     },
     "execution_count": 45,
     "metadata": {},
     "output_type": "execute_result"
    }
   ],
   "source": [
    "X2"
   ]
  },
  {
   "cell_type": "code",
   "execution_count": 46,
   "metadata": {},
   "outputs": [],
   "source": [
    "X_train,X_test,y_train,y_test=train_test_split(X2,y2,test_size=0.2)"
   ]
  },
  {
   "cell_type": "code",
   "execution_count": 47,
   "metadata": {},
   "outputs": [
    {
     "name": "stdout",
     "output_type": "stream",
     "text": [
      "Train set: (49198, 16)\n",
      "Test set: (12300, 16)\n",
      "Train target: (49198,)\n",
      "Test target: (12300,)\n"
     ]
    }
   ],
   "source": [
    "print('Train set:',X_train.shape)\n",
    "print('Test set:',X_test.shape)\n",
    "print('Train target:',y_train.shape)\n",
    "print('Test target:',y_test.shape)"
   ]
  },
  {
   "cell_type": "markdown",
   "metadata": {},
   "source": [
    "Decomposition du best_model"
   ]
  },
  {
   "cell_type": "code",
   "execution_count": 48,
   "metadata": {},
   "outputs": [],
   "source": [
    " #Sampling \n",
    "X_train_rus, y_train_rus=best_model[0].fit_resample(X_train,y_train)"
   ]
  },
  {
   "cell_type": "code",
   "execution_count": 49,
   "metadata": {},
   "outputs": [
    {
     "data": {
      "text/plain": [
       "(7976, 16)"
      ]
     },
     "execution_count": 49,
     "metadata": {},
     "output_type": "execute_result"
    }
   ],
   "source": [
    "X_train_rus.shape"
   ]
  },
  {
   "cell_type": "code",
   "execution_count": 50,
   "metadata": {},
   "outputs": [
    {
     "data": {
      "text/plain": [
       "(7976, 16)"
      ]
     },
     "execution_count": 50,
     "metadata": {},
     "output_type": "execute_result"
    }
   ],
   "source": [
    "X_tr=pd.DataFrame(best_model[1].fit_transform(X_train_rus),columns=X_train_rus.columns)\n",
    "X_tr.shape"
   ]
  },
  {
   "cell_type": "code",
   "execution_count": 51,
   "metadata": {},
   "outputs": [
    {
     "data": {
      "text/plain": [
       "(7976, 15)"
      ]
     },
     "execution_count": 51,
     "metadata": {},
     "output_type": "execute_result"
    }
   ],
   "source": [
    "X_tmp=X_tr.drop(['SK_ID_CURR'],axis=1)\n",
    "X_tmp.shape"
   ]
  },
  {
   "cell_type": "code",
   "execution_count": 52,
   "metadata": {},
   "outputs": [],
   "source": [
    "#X_tr=best_model[1:-1].fit_transform(X_tmp)"
   ]
  },
  {
   "cell_type": "code",
   "execution_count": 53,
   "metadata": {},
   "outputs": [
    {
     "data": {
      "text/plain": [
       "StandardScaler()"
      ]
     },
     "execution_count": 53,
     "metadata": {},
     "output_type": "execute_result"
    }
   ],
   "source": [
    "best_model[2]"
   ]
  },
  {
   "cell_type": "code",
   "execution_count": 54,
   "metadata": {},
   "outputs": [
    {
     "data": {
      "text/plain": [
       "(7976, 15)"
      ]
     },
     "execution_count": 54,
     "metadata": {},
     "output_type": "execute_result"
    }
   ],
   "source": [
    "X_tr_transf=pd.DataFrame(best_model[2].fit_transform(X_tmp), columns=X_tmp.columns)\n",
    "X_tr_transf.shape"
   ]
  },
  {
   "cell_type": "code",
   "execution_count": 55,
   "metadata": {},
   "outputs": [
    {
     "data": {
      "text/plain": [
       "FLAG_OWN_CAR        0\n",
       "FLAG_OWN_REALTY     0\n",
       "AMT_INCOME_TOTAL    0\n",
       "AMT_CREDIT          0\n",
       "AMT_ANNUITY         0\n",
       "CNT_FAM_MEMBERS     0\n",
       "EXT_SOURCE_1        0\n",
       "EXT_SOURCE_2        0\n",
       "EXT_SOURCE_3        0\n",
       "client_age          0\n",
       "client_prof_exp     0\n",
       "Cash_loans          0\n",
       "GENDER_FEMALE       0\n",
       "active_client       0\n",
       "relationship        0\n",
       "dtype: int64"
      ]
     },
     "execution_count": 55,
     "metadata": {},
     "output_type": "execute_result"
    }
   ],
   "source": [
    "X_tr_transf.isna().sum()"
   ]
  },
  {
   "cell_type": "code",
   "execution_count": 56,
   "metadata": {},
   "outputs": [
    {
     "data": {
      "text/plain": [
       "LogisticRegression()"
      ]
     },
     "execution_count": 56,
     "metadata": {},
     "output_type": "execute_result"
    }
   ],
   "source": [
    "best_model[-1].fit(X_tr_transf,y_train_rus)"
   ]
  },
  {
   "cell_type": "markdown",
   "metadata": {},
   "source": [
    "Décompostion du modèle en 3 étape:\n",
    "\n",
    "-> Random Under Sampling\n",
    "\n",
    "-> Imputer + Scaler\n",
    "\n",
    "-> LogReg()"
   ]
  },
  {
   "cell_type": "code",
   "execution_count": 57,
   "metadata": {},
   "outputs": [
    {
     "data": {
      "text/plain": [
       "Pipeline(steps=[('sampler', RandomUnderSampler()),\n",
       "                ('imputer', SimpleImputer(strategy='median'))])"
      ]
     },
     "execution_count": 57,
     "metadata": {},
     "output_type": "execute_result"
    }
   ],
   "source": [
    "best_model[:-2]"
   ]
  },
  {
   "cell_type": "code",
   "execution_count": 58,
   "metadata": {},
   "outputs": [
    {
     "data": {
      "text/plain": [
       "StandardScaler()"
      ]
     },
     "execution_count": 58,
     "metadata": {},
     "output_type": "execute_result"
    }
   ],
   "source": [
    "best_model[-2]"
   ]
  },
  {
   "cell_type": "code",
   "execution_count": 59,
   "metadata": {},
   "outputs": [],
   "source": [
    "pickle_out = open(\"sampler.pkl\",\"wb\")\n",
    "pickle.dump(best_model[:-2], pickle_out)\n",
    "pickle_out.close()"
   ]
  },
  {
   "cell_type": "code",
   "execution_count": 60,
   "metadata": {},
   "outputs": [],
   "source": [
    "pickle_out = open(\"transformer2.pkl\",\"wb\")\n",
    "pickle.dump(best_model[-2], pickle_out)\n",
    "pickle_out.close()"
   ]
  },
  {
   "cell_type": "code",
   "execution_count": 61,
   "metadata": {},
   "outputs": [],
   "source": [
    "pickle_out = open(\"logreg2.pkl\",\"wb\")\n",
    "pickle.dump(best_model[-1], pickle_out)\n",
    "pickle_out.close()"
   ]
  },
  {
   "cell_type": "markdown",
   "metadata": {},
   "source": [
    "Test API:"
   ]
  },
  {
   "cell_type": "code",
   "execution_count": 62,
   "metadata": {},
   "outputs": [
    {
     "ename": "IndentationError",
     "evalue": "unexpected indent (1359803692.py, line 2)",
     "output_type": "error",
     "traceback": [
      "\u001b[1;36m  File \u001b[1;32m\"C:\\Users\\xavie\\AppData\\Local\\Temp\\ipykernel_31108\\1359803692.py\"\u001b[1;36m, line \u001b[1;32m2\u001b[0m\n\u001b[1;33m    data_for_shap=transf_data.drop(['SK_ID_CURR'],axis=1)\u001b[0m\n\u001b[1;37m    ^\u001b[0m\n\u001b[1;31mIndentationError\u001b[0m\u001b[1;31m:\u001b[0m unexpected indent\n"
     ]
    }
   ],
   "source": [
    "transf_data = pd.DataFrame(sampler.transform(filtered_data),columns = filtered_data.columns) # fit_resample necessite (X,y)\n",
    "    data_for_shap=transf_data.drop(['SK_ID_CURR'],axis=1)\n",
    "    data_for_shap_tr=pd.DataFrame(transformer2.transform(data_for_shap),columns=data_for_shap.columns)\n",
    "    explainer=shap.LinearExplainer(estimator2,data_for_shap_tr)\n",
    "    shap_values=explainer(data_for_shap_tr)\n",
    "    \n",
    "    svv=pd.DataFrame(shap_values.values, columns = data_for_shap.columns).round(2)\n",
    "    svv['SK_ID_CURR']=transf_data['SK_ID_CURR']\n",
    "    svd=pd.DataFrame(shap_values.data, columns = data_for_shap.columns).round(2)\n",
    "    svd['SK_ID_CURR']=transf_data['SK_ID_CURR']\n",
    "    svb=pd.DataFrame(shap_values.base_values).round(2)"
   ]
  },
  {
   "cell_type": "code",
   "execution_count": 63,
   "metadata": {},
   "outputs": [],
   "source": [
    "transf_data = pd.DataFrame(best_model[:-2].transform(X2),columns = X2.columns) # fit_resample necessite (X,y)"
   ]
  },
  {
   "cell_type": "code",
   "execution_count": 64,
   "metadata": {},
   "outputs": [
    {
     "data": {
      "text/plain": [
       "(61498, 16)"
      ]
     },
     "execution_count": 64,
     "metadata": {},
     "output_type": "execute_result"
    }
   ],
   "source": [
    "transf_data.shape"
   ]
  },
  {
   "cell_type": "code",
   "execution_count": 65,
   "metadata": {},
   "outputs": [],
   "source": [
    "data_for_shap=transf_data.drop(['SK_ID_CURR'],axis=1)"
   ]
  },
  {
   "cell_type": "code",
   "execution_count": 66,
   "metadata": {},
   "outputs": [],
   "source": [
    "data_for_shap_tr=pd.DataFrame(best_model[-2].transform(data_for_shap),columns=data_for_shap.columns)"
   ]
  },
  {
   "cell_type": "code",
   "execution_count": 67,
   "metadata": {},
   "outputs": [],
   "source": [
    "explainer=shap.LinearExplainer(best_model[-1],data_for_shap_tr)"
   ]
  },
  {
   "cell_type": "code",
   "execution_count": 68,
   "metadata": {},
   "outputs": [],
   "source": [
    "shap_values=explainer(data_for_shap_tr)"
   ]
  },
  {
   "cell_type": "code",
   "execution_count": 69,
   "metadata": {},
   "outputs": [
    {
     "data": {
      "text/html": [
       "<div>\n",
       "<style scoped>\n",
       "    .dataframe tbody tr th:only-of-type {\n",
       "        vertical-align: middle;\n",
       "    }\n",
       "\n",
       "    .dataframe tbody tr th {\n",
       "        vertical-align: top;\n",
       "    }\n",
       "\n",
       "    .dataframe thead th {\n",
       "        text-align: right;\n",
       "    }\n",
       "</style>\n",
       "<table border=\"1\" class=\"dataframe\">\n",
       "  <thead>\n",
       "    <tr style=\"text-align: right;\">\n",
       "      <th></th>\n",
       "      <th>FLAG_OWN_CAR</th>\n",
       "      <th>FLAG_OWN_REALTY</th>\n",
       "      <th>AMT_INCOME_TOTAL</th>\n",
       "      <th>AMT_CREDIT</th>\n",
       "      <th>AMT_ANNUITY</th>\n",
       "      <th>CNT_FAM_MEMBERS</th>\n",
       "      <th>EXT_SOURCE_1</th>\n",
       "      <th>EXT_SOURCE_2</th>\n",
       "      <th>EXT_SOURCE_3</th>\n",
       "      <th>client_age</th>\n",
       "      <th>client_prof_exp</th>\n",
       "      <th>Cash_loans</th>\n",
       "      <th>GENDER_FEMALE</th>\n",
       "      <th>active_client</th>\n",
       "      <th>relationship</th>\n",
       "    </tr>\n",
       "  </thead>\n",
       "  <tbody>\n",
       "    <tr>\n",
       "      <th>0</th>\n",
       "      <td>-0.19</td>\n",
       "      <td>-0.04</td>\n",
       "      <td>-0.01</td>\n",
       "      <td>-0.00</td>\n",
       "      <td>0.01</td>\n",
       "      <td>-0.01</td>\n",
       "      <td>0.05</td>\n",
       "      <td>-0.56</td>\n",
       "      <td>-0.10</td>\n",
       "      <td>-0.08</td>\n",
       "      <td>-0.04</td>\n",
       "      <td>0.03</td>\n",
       "      <td>0.21</td>\n",
       "      <td>0.11</td>\n",
       "      <td>-0.05</td>\n",
       "    </tr>\n",
       "    <tr>\n",
       "      <th>1</th>\n",
       "      <td>0.09</td>\n",
       "      <td>0.02</td>\n",
       "      <td>0.03</td>\n",
       "      <td>0.02</td>\n",
       "      <td>-0.03</td>\n",
       "      <td>-0.01</td>\n",
       "      <td>0.05</td>\n",
       "      <td>0.38</td>\n",
       "      <td>0.42</td>\n",
       "      <td>0.09</td>\n",
       "      <td>0.17</td>\n",
       "      <td>0.03</td>\n",
       "      <td>-0.11</td>\n",
       "      <td>-0.61</td>\n",
       "      <td>-0.05</td>\n",
       "    </tr>\n",
       "    <tr>\n",
       "      <th>2</th>\n",
       "      <td>0.09</td>\n",
       "      <td>0.02</td>\n",
       "      <td>0.05</td>\n",
       "      <td>-0.01</td>\n",
       "      <td>-0.03</td>\n",
       "      <td>-0.07</td>\n",
       "      <td>0.05</td>\n",
       "      <td>-0.56</td>\n",
       "      <td>-0.76</td>\n",
       "      <td>0.05</td>\n",
       "      <td>-0.00</td>\n",
       "      <td>0.03</td>\n",
       "      <td>-0.11</td>\n",
       "      <td>0.11</td>\n",
       "      <td>0.13</td>\n",
       "    </tr>\n",
       "    <tr>\n",
       "      <th>3</th>\n",
       "      <td>0.09</td>\n",
       "      <td>0.02</td>\n",
       "      <td>-0.01</td>\n",
       "      <td>0.01</td>\n",
       "      <td>-0.02</td>\n",
       "      <td>0.05</td>\n",
       "      <td>-0.45</td>\n",
       "      <td>-0.49</td>\n",
       "      <td>-0.51</td>\n",
       "      <td>0.01</td>\n",
       "      <td>-0.21</td>\n",
       "      <td>0.03</td>\n",
       "      <td>-0.11</td>\n",
       "      <td>0.11</td>\n",
       "      <td>-0.05</td>\n",
       "    </tr>\n",
       "    <tr>\n",
       "      <th>4</th>\n",
       "      <td>0.09</td>\n",
       "      <td>0.02</td>\n",
       "      <td>-0.05</td>\n",
       "      <td>0.01</td>\n",
       "      <td>-0.01</td>\n",
       "      <td>-0.07</td>\n",
       "      <td>0.05</td>\n",
       "      <td>-0.45</td>\n",
       "      <td>0.05</td>\n",
       "      <td>0.05</td>\n",
       "      <td>0.13</td>\n",
       "      <td>0.03</td>\n",
       "      <td>-0.11</td>\n",
       "      <td>0.11</td>\n",
       "      <td>0.13</td>\n",
       "    </tr>\n",
       "    <tr>\n",
       "      <th>...</th>\n",
       "      <td>...</td>\n",
       "      <td>...</td>\n",
       "      <td>...</td>\n",
       "      <td>...</td>\n",
       "      <td>...</td>\n",
       "      <td>...</td>\n",
       "      <td>...</td>\n",
       "      <td>...</td>\n",
       "      <td>...</td>\n",
       "      <td>...</td>\n",
       "      <td>...</td>\n",
       "      <td>...</td>\n",
       "      <td>...</td>\n",
       "      <td>...</td>\n",
       "      <td>...</td>\n",
       "    </tr>\n",
       "    <tr>\n",
       "      <th>61493</th>\n",
       "      <td>0.09</td>\n",
       "      <td>0.02</td>\n",
       "      <td>0.02</td>\n",
       "      <td>-0.07</td>\n",
       "      <td>0.02</td>\n",
       "      <td>0.05</td>\n",
       "      <td>0.05</td>\n",
       "      <td>0.37</td>\n",
       "      <td>-0.97</td>\n",
       "      <td>-0.03</td>\n",
       "      <td>-0.25</td>\n",
       "      <td>0.03</td>\n",
       "      <td>0.21</td>\n",
       "      <td>0.11</td>\n",
       "      <td>-0.05</td>\n",
       "    </tr>\n",
       "    <tr>\n",
       "      <th>61494</th>\n",
       "      <td>0.09</td>\n",
       "      <td>0.02</td>\n",
       "      <td>0.02</td>\n",
       "      <td>0.05</td>\n",
       "      <td>-0.05</td>\n",
       "      <td>-0.01</td>\n",
       "      <td>0.05</td>\n",
       "      <td>0.55</td>\n",
       "      <td>-0.35</td>\n",
       "      <td>0.08</td>\n",
       "      <td>0.17</td>\n",
       "      <td>0.03</td>\n",
       "      <td>-0.11</td>\n",
       "      <td>-0.61</td>\n",
       "      <td>-0.05</td>\n",
       "    </tr>\n",
       "    <tr>\n",
       "      <th>61495</th>\n",
       "      <td>0.09</td>\n",
       "      <td>0.02</td>\n",
       "      <td>0.03</td>\n",
       "      <td>-0.08</td>\n",
       "      <td>0.16</td>\n",
       "      <td>-0.01</td>\n",
       "      <td>0.05</td>\n",
       "      <td>-0.56</td>\n",
       "      <td>-0.83</td>\n",
       "      <td>0.12</td>\n",
       "      <td>0.17</td>\n",
       "      <td>0.03</td>\n",
       "      <td>-0.11</td>\n",
       "      <td>-0.61</td>\n",
       "      <td>-0.05</td>\n",
       "    </tr>\n",
       "    <tr>\n",
       "      <th>61496</th>\n",
       "      <td>0.09</td>\n",
       "      <td>-0.04</td>\n",
       "      <td>-0.17</td>\n",
       "      <td>-0.04</td>\n",
       "      <td>0.02</td>\n",
       "      <td>0.17</td>\n",
       "      <td>-0.11</td>\n",
       "      <td>0.18</td>\n",
       "      <td>-0.32</td>\n",
       "      <td>-0.00</td>\n",
       "      <td>-0.04</td>\n",
       "      <td>0.03</td>\n",
       "      <td>0.21</td>\n",
       "      <td>0.11</td>\n",
       "      <td>-0.05</td>\n",
       "    </tr>\n",
       "    <tr>\n",
       "      <th>61497</th>\n",
       "      <td>-0.19</td>\n",
       "      <td>0.02</td>\n",
       "      <td>-0.00</td>\n",
       "      <td>0.02</td>\n",
       "      <td>-0.05</td>\n",
       "      <td>0.05</td>\n",
       "      <td>-0.28</td>\n",
       "      <td>-0.36</td>\n",
       "      <td>0.57</td>\n",
       "      <td>0.00</td>\n",
       "      <td>0.10</td>\n",
       "      <td>0.03</td>\n",
       "      <td>-0.11</td>\n",
       "      <td>0.11</td>\n",
       "      <td>0.13</td>\n",
       "    </tr>\n",
       "  </tbody>\n",
       "</table>\n",
       "<p>61498 rows × 15 columns</p>\n",
       "</div>"
      ],
      "text/plain": [
       "       FLAG_OWN_CAR  FLAG_OWN_REALTY  AMT_INCOME_TOTAL  AMT_CREDIT  \\\n",
       "0             -0.19            -0.04             -0.01       -0.00   \n",
       "1              0.09             0.02              0.03        0.02   \n",
       "2              0.09             0.02              0.05       -0.01   \n",
       "3              0.09             0.02             -0.01        0.01   \n",
       "4              0.09             0.02             -0.05        0.01   \n",
       "...             ...              ...               ...         ...   \n",
       "61493          0.09             0.02              0.02       -0.07   \n",
       "61494          0.09             0.02              0.02        0.05   \n",
       "61495          0.09             0.02              0.03       -0.08   \n",
       "61496          0.09            -0.04             -0.17       -0.04   \n",
       "61497         -0.19             0.02             -0.00        0.02   \n",
       "\n",
       "       AMT_ANNUITY  CNT_FAM_MEMBERS  EXT_SOURCE_1  EXT_SOURCE_2  EXT_SOURCE_3  \\\n",
       "0             0.01            -0.01          0.05         -0.56         -0.10   \n",
       "1            -0.03            -0.01          0.05          0.38          0.42   \n",
       "2            -0.03            -0.07          0.05         -0.56         -0.76   \n",
       "3            -0.02             0.05         -0.45         -0.49         -0.51   \n",
       "4            -0.01            -0.07          0.05         -0.45          0.05   \n",
       "...            ...              ...           ...           ...           ...   \n",
       "61493         0.02             0.05          0.05          0.37         -0.97   \n",
       "61494        -0.05            -0.01          0.05          0.55         -0.35   \n",
       "61495         0.16            -0.01          0.05         -0.56         -0.83   \n",
       "61496         0.02             0.17         -0.11          0.18         -0.32   \n",
       "61497        -0.05             0.05         -0.28         -0.36          0.57   \n",
       "\n",
       "       client_age  client_prof_exp  Cash_loans  GENDER_FEMALE  active_client  \\\n",
       "0           -0.08            -0.04        0.03           0.21           0.11   \n",
       "1            0.09             0.17        0.03          -0.11          -0.61   \n",
       "2            0.05            -0.00        0.03          -0.11           0.11   \n",
       "3            0.01            -0.21        0.03          -0.11           0.11   \n",
       "4            0.05             0.13        0.03          -0.11           0.11   \n",
       "...           ...              ...         ...            ...            ...   \n",
       "61493       -0.03            -0.25        0.03           0.21           0.11   \n",
       "61494        0.08             0.17        0.03          -0.11          -0.61   \n",
       "61495        0.12             0.17        0.03          -0.11          -0.61   \n",
       "61496       -0.00            -0.04        0.03           0.21           0.11   \n",
       "61497        0.00             0.10        0.03          -0.11           0.11   \n",
       "\n",
       "       relationship  \n",
       "0             -0.05  \n",
       "1             -0.05  \n",
       "2              0.13  \n",
       "3             -0.05  \n",
       "4              0.13  \n",
       "...             ...  \n",
       "61493         -0.05  \n",
       "61494         -0.05  \n",
       "61495         -0.05  \n",
       "61496         -0.05  \n",
       "61497          0.13  \n",
       "\n",
       "[61498 rows x 15 columns]"
      ]
     },
     "execution_count": 69,
     "metadata": {},
     "output_type": "execute_result"
    }
   ],
   "source": [
    "svv=pd.DataFrame(shap_values.values, columns = data_for_shap.columns).round(2)\n",
    "svv"
   ]
  },
  {
   "cell_type": "code",
   "execution_count": 70,
   "metadata": {},
   "outputs": [
    {
     "data": {
      "text/html": [
       "<div>\n",
       "<style scoped>\n",
       "    .dataframe tbody tr th:only-of-type {\n",
       "        vertical-align: middle;\n",
       "    }\n",
       "\n",
       "    .dataframe tbody tr th {\n",
       "        vertical-align: top;\n",
       "    }\n",
       "\n",
       "    .dataframe thead th {\n",
       "        text-align: right;\n",
       "    }\n",
       "</style>\n",
       "<table border=\"1\" class=\"dataframe\">\n",
       "  <thead>\n",
       "    <tr style=\"text-align: right;\">\n",
       "      <th></th>\n",
       "      <th>FLAG_OWN_CAR</th>\n",
       "      <th>FLAG_OWN_REALTY</th>\n",
       "      <th>AMT_INCOME_TOTAL</th>\n",
       "      <th>AMT_CREDIT</th>\n",
       "      <th>AMT_ANNUITY</th>\n",
       "      <th>CNT_FAM_MEMBERS</th>\n",
       "      <th>EXT_SOURCE_1</th>\n",
       "      <th>EXT_SOURCE_2</th>\n",
       "      <th>EXT_SOURCE_3</th>\n",
       "      <th>client_age</th>\n",
       "      <th>client_prof_exp</th>\n",
       "      <th>Cash_loans</th>\n",
       "      <th>GENDER_FEMALE</th>\n",
       "      <th>active_client</th>\n",
       "      <th>relationship</th>\n",
       "      <th>SK_ID_CURR</th>\n",
       "    </tr>\n",
       "  </thead>\n",
       "  <tbody>\n",
       "    <tr>\n",
       "      <th>0</th>\n",
       "      <td>-0.19</td>\n",
       "      <td>-0.04</td>\n",
       "      <td>-0.01</td>\n",
       "      <td>-0.00</td>\n",
       "      <td>0.01</td>\n",
       "      <td>-0.01</td>\n",
       "      <td>0.05</td>\n",
       "      <td>-0.56</td>\n",
       "      <td>-0.10</td>\n",
       "      <td>-0.08</td>\n",
       "      <td>-0.04</td>\n",
       "      <td>0.03</td>\n",
       "      <td>0.21</td>\n",
       "      <td>0.11</td>\n",
       "      <td>-0.05</td>\n",
       "      <td>351895.0</td>\n",
       "    </tr>\n",
       "    <tr>\n",
       "      <th>1</th>\n",
       "      <td>0.09</td>\n",
       "      <td>0.02</td>\n",
       "      <td>0.03</td>\n",
       "      <td>0.02</td>\n",
       "      <td>-0.03</td>\n",
       "      <td>-0.01</td>\n",
       "      <td>0.05</td>\n",
       "      <td>0.38</td>\n",
       "      <td>0.42</td>\n",
       "      <td>0.09</td>\n",
       "      <td>0.17</td>\n",
       "      <td>0.03</td>\n",
       "      <td>-0.11</td>\n",
       "      <td>-0.61</td>\n",
       "      <td>-0.05</td>\n",
       "      <td>381608.0</td>\n",
       "    </tr>\n",
       "    <tr>\n",
       "      <th>2</th>\n",
       "      <td>0.09</td>\n",
       "      <td>0.02</td>\n",
       "      <td>0.05</td>\n",
       "      <td>-0.01</td>\n",
       "      <td>-0.03</td>\n",
       "      <td>-0.07</td>\n",
       "      <td>0.05</td>\n",
       "      <td>-0.56</td>\n",
       "      <td>-0.76</td>\n",
       "      <td>0.05</td>\n",
       "      <td>-0.00</td>\n",
       "      <td>0.03</td>\n",
       "      <td>-0.11</td>\n",
       "      <td>0.11</td>\n",
       "      <td>0.13</td>\n",
       "      <td>409120.0</td>\n",
       "    </tr>\n",
       "    <tr>\n",
       "      <th>3</th>\n",
       "      <td>0.09</td>\n",
       "      <td>0.02</td>\n",
       "      <td>-0.01</td>\n",
       "      <td>0.01</td>\n",
       "      <td>-0.02</td>\n",
       "      <td>0.05</td>\n",
       "      <td>-0.45</td>\n",
       "      <td>-0.49</td>\n",
       "      <td>-0.51</td>\n",
       "      <td>0.01</td>\n",
       "      <td>-0.21</td>\n",
       "      <td>0.03</td>\n",
       "      <td>-0.11</td>\n",
       "      <td>0.11</td>\n",
       "      <td>-0.05</td>\n",
       "      <td>221618.0</td>\n",
       "    </tr>\n",
       "    <tr>\n",
       "      <th>4</th>\n",
       "      <td>0.09</td>\n",
       "      <td>0.02</td>\n",
       "      <td>-0.05</td>\n",
       "      <td>0.01</td>\n",
       "      <td>-0.01</td>\n",
       "      <td>-0.07</td>\n",
       "      <td>0.05</td>\n",
       "      <td>-0.45</td>\n",
       "      <td>0.05</td>\n",
       "      <td>0.05</td>\n",
       "      <td>0.13</td>\n",
       "      <td>0.03</td>\n",
       "      <td>-0.11</td>\n",
       "      <td>0.11</td>\n",
       "      <td>0.13</td>\n",
       "      <td>189802.0</td>\n",
       "    </tr>\n",
       "    <tr>\n",
       "      <th>...</th>\n",
       "      <td>...</td>\n",
       "      <td>...</td>\n",
       "      <td>...</td>\n",
       "      <td>...</td>\n",
       "      <td>...</td>\n",
       "      <td>...</td>\n",
       "      <td>...</td>\n",
       "      <td>...</td>\n",
       "      <td>...</td>\n",
       "      <td>...</td>\n",
       "      <td>...</td>\n",
       "      <td>...</td>\n",
       "      <td>...</td>\n",
       "      <td>...</td>\n",
       "      <td>...</td>\n",
       "      <td>...</td>\n",
       "    </tr>\n",
       "    <tr>\n",
       "      <th>61493</th>\n",
       "      <td>0.09</td>\n",
       "      <td>0.02</td>\n",
       "      <td>0.02</td>\n",
       "      <td>-0.07</td>\n",
       "      <td>0.02</td>\n",
       "      <td>0.05</td>\n",
       "      <td>0.05</td>\n",
       "      <td>0.37</td>\n",
       "      <td>-0.97</td>\n",
       "      <td>-0.03</td>\n",
       "      <td>-0.25</td>\n",
       "      <td>0.03</td>\n",
       "      <td>0.21</td>\n",
       "      <td>0.11</td>\n",
       "      <td>-0.05</td>\n",
       "      <td>119280.0</td>\n",
       "    </tr>\n",
       "    <tr>\n",
       "      <th>61494</th>\n",
       "      <td>0.09</td>\n",
       "      <td>0.02</td>\n",
       "      <td>0.02</td>\n",
       "      <td>0.05</td>\n",
       "      <td>-0.05</td>\n",
       "      <td>-0.01</td>\n",
       "      <td>0.05</td>\n",
       "      <td>0.55</td>\n",
       "      <td>-0.35</td>\n",
       "      <td>0.08</td>\n",
       "      <td>0.17</td>\n",
       "      <td>0.03</td>\n",
       "      <td>-0.11</td>\n",
       "      <td>-0.61</td>\n",
       "      <td>-0.05</td>\n",
       "      <td>213899.0</td>\n",
       "    </tr>\n",
       "    <tr>\n",
       "      <th>61495</th>\n",
       "      <td>0.09</td>\n",
       "      <td>0.02</td>\n",
       "      <td>0.03</td>\n",
       "      <td>-0.08</td>\n",
       "      <td>0.16</td>\n",
       "      <td>-0.01</td>\n",
       "      <td>0.05</td>\n",
       "      <td>-0.56</td>\n",
       "      <td>-0.83</td>\n",
       "      <td>0.12</td>\n",
       "      <td>0.17</td>\n",
       "      <td>0.03</td>\n",
       "      <td>-0.11</td>\n",
       "      <td>-0.61</td>\n",
       "      <td>-0.05</td>\n",
       "      <td>290869.0</td>\n",
       "    </tr>\n",
       "    <tr>\n",
       "      <th>61496</th>\n",
       "      <td>0.09</td>\n",
       "      <td>-0.04</td>\n",
       "      <td>-0.17</td>\n",
       "      <td>-0.04</td>\n",
       "      <td>0.02</td>\n",
       "      <td>0.17</td>\n",
       "      <td>-0.11</td>\n",
       "      <td>0.18</td>\n",
       "      <td>-0.32</td>\n",
       "      <td>-0.00</td>\n",
       "      <td>-0.04</td>\n",
       "      <td>0.03</td>\n",
       "      <td>0.21</td>\n",
       "      <td>0.11</td>\n",
       "      <td>-0.05</td>\n",
       "      <td>101228.0</td>\n",
       "    </tr>\n",
       "    <tr>\n",
       "      <th>61497</th>\n",
       "      <td>-0.19</td>\n",
       "      <td>0.02</td>\n",
       "      <td>-0.00</td>\n",
       "      <td>0.02</td>\n",
       "      <td>-0.05</td>\n",
       "      <td>0.05</td>\n",
       "      <td>-0.28</td>\n",
       "      <td>-0.36</td>\n",
       "      <td>0.57</td>\n",
       "      <td>0.00</td>\n",
       "      <td>0.10</td>\n",
       "      <td>0.03</td>\n",
       "      <td>-0.11</td>\n",
       "      <td>0.11</td>\n",
       "      <td>0.13</td>\n",
       "      <td>409346.0</td>\n",
       "    </tr>\n",
       "  </tbody>\n",
       "</table>\n",
       "<p>61498 rows × 16 columns</p>\n",
       "</div>"
      ],
      "text/plain": [
       "       FLAG_OWN_CAR  FLAG_OWN_REALTY  AMT_INCOME_TOTAL  AMT_CREDIT  \\\n",
       "0             -0.19            -0.04             -0.01       -0.00   \n",
       "1              0.09             0.02              0.03        0.02   \n",
       "2              0.09             0.02              0.05       -0.01   \n",
       "3              0.09             0.02             -0.01        0.01   \n",
       "4              0.09             0.02             -0.05        0.01   \n",
       "...             ...              ...               ...         ...   \n",
       "61493          0.09             0.02              0.02       -0.07   \n",
       "61494          0.09             0.02              0.02        0.05   \n",
       "61495          0.09             0.02              0.03       -0.08   \n",
       "61496          0.09            -0.04             -0.17       -0.04   \n",
       "61497         -0.19             0.02             -0.00        0.02   \n",
       "\n",
       "       AMT_ANNUITY  CNT_FAM_MEMBERS  EXT_SOURCE_1  EXT_SOURCE_2  EXT_SOURCE_3  \\\n",
       "0             0.01            -0.01          0.05         -0.56         -0.10   \n",
       "1            -0.03            -0.01          0.05          0.38          0.42   \n",
       "2            -0.03            -0.07          0.05         -0.56         -0.76   \n",
       "3            -0.02             0.05         -0.45         -0.49         -0.51   \n",
       "4            -0.01            -0.07          0.05         -0.45          0.05   \n",
       "...            ...              ...           ...           ...           ...   \n",
       "61493         0.02             0.05          0.05          0.37         -0.97   \n",
       "61494        -0.05            -0.01          0.05          0.55         -0.35   \n",
       "61495         0.16            -0.01          0.05         -0.56         -0.83   \n",
       "61496         0.02             0.17         -0.11          0.18         -0.32   \n",
       "61497        -0.05             0.05         -0.28         -0.36          0.57   \n",
       "\n",
       "       client_age  client_prof_exp  Cash_loans  GENDER_FEMALE  active_client  \\\n",
       "0           -0.08            -0.04        0.03           0.21           0.11   \n",
       "1            0.09             0.17        0.03          -0.11          -0.61   \n",
       "2            0.05            -0.00        0.03          -0.11           0.11   \n",
       "3            0.01            -0.21        0.03          -0.11           0.11   \n",
       "4            0.05             0.13        0.03          -0.11           0.11   \n",
       "...           ...              ...         ...            ...            ...   \n",
       "61493       -0.03            -0.25        0.03           0.21           0.11   \n",
       "61494        0.08             0.17        0.03          -0.11          -0.61   \n",
       "61495        0.12             0.17        0.03          -0.11          -0.61   \n",
       "61496       -0.00            -0.04        0.03           0.21           0.11   \n",
       "61497        0.00             0.10        0.03          -0.11           0.11   \n",
       "\n",
       "       relationship  SK_ID_CURR  \n",
       "0             -0.05    351895.0  \n",
       "1             -0.05    381608.0  \n",
       "2              0.13    409120.0  \n",
       "3             -0.05    221618.0  \n",
       "4              0.13    189802.0  \n",
       "...             ...         ...  \n",
       "61493         -0.05    119280.0  \n",
       "61494         -0.05    213899.0  \n",
       "61495         -0.05    290869.0  \n",
       "61496         -0.05    101228.0  \n",
       "61497          0.13    409346.0  \n",
       "\n",
       "[61498 rows x 16 columns]"
      ]
     },
     "execution_count": 70,
     "metadata": {},
     "output_type": "execute_result"
    }
   ],
   "source": [
    "svv['SK_ID_CURR']=transf_data['SK_ID_CURR']\n",
    "svv"
   ]
  },
  {
   "cell_type": "code",
   "execution_count": 71,
   "metadata": {},
   "outputs": [
    {
     "ename": "IndexError",
     "evalue": "index 62000 is out of bounds for axis 0 with size 61498",
     "output_type": "error",
     "traceback": [
      "\u001b[1;31m---------------------------------------------------------------------------\u001b[0m",
      "\u001b[1;31mIndexError\u001b[0m                                Traceback (most recent call last)",
      "\u001b[1;32m~\\AppData\\Local\\Temp\\ipykernel_31108\\319513213.py\u001b[0m in \u001b[0;36m<module>\u001b[1;34m\u001b[0m\n\u001b[1;32m----> 1\u001b[1;33m \u001b[0mshap_values\u001b[0m\u001b[1;33m[\u001b[0m\u001b[1;36m62000\u001b[0m\u001b[1;33m]\u001b[0m\u001b[1;33m\u001b[0m\u001b[1;33m\u001b[0m\u001b[0m\n\u001b[0m",
      "\u001b[1;32mc:\\Users\\xavie\\anaconda3\\lib\\site-packages\\shap\\_explanation.py\u001b[0m in \u001b[0;36m__getitem__\u001b[1;34m(self, item)\u001b[0m\n\u001b[0;32m    419\u001b[0m         \u001b[1;32mif\u001b[0m \u001b[0mnew_self\u001b[0m \u001b[1;32mis\u001b[0m \u001b[1;32mNone\u001b[0m\u001b[1;33m:\u001b[0m\u001b[1;33m\u001b[0m\u001b[1;33m\u001b[0m\u001b[0m\n\u001b[0;32m    420\u001b[0m             \u001b[0mnew_self\u001b[0m \u001b[1;33m=\u001b[0m \u001b[0mcopy\u001b[0m\u001b[1;33m.\u001b[0m\u001b[0mcopy\u001b[0m\u001b[1;33m(\u001b[0m\u001b[0mself\u001b[0m\u001b[1;33m)\u001b[0m\u001b[1;33m\u001b[0m\u001b[1;33m\u001b[0m\u001b[0m\n\u001b[1;32m--> 421\u001b[1;33m         \u001b[0mnew_self\u001b[0m\u001b[1;33m.\u001b[0m\u001b[0m_s\u001b[0m \u001b[1;33m=\u001b[0m \u001b[0mnew_self\u001b[0m\u001b[1;33m.\u001b[0m\u001b[0m_s\u001b[0m\u001b[1;33m.\u001b[0m\u001b[0m__getitem__\u001b[0m\u001b[1;33m(\u001b[0m\u001b[0mitem\u001b[0m\u001b[1;33m)\u001b[0m\u001b[1;33m\u001b[0m\u001b[1;33m\u001b[0m\u001b[0m\n\u001b[0m\u001b[0;32m    422\u001b[0m         new_self.op_history.append({\n\u001b[0;32m    423\u001b[0m             \u001b[1;34m\"name\"\u001b[0m\u001b[1;33m:\u001b[0m \u001b[1;34m\"__getitem__\"\u001b[0m\u001b[1;33m,\u001b[0m\u001b[1;33m\u001b[0m\u001b[1;33m\u001b[0m\u001b[0m\n",
      "\u001b[1;32mc:\\Users\\xavie\\anaconda3\\lib\\site-packages\\slicer\\slicer.py\u001b[0m in \u001b[0;36m__getitem__\u001b[1;34m(self, item)\u001b[0m\n\u001b[0;32m    110\u001b[0m                 \u001b[0mindex_slicer\u001b[0m \u001b[1;33m=\u001b[0m \u001b[0mAtomicSlicer\u001b[0m\u001b[1;33m(\u001b[0m\u001b[0mindex_tup\u001b[0m\u001b[1;33m,\u001b[0m \u001b[0mmax_dim\u001b[0m\u001b[1;33m=\u001b[0m\u001b[1;36m1\u001b[0m\u001b[1;33m)\u001b[0m\u001b[1;33m\u001b[0m\u001b[1;33m\u001b[0m\u001b[0m\n\u001b[0;32m    111\u001b[0m                 \u001b[0mslicer_index\u001b[0m \u001b[1;33m=\u001b[0m \u001b[0mindex_slicer\u001b[0m\u001b[1;33m[\u001b[0m\u001b[0mtracked\u001b[0m\u001b[1;33m.\u001b[0m\u001b[0mdim\u001b[0m\u001b[1;33m]\u001b[0m\u001b[1;33m\u001b[0m\u001b[1;33m\u001b[0m\u001b[0m\n\u001b[1;32m--> 112\u001b[1;33m                 \u001b[0msliced_o\u001b[0m \u001b[1;33m=\u001b[0m \u001b[0mtracked\u001b[0m\u001b[1;33m[\u001b[0m\u001b[0mslicer_index\u001b[0m\u001b[1;33m]\u001b[0m\u001b[1;33m\u001b[0m\u001b[1;33m\u001b[0m\u001b[0m\n\u001b[0m\u001b[0;32m    113\u001b[0m                 \u001b[0msliced_dim\u001b[0m \u001b[1;33m=\u001b[0m \u001b[0mresolve_dim\u001b[0m\u001b[1;33m(\u001b[0m\u001b[0mindex_tup\u001b[0m\u001b[1;33m,\u001b[0m \u001b[0mtracked\u001b[0m\u001b[1;33m.\u001b[0m\u001b[0mdim\u001b[0m\u001b[1;33m)\u001b[0m\u001b[1;33m\u001b[0m\u001b[1;33m\u001b[0m\u001b[0m\n\u001b[0;32m    114\u001b[0m \u001b[1;33m\u001b[0m\u001b[0m\n",
      "\u001b[1;32mc:\\Users\\xavie\\anaconda3\\lib\\site-packages\\slicer\\slicer_internal.py\u001b[0m in \u001b[0;36m__getitem__\u001b[1;34m(self, item)\u001b[0m\n\u001b[0;32m     67\u001b[0m \u001b[1;33m\u001b[0m\u001b[0m\n\u001b[0;32m     68\u001b[0m         \u001b[1;31m# Slice according to object type.\u001b[0m\u001b[1;33m\u001b[0m\u001b[1;33m\u001b[0m\u001b[0m\n\u001b[1;32m---> 69\u001b[1;33m         \u001b[1;32mreturn\u001b[0m \u001b[0mUnifiedDataHandler\u001b[0m\u001b[1;33m.\u001b[0m\u001b[0mslice\u001b[0m\u001b[1;33m(\u001b[0m\u001b[0mself\u001b[0m\u001b[1;33m.\u001b[0m\u001b[0mo\u001b[0m\u001b[1;33m,\u001b[0m \u001b[0mindex_tup\u001b[0m\u001b[1;33m,\u001b[0m \u001b[0mself\u001b[0m\u001b[1;33m.\u001b[0m\u001b[0mmax_dim\u001b[0m\u001b[1;33m)\u001b[0m\u001b[1;33m\u001b[0m\u001b[1;33m\u001b[0m\u001b[0m\n\u001b[0m\u001b[0;32m     70\u001b[0m \u001b[1;33m\u001b[0m\u001b[0m\n\u001b[0;32m     71\u001b[0m \u001b[1;33m\u001b[0m\u001b[0m\n",
      "\u001b[1;32mc:\\Users\\xavie\\anaconda3\\lib\\site-packages\\slicer\\slicer_internal.py\u001b[0m in \u001b[0;36mslice\u001b[1;34m(cls, o, index_tup, max_dim)\u001b[0m\n\u001b[0;32m    580\u001b[0m         \u001b[0mtail_slice\u001b[0m \u001b[1;33m=\u001b[0m \u001b[0mcls\u001b[0m\u001b[1;33m.\u001b[0m\u001b[0mtype_map\u001b[0m\u001b[1;33m[\u001b[0m\u001b[0mo_type\u001b[0m\u001b[1;33m]\u001b[0m\u001b[1;33m.\u001b[0m\u001b[0mtail_slice\u001b[0m\u001b[1;33m\u001b[0m\u001b[1;33m\u001b[0m\u001b[0m\n\u001b[0;32m    581\u001b[0m \u001b[1;33m\u001b[0m\u001b[0m\n\u001b[1;32m--> 582\u001b[1;33m         \u001b[0mis_element\u001b[0m\u001b[1;33m,\u001b[0m \u001b[0msliced_o\u001b[0m\u001b[1;33m,\u001b[0m \u001b[0mcut\u001b[0m \u001b[1;33m=\u001b[0m \u001b[0mhead_slice\u001b[0m\u001b[1;33m(\u001b[0m\u001b[0mo\u001b[0m\u001b[1;33m,\u001b[0m \u001b[0mindex_tup\u001b[0m\u001b[1;33m,\u001b[0m \u001b[0mmax_dim\u001b[0m\u001b[1;33m)\u001b[0m\u001b[1;33m\u001b[0m\u001b[1;33m\u001b[0m\u001b[0m\n\u001b[0m\u001b[0;32m    583\u001b[0m         \u001b[0mout\u001b[0m \u001b[1;33m=\u001b[0m \u001b[0mtail_slice\u001b[0m\u001b[1;33m(\u001b[0m\u001b[0msliced_o\u001b[0m\u001b[1;33m,\u001b[0m \u001b[0mindex_tup\u001b[0m\u001b[1;33m[\u001b[0m\u001b[0mcut\u001b[0m\u001b[1;33m:\u001b[0m\u001b[1;33m]\u001b[0m\u001b[1;33m,\u001b[0m \u001b[0mmax_dim\u001b[0m \u001b[1;33m-\u001b[0m \u001b[0mcut\u001b[0m\u001b[1;33m,\u001b[0m \u001b[0mis_element\u001b[0m\u001b[1;33m)\u001b[0m\u001b[1;33m\u001b[0m\u001b[1;33m\u001b[0m\u001b[0m\n\u001b[0;32m    584\u001b[0m         \u001b[1;32mreturn\u001b[0m \u001b[0mout\u001b[0m\u001b[1;33m\u001b[0m\u001b[1;33m\u001b[0m\u001b[0m\n",
      "\u001b[1;32mc:\\Users\\xavie\\anaconda3\\lib\\site-packages\\slicer\\slicer_internal.py\u001b[0m in \u001b[0;36mhead_slice\u001b[1;34m(cls, o, index_tup, max_dim)\u001b[0m\n\u001b[0;32m    416\u001b[0m         \u001b[0mcut_index\u001b[0m \u001b[1;33m=\u001b[0m \u001b[0mindex_tup\u001b[0m\u001b[1;33m[\u001b[0m\u001b[1;33m:\u001b[0m\u001b[0mcut\u001b[0m\u001b[1;33m]\u001b[0m\u001b[1;33m\u001b[0m\u001b[1;33m\u001b[0m\u001b[0m\n\u001b[0;32m    417\u001b[0m         \u001b[0mis_element\u001b[0m \u001b[1;33m=\u001b[0m \u001b[0many\u001b[0m\u001b[1;33m(\u001b[0m\u001b[1;33m[\u001b[0m\u001b[1;32mTrue\u001b[0m \u001b[1;32mif\u001b[0m \u001b[0misinstance\u001b[0m\u001b[1;33m(\u001b[0m\u001b[0mx\u001b[0m\u001b[1;33m,\u001b[0m \u001b[0mint\u001b[0m\u001b[1;33m)\u001b[0m \u001b[1;32melse\u001b[0m \u001b[1;32mFalse\u001b[0m \u001b[1;32mfor\u001b[0m \u001b[0mx\u001b[0m \u001b[1;32min\u001b[0m \u001b[0mcut_index\u001b[0m\u001b[1;33m]\u001b[0m\u001b[1;33m)\u001b[0m\u001b[1;33m\u001b[0m\u001b[1;33m\u001b[0m\u001b[0m\n\u001b[1;32m--> 418\u001b[1;33m         \u001b[0msliced_o\u001b[0m \u001b[1;33m=\u001b[0m \u001b[0mo\u001b[0m\u001b[1;33m[\u001b[0m\u001b[0mcut_index\u001b[0m\u001b[1;33m]\u001b[0m\u001b[1;33m\u001b[0m\u001b[1;33m\u001b[0m\u001b[0m\n\u001b[0m\u001b[0;32m    419\u001b[0m \u001b[1;33m\u001b[0m\u001b[0m\n\u001b[0;32m    420\u001b[0m         \u001b[1;32mreturn\u001b[0m \u001b[0mis_element\u001b[0m\u001b[1;33m,\u001b[0m \u001b[0msliced_o\u001b[0m\u001b[1;33m,\u001b[0m \u001b[0mcut\u001b[0m\u001b[1;33m\u001b[0m\u001b[1;33m\u001b[0m\u001b[0m\n",
      "\u001b[1;31mIndexError\u001b[0m: index 62000 is out of bounds for axis 0 with size 61498"
     ]
    }
   ],
   "source": [
    "shap_values[62000]"
   ]
  },
  {
   "cell_type": "code",
   "execution_count": 90,
   "metadata": {},
   "outputs": [
    {
     "data": {
      "text/plain": [
       "shap._explanation.Explanation"
      ]
     },
     "execution_count": 90,
     "metadata": {},
     "output_type": "execute_result"
    }
   ],
   "source": [
    "type(shap_values)"
   ]
  },
  {
   "cell_type": "code",
   "execution_count": 81,
   "metadata": {},
   "outputs": [
    {
     "data": {
      "text/plain": [
       ".values =\n",
       "array([-1.87973890e-01, -4.00616298e-02, -1.26609466e-02, -6.03522468e-05,\n",
       "        6.13003661e-03, -8.27922236e-03,  4.84500337e-02, -5.56707210e-01,\n",
       "       -1.03666850e-01, -8.38350722e-02, -3.97042832e-02,  2.66822754e-02,\n",
       "        2.08322769e-01,  1.07251423e-01, -4.64317117e-02])\n",
       "\n",
       ".base_values =\n",
       "-0.19579387944436355\n",
       "\n",
       ".data =\n",
       "array([ 1.43508025, -1.48649183,  0.26268381,  0.0840153 ,  0.19893256,\n",
       "       -0.16225315, -0.04313659,  1.17022907,  0.32642423, -1.24928899,\n",
       "        0.20050707,  0.30085104, -1.27899291,  0.43007568,  0.60980409])"
      ]
     },
     "execution_count": 81,
     "metadata": {},
     "output_type": "execute_result"
    }
   ],
   "source": [
    "shap_values[0]"
   ]
  },
  {
   "cell_type": "code",
   "execution_count": 100,
   "metadata": {},
   "outputs": [
    {
     "data": {
      "image/png": "[encoded data removed]",
      "text/plain": [
       "<Figure size 800x650 with 1 Axes>"
      ]
     },
     "metadata": {},
     "output_type": "display_data"
    }
   ],
   "source": [
    "shap.plots.bar(shap_values[0])"
   ]
  },
  {
   "cell_type": "code",
   "execution_count": 102,
   "metadata": {},
   "outputs": [],
   "source": [
    "exp.feature_names"
   ]
  },
  {
   "cell_type": "code",
   "execution_count": 94,
   "metadata": {},
   "outputs": [
    {
     "data": {
      "text/plain": [
       "shap._explanation.Explanation"
      ]
     },
     "execution_count": 94,
     "metadata": {},
     "output_type": "execute_result"
    }
   ],
   "source": [
    "type(shap_values)"
   ]
  },
  {
   "cell_type": "code",
   "execution_count": 98,
   "metadata": {},
   "outputs": [
    {
     "data": {
      "text/plain": [
       "<bound method Explanation.cohorts of .values =\n",
       "array([[-0.18797389, -0.04006163, -0.01266095, ...,  0.20832277,\n",
       "         0.10725142, -0.04643171],\n",
       "       [ 0.0884583 ,  0.02063781,  0.0260153 , ..., -0.10731779,\n",
       "        -0.60775806, -0.04643171],\n",
       "       [ 0.0884583 ,  0.02063781,  0.04811602, ..., -0.10731779,\n",
       "         0.10725142,  0.12553759],\n",
       "       ...,\n",
       "       [ 0.0884583 ,  0.02063781,  0.03430307, ..., -0.10731779,\n",
       "        -0.60775806, -0.04643171],\n",
       "       [ 0.0884583 , -0.04006163, -0.17289112, ...,  0.20832277,\n",
       "         0.10725142, -0.04643171],\n",
       "       [-0.18797389,  0.02063781, -0.00161059, ..., -0.10731779,\n",
       "         0.10725142,  0.12553759]])\n",
       "\n",
       ".base_values =\n",
       "array([-0.19579388, -0.19579388, -0.19579388, ..., -0.19579388,\n",
       "       -0.19579388, -0.19579388])\n",
       "\n",
       ".data =\n",
       "array([[ 1.43508025, -1.48649183,  0.26268381, ..., -1.27899291,\n",
       "         0.43007568,  0.60980409],\n",
       "       [-0.69682514,  0.67272486, -0.43124586, ...,  0.78186516,\n",
       "        -2.32517219,  0.60980409],\n",
       "       [-0.69682514,  0.67272486, -0.8277771 , ...,  0.78186516,\n",
       "         0.43007568, -1.63987094],\n",
       "       ...,\n",
       "       [-0.69682514,  0.67272486, -0.57994508, ...,  0.78186516,\n",
       "        -2.32517219,  0.60980409],\n",
       "       [-0.69682514, -1.48649183,  3.13753529, ..., -1.27899291,\n",
       "         0.43007568,  0.60980409],\n",
       "       [ 1.43508025,  0.67272486,  0.06441819, ...,  0.78186516,\n",
       "         0.43007568, -1.63987094]])>"
      ]
     },
     "execution_count": 98,
     "metadata": {},
     "output_type": "execute_result"
    }
   ],
   "source": [
    "shap_values.cohorts"
   ]
  },
  {
   "cell_type": "code",
   "execution_count": 103,
   "metadata": {},
   "outputs": [],
   "source": [
    "v1=shap_values.values\n",
    "v2=shap_values.base_values\n",
    "v3=shap_values.data\n",
    "v4=shap_values.feature_names\n",
    "#v = np.concatenate((v1, v2, v3))"
   ]
  },
  {
   "cell_type": "code",
   "execution_count": 108,
   "metadata": {},
   "outputs": [],
   "source": [
    "exp=shap.Explanation(v1,feature_names=v4) #v2,v4)"
   ]
  },
  {
   "cell_type": "code",
   "execution_count": 109,
   "metadata": {},
   "outputs": [
    {
     "data": {
      "text/plain": [
       "shap._explanation.Explanation"
      ]
     },
     "execution_count": 109,
     "metadata": {},
     "output_type": "execute_result"
    }
   ],
   "source": [
    "type(exp)"
   ]
  },
  {
   "cell_type": "code",
   "execution_count": 110,
   "metadata": {},
   "outputs": [
    {
     "data": {
      "text/plain": [
       "<bound method Explanation.cohorts of .values =\n",
       "array([[-0.18797389, -0.04006163, -0.01266095, ...,  0.20832277,\n",
       "         0.10725142, -0.04643171],\n",
       "       [ 0.0884583 ,  0.02063781,  0.0260153 , ..., -0.10731779,\n",
       "        -0.60775806, -0.04643171],\n",
       "       [ 0.0884583 ,  0.02063781,  0.04811602, ..., -0.10731779,\n",
       "         0.10725142,  0.12553759],\n",
       "       ...,\n",
       "       [ 0.0884583 ,  0.02063781,  0.03430307, ..., -0.10731779,\n",
       "        -0.60775806, -0.04643171],\n",
       "       [ 0.0884583 , -0.04006163, -0.17289112, ...,  0.20832277,\n",
       "         0.10725142, -0.04643171],\n",
       "       [-0.18797389,  0.02063781, -0.00161059, ..., -0.10731779,\n",
       "         0.10725142,  0.12553759]])>"
      ]
     },
     "execution_count": 110,
     "metadata": {},
     "output_type": "execute_result"
    }
   ],
   "source": [
    "exp.cohorts"
   ]
  },
  {
   "cell_type": "code",
   "execution_count": 111,
   "metadata": {},
   "outputs": [
    {
     "data": {
      "image/png": "[encoded data removed]",
      "text/plain": [
       "<Figure size 800x650 with 1 Axes>"
      ]
     },
     "metadata": {},
     "output_type": "display_data"
    }
   ],
   "source": [
    "shap.plots.bar(exp[0])"
   ]
  },
  {
   "cell_type": "code",
   "execution_count": 112,
   "metadata": {},
   "outputs": [
    {
     "data": {
      "image/png": "[encoded data removed]",
      "text/plain": [
       "<Figure size 800x650 with 1 Axes>"
      ]
     },
     "metadata": {},
     "output_type": "display_data"
    }
   ],
   "source": [
    "shap.plots.bar(shap_values[0])"
   ]
  },
  {
   "cell_type": "code",
   "execution_count": 93,
   "metadata": {},
   "outputs": [
    {
     "data": {
      "text/plain": [
       "numpy.ndarray"
      ]
     },
     "execution_count": 93,
     "metadata": {},
     "output_type": "execute_result"
    }
   ],
   "source": [
    "type(v1)"
   ]
  },
  {
   "cell_type": "code",
   "execution_count": 89,
   "metadata": {},
   "outputs": [
    {
     "ename": "AttributeError",
     "evalue": "'numpy.ndarray' object has no attribute 'to_dict'",
     "output_type": "error",
     "traceback": [
      "\u001b[1;31m---------------------------------------------------------------------------\u001b[0m",
      "\u001b[1;31mAttributeError\u001b[0m                            Traceback (most recent call last)",
      "\u001b[1;32m~\\AppData\\Local\\Temp\\ipykernel_31108\\450918496.py\u001b[0m in \u001b[0;36m<module>\u001b[1;34m\u001b[0m\n\u001b[1;32m----> 1\u001b[1;33m \u001b[0mv\u001b[0m\u001b[1;33m=\u001b[0m\u001b[0mv\u001b[0m\u001b[1;33m.\u001b[0m\u001b[0mto_dict\u001b[0m\u001b[1;33m(\u001b[0m\u001b[1;33m)\u001b[0m\u001b[1;33m\u001b[0m\u001b[1;33m\u001b[0m\u001b[0m\n\u001b[0m",
      "\u001b[1;31mAttributeError\u001b[0m: 'numpy.ndarray' object has no attribute 'to_dict'"
     ]
    }
   ],
   "source": [
    "v=v.to_dict()"
   ]
  },
  {
   "cell_type": "code",
   "execution_count": null,
   "metadata": {},
   "outputs": [],
   "source": []
  }
 ],
 "metadata": {
  "kernelspec": {
   "display_name": "base",
   "language": "python",
   "name": "python3"
  },
  "language_info": {
   "codemirror_mode": {
    "name": "ipython",
    "version": 3
   },
   "file_extension": ".py",
   "mimetype": "text/x-python",
   "name": "python",
   "nbconvert_exporter": "python",
   "pygments_lexer": "ipython3",
   "version": "3.9.13"
  }
 },
 "nbformat": 4,
 "nbformat_minor": 2
}
