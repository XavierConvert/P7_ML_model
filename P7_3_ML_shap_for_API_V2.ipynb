{
 "cells": [
  {
   "cell_type": "markdown",
   "metadata": {},
   "source": [
    "# 1 Introduction\n",
    "\n",
    "## Commentaires\n",
    "\n",
    "### V2: Adaptation de la V1 sur train_V2 (meilleur modèle =best_LGBM)\n",
    "\n",
    "- impact sur shap_values (LinearExplainer remplacé par Explainer (pb format array des shapvalues avec TreeExplainer))\n",
    "- en // modification de la fonction def shap_value(cid:int): du repo P7_API_V2\n",
    "\n",
    "### V1: Sur base train_V1\n",
    "\n",
    "Cette version semble fonctionner: je réussis à appeler un SK_ID dans l'API qui me renvoie les shap.values\n",
    "\n",
    "=> modèle splitté en 3: \n",
    "\n",
    "    - la partie sampler (qui elle ne sembe pas s'appliquer => j'ai toujours 61498 lignes dans mon df shap values)\n",
    "    - la partie transformer (transfromer2) = imputer + standard scaler\n",
    "    - la partie estimateur (LogReg2)\n",
    "\n",
    "=> A inclure dans P7_2_1 pour vérifier quele shap.base est identique dans l'onglet 'Shap_test' et dans l'onglet 'shap_val\n",
    "\n",
    "### Remarque: différence entre .loc et .iloc dans le résultat affiché dans l'API\n",
    "\n",
    "Ave iloc pas d'index affiché / Avec .loc index affiché suivi de : puis donnée souhaitée (impact ajout d'une couche de dictionnaire)\n",
    "\n",
    "=> Tester le passage du SK_ID dans l'index..."
   ]
  },
  {
   "cell_type": "code",
   "execution_count": null,
   "metadata": {},
   "outputs": [],
   "source": [
    "pwd"
   ]
  },
  {
   "cell_type": "markdown",
   "metadata": {},
   "source": [
    "## 1.1 Imports"
   ]
  },
  {
   "cell_type": "code",
   "execution_count": null,
   "metadata": {},
   "outputs": [],
   "source": [
    "\n",
    "import pandas as pd\n",
    "import numpy as np\n",
    "import matplotlib.pyplot as plt\n",
    "import seaborn as sns\n",
    "import chardet\n",
    "import missingno as msno\n",
    "from sklearn.model_selection import train_test_split\n",
    "from sklearn.dummy import DummyClassifier\n",
    "from sklearn.impute import KNNImputer\n",
    "from sklearn.impute import SimpleImputer\n",
    "from sklearn.preprocessing import StandardScaler\n",
    "from sklearn.preprocessing import FunctionTransformer\n",
    "from sklearn.preprocessing import OneHotEncoder\n",
    "from sklearn.compose import ColumnTransformer\n",
    "#from sklearn.model_selection import GridSearchCV\n",
    "#from sklearn.model_selection import cross_val_score\n",
    "from sklearn.pipeline import Pipeline\n",
    "from sklearn.metrics import *\n",
    "from sklearn.linear_model import LogisticRegression\n",
    "from sklearn.ensemble import RandomForestClassifier\n",
    "from sklearn.utils import class_weight\n",
    "from imblearn.under_sampling import RandomUnderSampler\n",
    "from imblearn.pipeline import Pipeline as Pipeline_imb\n",
    "import lightgbm as lgb\n",
    "from lightgbm import LGBMClassifier\n",
    "import pickle\n",
    "import shap\n",
    "shap.initjs()"
   ]
  },
  {
   "cell_type": "markdown",
   "metadata": {},
   "source": [
    "## 1.2 Fonctions utiles"
   ]
  },
  {
   "cell_type": "code",
   "execution_count": null,
   "metadata": {},
   "outputs": [],
   "source": [
    "from src.fonctions import result, print_score, decomposition_modele"
   ]
  },
  {
   "cell_type": "code",
   "execution_count": null,
   "metadata": {},
   "outputs": [],
   "source": [
    "pd.set_option('display.max_columns', None)"
   ]
  },
  {
   "cell_type": "code",
   "execution_count": null,
   "metadata": {},
   "outputs": [],
   "source": [
    "DISPLAY=True\n",
    "\n",
    "\"\"\"If Dispaly == False then all cell starting starting with 'If Display=True' won't be ran.\n",
    "Else they will\n",
    "\n",
    "This short function allows to by-pass instructions which are long to run (ex MSNO on huge dataset or sns.pairplot)\"\"\""
   ]
  },
  {
   "cell_type": "markdown",
   "metadata": {},
   "source": [
    "# 2 Data"
   ]
  },
  {
   "cell_type": "markdown",
   "metadata": {},
   "source": [
    "## 2.1 Import and display"
   ]
  },
  {
   "cell_type": "code",
   "execution_count": null,
   "metadata": {},
   "outputs": [],
   "source": [
    "train_V2=pd.read_csv('../train_V2.csv')"
   ]
  },
  {
   "cell_type": "code",
   "execution_count": null,
   "metadata": {},
   "outputs": [],
   "source": [
    "train_V2.shape"
   ]
  },
  {
   "cell_type": "code",
   "execution_count": null,
   "metadata": {},
   "outputs": [],
   "source": [
    "train_V2=train_V2.sample(frac=0.2)\n",
    "train_V2.shape"
   ]
  },
  {
   "cell_type": "markdown",
   "metadata": {},
   "source": [
    "# 3 Best model: best_lgbm"
   ]
  },
  {
   "cell_type": "code",
   "execution_count": null,
   "metadata": {},
   "outputs": [],
   "source": [
    "pkl_1= open(\"best_lgbm2.pkl\",\"rb\")\n",
    "best_LGBM=pd.read_pickle(pkl_1)"
   ]
  },
  {
   "cell_type": "code",
   "execution_count": null,
   "metadata": {},
   "outputs": [],
   "source": [
    "best_LGBM"
   ]
  },
  {
   "cell_type": "code",
   "execution_count": null,
   "metadata": {},
   "outputs": [],
   "source": [
    "X=train_V2.drop(['SK_ID_CURR','TARGET','OWN_CAR_AGE','NAME_HOUSING_TYPE','AMT_GOODS_PRICE','NAME_INCOME_TYPE','NAME_FAMILY_STATUS','NAME_EDUCATION_TYPE'],axis=1)\n",
    "X.shape"
   ]
  },
  {
   "cell_type": "code",
   "execution_count": null,
   "metadata": {},
   "outputs": [],
   "source": [
    "y=train_V2['TARGET']\n",
    "y.shape"
   ]
  },
  {
   "cell_type": "markdown",
   "metadata": {},
   "source": [
    "# 4 Adaptation modèle pour appel SHAP dans l'API\n",
    "\n",
    "Rappel: Shap ne prend que l'estimateur (et pas le pipeline entier) pour calculer explaienr/shap_values\n",
    "\n",
    "Or en récupérant le best_lgbm, et en le décomposant, dans l'API je dois faire appel à l'Id des crédits/clients. Cet Id n'est pas utilisé dans le best_lgbml.\n",
    "\n",
    "2 solutions:\n",
    "\n",
    "- 1/ j'ajoute l'id dans le bet_model, au risque d'avoir des résultats un peu moins bons => partie 4.1\n",
    "- 2/ Comme pour l'AMNT_GOOD_PRICE (cf notebook ML), je reconstitue le df après l'entrainement => partie 4.2\n"
   ]
  },
  {
   "cell_type": "markdown",
   "metadata": {},
   "source": [
    "## 4.1 Ajout de SK_ID_CURR après entrainement de best_model\n",
    "\n",
    "- X: df sans SK_ID\n",
    "- X2: df avec SK_ID\n",
    "\n",
    "Etapes:\n",
    "\n",
    "=> RandomUnderSampler sur X2\n",
    "=> imputer sur X2\n",
    "=> Suppression de SK_ID_CURR\n",
    "=> transformer\n",
    "=>fit LGBM"
   ]
  },
  {
   "cell_type": "markdown",
   "metadata": {},
   "source": [
    "### New dataframe X2 avec SK_ID_CURR"
   ]
  },
  {
   "cell_type": "code",
   "execution_count": null,
   "metadata": {},
   "outputs": [],
   "source": [
    "X2=train_V2.drop(['TARGET','OWN_CAR_AGE','NAME_HOUSING_TYPE','AMT_GOODS_PRICE','NAME_INCOME_TYPE','NAME_FAMILY_STATUS','NAME_EDUCATION_TYPE'],axis=1)\n",
    "X2.shape\n"
   ]
  },
  {
   "cell_type": "code",
   "execution_count": null,
   "metadata": {},
   "outputs": [],
   "source": [
    "y2=y\n",
    "y2.shape"
   ]
  },
  {
   "cell_type": "markdown",
   "metadata": {},
   "source": [
    "### Train test split sur base X2"
   ]
  },
  {
   "cell_type": "code",
   "execution_count": null,
   "metadata": {},
   "outputs": [],
   "source": [
    "X2"
   ]
  },
  {
   "cell_type": "code",
   "execution_count": null,
   "metadata": {},
   "outputs": [],
   "source": [
    "X_train,X_test,y_train,y_test=train_test_split(X2,y2,test_size=0.2)"
   ]
  },
  {
   "cell_type": "code",
   "execution_count": null,
   "metadata": {},
   "outputs": [],
   "source": [
    "print('Train set:',X_train.shape)\n",
    "print('Test set:',X_test.shape)\n",
    "print('Train target:',y_train.shape)\n",
    "print('Test target:',y_test.shape)"
   ]
  },
  {
   "cell_type": "markdown",
   "metadata": {},
   "source": [
    "### Decomposition du best_lgm"
   ]
  },
  {
   "cell_type": "code",
   "execution_count": null,
   "metadata": {},
   "outputs": [],
   "source": [
    "best_LGBM"
   ]
  },
  {
   "cell_type": "code",
   "execution_count": null,
   "metadata": {},
   "outputs": [],
   "source": [
    " #Sampling \n",
    "X_train_rus, y_train_rus=best_LGBM[0].fit_resample(X_train,y_train)\n",
    "X_train_rus.shape"
   ]
  },
  {
   "cell_type": "code",
   "execution_count": null,
   "metadata": {},
   "outputs": [],
   "source": [
    "# Fill Nan with simple imputer(median)\n",
    "X_tr=pd.DataFrame(best_LGBM[1].fit_transform(X_train_rus),columns=X_train_rus.columns)\n",
    "X_tr.shape"
   ]
  },
  {
   "cell_type": "code",
   "execution_count": null,
   "metadata": {},
   "outputs": [],
   "source": [
    "# Suppression du SK_ID_CURR\n",
    "X_tmp=X_tr.drop(['SK_ID_CURR'],axis=1)\n",
    "X_tmp.shape"
   ]
  },
  {
   "cell_type": "code",
   "execution_count": null,
   "metadata": {},
   "outputs": [],
   "source": [
    "best_LGBM[2]"
   ]
  },
  {
   "cell_type": "code",
   "execution_count": null,
   "metadata": {},
   "outputs": [],
   "source": [
    "# Scaling\n",
    "X_tr_transf=pd.DataFrame(best_LGBM[2].fit_transform(X_tmp), columns=X_tmp.columns)\n",
    "X_tr_transf.shape"
   ]
  },
  {
   "cell_type": "code",
   "execution_count": null,
   "metadata": {},
   "outputs": [],
   "source": [
    "X_tr_transf.isna().sum()"
   ]
  },
  {
   "cell_type": "code",
   "execution_count": null,
   "metadata": {},
   "outputs": [],
   "source": [
    "# Entrainement\n",
    "best_LGBM[-1].fit(X_tr_transf,y_train_rus)"
   ]
  },
  {
   "cell_type": "markdown",
   "metadata": {},
   "source": [
    "Conclusion => décompostion du modèle en 3 étape:\n",
    "\n",
    "-> Random Under Sampling + Imputer\n",
    "\n",
    "-> Scaler\n",
    "\n",
    "-> LGBM())"
   ]
  },
  {
   "cell_type": "markdown",
   "metadata": {},
   "source": [
    "### Enregistrement pkl"
   ]
  },
  {
   "cell_type": "code",
   "execution_count": null,
   "metadata": {},
   "outputs": [],
   "source": [
    "best_LGBM[:-2]"
   ]
  },
  {
   "cell_type": "code",
   "execution_count": null,
   "metadata": {},
   "outputs": [],
   "source": [
    "best_LGBM[-2]"
   ]
  },
  {
   "cell_type": "code",
   "execution_count": null,
   "metadata": {},
   "outputs": [],
   "source": [
    "pickle_out = open(\"samplerV2.pkl\",\"wb\")\n",
    "pickle.dump(best_LGBM[:-2], pickle_out)\n",
    "pickle_out.close()"
   ]
  },
  {
   "cell_type": "code",
   "execution_count": null,
   "metadata": {},
   "outputs": [],
   "source": [
    "pickle_out = open(\"transformer2_V2.pkl\",\"wb\")\n",
    "pickle.dump(best_LGBM[-2], pickle_out)\n",
    "pickle_out.close()"
   ]
  },
  {
   "cell_type": "code",
   "execution_count": null,
   "metadata": {},
   "outputs": [],
   "source": [
    "pickle_out = open(\"est_LGBM.pkl\",\"wb\")\n",
    "pickle.dump(best_LGBM[-1], pickle_out)\n",
    "pickle_out.close()"
   ]
  },
  {
   "cell_type": "markdown",
   "metadata": {},
   "source": [
    "# 5 Tests pour l'API:\n",
    "\n",
    "Ci dessous: pas à pas de la fonction shap_value(cid:int) du repo P7_API_V2"
   ]
  },
  {
   "cell_type": "code",
   "execution_count": null,
   "metadata": {},
   "outputs": [],
   "source": [
    "X2"
   ]
  },
  {
   "cell_type": "code",
   "execution_count": null,
   "metadata": {},
   "outputs": [],
   "source": [
    "#X2=X2.drop(['SK_ID_CURR'],axis=1)\n",
    "X2.shape"
   ]
  },
  {
   "cell_type": "code",
   "execution_count": null,
   "metadata": {},
   "outputs": [],
   "source": [
    "transf_data = pd.DataFrame(best_LGBM[:-2].transform(X2),columns = X2.columns) # fit_resample necessite (X,y)\n",
    "transf_data.shape"
   ]
  },
  {
   "cell_type": "code",
   "execution_count": null,
   "metadata": {},
   "outputs": [],
   "source": [
    "data_for_shap=transf_data.drop(['SK_ID_CURR'],axis=1)"
   ]
  },
  {
   "cell_type": "code",
   "execution_count": null,
   "metadata": {},
   "outputs": [],
   "source": [
    "data_for_shap_tr=pd.DataFrame(best_LGBM[-2].transform(data_for_shap),columns=data_for_shap.columns)"
   ]
  },
  {
   "cell_type": "code",
   "execution_count": null,
   "metadata": {},
   "outputs": [],
   "source": [
    "best_LGBM[-1]"
   ]
  },
  {
   "cell_type": "markdown",
   "metadata": {},
   "source": [
    "## Création de l'explaner Shap et des Shap_values"
   ]
  },
  {
   "cell_type": "code",
   "execution_count": null,
   "metadata": {},
   "outputs": [],
   "source": [
    "explainer=shap.Explainer(best_LGBM[-1],data_for_shap_tr)"
   ]
  },
  {
   "cell_type": "code",
   "execution_count": null,
   "metadata": {},
   "outputs": [],
   "source": [
    "type(explainer)"
   ]
  },
  {
   "cell_type": "code",
   "execution_count": null,
   "metadata": {},
   "outputs": [],
   "source": [
    "shap_values = explainer(data_for_shap_tr,check_additivity=False)"
   ]
  },
  {
   "cell_type": "code",
   "execution_count": null,
   "metadata": {},
   "outputs": [],
   "source": [
    "shap_values.cohorts"
   ]
  },
  {
   "cell_type": "code",
   "execution_count": null,
   "metadata": {},
   "outputs": [],
   "source": [
    "type(shap_values)"
   ]
  },
  {
   "cell_type": "code",
   "execution_count": null,
   "metadata": {},
   "outputs": [],
   "source": [
    "type(shap_values.values)"
   ]
  },
  {
   "cell_type": "code",
   "execution_count": null,
   "metadata": {},
   "outputs": [],
   "source": [
    "type(shap_values.base_values)"
   ]
  },
  {
   "cell_type": "code",
   "execution_count": null,
   "metadata": {},
   "outputs": [],
   "source": [
    "type(shap_values.data)"
   ]
  },
  {
   "cell_type": "markdown",
   "metadata": {},
   "source": [
    "## Importance globale"
   ]
  },
  {
   "cell_type": "code",
   "execution_count": null,
   "metadata": {},
   "outputs": [],
   "source": [
    "shap.summary_plot(shap_values,data_for_shap)"
   ]
  },
  {
   "cell_type": "markdown",
   "metadata": {},
   "source": [
    "## Importance locale"
   ]
  },
  {
   "cell_type": "code",
   "execution_count": null,
   "metadata": {},
   "outputs": [],
   "source": [
    "shap.plots.bar(shap_values,max_display=15)"
   ]
  },
  {
   "cell_type": "code",
   "execution_count": null,
   "metadata": {},
   "outputs": [],
   "source": [
    "shap.plots.bar(shap_values[0],max_display=11)"
   ]
  },
  {
   "cell_type": "code",
   "execution_count": null,
   "metadata": {},
   "outputs": [],
   "source": [
    "shap.waterfall_plot(shap_values[5], max_display=11)"
   ]
  },
  {
   "cell_type": "code",
   "execution_count": null,
   "metadata": {},
   "outputs": [],
   "source": [
    "shap.waterfall_plot(shap_values[15], max_display=11)"
   ]
  },
  {
   "cell_type": "code",
   "execution_count": null,
   "metadata": {},
   "outputs": [],
   "source": [
    "\n",
    "shap.force_plot(explainer.expected_value,\n",
    "                explainer.shap_values(data_for_shap.iloc[5]),\n",
    "                feature_names=data_for_shap.columns)\n",
    "                #out_names=\"Conso\")"
   ]
  },
  {
   "cell_type": "code",
   "execution_count": null,
   "metadata": {},
   "outputs": [],
   "source": [
    "svv=pd.DataFrame(shap_values.values, columns = data_for_shap.columns).round(2)\n",
    "svv"
   ]
  },
  {
   "cell_type": "code",
   "execution_count": null,
   "metadata": {},
   "outputs": [],
   "source": [
    "svv['SK_ID_CURR']=transf_data['SK_ID_CURR']\n",
    "svv"
   ]
  }
 ],
 "metadata": {
  "kernelspec": {
   "display_name": "base",
   "language": "python",
   "name": "python3"
  },
  "language_info": {
   "codemirror_mode": {
    "name": "ipython",
    "version": 3
   },
   "file_extension": ".py",
   "mimetype": "text/x-python",
   "name": "python",
   "nbconvert_exporter": "python",
   "pygments_lexer": "ipython3",
   "version": "3.9.13"
  }
 },
 "nbformat": 4,
 "nbformat_minor": 2
}
