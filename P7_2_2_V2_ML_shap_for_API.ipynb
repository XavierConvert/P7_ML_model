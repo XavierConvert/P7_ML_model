{
 "cells": [
  {
   "cell_type": "markdown",
   "metadata": {},
   "source": [
    "# 0. Commentaire\n",
    "\n",
    "### V2 Adaptation de la V1 sur train_V2\n",
    "\n",
    "### V1 Sur base train_V1\n",
    "\n",
    "Cette version semble fonctionner: je réussis à appeler un SK_ID dans l'API qui me renvoie les shap.values\n",
    "\n",
    "=> modèle splitté en 3: \n",
    "\n",
    "    - la partie sampler (qui elle ne sembe pas s'appliquer => j'ai toujours 61498 lignes dans mon df shap values)\n",
    "    - la partie transformer (transfromer2) = imputer + standard scaler\n",
    "    - la partie estimateur (LogReg2)\n",
    "\n",
    "=> A inclure dans P7_2_1 pour vérifier quele shap.base est identique dans l'onglet 'Shap_test' et dans l'onglet 'shap_val\n",
    "\n",
    "### Remarque: différence entre .loc et .iloc dans le résultat affiché dans l'API\n",
    "\n",
    "Ave iloc pas d'index affiché / Avec .loc index affiché suivi de : puis donnée souhaitée (impact ajout d'une couche de dictionnaire)\n",
    "\n",
    "=> Tester le passage du SK_ID dans l'index..."
   ]
  },
  {
   "cell_type": "code",
   "execution_count": 2,
   "metadata": {},
   "outputs": [
    {
     "data": {
      "text/plain": [
       "'c:\\\\Users\\\\xavie\\\\P7\\\\P7_ML_model'"
      ]
     },
     "execution_count": 2,
     "metadata": {},
     "output_type": "execute_result"
    }
   ],
   "source": [
    "pwd"
   ]
  },
  {
   "cell_type": "markdown",
   "metadata": {},
   "source": [
    "# 1 Intro\n",
    "\n",
    "Adaptation best_lgcm pour appel shap_values dans API"
   ]
  },
  {
   "cell_type": "markdown",
   "metadata": {},
   "source": [
    "## 1.1 Imports"
   ]
  },
  {
   "cell_type": "code",
   "execution_count": 3,
   "metadata": {},
   "outputs": [],
   "source": [
    "\n",
    "import pandas as pd\n",
    "import numpy as np\n",
    "import matplotlib.pyplot as plt\n",
    "import seaborn as sns\n",
    "import chardet\n",
    "import missingno as msno\n",
    "from sklearn.model_selection import train_test_split\n",
    "from sklearn.dummy import DummyClassifier\n",
    "from sklearn.impute import KNNImputer\n",
    "from sklearn.impute import SimpleImputer\n",
    "from sklearn.preprocessing import StandardScaler\n",
    "from sklearn.preprocessing import FunctionTransformer\n",
    "from sklearn.preprocessing import OneHotEncoder\n",
    "from sklearn.compose import ColumnTransformer\n",
    "from sklearn.model_selection import GridSearchCV\n",
    "from sklearn.model_selection import cross_val_score\n",
    "from sklearn.pipeline import Pipeline\n",
    "from sklearn.metrics import *\n",
    "from sklearn.linear_model import LogisticRegression\n",
    "from sklearn.ensemble import RandomForestClassifier\n",
    "from sklearn.utils import class_weight\n",
    "from imblearn.under_sampling import RandomUnderSampler\n",
    "from imblearn.pipeline import Pipeline as Pipeline_imb\n",
    "import lightgbm as lgb\n",
    "from lightgbm import LGBMClassifier\n",
    "import pickle\n",
    "import shap"
   ]
  },
  {
   "cell_type": "markdown",
   "metadata": {},
   "source": [
    "## 1.2 Fonctions utiles"
   ]
  },
  {
   "cell_type": "code",
   "execution_count": 4,
   "metadata": {},
   "outputs": [],
   "source": [
    "from src.fonctions import result, print_score"
   ]
  },
  {
   "cell_type": "code",
   "execution_count": 5,
   "metadata": {},
   "outputs": [],
   "source": [
    "pd.set_option('display.max_columns', None)"
   ]
  },
  {
   "cell_type": "code",
   "execution_count": 6,
   "metadata": {},
   "outputs": [
    {
     "data": {
      "text/plain": [
       "\"If Dispaly == False then all cell starting starting with 'If Display=True' won't be ran.\\nElse they will\\n\\nThis short function allows to by-pass instructions which are long to run (ex MSNO on huge dataset or sns.pairplot)\""
      ]
     },
     "execution_count": 6,
     "metadata": {},
     "output_type": "execute_result"
    }
   ],
   "source": [
    "DISPLAY=True\n",
    "\n",
    "\"\"\"If Dispaly == False then all cell starting starting with 'If Display=True' won't be ran.\n",
    "Else they will\n",
    "\n",
    "This short function allows to by-pass instructions which are long to run (ex MSNO on huge dataset or sns.pairplot)\"\"\""
   ]
  },
  {
   "cell_type": "markdown",
   "metadata": {},
   "source": [
    "# 2 Data"
   ]
  },
  {
   "cell_type": "markdown",
   "metadata": {},
   "source": [
    "## 2.1 Import and display"
   ]
  },
  {
   "cell_type": "code",
   "execution_count": 7,
   "metadata": {},
   "outputs": [],
   "source": [
    "train_V2=pd.read_csv('../train_V2.csv')"
   ]
  },
  {
   "cell_type": "code",
   "execution_count": 8,
   "metadata": {},
   "outputs": [
    {
     "data": {
      "text/plain": [
       "(307455, 31)"
      ]
     },
     "execution_count": 8,
     "metadata": {},
     "output_type": "execute_result"
    }
   ],
   "source": [
    "train_V2.shape"
   ]
  },
  {
   "cell_type": "code",
   "execution_count": 9,
   "metadata": {},
   "outputs": [
    {
     "data": {
      "text/plain": [
       "(61491, 31)"
      ]
     },
     "execution_count": 9,
     "metadata": {},
     "output_type": "execute_result"
    }
   ],
   "source": [
    "train_V2=train_V2.sample(frac=0.2)\n",
    "train_V2.shape"
   ]
  },
  {
   "cell_type": "markdown",
   "metadata": {},
   "source": [
    "# 3 Best model: best_lgbm"
   ]
  },
  {
   "cell_type": "code",
   "execution_count": 10,
   "metadata": {},
   "outputs": [
    {
     "data": {
      "text/plain": [
       "Pipeline(steps=[('sampler', RandomUnderSampler()),\n",
       "                ('imputer', SimpleImputer(strategy='median')),\n",
       "                ('scaler', StandardScaler()),\n",
       "                ('estimator',\n",
       "                 LGBMClassifier(max_depth=3, min_data_in_leaf=500,\n",
       "                                num_leaves=20))])"
      ]
     },
     "execution_count": 10,
     "metadata": {},
     "output_type": "execute_result"
    }
   ],
   "source": [
    "best_LGBM=Pipeline_imb([\n",
    "    ('sampler',RandomUnderSampler()),\n",
    "    ('imputer',SimpleImputer(strategy='median')),\n",
    "    ('scaler',StandardScaler()),\n",
    "    ('estimator',LGBMClassifier(max_depth=3, min_data_in_leaf=500,\n",
    "                                num_leaves=20))\n",
    "])\n",
    "best_LGBM"
   ]
  },
  {
   "cell_type": "code",
   "execution_count": 11,
   "metadata": {},
   "outputs": [
    {
     "data": {
      "text/plain": [
       "(61491, 23)"
      ]
     },
     "execution_count": 11,
     "metadata": {},
     "output_type": "execute_result"
    }
   ],
   "source": [
    "X=train_V2.drop(['SK_ID_CURR','TARGET','OWN_CAR_AGE','NAME_HOUSING_TYPE','AMT_GOODS_PRICE','NAME_INCOME_TYPE','NAME_FAMILY_STATUS','NAME_EDUCATION_TYPE'],axis=1)\n",
    "X.shape"
   ]
  },
  {
   "cell_type": "code",
   "execution_count": 12,
   "metadata": {},
   "outputs": [
    {
     "data": {
      "text/plain": [
       "(61491,)"
      ]
     },
     "execution_count": 12,
     "metadata": {},
     "output_type": "execute_result"
    }
   ],
   "source": [
    "y=train_V2['TARGET']\n",
    "y.shape"
   ]
  },
  {
   "cell_type": "markdown",
   "metadata": {},
   "source": [
    "Entraienemtnt via GridSearch"
   ]
  },
  {
   "cell_type": "code",
   "execution_count": 13,
   "metadata": {},
   "outputs": [],
   "source": [
    "grid= GridSearchCV(\n",
    "    best_LGBM,\n",
    "    param_grid={},\n",
    "    cv=10,\n",
    "    scoring=('roc_auc','accuracy','f1','recall','precision'),\n",
    "    n_jobs=-1,\n",
    "    verbose=2,\n",
    "    return_train_score=True,\n",
    "    refit='roc_auc'\n",
    "    )"
   ]
  },
  {
   "cell_type": "code",
   "execution_count": 14,
   "metadata": {},
   "outputs": [
    {
     "name": "stdout",
     "output_type": "stream",
     "text": [
      "Fitting 10 folds for each of 1 candidates, totalling 10 fits\n"
     ]
    },
    {
     "name": "stdout",
     "output_type": "stream",
     "text": [
      "[LightGBM] [Warning] min_data_in_leaf is set=500, min_child_samples=20 will be ignored. Current value: min_data_in_leaf=500\n",
      "[LightGBM] [Warning] min_data_in_leaf is set=500, min_child_samples=20 will be ignored. Current value: min_data_in_leaf=500\n",
      "[LightGBM] [Info] Number of positive: 4989, number of negative: 4989\n",
      "[LightGBM] [Info] Auto-choosing col-wise multi-threading, the overhead of testing was 0.000678 seconds.\n",
      "You can set `force_col_wise=true` to remove the overhead.\n",
      "[LightGBM] [Info] Total Bins 2893\n",
      "[LightGBM] [Info] Number of data points in the train set: 9978, number of used features: 23\n",
      "[LightGBM] [Info] [binary:BoostFromScore]: pavg=0.500000 -> initscore=0.000000\n",
      "[LightGBM] [Warning] No further splits with positive gain, best gain: -inf\n",
      "[LightGBM] [Warning] No further splits with positive gain, best gain: -inf\n",
      "[LightGBM] [Warning] No further splits with positive gain, best gain: -inf\n",
      "[LightGBM] [Warning] No further splits with positive gain, best gain: -inf\n",
      "[LightGBM] [Warning] No further splits with positive gain, best gain: -inf\n",
      "[LightGBM] [Warning] No further splits with positive gain, best gain: -inf\n",
      "[LightGBM] [Warning] No further splits with positive gain, best gain: -inf\n",
      "[LightGBM] [Warning] No further splits with positive gain, best gain: -inf\n",
      "[LightGBM] [Warning] No further splits with positive gain, best gain: -inf\n",
      "[LightGBM] [Warning] No further splits with positive gain, best gain: -inf\n",
      "[LightGBM] [Warning] No further splits with positive gain, best gain: -inf\n",
      "[LightGBM] [Warning] No further splits with positive gain, best gain: -inf\n",
      "[LightGBM] [Warning] No further splits with positive gain, best gain: -inf\n",
      "[LightGBM] [Warning] No further splits with positive gain, best gain: -inf\n",
      "[LightGBM] [Warning] No further splits with positive gain, best gain: -inf\n",
      "[LightGBM] [Warning] No further splits with positive gain, best gain: -inf\n",
      "[LightGBM] [Warning] No further splits with positive gain, best gain: -inf\n",
      "[LightGBM] [Warning] No further splits with positive gain, best gain: -inf\n",
      "[LightGBM] [Warning] No further splits with positive gain, best gain: -inf\n",
      "[LightGBM] [Warning] No further splits with positive gain, best gain: -inf\n",
      "[LightGBM] [Warning] No further splits with positive gain, best gain: -inf\n",
      "[LightGBM] [Warning] No further splits with positive gain, best gain: -inf\n",
      "[LightGBM] [Warning] No further splits with positive gain, best gain: -inf\n",
      "[LightGBM] [Warning] No further splits with positive gain, best gain: -inf\n",
      "[LightGBM] [Warning] No further splits with positive gain, best gain: -inf\n",
      "[LightGBM] [Warning] No further splits with positive gain, best gain: -inf\n",
      "[LightGBM] [Warning] No further splits with positive gain, best gain: -inf\n",
      "[LightGBM] [Warning] No further splits with positive gain, best gain: -inf\n",
      "[LightGBM] [Warning] No further splits with positive gain, best gain: -inf\n",
      "[LightGBM] [Warning] No further splits with positive gain, best gain: -inf\n",
      "[LightGBM] [Warning] No further splits with positive gain, best gain: -inf\n",
      "[LightGBM] [Warning] No further splits with positive gain, best gain: -inf\n",
      "[LightGBM] [Warning] No further splits with positive gain, best gain: -inf\n",
      "[LightGBM] [Warning] No further splits with positive gain, best gain: -inf\n",
      "[LightGBM] [Warning] No further splits with positive gain, best gain: -inf\n",
      "[LightGBM] [Warning] No further splits with positive gain, best gain: -inf\n",
      "[LightGBM] [Warning] No further splits with positive gain, best gain: -inf\n",
      "[LightGBM] [Warning] No further splits with positive gain, best gain: -inf\n",
      "[LightGBM] [Warning] No further splits with positive gain, best gain: -inf\n",
      "[LightGBM] [Warning] No further splits with positive gain, best gain: -inf\n",
      "[LightGBM] [Warning] No further splits with positive gain, best gain: -inf\n",
      "[LightGBM] [Warning] No further splits with positive gain, best gain: -inf\n",
      "[LightGBM] [Warning] No further splits with positive gain, best gain: -inf\n",
      "[LightGBM] [Warning] No further splits with positive gain, best gain: -inf\n",
      "[LightGBM] [Warning] No further splits with positive gain, best gain: -inf\n",
      "[LightGBM] [Warning] No further splits with positive gain, best gain: -inf\n",
      "[LightGBM] [Warning] No further splits with positive gain, best gain: -inf\n",
      "[LightGBM] [Warning] No further splits with positive gain, best gain: -inf\n",
      "[LightGBM] [Warning] No further splits with positive gain, best gain: -inf\n",
      "[LightGBM] [Warning] No further splits with positive gain, best gain: -inf\n",
      "[LightGBM] [Warning] No further splits with positive gain, best gain: -inf\n",
      "[LightGBM] [Warning] No further splits with positive gain, best gain: -inf\n",
      "[LightGBM] [Warning] No further splits with positive gain, best gain: -inf\n",
      "[LightGBM] [Warning] No further splits with positive gain, best gain: -inf\n",
      "[LightGBM] [Warning] No further splits with positive gain, best gain: -inf\n",
      "[LightGBM] [Warning] No further splits with positive gain, best gain: -inf\n",
      "[LightGBM] [Warning] No further splits with positive gain, best gain: -inf\n",
      "[LightGBM] [Warning] No further splits with positive gain, best gain: -inf\n",
      "[LightGBM] [Warning] No further splits with positive gain, best gain: -inf\n",
      "[LightGBM] [Warning] No further splits with positive gain, best gain: -inf\n",
      "[LightGBM] [Warning] No further splits with positive gain, best gain: -inf\n",
      "[LightGBM] [Warning] No further splits with positive gain, best gain: -inf\n",
      "[LightGBM] [Warning] No further splits with positive gain, best gain: -inf\n",
      "[LightGBM] [Warning] No further splits with positive gain, best gain: -inf\n",
      "[LightGBM] [Warning] No further splits with positive gain, best gain: -inf\n",
      "[LightGBM] [Warning] No further splits with positive gain, best gain: -inf\n",
      "[LightGBM] [Warning] No further splits with positive gain, best gain: -inf\n",
      "[LightGBM] [Warning] No further splits with positive gain, best gain: -inf\n",
      "[LightGBM] [Warning] No further splits with positive gain, best gain: -inf\n",
      "[LightGBM] [Warning] No further splits with positive gain, best gain: -inf\n",
      "[LightGBM] [Warning] No further splits with positive gain, best gain: -inf\n",
      "[LightGBM] [Warning] No further splits with positive gain, best gain: -inf\n",
      "[LightGBM] [Warning] No further splits with positive gain, best gain: -inf\n",
      "[LightGBM] [Warning] No further splits with positive gain, best gain: -inf\n",
      "[LightGBM] [Warning] No further splits with positive gain, best gain: -inf\n",
      "[LightGBM] [Warning] No further splits with positive gain, best gain: -inf\n",
      "[LightGBM] [Warning] No further splits with positive gain, best gain: -inf\n",
      "[LightGBM] [Warning] No further splits with positive gain, best gain: -inf\n",
      "[LightGBM] [Warning] No further splits with positive gain, best gain: -inf\n",
      "[LightGBM] [Warning] No further splits with positive gain, best gain: -inf\n",
      "[LightGBM] [Warning] No further splits with positive gain, best gain: -inf\n",
      "[LightGBM] [Warning] No further splits with positive gain, best gain: -inf\n",
      "[LightGBM] [Warning] No further splits with positive gain, best gain: -inf\n",
      "[LightGBM] [Warning] No further splits with positive gain, best gain: -inf\n",
      "[LightGBM] [Warning] No further splits with positive gain, best gain: -inf\n",
      "[LightGBM] [Warning] No further splits with positive gain, best gain: -inf\n",
      "[LightGBM] [Warning] No further splits with positive gain, best gain: -inf\n",
      "[LightGBM] [Warning] No further splits with positive gain, best gain: -inf\n"
     ]
    },
    {
     "data": {
      "text/plain": [
       "GridSearchCV(cv=10,\n",
       "             estimator=Pipeline(steps=[('sampler', RandomUnderSampler()),\n",
       "                                       ('imputer',\n",
       "                                        SimpleImputer(strategy='median')),\n",
       "                                       ('scaler', StandardScaler()),\n",
       "                                       ('estimator',\n",
       "                                        LGBMClassifier(max_depth=3,\n",
       "                                                       min_data_in_leaf=500,\n",
       "                                                       num_leaves=20))]),\n",
       "             n_jobs=-1, param_grid={}, refit='roc_auc', return_train_score=True,\n",
       "             scoring=('roc_auc', 'accuracy', 'f1', 'recall', 'precision'),\n",
       "             verbose=2)"
      ]
     },
     "execution_count": 14,
     "metadata": {},
     "output_type": "execute_result"
    }
   ],
   "source": [
    "grid.fit(X,y)"
   ]
  },
  {
   "cell_type": "code",
   "execution_count": 15,
   "metadata": {},
   "outputs": [
    {
     "data": {
      "text/html": [
       "<div>\n",
       "<style scoped>\n",
       "    .dataframe tbody tr th:only-of-type {\n",
       "        vertical-align: middle;\n",
       "    }\n",
       "\n",
       "    .dataframe tbody tr th {\n",
       "        vertical-align: top;\n",
       "    }\n",
       "\n",
       "    .dataframe thead th {\n",
       "        text-align: right;\n",
       "    }\n",
       "</style>\n",
       "<table border=\"1\" class=\"dataframe\">\n",
       "  <thead>\n",
       "    <tr style=\"text-align: right;\">\n",
       "      <th></th>\n",
       "      <th>mean_fit_time</th>\n",
       "      <th>std_fit_time</th>\n",
       "      <th>mean_score_time</th>\n",
       "      <th>std_score_time</th>\n",
       "      <th>params</th>\n",
       "      <th>mean_test_roc_auc</th>\n",
       "      <th>std_test_roc_auc</th>\n",
       "      <th>rank_test_roc_auc</th>\n",
       "      <th>mean_train_roc_auc</th>\n",
       "      <th>std_train_roc_auc</th>\n",
       "      <th>mean_test_accuracy</th>\n",
       "      <th>std_test_accuracy</th>\n",
       "      <th>rank_test_accuracy</th>\n",
       "      <th>mean_train_accuracy</th>\n",
       "      <th>std_train_accuracy</th>\n",
       "      <th>mean_test_f1</th>\n",
       "      <th>std_test_f1</th>\n",
       "      <th>rank_test_f1</th>\n",
       "      <th>mean_train_f1</th>\n",
       "      <th>std_train_f1</th>\n",
       "      <th>mean_test_recall</th>\n",
       "      <th>std_test_recall</th>\n",
       "      <th>rank_test_recall</th>\n",
       "      <th>mean_train_recall</th>\n",
       "      <th>std_train_recall</th>\n",
       "      <th>mean_test_precision</th>\n",
       "      <th>std_test_precision</th>\n",
       "      <th>rank_test_precision</th>\n",
       "      <th>mean_train_precision</th>\n",
       "      <th>std_train_precision</th>\n",
       "      <th>log_target</th>\n",
       "      <th>transf_feat</th>\n",
       "      <th>features</th>\n",
       "    </tr>\n",
       "  </thead>\n",
       "  <tbody>\n",
       "    <tr>\n",
       "      <th>0</th>\n",
       "      <td>2.01</td>\n",
       "      <td>0.72</td>\n",
       "      <td>0.09</td>\n",
       "      <td>0.05</td>\n",
       "      <td>{}</td>\n",
       "      <td>0.75</td>\n",
       "      <td>0.01</td>\n",
       "      <td>1</td>\n",
       "      <td>0.77</td>\n",
       "      <td>0.0</td>\n",
       "      <td>0.68</td>\n",
       "      <td>0.01</td>\n",
       "      <td>1</td>\n",
       "      <td>0.69</td>\n",
       "      <td>0.0</td>\n",
       "      <td>0.26</td>\n",
       "      <td>0.01</td>\n",
       "      <td>1</td>\n",
       "      <td>0.27</td>\n",
       "      <td>0.0</td>\n",
       "      <td>0.69</td>\n",
       "      <td>0.03</td>\n",
       "      <td>1</td>\n",
       "      <td>0.71</td>\n",
       "      <td>0.01</td>\n",
       "      <td>0.16</td>\n",
       "      <td>0.01</td>\n",
       "      <td>1</td>\n",
       "      <td>0.17</td>\n",
       "      <td>0.0</td>\n",
       "      <td>0</td>\n",
       "      <td>0</td>\n",
       "      <td>Sans_SK_ID_CURR</td>\n",
       "    </tr>\n",
       "  </tbody>\n",
       "</table>\n",
       "</div>"
      ],
      "text/plain": [
       "   mean_fit_time  std_fit_time  mean_score_time  std_score_time params  \\\n",
       "0           2.01          0.72             0.09            0.05     {}   \n",
       "\n",
       "   mean_test_roc_auc  std_test_roc_auc  rank_test_roc_auc  mean_train_roc_auc  \\\n",
       "0               0.75              0.01                  1                0.77   \n",
       "\n",
       "   std_train_roc_auc  mean_test_accuracy  std_test_accuracy  \\\n",
       "0                0.0                0.68               0.01   \n",
       "\n",
       "   rank_test_accuracy  mean_train_accuracy  std_train_accuracy  mean_test_f1  \\\n",
       "0                   1                 0.69                 0.0          0.26   \n",
       "\n",
       "   std_test_f1  rank_test_f1  mean_train_f1  std_train_f1  mean_test_recall  \\\n",
       "0         0.01             1           0.27           0.0              0.69   \n",
       "\n",
       "   std_test_recall  rank_test_recall  mean_train_recall  std_train_recall  \\\n",
       "0             0.03                 1               0.71              0.01   \n",
       "\n",
       "   mean_test_precision  std_test_precision  rank_test_precision  \\\n",
       "0                 0.16                0.01                    1   \n",
       "\n",
       "   mean_train_precision  std_train_precision  log_target  transf_feat  \\\n",
       "0                  0.17                  0.0           0            0   \n",
       "\n",
       "          features  \n",
       "0  Sans_SK_ID_CURR  "
      ]
     },
     "execution_count": 15,
     "metadata": {},
     "output_type": "execute_result"
    }
   ],
   "source": [
    "res=result(grid, features='Sans_SK_ID_CURR')\n",
    "res.sort_values(by='mean_test_roc_auc',ascending=False).head(5)"
   ]
  },
  {
   "cell_type": "code",
   "execution_count": 16,
   "metadata": {},
   "outputs": [],
   "source": [
    "RES=pd.DataFrame()"
   ]
  },
  {
   "cell_type": "code",
   "execution_count": 17,
   "metadata": {},
   "outputs": [
    {
     "data": {
      "text/html": [
       "<div>\n",
       "<style scoped>\n",
       "    .dataframe tbody tr th:only-of-type {\n",
       "        vertical-align: middle;\n",
       "    }\n",
       "\n",
       "    .dataframe tbody tr th {\n",
       "        vertical-align: top;\n",
       "    }\n",
       "\n",
       "    .dataframe thead th {\n",
       "        text-align: right;\n",
       "    }\n",
       "</style>\n",
       "<table border=\"1\" class=\"dataframe\">\n",
       "  <thead>\n",
       "    <tr style=\"text-align: right;\">\n",
       "      <th></th>\n",
       "      <th>mean_fit_time</th>\n",
       "      <th>std_fit_time</th>\n",
       "      <th>mean_score_time</th>\n",
       "      <th>std_score_time</th>\n",
       "      <th>params</th>\n",
       "      <th>mean_test_roc_auc</th>\n",
       "      <th>std_test_roc_auc</th>\n",
       "      <th>rank_test_roc_auc</th>\n",
       "      <th>mean_train_roc_auc</th>\n",
       "      <th>std_train_roc_auc</th>\n",
       "      <th>mean_test_accuracy</th>\n",
       "      <th>std_test_accuracy</th>\n",
       "      <th>rank_test_accuracy</th>\n",
       "      <th>mean_train_accuracy</th>\n",
       "      <th>std_train_accuracy</th>\n",
       "      <th>mean_test_f1</th>\n",
       "      <th>std_test_f1</th>\n",
       "      <th>rank_test_f1</th>\n",
       "      <th>mean_train_f1</th>\n",
       "      <th>std_train_f1</th>\n",
       "      <th>mean_test_recall</th>\n",
       "      <th>std_test_recall</th>\n",
       "      <th>rank_test_recall</th>\n",
       "      <th>mean_train_recall</th>\n",
       "      <th>std_train_recall</th>\n",
       "      <th>mean_test_precision</th>\n",
       "      <th>std_test_precision</th>\n",
       "      <th>rank_test_precision</th>\n",
       "      <th>mean_train_precision</th>\n",
       "      <th>std_train_precision</th>\n",
       "      <th>log_target</th>\n",
       "      <th>transf_feat</th>\n",
       "      <th>features</th>\n",
       "    </tr>\n",
       "  </thead>\n",
       "  <tbody>\n",
       "    <tr>\n",
       "      <th>0</th>\n",
       "      <td>2.01</td>\n",
       "      <td>0.72</td>\n",
       "      <td>0.09</td>\n",
       "      <td>0.05</td>\n",
       "      <td>{}</td>\n",
       "      <td>0.75</td>\n",
       "      <td>0.01</td>\n",
       "      <td>1</td>\n",
       "      <td>0.77</td>\n",
       "      <td>0.0</td>\n",
       "      <td>0.68</td>\n",
       "      <td>0.01</td>\n",
       "      <td>1</td>\n",
       "      <td>0.69</td>\n",
       "      <td>0.0</td>\n",
       "      <td>0.26</td>\n",
       "      <td>0.01</td>\n",
       "      <td>1</td>\n",
       "      <td>0.27</td>\n",
       "      <td>0.0</td>\n",
       "      <td>0.69</td>\n",
       "      <td>0.03</td>\n",
       "      <td>1</td>\n",
       "      <td>0.71</td>\n",
       "      <td>0.01</td>\n",
       "      <td>0.16</td>\n",
       "      <td>0.01</td>\n",
       "      <td>1</td>\n",
       "      <td>0.17</td>\n",
       "      <td>0.0</td>\n",
       "      <td>0</td>\n",
       "      <td>0</td>\n",
       "      <td>Sans_SK_ID_CURR</td>\n",
       "    </tr>\n",
       "  </tbody>\n",
       "</table>\n",
       "</div>"
      ],
      "text/plain": [
       "   mean_fit_time  std_fit_time  mean_score_time  std_score_time params  \\\n",
       "0           2.01          0.72             0.09            0.05     {}   \n",
       "\n",
       "   mean_test_roc_auc  std_test_roc_auc  rank_test_roc_auc  mean_train_roc_auc  \\\n",
       "0               0.75              0.01                  1                0.77   \n",
       "\n",
       "   std_train_roc_auc  mean_test_accuracy  std_test_accuracy  \\\n",
       "0                0.0                0.68               0.01   \n",
       "\n",
       "   rank_test_accuracy  mean_train_accuracy  std_train_accuracy  mean_test_f1  \\\n",
       "0                   1                 0.69                 0.0          0.26   \n",
       "\n",
       "   std_test_f1  rank_test_f1  mean_train_f1  std_train_f1  mean_test_recall  \\\n",
       "0         0.01             1           0.27           0.0              0.69   \n",
       "\n",
       "   std_test_recall  rank_test_recall  mean_train_recall  std_train_recall  \\\n",
       "0             0.03                 1               0.71              0.01   \n",
       "\n",
       "   mean_test_precision  std_test_precision  rank_test_precision  \\\n",
       "0                 0.16                0.01                    1   \n",
       "\n",
       "   mean_train_precision  std_train_precision  log_target  transf_feat  \\\n",
       "0                  0.17                  0.0           0            0   \n",
       "\n",
       "          features  \n",
       "0  Sans_SK_ID_CURR  "
      ]
     },
     "execution_count": 17,
     "metadata": {},
     "output_type": "execute_result"
    }
   ],
   "source": [
    "RES=pd.concat([RES, res],axis=0, ignore_index=True)\n",
    "RES"
   ]
  },
  {
   "cell_type": "markdown",
   "metadata": {},
   "source": [
    "# 4 Adpatation modèle pour appel SHAP dans l'API\n",
    "\n",
    "Rappel: Shap ne prend que l'estimateur (et pas le pipeline entier) pour calculer explaienr/shap_values\n",
    "\n",
    "Or en récupérant le best_lgbm, et en le décomposant, dans l'API je dois faire appel à l'Id des crédits/clients. Cet Id n'est pas utilisé dans le best_lgbml.\n",
    "\n",
    "2 solutions:\n",
    "\n",
    "- 1/ j'ajoute l'id dans le bet_model, au risque d'avoir des résultats un peu moins bons => partie 4.1\n",
    "- 2/ Comme pour l'AMNT_GOOD_PRICE, je reconstitue le df après l'entrainement => partie 4.2\n"
   ]
  },
  {
   "cell_type": "markdown",
   "metadata": {},
   "source": [
    "## 4.1 Ajout de SK_ID_CURR dans le modèle "
   ]
  },
  {
   "cell_type": "code",
   "execution_count": 18,
   "metadata": {},
   "outputs": [
    {
     "data": {
      "text/plain": [
       "(61491, 24)"
      ]
     },
     "execution_count": 18,
     "metadata": {},
     "output_type": "execute_result"
    }
   ],
   "source": [
    "X2=train_V2.drop(['TARGET','OWN_CAR_AGE','NAME_HOUSING_TYPE','AMT_GOODS_PRICE','NAME_INCOME_TYPE','NAME_FAMILY_STATUS','NAME_EDUCATION_TYPE'],axis=1)\n",
    "X2.shape"
   ]
  },
  {
   "cell_type": "code",
   "execution_count": 19,
   "metadata": {},
   "outputs": [
    {
     "data": {
      "text/plain": [
       "(61491,)"
      ]
     },
     "execution_count": 19,
     "metadata": {},
     "output_type": "execute_result"
    }
   ],
   "source": [
    "y2=y\n",
    "y2.shape"
   ]
  },
  {
   "cell_type": "code",
   "execution_count": 20,
   "metadata": {},
   "outputs": [],
   "source": [
    "grid= GridSearchCV(\n",
    "    best_LGBM,\n",
    "    param_grid={},\n",
    "    cv=10,\n",
    "    scoring=('roc_auc','accuracy','f1','recall','precision'),\n",
    "    n_jobs=-1,\n",
    "    verbose=2,\n",
    "    return_train_score=True,\n",
    "    refit='roc_auc')"
   ]
  },
  {
   "cell_type": "code",
   "execution_count": 21,
   "metadata": {},
   "outputs": [
    {
     "name": "stdout",
     "output_type": "stream",
     "text": [
      "Fitting 10 folds for each of 1 candidates, totalling 10 fits\n",
      "[LightGBM] [Warning] min_data_in_leaf is set=500, min_child_samples=20 will be ignored. Current value: min_data_in_leaf=500\n",
      "[LightGBM] [Warning] min_data_in_leaf is set=500, min_child_samples=20 will be ignored. Current value: min_data_in_leaf=500\n",
      "[LightGBM] [Info] Number of positive: 4989, number of negative: 4989\n",
      "[LightGBM] [Info] Auto-choosing col-wise multi-threading, the overhead of testing was 0.001114 seconds.\n",
      "You can set `force_col_wise=true` to remove the overhead.\n",
      "[LightGBM] [Info] Total Bins 3143\n",
      "[LightGBM] [Info] Number of data points in the train set: 9978, number of used features: 24\n",
      "[LightGBM] [Info] [binary:BoostFromScore]: pavg=0.500000 -> initscore=0.000000\n",
      "[LightGBM] [Warning] No further splits with positive gain, best gain: -inf\n",
      "[LightGBM] [Warning] No further splits with positive gain, best gain: -inf\n",
      "[LightGBM] [Warning] No further splits with positive gain, best gain: -inf\n",
      "[LightGBM] [Warning] No further splits with positive gain, best gain: -inf\n",
      "[LightGBM] [Warning] No further splits with positive gain, best gain: -inf\n",
      "[LightGBM] [Warning] No further splits with positive gain, best gain: -inf\n",
      "[LightGBM] [Warning] No further splits with positive gain, best gain: -inf\n",
      "[LightGBM] [Warning] No further splits with positive gain, best gain: -inf\n",
      "[LightGBM] [Warning] No further splits with positive gain, best gain: -inf\n",
      "[LightGBM] [Warning] No further splits with positive gain, best gain: -inf\n",
      "[LightGBM] [Warning] No further splits with positive gain, best gain: -inf\n",
      "[LightGBM] [Warning] No further splits with positive gain, best gain: -inf\n",
      "[LightGBM] [Warning] No further splits with positive gain, best gain: -inf\n",
      "[LightGBM] [Warning] No further splits with positive gain, best gain: -inf\n",
      "[LightGBM] [Warning] No further splits with positive gain, best gain: -inf\n",
      "[LightGBM] [Warning] No further splits with positive gain, best gain: -inf\n",
      "[LightGBM] [Warning] No further splits with positive gain, best gain: -inf\n",
      "[LightGBM] [Warning] No further splits with positive gain, best gain: -inf\n",
      "[LightGBM] [Warning] No further splits with positive gain, best gain: -inf\n",
      "[LightGBM] [Warning] No further splits with positive gain, best gain: -inf\n",
      "[LightGBM] [Warning] No further splits with positive gain, best gain: -inf\n",
      "[LightGBM] [Warning] No further splits with positive gain, best gain: -inf\n",
      "[LightGBM] [Warning] No further splits with positive gain, best gain: -inf\n",
      "[LightGBM] [Warning] No further splits with positive gain, best gain: -inf\n",
      "[LightGBM] [Warning] No further splits with positive gain, best gain: -inf\n",
      "[LightGBM] [Warning] No further splits with positive gain, best gain: -inf\n",
      "[LightGBM] [Warning] No further splits with positive gain, best gain: -inf\n",
      "[LightGBM] [Warning] No further splits with positive gain, best gain: -inf\n",
      "[LightGBM] [Warning] No further splits with positive gain, best gain: -inf\n",
      "[LightGBM] [Warning] No further splits with positive gain, best gain: -inf\n",
      "[LightGBM] [Warning] No further splits with positive gain, best gain: -inf\n",
      "[LightGBM] [Warning] No further splits with positive gain, best gain: -inf\n",
      "[LightGBM] [Warning] No further splits with positive gain, best gain: -inf\n",
      "[LightGBM] [Warning] No further splits with positive gain, best gain: -inf\n",
      "[LightGBM] [Warning] No further splits with positive gain, best gain: -inf\n",
      "[LightGBM] [Warning] No further splits with positive gain, best gain: -inf\n",
      "[LightGBM] [Warning] No further splits with positive gain, best gain: -inf\n",
      "[LightGBM] [Warning] No further splits with positive gain, best gain: -inf\n",
      "[LightGBM] [Warning] No further splits with positive gain, best gain: -inf\n",
      "[LightGBM] [Warning] No further splits with positive gain, best gain: -inf\n",
      "[LightGBM] [Warning] No further splits with positive gain, best gain: -inf\n",
      "[LightGBM] [Warning] No further splits with positive gain, best gain: -inf\n",
      "[LightGBM] [Warning] No further splits with positive gain, best gain: -inf\n",
      "[LightGBM] [Warning] No further splits with positive gain, best gain: -inf\n",
      "[LightGBM] [Warning] No further splits with positive gain, best gain: -inf\n",
      "[LightGBM] [Warning] No further splits with positive gain, best gain: -inf\n",
      "[LightGBM] [Warning] No further splits with positive gain, best gain: -inf\n",
      "[LightGBM] [Warning] No further splits with positive gain, best gain: -inf\n",
      "[LightGBM] [Warning] No further splits with positive gain, best gain: -inf\n",
      "[LightGBM] [Warning] No further splits with positive gain, best gain: -inf\n",
      "[LightGBM] [Warning] No further splits with positive gain, best gain: -inf\n",
      "[LightGBM] [Warning] No further splits with positive gain, best gain: -inf\n",
      "[LightGBM] [Warning] No further splits with positive gain, best gain: -inf\n",
      "[LightGBM] [Warning] No further splits with positive gain, best gain: -inf\n",
      "[LightGBM] [Warning] No further splits with positive gain, best gain: -inf\n",
      "[LightGBM] [Warning] No further splits with positive gain, best gain: -inf\n",
      "[LightGBM] [Warning] No further splits with positive gain, best gain: -inf\n",
      "[LightGBM] [Warning] No further splits with positive gain, best gain: -inf\n",
      "[LightGBM] [Warning] No further splits with positive gain, best gain: -inf\n",
      "[LightGBM] [Warning] No further splits with positive gain, best gain: -inf\n",
      "[LightGBM] [Warning] No further splits with positive gain, best gain: -inf\n",
      "[LightGBM] [Warning] No further splits with positive gain, best gain: -inf\n",
      "[LightGBM] [Warning] No further splits with positive gain, best gain: -inf\n",
      "[LightGBM] [Warning] No further splits with positive gain, best gain: -inf\n",
      "[LightGBM] [Warning] No further splits with positive gain, best gain: -inf\n",
      "[LightGBM] [Warning] No further splits with positive gain, best gain: -inf\n",
      "[LightGBM] [Warning] No further splits with positive gain, best gain: -inf\n",
      "[LightGBM] [Warning] No further splits with positive gain, best gain: -inf\n",
      "[LightGBM] [Warning] No further splits with positive gain, best gain: -inf\n",
      "[LightGBM] [Warning] No further splits with positive gain, best gain: -inf\n",
      "[LightGBM] [Warning] No further splits with positive gain, best gain: -inf\n",
      "[LightGBM] [Warning] No further splits with positive gain, best gain: -inf\n",
      "[LightGBM] [Warning] No further splits with positive gain, best gain: -inf\n",
      "[LightGBM] [Warning] No further splits with positive gain, best gain: -inf\n",
      "[LightGBM] [Warning] No further splits with positive gain, best gain: -inf\n",
      "[LightGBM] [Warning] No further splits with positive gain, best gain: -inf\n",
      "[LightGBM] [Warning] No further splits with positive gain, best gain: -inf\n",
      "[LightGBM] [Warning] No further splits with positive gain, best gain: -inf\n",
      "[LightGBM] [Warning] No further splits with positive gain, best gain: -inf\n",
      "[LightGBM] [Warning] No further splits with positive gain, best gain: -inf\n",
      "[LightGBM] [Warning] No further splits with positive gain, best gain: -inf\n",
      "[LightGBM] [Warning] No further splits with positive gain, best gain: -inf\n",
      "[LightGBM] [Warning] No further splits with positive gain, best gain: -inf\n",
      "[LightGBM] [Warning] No further splits with positive gain, best gain: -inf\n",
      "[LightGBM] [Warning] No further splits with positive gain, best gain: -inf\n",
      "[LightGBM] [Warning] No further splits with positive gain, best gain: -inf\n",
      "[LightGBM] [Warning] No further splits with positive gain, best gain: -inf\n",
      "[LightGBM] [Warning] No further splits with positive gain, best gain: -inf\n",
      "[LightGBM] [Warning] No further splits with positive gain, best gain: -inf\n",
      "[LightGBM] [Warning] No further splits with positive gain, best gain: -inf\n",
      "[LightGBM] [Warning] No further splits with positive gain, best gain: -inf\n"
     ]
    },
    {
     "data": {
      "text/plain": [
       "GridSearchCV(cv=10,\n",
       "             estimator=Pipeline(steps=[('sampler', RandomUnderSampler()),\n",
       "                                       ('imputer',\n",
       "                                        SimpleImputer(strategy='median')),\n",
       "                                       ('scaler', StandardScaler()),\n",
       "                                       ('estimator',\n",
       "                                        LGBMClassifier(max_depth=3,\n",
       "                                                       min_data_in_leaf=500,\n",
       "                                                       num_leaves=20))]),\n",
       "             n_jobs=-1, param_grid={}, refit='roc_auc', return_train_score=True,\n",
       "             scoring=('roc_auc', 'accuracy', 'f1', 'recall', 'precision'),\n",
       "             verbose=2)"
      ]
     },
     "execution_count": 21,
     "metadata": {},
     "output_type": "execute_result"
    }
   ],
   "source": [
    "grid.fit(X2,y2)"
   ]
  },
  {
   "cell_type": "code",
   "execution_count": 22,
   "metadata": {},
   "outputs": [
    {
     "data": {
      "text/html": [
       "<div>\n",
       "<style scoped>\n",
       "    .dataframe tbody tr th:only-of-type {\n",
       "        vertical-align: middle;\n",
       "    }\n",
       "\n",
       "    .dataframe tbody tr th {\n",
       "        vertical-align: top;\n",
       "    }\n",
       "\n",
       "    .dataframe thead th {\n",
       "        text-align: right;\n",
       "    }\n",
       "</style>\n",
       "<table border=\"1\" class=\"dataframe\">\n",
       "  <thead>\n",
       "    <tr style=\"text-align: right;\">\n",
       "      <th></th>\n",
       "      <th>mean_fit_time</th>\n",
       "      <th>std_fit_time</th>\n",
       "      <th>mean_score_time</th>\n",
       "      <th>std_score_time</th>\n",
       "      <th>params</th>\n",
       "      <th>mean_test_roc_auc</th>\n",
       "      <th>std_test_roc_auc</th>\n",
       "      <th>rank_test_roc_auc</th>\n",
       "      <th>mean_train_roc_auc</th>\n",
       "      <th>std_train_roc_auc</th>\n",
       "      <th>mean_test_accuracy</th>\n",
       "      <th>std_test_accuracy</th>\n",
       "      <th>rank_test_accuracy</th>\n",
       "      <th>mean_train_accuracy</th>\n",
       "      <th>std_train_accuracy</th>\n",
       "      <th>mean_test_f1</th>\n",
       "      <th>std_test_f1</th>\n",
       "      <th>rank_test_f1</th>\n",
       "      <th>mean_train_f1</th>\n",
       "      <th>std_train_f1</th>\n",
       "      <th>mean_test_recall</th>\n",
       "      <th>std_test_recall</th>\n",
       "      <th>rank_test_recall</th>\n",
       "      <th>mean_train_recall</th>\n",
       "      <th>std_train_recall</th>\n",
       "      <th>mean_test_precision</th>\n",
       "      <th>std_test_precision</th>\n",
       "      <th>rank_test_precision</th>\n",
       "      <th>mean_train_precision</th>\n",
       "      <th>std_train_precision</th>\n",
       "      <th>log_target</th>\n",
       "      <th>transf_feat</th>\n",
       "      <th>features</th>\n",
       "    </tr>\n",
       "  </thead>\n",
       "  <tbody>\n",
       "    <tr>\n",
       "      <th>0</th>\n",
       "      <td>8.25</td>\n",
       "      <td>5.5</td>\n",
       "      <td>0.08</td>\n",
       "      <td>0.03</td>\n",
       "      <td>{}</td>\n",
       "      <td>0.75</td>\n",
       "      <td>0.01</td>\n",
       "      <td>1</td>\n",
       "      <td>0.77</td>\n",
       "      <td>0.0</td>\n",
       "      <td>0.68</td>\n",
       "      <td>0.01</td>\n",
       "      <td>1</td>\n",
       "      <td>0.69</td>\n",
       "      <td>0.0</td>\n",
       "      <td>0.26</td>\n",
       "      <td>0.01</td>\n",
       "      <td>1</td>\n",
       "      <td>0.27</td>\n",
       "      <td>0.0</td>\n",
       "      <td>0.69</td>\n",
       "      <td>0.02</td>\n",
       "      <td>1</td>\n",
       "      <td>0.71</td>\n",
       "      <td>0.0</td>\n",
       "      <td>0.16</td>\n",
       "      <td>0.01</td>\n",
       "      <td>1</td>\n",
       "      <td>0.17</td>\n",
       "      <td>0.0</td>\n",
       "      <td>0</td>\n",
       "      <td>0</td>\n",
       "      <td>Avec_SK_ID_CURR</td>\n",
       "    </tr>\n",
       "  </tbody>\n",
       "</table>\n",
       "</div>"
      ],
      "text/plain": [
       "   mean_fit_time  std_fit_time  mean_score_time  std_score_time params  \\\n",
       "0           8.25           5.5             0.08            0.03     {}   \n",
       "\n",
       "   mean_test_roc_auc  std_test_roc_auc  rank_test_roc_auc  mean_train_roc_auc  \\\n",
       "0               0.75              0.01                  1                0.77   \n",
       "\n",
       "   std_train_roc_auc  mean_test_accuracy  std_test_accuracy  \\\n",
       "0                0.0                0.68               0.01   \n",
       "\n",
       "   rank_test_accuracy  mean_train_accuracy  std_train_accuracy  mean_test_f1  \\\n",
       "0                   1                 0.69                 0.0          0.26   \n",
       "\n",
       "   std_test_f1  rank_test_f1  mean_train_f1  std_train_f1  mean_test_recall  \\\n",
       "0         0.01             1           0.27           0.0              0.69   \n",
       "\n",
       "   std_test_recall  rank_test_recall  mean_train_recall  std_train_recall  \\\n",
       "0             0.02                 1               0.71               0.0   \n",
       "\n",
       "   mean_test_precision  std_test_precision  rank_test_precision  \\\n",
       "0                 0.16                0.01                    1   \n",
       "\n",
       "   mean_train_precision  std_train_precision  log_target  transf_feat  \\\n",
       "0                  0.17                  0.0           0            0   \n",
       "\n",
       "          features  \n",
       "0  Avec_SK_ID_CURR  "
      ]
     },
     "execution_count": 22,
     "metadata": {},
     "output_type": "execute_result"
    }
   ],
   "source": [
    "res=result(grid, features='Avec_SK_ID_CURR')\n",
    "res.sort_values(by='mean_test_roc_auc',ascending=False).head(5)"
   ]
  },
  {
   "cell_type": "code",
   "execution_count": 23,
   "metadata": {},
   "outputs": [
    {
     "data": {
      "text/html": [
       "<div>\n",
       "<style scoped>\n",
       "    .dataframe tbody tr th:only-of-type {\n",
       "        vertical-align: middle;\n",
       "    }\n",
       "\n",
       "    .dataframe tbody tr th {\n",
       "        vertical-align: top;\n",
       "    }\n",
       "\n",
       "    .dataframe thead th {\n",
       "        text-align: right;\n",
       "    }\n",
       "</style>\n",
       "<table border=\"1\" class=\"dataframe\">\n",
       "  <thead>\n",
       "    <tr style=\"text-align: right;\">\n",
       "      <th></th>\n",
       "      <th>mean_fit_time</th>\n",
       "      <th>std_fit_time</th>\n",
       "      <th>mean_score_time</th>\n",
       "      <th>std_score_time</th>\n",
       "      <th>params</th>\n",
       "      <th>mean_test_roc_auc</th>\n",
       "      <th>std_test_roc_auc</th>\n",
       "      <th>rank_test_roc_auc</th>\n",
       "      <th>mean_train_roc_auc</th>\n",
       "      <th>std_train_roc_auc</th>\n",
       "      <th>mean_test_accuracy</th>\n",
       "      <th>std_test_accuracy</th>\n",
       "      <th>rank_test_accuracy</th>\n",
       "      <th>mean_train_accuracy</th>\n",
       "      <th>std_train_accuracy</th>\n",
       "      <th>mean_test_f1</th>\n",
       "      <th>std_test_f1</th>\n",
       "      <th>rank_test_f1</th>\n",
       "      <th>mean_train_f1</th>\n",
       "      <th>std_train_f1</th>\n",
       "      <th>mean_test_recall</th>\n",
       "      <th>std_test_recall</th>\n",
       "      <th>rank_test_recall</th>\n",
       "      <th>mean_train_recall</th>\n",
       "      <th>std_train_recall</th>\n",
       "      <th>mean_test_precision</th>\n",
       "      <th>std_test_precision</th>\n",
       "      <th>rank_test_precision</th>\n",
       "      <th>mean_train_precision</th>\n",
       "      <th>std_train_precision</th>\n",
       "      <th>log_target</th>\n",
       "      <th>transf_feat</th>\n",
       "      <th>features</th>\n",
       "    </tr>\n",
       "  </thead>\n",
       "  <tbody>\n",
       "    <tr>\n",
       "      <th>0</th>\n",
       "      <td>2.01</td>\n",
       "      <td>0.72</td>\n",
       "      <td>0.09</td>\n",
       "      <td>0.05</td>\n",
       "      <td>{}</td>\n",
       "      <td>0.75</td>\n",
       "      <td>0.01</td>\n",
       "      <td>1</td>\n",
       "      <td>0.77</td>\n",
       "      <td>0.0</td>\n",
       "      <td>0.68</td>\n",
       "      <td>0.01</td>\n",
       "      <td>1</td>\n",
       "      <td>0.69</td>\n",
       "      <td>0.0</td>\n",
       "      <td>0.26</td>\n",
       "      <td>0.01</td>\n",
       "      <td>1</td>\n",
       "      <td>0.27</td>\n",
       "      <td>0.0</td>\n",
       "      <td>0.69</td>\n",
       "      <td>0.03</td>\n",
       "      <td>1</td>\n",
       "      <td>0.71</td>\n",
       "      <td>0.01</td>\n",
       "      <td>0.16</td>\n",
       "      <td>0.01</td>\n",
       "      <td>1</td>\n",
       "      <td>0.17</td>\n",
       "      <td>0.0</td>\n",
       "      <td>0</td>\n",
       "      <td>0</td>\n",
       "      <td>Sans_SK_ID_CURR</td>\n",
       "    </tr>\n",
       "    <tr>\n",
       "      <th>1</th>\n",
       "      <td>8.25</td>\n",
       "      <td>5.50</td>\n",
       "      <td>0.08</td>\n",
       "      <td>0.03</td>\n",
       "      <td>{}</td>\n",
       "      <td>0.75</td>\n",
       "      <td>0.01</td>\n",
       "      <td>1</td>\n",
       "      <td>0.77</td>\n",
       "      <td>0.0</td>\n",
       "      <td>0.68</td>\n",
       "      <td>0.01</td>\n",
       "      <td>1</td>\n",
       "      <td>0.69</td>\n",
       "      <td>0.0</td>\n",
       "      <td>0.26</td>\n",
       "      <td>0.01</td>\n",
       "      <td>1</td>\n",
       "      <td>0.27</td>\n",
       "      <td>0.0</td>\n",
       "      <td>0.69</td>\n",
       "      <td>0.02</td>\n",
       "      <td>1</td>\n",
       "      <td>0.71</td>\n",
       "      <td>0.00</td>\n",
       "      <td>0.16</td>\n",
       "      <td>0.01</td>\n",
       "      <td>1</td>\n",
       "      <td>0.17</td>\n",
       "      <td>0.0</td>\n",
       "      <td>0</td>\n",
       "      <td>0</td>\n",
       "      <td>Avec_SK_ID_CURR</td>\n",
       "    </tr>\n",
       "  </tbody>\n",
       "</table>\n",
       "</div>"
      ],
      "text/plain": [
       "   mean_fit_time  std_fit_time  mean_score_time  std_score_time params  \\\n",
       "0           2.01          0.72             0.09            0.05     {}   \n",
       "1           8.25          5.50             0.08            0.03     {}   \n",
       "\n",
       "   mean_test_roc_auc  std_test_roc_auc  rank_test_roc_auc  mean_train_roc_auc  \\\n",
       "0               0.75              0.01                  1                0.77   \n",
       "1               0.75              0.01                  1                0.77   \n",
       "\n",
       "   std_train_roc_auc  mean_test_accuracy  std_test_accuracy  \\\n",
       "0                0.0                0.68               0.01   \n",
       "1                0.0                0.68               0.01   \n",
       "\n",
       "   rank_test_accuracy  mean_train_accuracy  std_train_accuracy  mean_test_f1  \\\n",
       "0                   1                 0.69                 0.0          0.26   \n",
       "1                   1                 0.69                 0.0          0.26   \n",
       "\n",
       "   std_test_f1  rank_test_f1  mean_train_f1  std_train_f1  mean_test_recall  \\\n",
       "0         0.01             1           0.27           0.0              0.69   \n",
       "1         0.01             1           0.27           0.0              0.69   \n",
       "\n",
       "   std_test_recall  rank_test_recall  mean_train_recall  std_train_recall  \\\n",
       "0             0.03                 1               0.71              0.01   \n",
       "1             0.02                 1               0.71              0.00   \n",
       "\n",
       "   mean_test_precision  std_test_precision  rank_test_precision  \\\n",
       "0                 0.16                0.01                    1   \n",
       "1                 0.16                0.01                    1   \n",
       "\n",
       "   mean_train_precision  std_train_precision  log_target  transf_feat  \\\n",
       "0                  0.17                  0.0           0            0   \n",
       "1                  0.17                  0.0           0            0   \n",
       "\n",
       "          features  \n",
       "0  Sans_SK_ID_CURR  \n",
       "1  Avec_SK_ID_CURR  "
      ]
     },
     "execution_count": 23,
     "metadata": {},
     "output_type": "execute_result"
    }
   ],
   "source": [
    "RES=pd.concat([RES, res],axis=0, ignore_index=True)\n",
    "RES"
   ]
  },
  {
   "cell_type": "markdown",
   "metadata": {},
   "source": [
    "Résultats sensiblement identiques avec ou sans SK_ID_CURR\n",
    "\n",
    "=> On peut ajouter l'id dans notre best_model sans diminuer la qualité du modèle"
   ]
  },
  {
   "cell_type": "markdown",
   "metadata": {},
   "source": [
    "Enregistrment du modèle au format pkl pour utilisation dans l'API"
   ]
  },
  {
   "cell_type": "code",
   "execution_count": 24,
   "metadata": {},
   "outputs": [],
   "source": [
    "X_train,X_test,y_train,y_test=train_test_split(X2,y2,test_size=0.2)"
   ]
  },
  {
   "cell_type": "code",
   "execution_count": 25,
   "metadata": {},
   "outputs": [
    {
     "name": "stdout",
     "output_type": "stream",
     "text": [
      "Train set: (49192, 24)\n",
      "Test set: (12299, 24)\n",
      "Train target: (49192,)\n",
      "Test target: (12299,)\n"
     ]
    }
   ],
   "source": [
    "print('Train set:',X_train.shape)\n",
    "print('Test set:',X_test.shape)\n",
    "print('Train target:',y_train.shape)\n",
    "print('Test target:',y_test.shape)"
   ]
  },
  {
   "cell_type": "code",
   "execution_count": 26,
   "metadata": {},
   "outputs": [
    {
     "name": "stdout",
     "output_type": "stream",
     "text": [
      "[LightGBM] [Warning] min_data_in_leaf is set=500, min_child_samples=20 will be ignored. Current value: min_data_in_leaf=500\n",
      "[LightGBM] [Warning] min_data_in_leaf is set=500, min_child_samples=20 will be ignored. Current value: min_data_in_leaf=500\n",
      "[LightGBM] [Info] Number of positive: 3974, number of negative: 3974\n",
      "[LightGBM] [Info] Auto-choosing col-wise multi-threading, the overhead of testing was 0.000626 seconds.\n",
      "You can set `force_col_wise=true` to remove the overhead.\n",
      "[LightGBM] [Info] Total Bins 3111\n",
      "[LightGBM] [Info] Number of data points in the train set: 7948, number of used features: 24\n",
      "[LightGBM] [Info] [binary:BoostFromScore]: pavg=0.500000 -> initscore=0.000000\n",
      "[LightGBM] [Warning] No further splits with positive gain, best gain: -inf\n",
      "[LightGBM] [Warning] No further splits with positive gain, best gain: -inf\n",
      "[LightGBM] [Warning] No further splits with positive gain, best gain: -inf\n",
      "[LightGBM] [Warning] No further splits with positive gain, best gain: -inf\n",
      "[LightGBM] [Warning] No further splits with positive gain, best gain: -inf\n",
      "[LightGBM] [Warning] No further splits with positive gain, best gain: -inf\n",
      "[LightGBM] [Warning] No further splits with positive gain, best gain: -inf\n",
      "[LightGBM] [Warning] No further splits with positive gain, best gain: -inf\n",
      "[LightGBM] [Warning] No further splits with positive gain, best gain: -inf\n",
      "[LightGBM] [Warning] No further splits with positive gain, best gain: -inf\n",
      "[LightGBM] [Warning] No further splits with positive gain, best gain: -inf\n",
      "[LightGBM] [Warning] No further splits with positive gain, best gain: -inf\n",
      "[LightGBM] [Warning] No further splits with positive gain, best gain: -inf\n",
      "[LightGBM] [Warning] No further splits with positive gain, best gain: -inf\n",
      "[LightGBM] [Warning] No further splits with positive gain, best gain: -inf\n",
      "[LightGBM] [Warning] No further splits with positive gain, best gain: -inf\n",
      "[LightGBM] [Warning] No further splits with positive gain, best gain: -inf\n",
      "[LightGBM] [Warning] No further splits with positive gain, best gain: -inf\n",
      "[LightGBM] [Warning] No further splits with positive gain, best gain: -inf\n",
      "[LightGBM] [Warning] No further splits with positive gain, best gain: -inf\n",
      "[LightGBM] [Warning] No further splits with positive gain, best gain: -inf\n",
      "[LightGBM] [Warning] No further splits with positive gain, best gain: -inf\n",
      "[LightGBM] [Warning] No further splits with positive gain, best gain: -inf\n",
      "[LightGBM] [Warning] No further splits with positive gain, best gain: -inf\n",
      "[LightGBM] [Warning] No further splits with positive gain, best gain: -inf\n",
      "[LightGBM] [Warning] No further splits with positive gain, best gain: -inf\n",
      "[LightGBM] [Warning] No further splits with positive gain, best gain: -inf\n",
      "[LightGBM] [Warning] No further splits with positive gain, best gain: -inf\n",
      "[LightGBM] [Warning] No further splits with positive gain, best gain: -inf\n",
      "[LightGBM] [Warning] No further splits with positive gain, best gain: -inf\n",
      "[LightGBM] [Warning] No further splits with positive gain, best gain: -inf\n",
      "[LightGBM] [Warning] No further splits with positive gain, best gain: -inf\n",
      "[LightGBM] [Warning] No further splits with positive gain, best gain: -inf\n",
      "[LightGBM] [Warning] No further splits with positive gain, best gain: -inf\n",
      "[LightGBM] [Warning] No further splits with positive gain, best gain: -inf\n",
      "[LightGBM] [Warning] No further splits with positive gain, best gain: -inf\n",
      "[LightGBM] [Warning] No further splits with positive gain, best gain: -inf\n",
      "[LightGBM] [Warning] No further splits with positive gain, best gain: -inf\n",
      "[LightGBM] [Warning] No further splits with positive gain, best gain: -inf\n",
      "[LightGBM] [Warning] No further splits with positive gain, best gain: -inf\n",
      "[LightGBM] [Warning] No further splits with positive gain, best gain: -inf\n",
      "[LightGBM] [Warning] No further splits with positive gain, best gain: -inf\n",
      "[LightGBM] [Warning] No further splits with positive gain, best gain: -inf\n",
      "[LightGBM] [Warning] No further splits with positive gain, best gain: -inf\n",
      "[LightGBM] [Warning] No further splits with positive gain, best gain: -inf\n",
      "[LightGBM] [Warning] No further splits with positive gain, best gain: -inf\n",
      "[LightGBM] [Warning] No further splits with positive gain, best gain: -inf\n",
      "[LightGBM] [Warning] No further splits with positive gain, best gain: -inf\n",
      "[LightGBM] [Warning] No further splits with positive gain, best gain: -inf\n",
      "[LightGBM] [Warning] No further splits with positive gain, best gain: -inf\n",
      "[LightGBM] [Warning] No further splits with positive gain, best gain: -inf\n",
      "[LightGBM] [Warning] No further splits with positive gain, best gain: -inf\n",
      "[LightGBM] [Warning] No further splits with positive gain, best gain: -inf\n",
      "[LightGBM] [Warning] No further splits with positive gain, best gain: -inf\n",
      "[LightGBM] [Warning] No further splits with positive gain, best gain: -inf\n",
      "[LightGBM] [Warning] No further splits with positive gain, best gain: -inf\n",
      "[LightGBM] [Warning] No further splits with positive gain, best gain: -inf\n",
      "[LightGBM] [Warning] No further splits with positive gain, best gain: -inf\n",
      "[LightGBM] [Warning] No further splits with positive gain, best gain: -inf\n",
      "[LightGBM] [Warning] No further splits with positive gain, best gain: -inf\n",
      "[LightGBM] [Warning] No further splits with positive gain, best gain: -inf\n",
      "[LightGBM] [Warning] No further splits with positive gain, best gain: -inf\n",
      "[LightGBM] [Warning] No further splits with positive gain, best gain: -inf\n",
      "[LightGBM] [Warning] No further splits with positive gain, best gain: -inf\n",
      "[LightGBM] [Warning] No further splits with positive gain, best gain: -inf\n",
      "[LightGBM] [Warning] No further splits with positive gain, best gain: -inf\n",
      "[LightGBM] [Warning] No further splits with positive gain, best gain: -inf\n",
      "[LightGBM] [Warning] No further splits with positive gain, best gain: -inf\n",
      "[LightGBM] [Warning] No further splits with positive gain, best gain: -inf\n",
      "[LightGBM] [Warning] No further splits with positive gain, best gain: -inf\n",
      "[LightGBM] [Warning] No further splits with positive gain, best gain: -inf\n",
      "[LightGBM] [Warning] No further splits with positive gain, best gain: -inf\n",
      "[LightGBM] [Warning] No further splits with positive gain, best gain: -inf\n",
      "[LightGBM] [Warning] No further splits with positive gain, best gain: -inf\n",
      "[LightGBM] [Warning] No further splits with positive gain, best gain: -inf\n",
      "[LightGBM] [Warning] No further splits with positive gain, best gain: -inf\n",
      "[LightGBM] [Warning] No further splits with positive gain, best gain: -inf\n",
      "[LightGBM] [Warning] No further splits with positive gain, best gain: -inf\n",
      "[LightGBM] [Warning] No further splits with positive gain, best gain: -inf\n",
      "[LightGBM] [Warning] No further splits with positive gain, best gain: -inf\n",
      "[LightGBM] [Warning] No further splits with positive gain, best gain: -inf\n",
      "[LightGBM] [Warning] No further splits with positive gain, best gain: -inf\n",
      "[LightGBM] [Warning] No further splits with positive gain, best gain: -inf\n",
      "[LightGBM] [Warning] No further splits with positive gain, best gain: -inf\n",
      "[LightGBM] [Warning] No further splits with positive gain, best gain: -inf\n",
      "[LightGBM] [Warning] No further splits with positive gain, best gain: -inf\n",
      "[LightGBM] [Warning] No further splits with positive gain, best gain: -inf\n",
      "[LightGBM] [Warning] No further splits with positive gain, best gain: -inf\n",
      "[LightGBM] [Warning] No further splits with positive gain, best gain: -inf\n",
      "[LightGBM] [Warning] No further splits with positive gain, best gain: -inf\n",
      "[LightGBM] [Warning] No further splits with positive gain, best gain: -inf\n",
      "[LightGBM] [Warning] No further splits with positive gain, best gain: -inf\n"
     ]
    },
    {
     "data": {
      "text/plain": [
       "Pipeline(steps=[('sampler', RandomUnderSampler()),\n",
       "                ('imputer', SimpleImputer(strategy='median')),\n",
       "                ('scaler', StandardScaler()),\n",
       "                ('estimator',\n",
       "                 LGBMClassifier(max_depth=3, min_data_in_leaf=500,\n",
       "                                num_leaves=20))])"
      ]
     },
     "execution_count": 26,
     "metadata": {},
     "output_type": "execute_result"
    }
   ],
   "source": [
    "best_LGBM.fit(X_train,y_train)"
   ]
  },
  {
   "cell_type": "code",
   "execution_count": 27,
   "metadata": {},
   "outputs": [
    {
     "name": "stdout",
     "output_type": "stream",
     "text": [
      "[LightGBM] [Warning] min_data_in_leaf is set=500, min_child_samples=20 will be ignored. Current value: min_data_in_leaf=500\n"
     ]
    }
   ],
   "source": [
    "lgbm_predict=best_LGBM.predict(X_test)"
   ]
  },
  {
   "cell_type": "code",
   "execution_count": 28,
   "metadata": {},
   "outputs": [
    {
     "name": "stdout",
     "output_type": "stream",
     "text": [
      "Accuracy score = 0.6767216846898122\n",
      "Precision score = 0.15847750865051904\n",
      "Recall score = 0.6768472906403941\n",
      "F1 score = 0.2568224299065421\n",
      "ROC AUC score = 0.6767788385140998\n"
     ]
    }
   ],
   "source": [
    "print_score(y_test, lgbm_predict)"
   ]
  },
  {
   "cell_type": "markdown",
   "metadata": {},
   "source": [
    "Enregistrement de la partie preprocessing puis estimateur"
   ]
  },
  {
   "cell_type": "code",
   "execution_count": 29,
   "metadata": {},
   "outputs": [
    {
     "data": {
      "text/plain": [
       "Pipeline(steps=[('sampler', RandomUnderSampler()),\n",
       "                ('imputer', SimpleImputer(strategy='median')),\n",
       "                ('scaler', StandardScaler())])"
      ]
     },
     "execution_count": 29,
     "metadata": {},
     "output_type": "execute_result"
    }
   ],
   "source": [
    "best_LGBM[:-1]"
   ]
  },
  {
   "cell_type": "code",
   "execution_count": 30,
   "metadata": {},
   "outputs": [
    {
     "data": {
      "text/plain": [
       "LGBMClassifier(max_depth=3, min_data_in_leaf=500, num_leaves=20)"
      ]
     },
     "execution_count": 30,
     "metadata": {},
     "output_type": "execute_result"
    }
   ],
   "source": [
    "best_LGBM[-1]"
   ]
  },
  {
   "cell_type": "code",
   "execution_count": 28,
   "metadata": {},
   "outputs": [
    {
     "data": {
      "text/plain": [
       "Pipeline(steps=[('sampler', RandomUnderSampler()),\n",
       "                ('imputer', SimpleImputer(strategy='median')),\n",
       "                ('scaler', StandardScaler())])"
      ]
     },
     "execution_count": 28,
     "metadata": {},
     "output_type": "execute_result"
    }
   ],
   "source": [
    "#best_model[:-1]"
   ]
  },
  {
   "cell_type": "code",
   "execution_count": 29,
   "metadata": {},
   "outputs": [
    {
     "data": {
      "text/plain": [
       "LogisticRegression()"
      ]
     },
     "execution_count": 29,
     "metadata": {},
     "output_type": "execute_result"
    }
   ],
   "source": [
    "#best_model[-1]"
   ]
  },
  {
   "cell_type": "markdown",
   "metadata": {},
   "source": [
    "Enregistrement de la partie preprocessing:\n",
    "- sampler\n",
    "- imputer\n",
    "- scaler"
   ]
  },
  {
   "cell_type": "code",
   "execution_count": 31,
   "metadata": {},
   "outputs": [],
   "source": [
    "pickle_out = open(\"transformerV2.pkl\",\"wb\")\n",
    "pickle.dump(best_LGBM[:-1], pickle_out)\n",
    "pickle_out.close()"
   ]
  },
  {
   "cell_type": "markdown",
   "metadata": {},
   "source": [
    "Enregistrement de la partie estimateur"
   ]
  },
  {
   "cell_type": "code",
   "execution_count": 32,
   "metadata": {},
   "outputs": [],
   "source": [
    "pickle_out = open(\"lgmbV2.pkl\",\"wb\")\n",
    "pickle.dump(best_LGBM[-1], pickle_out)\n",
    "pickle_out.close()"
   ]
  },
  {
   "cell_type": "markdown",
   "metadata": {},
   "source": [
    "Essai..."
   ]
  },
  {
   "cell_type": "code",
   "execution_count": 33,
   "metadata": {},
   "outputs": [
    {
     "data": {
      "text/html": [
       "<div>\n",
       "<style scoped>\n",
       "    .dataframe tbody tr th:only-of-type {\n",
       "        vertical-align: middle;\n",
       "    }\n",
       "\n",
       "    .dataframe tbody tr th {\n",
       "        vertical-align: top;\n",
       "    }\n",
       "\n",
       "    .dataframe thead th {\n",
       "        text-align: right;\n",
       "    }\n",
       "</style>\n",
       "<table border=\"1\" class=\"dataframe\">\n",
       "  <thead>\n",
       "    <tr style=\"text-align: right;\">\n",
       "      <th></th>\n",
       "      <th>SK_ID_CURR</th>\n",
       "      <th>FLAG_OWN_CAR</th>\n",
       "      <th>FLAG_OWN_REALTY</th>\n",
       "      <th>AMT_INCOME_TOTAL</th>\n",
       "      <th>AMT_CREDIT</th>\n",
       "      <th>AMT_ANNUITY</th>\n",
       "      <th>CNT_FAM_MEMBERS</th>\n",
       "      <th>EXT_SOURCE_1</th>\n",
       "      <th>EXT_SOURCE_2</th>\n",
       "      <th>EXT_SOURCE_3</th>\n",
       "      <th>Prev_contract_nb</th>\n",
       "      <th>Prev_AMT_CREDIT</th>\n",
       "      <th>Refused_rate</th>\n",
       "      <th>default_payment</th>\n",
       "      <th>INCOME_CREDIT_PERC</th>\n",
       "      <th>ANNUITY_INCOME_PERC</th>\n",
       "      <th>PAYMENT_RATE</th>\n",
       "      <th>client_age</th>\n",
       "      <th>client_prof_exp</th>\n",
       "      <th>INCOME_PER_PERSON</th>\n",
       "      <th>Cash_loans</th>\n",
       "      <th>GENDER_FEMALE</th>\n",
       "      <th>active_client</th>\n",
       "      <th>relationship</th>\n",
       "    </tr>\n",
       "  </thead>\n",
       "  <tbody>\n",
       "    <tr>\n",
       "      <th>0</th>\n",
       "      <td>-1.605567</td>\n",
       "      <td>-0.689893</td>\n",
       "      <td>0.667545</td>\n",
       "      <td>0.945382</td>\n",
       "      <td>-0.862377</td>\n",
       "      <td>-1.019255</td>\n",
       "      <td>-0.170796</td>\n",
       "      <td>-0.040521</td>\n",
       "      <td>0.550583</td>\n",
       "      <td>0.051492</td>\n",
       "      <td>-0.809093</td>\n",
       "      <td>-0.544767</td>\n",
       "      <td>0.203941</td>\n",
       "      <td>-0.428508</td>\n",
       "      <td>1.833551</td>\n",
       "      <td>-1.395365</td>\n",
       "      <td>-0.135692</td>\n",
       "      <td>1.690079</td>\n",
       "      <td>-0.850022</td>\n",
       "      <td>0.484045</td>\n",
       "      <td>0.29442</td>\n",
       "      <td>0.790796</td>\n",
       "      <td>-2.352910</td>\n",
       "      <td>0.615746</td>\n",
       "    </tr>\n",
       "    <tr>\n",
       "      <th>1</th>\n",
       "      <td>-1.417408</td>\n",
       "      <td>1.449501</td>\n",
       "      <td>-1.498026</td>\n",
       "      <td>-0.575111</td>\n",
       "      <td>-0.814491</td>\n",
       "      <td>-0.438939</td>\n",
       "      <td>0.913457</td>\n",
       "      <td>-0.529205</td>\n",
       "      <td>0.325285</td>\n",
       "      <td>0.012892</td>\n",
       "      <td>1.708852</td>\n",
       "      <td>1.260225</td>\n",
       "      <td>0.575865</td>\n",
       "      <td>2.333681</td>\n",
       "      <td>0.067336</td>\n",
       "      <td>0.021613</td>\n",
       "      <td>1.053024</td>\n",
       "      <td>-0.922690</td>\n",
       "      <td>0.733204</td>\n",
       "      <td>-0.788319</td>\n",
       "      <td>0.29442</td>\n",
       "      <td>-1.264549</td>\n",
       "      <td>0.425006</td>\n",
       "      <td>0.615746</td>\n",
       "    </tr>\n",
       "    <tr>\n",
       "      <th>2</th>\n",
       "      <td>-0.225143</td>\n",
       "      <td>-0.689893</td>\n",
       "      <td>0.667545</td>\n",
       "      <td>-1.072004</td>\n",
       "      <td>-1.022318</td>\n",
       "      <td>-0.570213</td>\n",
       "      <td>-1.255048</td>\n",
       "      <td>2.863444</td>\n",
       "      <td>0.087489</td>\n",
       "      <td>1.763644</td>\n",
       "      <td>-0.022236</td>\n",
       "      <td>-0.377012</td>\n",
       "      <td>-0.663881</td>\n",
       "      <td>-0.428508</td>\n",
       "      <td>-0.131556</td>\n",
       "      <td>1.052713</td>\n",
       "      <td>2.075150</td>\n",
       "      <td>2.111494</td>\n",
       "      <td>-0.850022</td>\n",
       "      <td>-0.352578</td>\n",
       "      <td>0.29442</td>\n",
       "      <td>0.790796</td>\n",
       "      <td>-2.352910</td>\n",
       "      <td>-1.624047</td>\n",
       "    </tr>\n",
       "    <tr>\n",
       "      <th>3</th>\n",
       "      <td>-1.451765</td>\n",
       "      <td>1.449501</td>\n",
       "      <td>-1.498026</td>\n",
       "      <td>1.164015</td>\n",
       "      <td>0.262952</td>\n",
       "      <td>1.644577</td>\n",
       "      <td>0.913457</td>\n",
       "      <td>-0.040521</td>\n",
       "      <td>0.144319</td>\n",
       "      <td>-0.365667</td>\n",
       "      <td>2.180966</td>\n",
       "      <td>2.582697</td>\n",
       "      <td>1.071763</td>\n",
       "      <td>-0.428508</td>\n",
       "      <td>0.016247</td>\n",
       "      <td>-0.013553</td>\n",
       "      <td>0.849317</td>\n",
       "      <td>0.004422</td>\n",
       "      <td>-0.322280</td>\n",
       "      <td>-0.025772</td>\n",
       "      <td>0.29442</td>\n",
       "      <td>-1.264549</td>\n",
       "      <td>0.425006</td>\n",
       "      <td>0.615746</td>\n",
       "    </tr>\n",
       "    <tr>\n",
       "      <th>4</th>\n",
       "      <td>-0.223942</td>\n",
       "      <td>1.449501</td>\n",
       "      <td>0.667545</td>\n",
       "      <td>0.170229</td>\n",
       "      <td>-1.102527</td>\n",
       "      <td>-1.119446</td>\n",
       "      <td>-0.170796</td>\n",
       "      <td>-0.040521</td>\n",
       "      <td>-1.186152</td>\n",
       "      <td>-0.429886</td>\n",
       "      <td>0.764622</td>\n",
       "      <td>-0.081891</td>\n",
       "      <td>1.264613</td>\n",
       "      <td>-0.428508</td>\n",
       "      <td>2.201725</td>\n",
       "      <td>-1.261031</td>\n",
       "      <td>0.801672</td>\n",
       "      <td>0.257271</td>\n",
       "      <td>-0.498194</td>\n",
       "      <td>-0.025772</td>\n",
       "      <td>0.29442</td>\n",
       "      <td>-1.264549</td>\n",
       "      <td>0.425006</td>\n",
       "      <td>0.615746</td>\n",
       "    </tr>\n",
       "    <tr>\n",
       "      <th>...</th>\n",
       "      <td>...</td>\n",
       "      <td>...</td>\n",
       "      <td>...</td>\n",
       "      <td>...</td>\n",
       "      <td>...</td>\n",
       "      <td>...</td>\n",
       "      <td>...</td>\n",
       "      <td>...</td>\n",
       "      <td>...</td>\n",
       "      <td>...</td>\n",
       "      <td>...</td>\n",
       "      <td>...</td>\n",
       "      <td>...</td>\n",
       "      <td>...</td>\n",
       "      <td>...</td>\n",
       "      <td>...</td>\n",
       "      <td>...</td>\n",
       "      <td>...</td>\n",
       "      <td>...</td>\n",
       "      <td>...</td>\n",
       "      <td>...</td>\n",
       "      <td>...</td>\n",
       "      <td>...</td>\n",
       "      <td>...</td>\n",
       "    </tr>\n",
       "    <tr>\n",
       "      <th>61486</th>\n",
       "      <td>0.606240</td>\n",
       "      <td>1.449501</td>\n",
       "      <td>0.667545</td>\n",
       "      <td>1.909355</td>\n",
       "      <td>2.544222</td>\n",
       "      <td>1.949450</td>\n",
       "      <td>0.913457</td>\n",
       "      <td>1.983875</td>\n",
       "      <td>1.082765</td>\n",
       "      <td>0.677694</td>\n",
       "      <td>0.135136</td>\n",
       "      <td>1.475348</td>\n",
       "      <td>1.505675</td>\n",
       "      <td>-0.428508</td>\n",
       "      <td>-0.534815</td>\n",
       "      <td>-0.269739</td>\n",
       "      <td>-0.906090</td>\n",
       "      <td>1.100099</td>\n",
       "      <td>4.603311</td>\n",
       "      <td>0.301034</td>\n",
       "      <td>0.29442</td>\n",
       "      <td>0.790796</td>\n",
       "      <td>0.425006</td>\n",
       "      <td>0.615746</td>\n",
       "    </tr>\n",
       "    <tr>\n",
       "      <th>61487</th>\n",
       "      <td>1.460533</td>\n",
       "      <td>-0.689893</td>\n",
       "      <td>0.667545</td>\n",
       "      <td>-0.972625</td>\n",
       "      <td>-1.033427</td>\n",
       "      <td>-1.173014</td>\n",
       "      <td>-0.170796</td>\n",
       "      <td>-0.040521</td>\n",
       "      <td>-0.586195</td>\n",
       "      <td>0.051492</td>\n",
       "      <td>-0.809093</td>\n",
       "      <td>-0.544767</td>\n",
       "      <td>-0.663881</td>\n",
       "      <td>-0.428508</td>\n",
       "      <td>0.039411</td>\n",
       "      <td>-0.435864</td>\n",
       "      <td>0.164453</td>\n",
       "      <td>1.015816</td>\n",
       "      <td>3.020085</td>\n",
       "      <td>-0.777426</td>\n",
       "      <td>0.29442</td>\n",
       "      <td>0.790796</td>\n",
       "      <td>0.425006</td>\n",
       "      <td>0.615746</td>\n",
       "    </tr>\n",
       "    <tr>\n",
       "      <th>61488</th>\n",
       "      <td>0.383123</td>\n",
       "      <td>1.449501</td>\n",
       "      <td>0.667545</td>\n",
       "      <td>-0.426043</td>\n",
       "      <td>-0.520433</td>\n",
       "      <td>-0.780184</td>\n",
       "      <td>-0.170796</td>\n",
       "      <td>-0.040521</td>\n",
       "      <td>0.852840</td>\n",
       "      <td>0.051492</td>\n",
       "      <td>-0.809093</td>\n",
       "      <td>-0.544767</td>\n",
       "      <td>-0.663881</td>\n",
       "      <td>-0.428508</td>\n",
       "      <td>-0.194911</td>\n",
       "      <td>-0.579547</td>\n",
       "      <td>-0.544161</td>\n",
       "      <td>1.184382</td>\n",
       "      <td>-0.498194</td>\n",
       "      <td>-0.417939</td>\n",
       "      <td>0.29442</td>\n",
       "      <td>0.790796</td>\n",
       "      <td>0.425006</td>\n",
       "      <td>0.615746</td>\n",
       "    </tr>\n",
       "    <tr>\n",
       "      <th>61489</th>\n",
       "      <td>0.919548</td>\n",
       "      <td>-0.689893</td>\n",
       "      <td>0.667545</td>\n",
       "      <td>13.089449</td>\n",
       "      <td>-0.000231</td>\n",
       "      <td>0.084503</td>\n",
       "      <td>-0.170796</td>\n",
       "      <td>0.777849</td>\n",
       "      <td>0.645015</td>\n",
       "      <td>-0.511284</td>\n",
       "      <td>-0.809093</td>\n",
       "      <td>-0.544767</td>\n",
       "      <td>-0.663881</td>\n",
       "      <td>-0.428508</td>\n",
       "      <td>5.973588</td>\n",
       "      <td>-1.725722</td>\n",
       "      <td>-0.270944</td>\n",
       "      <td>0.341553</td>\n",
       "      <td>-0.498194</td>\n",
       "      <td>8.471183</td>\n",
       "      <td>0.29442</td>\n",
       "      <td>-1.264549</td>\n",
       "      <td>0.425006</td>\n",
       "      <td>0.615746</td>\n",
       "    </tr>\n",
       "    <tr>\n",
       "      <th>61490</th>\n",
       "      <td>1.408872</td>\n",
       "      <td>-0.689893</td>\n",
       "      <td>0.667545</td>\n",
       "      <td>-0.575111</td>\n",
       "      <td>0.815333</td>\n",
       "      <td>0.364906</td>\n",
       "      <td>-0.170796</td>\n",
       "      <td>-0.062524</td>\n",
       "      <td>1.519801</td>\n",
       "      <td>0.734084</td>\n",
       "      <td>-0.336979</td>\n",
       "      <td>2.045596</td>\n",
       "      <td>-0.663881</td>\n",
       "      <td>-0.428508</td>\n",
       "      <td>-0.819180</td>\n",
       "      <td>1.051583</td>\n",
       "      <td>-0.849769</td>\n",
       "      <td>-0.332709</td>\n",
       "      <td>2.492343</td>\n",
       "      <td>-0.515981</td>\n",
       "      <td>0.29442</td>\n",
       "      <td>0.790796</td>\n",
       "      <td>0.425006</td>\n",
       "      <td>0.615746</td>\n",
       "    </tr>\n",
       "  </tbody>\n",
       "</table>\n",
       "<p>61491 rows × 24 columns</p>\n",
       "</div>"
      ],
      "text/plain": [
       "       SK_ID_CURR  FLAG_OWN_CAR  FLAG_OWN_REALTY  AMT_INCOME_TOTAL  \\\n",
       "0       -1.605567     -0.689893         0.667545          0.945382   \n",
       "1       -1.417408      1.449501        -1.498026         -0.575111   \n",
       "2       -0.225143     -0.689893         0.667545         -1.072004   \n",
       "3       -1.451765      1.449501        -1.498026          1.164015   \n",
       "4       -0.223942      1.449501         0.667545          0.170229   \n",
       "...           ...           ...              ...               ...   \n",
       "61486    0.606240      1.449501         0.667545          1.909355   \n",
       "61487    1.460533     -0.689893         0.667545         -0.972625   \n",
       "61488    0.383123      1.449501         0.667545         -0.426043   \n",
       "61489    0.919548     -0.689893         0.667545         13.089449   \n",
       "61490    1.408872     -0.689893         0.667545         -0.575111   \n",
       "\n",
       "       AMT_CREDIT  AMT_ANNUITY  CNT_FAM_MEMBERS  EXT_SOURCE_1  EXT_SOURCE_2  \\\n",
       "0       -0.862377    -1.019255        -0.170796     -0.040521      0.550583   \n",
       "1       -0.814491    -0.438939         0.913457     -0.529205      0.325285   \n",
       "2       -1.022318    -0.570213        -1.255048      2.863444      0.087489   \n",
       "3        0.262952     1.644577         0.913457     -0.040521      0.144319   \n",
       "4       -1.102527    -1.119446        -0.170796     -0.040521     -1.186152   \n",
       "...           ...          ...              ...           ...           ...   \n",
       "61486    2.544222     1.949450         0.913457      1.983875      1.082765   \n",
       "61487   -1.033427    -1.173014        -0.170796     -0.040521     -0.586195   \n",
       "61488   -0.520433    -0.780184        -0.170796     -0.040521      0.852840   \n",
       "61489   -0.000231     0.084503        -0.170796      0.777849      0.645015   \n",
       "61490    0.815333     0.364906        -0.170796     -0.062524      1.519801   \n",
       "\n",
       "       EXT_SOURCE_3  Prev_contract_nb  Prev_AMT_CREDIT  Refused_rate  \\\n",
       "0          0.051492         -0.809093        -0.544767      0.203941   \n",
       "1          0.012892          1.708852         1.260225      0.575865   \n",
       "2          1.763644         -0.022236        -0.377012     -0.663881   \n",
       "3         -0.365667          2.180966         2.582697      1.071763   \n",
       "4         -0.429886          0.764622        -0.081891      1.264613   \n",
       "...             ...               ...              ...           ...   \n",
       "61486      0.677694          0.135136         1.475348      1.505675   \n",
       "61487      0.051492         -0.809093        -0.544767     -0.663881   \n",
       "61488      0.051492         -0.809093        -0.544767     -0.663881   \n",
       "61489     -0.511284         -0.809093        -0.544767     -0.663881   \n",
       "61490      0.734084         -0.336979         2.045596     -0.663881   \n",
       "\n",
       "       default_payment  INCOME_CREDIT_PERC  ANNUITY_INCOME_PERC  PAYMENT_RATE  \\\n",
       "0            -0.428508            1.833551            -1.395365     -0.135692   \n",
       "1             2.333681            0.067336             0.021613      1.053024   \n",
       "2            -0.428508           -0.131556             1.052713      2.075150   \n",
       "3            -0.428508            0.016247            -0.013553      0.849317   \n",
       "4            -0.428508            2.201725            -1.261031      0.801672   \n",
       "...                ...                 ...                  ...           ...   \n",
       "61486        -0.428508           -0.534815            -0.269739     -0.906090   \n",
       "61487        -0.428508            0.039411            -0.435864      0.164453   \n",
       "61488        -0.428508           -0.194911            -0.579547     -0.544161   \n",
       "61489        -0.428508            5.973588            -1.725722     -0.270944   \n",
       "61490        -0.428508           -0.819180             1.051583     -0.849769   \n",
       "\n",
       "       client_age  client_prof_exp  INCOME_PER_PERSON  Cash_loans  \\\n",
       "0        1.690079        -0.850022           0.484045     0.29442   \n",
       "1       -0.922690         0.733204          -0.788319     0.29442   \n",
       "2        2.111494        -0.850022          -0.352578     0.29442   \n",
       "3        0.004422        -0.322280          -0.025772     0.29442   \n",
       "4        0.257271        -0.498194          -0.025772     0.29442   \n",
       "...           ...              ...                ...         ...   \n",
       "61486    1.100099         4.603311           0.301034     0.29442   \n",
       "61487    1.015816         3.020085          -0.777426     0.29442   \n",
       "61488    1.184382        -0.498194          -0.417939     0.29442   \n",
       "61489    0.341553        -0.498194           8.471183     0.29442   \n",
       "61490   -0.332709         2.492343          -0.515981     0.29442   \n",
       "\n",
       "       GENDER_FEMALE  active_client  relationship  \n",
       "0           0.790796      -2.352910      0.615746  \n",
       "1          -1.264549       0.425006      0.615746  \n",
       "2           0.790796      -2.352910     -1.624047  \n",
       "3          -1.264549       0.425006      0.615746  \n",
       "4          -1.264549       0.425006      0.615746  \n",
       "...              ...            ...           ...  \n",
       "61486       0.790796       0.425006      0.615746  \n",
       "61487       0.790796       0.425006      0.615746  \n",
       "61488       0.790796       0.425006      0.615746  \n",
       "61489      -1.264549       0.425006      0.615746  \n",
       "61490       0.790796       0.425006      0.615746  \n",
       "\n",
       "[61491 rows x 24 columns]"
      ]
     },
     "execution_count": 33,
     "metadata": {},
     "output_type": "execute_result"
    }
   ],
   "source": [
    "TF=pd.DataFrame(best_LGBM[:-1].transform(X2),columns = X2.columns)\n",
    "TF"
   ]
  },
  {
   "cell_type": "markdown",
   "metadata": {},
   "source": [
    "Pb: le SK_ID_CURR est scalé"
   ]
  },
  {
   "cell_type": "code",
   "execution_count": 36,
   "metadata": {},
   "outputs": [],
   "source": [
    "explainer=shap.TreeExplainer(best_LGBM[-1])#,TF)"
   ]
  },
  {
   "cell_type": "code",
   "execution_count": 37,
   "metadata": {},
   "outputs": [],
   "source": [
    "shap_values=explainer.shap_values(TF)"
   ]
  },
  {
   "cell_type": "code",
   "execution_count": 38,
   "metadata": {},
   "outputs": [
    {
     "data": {
      "text/plain": [
       "list"
      ]
     },
     "execution_count": 38,
     "metadata": {},
     "output_type": "execute_result"
    }
   ],
   "source": [
    "type(shap_values)"
   ]
  },
  {
   "cell_type": "code",
   "execution_count": 40,
   "metadata": {},
   "outputs": [],
   "source": [
    "#shap.plots.bar(shap_values[0])"
   ]
  },
  {
   "cell_type": "code",
   "execution_count": 45,
   "metadata": {},
   "outputs": [],
   "source": [
    "#shap_values[0]"
   ]
  },
  {
   "cell_type": "code",
   "execution_count": 48,
   "metadata": {},
   "outputs": [],
   "source": [
    "#tmp=pd.DataFrame(shap_values.base_values)\n",
    "#tmp"
   ]
  },
  {
   "cell_type": "markdown",
   "metadata": {},
   "source": [
    "Valeurs d'origne de SKIDCURR"
   ]
  },
  {
   "cell_type": "code",
   "execution_count": 51,
   "metadata": {},
   "outputs": [
    {
     "data": {
      "text/plain": [
       "StandardScaler()"
      ]
     },
     "execution_count": 51,
     "metadata": {},
     "output_type": "execute_result"
    }
   ],
   "source": [
    "best_LGBM[-2]"
   ]
  },
  {
   "cell_type": "code",
   "execution_count": 52,
   "metadata": {},
   "outputs": [
    {
     "data": {
      "text/plain": [
       "0       -1.605567\n",
       "1       -1.417408\n",
       "2       -0.225143\n",
       "3       -1.451765\n",
       "4       -0.223942\n",
       "           ...   \n",
       "61486    0.606240\n",
       "61487    1.460533\n",
       "61488    0.383123\n",
       "61489    0.919548\n",
       "61490    1.408872\n",
       "Name: SK_ID_CURR, Length: 61491, dtype: float64"
      ]
     },
     "execution_count": 52,
     "metadata": {},
     "output_type": "execute_result"
    }
   ],
   "source": [
    "TF['SK_ID_CURR']"
   ]
  },
  {
   "cell_type": "code",
   "execution_count": 55,
   "metadata": {},
   "outputs": [],
   "source": [
    "#TF['SK_ID_CURR'] = best_LGBM[-2].inverse_transform(TF['SK_ID_CURR'])\n",
    "#TF"
   ]
  },
  {
   "cell_type": "code",
   "execution_count": 56,
   "metadata": {},
   "outputs": [
    {
     "data": {
      "text/plain": [
       "(61491,)"
      ]
     },
     "execution_count": 56,
     "metadata": {},
     "output_type": "execute_result"
    }
   ],
   "source": [
    "id_sca=type(TF.SK_ID_CURR).to_numpy(self=TF.SK_ID_CURR)\n",
    "id_sca.shape"
   ]
  },
  {
   "cell_type": "code",
   "execution_count": 59,
   "metadata": {},
   "outputs": [],
   "source": [
    "#id_orig=best_LGBM[-2].inverse_transform(id_sca)\n",
    "#id_orig"
   ]
  },
  {
   "cell_type": "code",
   "execution_count": null,
   "metadata": {},
   "outputs": [],
   "source": []
  },
  {
   "cell_type": "markdown",
   "metadata": {},
   "source": [
    "## 4.2 Ajout de SK_ID_CURR après entrainement de best_model"
   ]
  },
  {
   "cell_type": "markdown",
   "metadata": {},
   "source": [
    "X: df sans SK_ID\n",
    "\n",
    "X2: df avec SK_ID"
   ]
  },
  {
   "cell_type": "markdown",
   "metadata": {},
   "source": [
    "Train test split sur base X2"
   ]
  },
  {
   "cell_type": "code",
   "execution_count": 60,
   "metadata": {},
   "outputs": [
    {
     "data": {
      "text/html": [
       "<div>\n",
       "<style scoped>\n",
       "    .dataframe tbody tr th:only-of-type {\n",
       "        vertical-align: middle;\n",
       "    }\n",
       "\n",
       "    .dataframe tbody tr th {\n",
       "        vertical-align: top;\n",
       "    }\n",
       "\n",
       "    .dataframe thead th {\n",
       "        text-align: right;\n",
       "    }\n",
       "</style>\n",
       "<table border=\"1\" class=\"dataframe\">\n",
       "  <thead>\n",
       "    <tr style=\"text-align: right;\">\n",
       "      <th></th>\n",
       "      <th>SK_ID_CURR</th>\n",
       "      <th>FLAG_OWN_CAR</th>\n",
       "      <th>FLAG_OWN_REALTY</th>\n",
       "      <th>AMT_INCOME_TOTAL</th>\n",
       "      <th>AMT_CREDIT</th>\n",
       "      <th>AMT_ANNUITY</th>\n",
       "      <th>CNT_FAM_MEMBERS</th>\n",
       "      <th>EXT_SOURCE_1</th>\n",
       "      <th>EXT_SOURCE_2</th>\n",
       "      <th>EXT_SOURCE_3</th>\n",
       "      <th>Prev_contract_nb</th>\n",
       "      <th>Prev_AMT_CREDIT</th>\n",
       "      <th>Refused_rate</th>\n",
       "      <th>default_payment</th>\n",
       "      <th>INCOME_CREDIT_PERC</th>\n",
       "      <th>ANNUITY_INCOME_PERC</th>\n",
       "      <th>PAYMENT_RATE</th>\n",
       "      <th>client_age</th>\n",
       "      <th>client_prof_exp</th>\n",
       "      <th>INCOME_PER_PERSON</th>\n",
       "      <th>Cash_loans</th>\n",
       "      <th>GENDER_FEMALE</th>\n",
       "      <th>active_client</th>\n",
       "      <th>relationship</th>\n",
       "    </tr>\n",
       "  </thead>\n",
       "  <tbody>\n",
       "    <tr>\n",
       "      <th>9587</th>\n",
       "      <td>111143</td>\n",
       "      <td>0</td>\n",
       "      <td>1</td>\n",
       "      <td>250200.0</td>\n",
       "      <td>252000.0</td>\n",
       "      <td>12996.0</td>\n",
       "      <td>2.0</td>\n",
       "      <td>NaN</td>\n",
       "      <td>0.579227</td>\n",
       "      <td>NaN</td>\n",
       "      <td>0.0</td>\n",
       "      <td>0.000</td>\n",
       "      <td>0.200000</td>\n",
       "      <td>0.0</td>\n",
       "      <td>0.992857</td>\n",
       "      <td>0.051942</td>\n",
       "      <td>0.051571</td>\n",
       "      <td>62</td>\n",
       "      <td>-0.0</td>\n",
       "      <td>125100.0</td>\n",
       "      <td>1</td>\n",
       "      <td>1</td>\n",
       "      <td>0</td>\n",
       "      <td>1</td>\n",
       "    </tr>\n",
       "    <tr>\n",
       "      <th>26285</th>\n",
       "      <td>130574</td>\n",
       "      <td>1</td>\n",
       "      <td>0</td>\n",
       "      <td>112500.0</td>\n",
       "      <td>270000.0</td>\n",
       "      <td>20893.5</td>\n",
       "      <td>3.0</td>\n",
       "      <td>0.368870</td>\n",
       "      <td>0.532266</td>\n",
       "      <td>0.459690</td>\n",
       "      <td>16.0</td>\n",
       "      <td>4861200.465</td>\n",
       "      <td>0.285714</td>\n",
       "      <td>1.0</td>\n",
       "      <td>0.416667</td>\n",
       "      <td>0.185720</td>\n",
       "      <td>0.077383</td>\n",
       "      <td>31</td>\n",
       "      <td>9.0</td>\n",
       "      <td>37500.0</td>\n",
       "      <td>1</td>\n",
       "      <td>0</td>\n",
       "      <td>1</td>\n",
       "      <td>1</td>\n",
       "    </tr>\n",
       "    <tr>\n",
       "      <th>132491</th>\n",
       "      <td>253698</td>\n",
       "      <td>0</td>\n",
       "      <td>1</td>\n",
       "      <td>67500.0</td>\n",
       "      <td>191880.0</td>\n",
       "      <td>19107.0</td>\n",
       "      <td>1.0</td>\n",
       "      <td>0.847899</td>\n",
       "      <td>0.482701</td>\n",
       "      <td>0.785052</td>\n",
       "      <td>5.0</td>\n",
       "      <td>451795.500</td>\n",
       "      <td>0.000000</td>\n",
       "      <td>0.0</td>\n",
       "      <td>0.351782</td>\n",
       "      <td>0.283067</td>\n",
       "      <td>0.099578</td>\n",
       "      <td>67</td>\n",
       "      <td>-0.0</td>\n",
       "      <td>67500.0</td>\n",
       "      <td>1</td>\n",
       "      <td>1</td>\n",
       "      <td>0</td>\n",
       "      <td>0</td>\n",
       "    </tr>\n",
       "    <tr>\n",
       "      <th>23225</th>\n",
       "      <td>127026</td>\n",
       "      <td>1</td>\n",
       "      <td>0</td>\n",
       "      <td>270000.0</td>\n",
       "      <td>675000.0</td>\n",
       "      <td>49248.0</td>\n",
       "      <td>3.0</td>\n",
       "      <td>NaN</td>\n",
       "      <td>0.494546</td>\n",
       "      <td>0.389339</td>\n",
       "      <td>19.0</td>\n",
       "      <td>8422879.500</td>\n",
       "      <td>0.400000</td>\n",
       "      <td>0.0</td>\n",
       "      <td>0.400000</td>\n",
       "      <td>0.182400</td>\n",
       "      <td>0.072960</td>\n",
       "      <td>42</td>\n",
       "      <td>3.0</td>\n",
       "      <td>90000.0</td>\n",
       "      <td>1</td>\n",
       "      <td>0</td>\n",
       "      <td>1</td>\n",
       "      <td>1</td>\n",
       "    </tr>\n",
       "    <tr>\n",
       "      <th>132600</th>\n",
       "      <td>253822</td>\n",
       "      <td>1</td>\n",
       "      <td>1</td>\n",
       "      <td>180000.0</td>\n",
       "      <td>161730.0</td>\n",
       "      <td>11632.5</td>\n",
       "      <td>2.0</td>\n",
       "      <td>NaN</td>\n",
       "      <td>0.217225</td>\n",
       "      <td>0.377404</td>\n",
       "      <td>10.0</td>\n",
       "      <td>1246617.000</td>\n",
       "      <td>0.444444</td>\n",
       "      <td>0.0</td>\n",
       "      <td>1.112966</td>\n",
       "      <td>0.064625</td>\n",
       "      <td>0.071925</td>\n",
       "      <td>45</td>\n",
       "      <td>2.0</td>\n",
       "      <td>90000.0</td>\n",
       "      <td>1</td>\n",
       "      <td>0</td>\n",
       "      <td>1</td>\n",
       "      <td>1</td>\n",
       "    </tr>\n",
       "    <tr>\n",
       "      <th>...</th>\n",
       "      <td>...</td>\n",
       "      <td>...</td>\n",
       "      <td>...</td>\n",
       "      <td>...</td>\n",
       "      <td>...</td>\n",
       "      <td>...</td>\n",
       "      <td>...</td>\n",
       "      <td>...</td>\n",
       "      <td>...</td>\n",
       "      <td>...</td>\n",
       "      <td>...</td>\n",
       "      <td>...</td>\n",
       "      <td>...</td>\n",
       "      <td>...</td>\n",
       "      <td>...</td>\n",
       "      <td>...</td>\n",
       "      <td>...</td>\n",
       "      <td>...</td>\n",
       "      <td>...</td>\n",
       "      <td>...</td>\n",
       "      <td>...</td>\n",
       "      <td>...</td>\n",
       "      <td>...</td>\n",
       "      <td>...</td>\n",
       "    </tr>\n",
       "    <tr>\n",
       "      <th>206635</th>\n",
       "      <td>339554</td>\n",
       "      <td>1</td>\n",
       "      <td>1</td>\n",
       "      <td>337500.0</td>\n",
       "      <td>1532506.5</td>\n",
       "      <td>53397.0</td>\n",
       "      <td>3.0</td>\n",
       "      <td>0.723707</td>\n",
       "      <td>0.690155</td>\n",
       "      <td>0.583238</td>\n",
       "      <td>6.0</td>\n",
       "      <td>5440567.500</td>\n",
       "      <td>0.500000</td>\n",
       "      <td>0.0</td>\n",
       "      <td>0.220227</td>\n",
       "      <td>0.158213</td>\n",
       "      <td>0.034843</td>\n",
       "      <td>55</td>\n",
       "      <td>31.0</td>\n",
       "      <td>112500.0</td>\n",
       "      <td>1</td>\n",
       "      <td>1</td>\n",
       "      <td>1</td>\n",
       "      <td>1</td>\n",
       "    </tr>\n",
       "    <tr>\n",
       "      <th>282931</th>\n",
       "      <td>427776</td>\n",
       "      <td>0</td>\n",
       "      <td>1</td>\n",
       "      <td>76500.0</td>\n",
       "      <td>187704.0</td>\n",
       "      <td>10903.5</td>\n",
       "      <td>2.0</td>\n",
       "      <td>NaN</td>\n",
       "      <td>0.342279</td>\n",
       "      <td>NaN</td>\n",
       "      <td>0.0</td>\n",
       "      <td>0.000</td>\n",
       "      <td>0.000000</td>\n",
       "      <td>0.0</td>\n",
       "      <td>0.407557</td>\n",
       "      <td>0.142529</td>\n",
       "      <td>0.058089</td>\n",
       "      <td>54</td>\n",
       "      <td>22.0</td>\n",
       "      <td>38250.0</td>\n",
       "      <td>1</td>\n",
       "      <td>1</td>\n",
       "      <td>1</td>\n",
       "      <td>1</td>\n",
       "    </tr>\n",
       "    <tr>\n",
       "      <th>186728</th>\n",
       "      <td>316513</td>\n",
       "      <td>1</td>\n",
       "      <td>1</td>\n",
       "      <td>126000.0</td>\n",
       "      <td>380533.5</td>\n",
       "      <td>16249.5</td>\n",
       "      <td>2.0</td>\n",
       "      <td>NaN</td>\n",
       "      <td>0.642229</td>\n",
       "      <td>NaN</td>\n",
       "      <td>0.0</td>\n",
       "      <td>0.000</td>\n",
       "      <td>0.000000</td>\n",
       "      <td>0.0</td>\n",
       "      <td>0.331114</td>\n",
       "      <td>0.128964</td>\n",
       "      <td>0.042702</td>\n",
       "      <td>56</td>\n",
       "      <td>2.0</td>\n",
       "      <td>63000.0</td>\n",
       "      <td>1</td>\n",
       "      <td>1</td>\n",
       "      <td>1</td>\n",
       "      <td>1</td>\n",
       "    </tr>\n",
       "    <tr>\n",
       "      <th>234682</th>\n",
       "      <td>371909</td>\n",
       "      <td>0</td>\n",
       "      <td>1</td>\n",
       "      <td>1350000.0</td>\n",
       "      <td>576072.0</td>\n",
       "      <td>28017.0</td>\n",
       "      <td>2.0</td>\n",
       "      <td>0.553421</td>\n",
       "      <td>0.598911</td>\n",
       "      <td>0.362277</td>\n",
       "      <td>0.0</td>\n",
       "      <td>0.000</td>\n",
       "      <td>0.000000</td>\n",
       "      <td>0.0</td>\n",
       "      <td>2.343457</td>\n",
       "      <td>0.020753</td>\n",
       "      <td>0.048635</td>\n",
       "      <td>46</td>\n",
       "      <td>2.0</td>\n",
       "      <td>675000.0</td>\n",
       "      <td>1</td>\n",
       "      <td>0</td>\n",
       "      <td>1</td>\n",
       "      <td>1</td>\n",
       "    </tr>\n",
       "    <tr>\n",
       "      <th>278252</th>\n",
       "      <td>422441</td>\n",
       "      <td>0</td>\n",
       "      <td>1</td>\n",
       "      <td>112500.0</td>\n",
       "      <td>882634.5</td>\n",
       "      <td>31833.0</td>\n",
       "      <td>2.0</td>\n",
       "      <td>0.434763</td>\n",
       "      <td>0.781250</td>\n",
       "      <td>0.593718</td>\n",
       "      <td>3.0</td>\n",
       "      <td>6976359.000</td>\n",
       "      <td>0.000000</td>\n",
       "      <td>0.0</td>\n",
       "      <td>0.127459</td>\n",
       "      <td>0.282960</td>\n",
       "      <td>0.036066</td>\n",
       "      <td>38</td>\n",
       "      <td>19.0</td>\n",
       "      <td>56250.0</td>\n",
       "      <td>1</td>\n",
       "      <td>1</td>\n",
       "      <td>1</td>\n",
       "      <td>1</td>\n",
       "    </tr>\n",
       "  </tbody>\n",
       "</table>\n",
       "<p>61491 rows × 24 columns</p>\n",
       "</div>"
      ],
      "text/plain": [
       "        SK_ID_CURR  FLAG_OWN_CAR  FLAG_OWN_REALTY  AMT_INCOME_TOTAL  \\\n",
       "9587        111143             0                1          250200.0   \n",
       "26285       130574             1                0          112500.0   \n",
       "132491      253698             0                1           67500.0   \n",
       "23225       127026             1                0          270000.0   \n",
       "132600      253822             1                1          180000.0   \n",
       "...            ...           ...              ...               ...   \n",
       "206635      339554             1                1          337500.0   \n",
       "282931      427776             0                1           76500.0   \n",
       "186728      316513             1                1          126000.0   \n",
       "234682      371909             0                1         1350000.0   \n",
       "278252      422441             0                1          112500.0   \n",
       "\n",
       "        AMT_CREDIT  AMT_ANNUITY  CNT_FAM_MEMBERS  EXT_SOURCE_1  EXT_SOURCE_2  \\\n",
       "9587      252000.0      12996.0              2.0           NaN      0.579227   \n",
       "26285     270000.0      20893.5              3.0      0.368870      0.532266   \n",
       "132491    191880.0      19107.0              1.0      0.847899      0.482701   \n",
       "23225     675000.0      49248.0              3.0           NaN      0.494546   \n",
       "132600    161730.0      11632.5              2.0           NaN      0.217225   \n",
       "...            ...          ...              ...           ...           ...   \n",
       "206635   1532506.5      53397.0              3.0      0.723707      0.690155   \n",
       "282931    187704.0      10903.5              2.0           NaN      0.342279   \n",
       "186728    380533.5      16249.5              2.0           NaN      0.642229   \n",
       "234682    576072.0      28017.0              2.0      0.553421      0.598911   \n",
       "278252    882634.5      31833.0              2.0      0.434763      0.781250   \n",
       "\n",
       "        EXT_SOURCE_3  Prev_contract_nb  Prev_AMT_CREDIT  Refused_rate  \\\n",
       "9587             NaN               0.0            0.000      0.200000   \n",
       "26285       0.459690              16.0      4861200.465      0.285714   \n",
       "132491      0.785052               5.0       451795.500      0.000000   \n",
       "23225       0.389339              19.0      8422879.500      0.400000   \n",
       "132600      0.377404              10.0      1246617.000      0.444444   \n",
       "...              ...               ...              ...           ...   \n",
       "206635      0.583238               6.0      5440567.500      0.500000   \n",
       "282931           NaN               0.0            0.000      0.000000   \n",
       "186728           NaN               0.0            0.000      0.000000   \n",
       "234682      0.362277               0.0            0.000      0.000000   \n",
       "278252      0.593718               3.0      6976359.000      0.000000   \n",
       "\n",
       "        default_payment  INCOME_CREDIT_PERC  ANNUITY_INCOME_PERC  \\\n",
       "9587                0.0            0.992857             0.051942   \n",
       "26285               1.0            0.416667             0.185720   \n",
       "132491              0.0            0.351782             0.283067   \n",
       "23225               0.0            0.400000             0.182400   \n",
       "132600              0.0            1.112966             0.064625   \n",
       "...                 ...                 ...                  ...   \n",
       "206635              0.0            0.220227             0.158213   \n",
       "282931              0.0            0.407557             0.142529   \n",
       "186728              0.0            0.331114             0.128964   \n",
       "234682              0.0            2.343457             0.020753   \n",
       "278252              0.0            0.127459             0.282960   \n",
       "\n",
       "        PAYMENT_RATE  client_age  client_prof_exp  INCOME_PER_PERSON  \\\n",
       "9587        0.051571          62             -0.0           125100.0   \n",
       "26285       0.077383          31              9.0            37500.0   \n",
       "132491      0.099578          67             -0.0            67500.0   \n",
       "23225       0.072960          42              3.0            90000.0   \n",
       "132600      0.071925          45              2.0            90000.0   \n",
       "...              ...         ...              ...                ...   \n",
       "206635      0.034843          55             31.0           112500.0   \n",
       "282931      0.058089          54             22.0            38250.0   \n",
       "186728      0.042702          56              2.0            63000.0   \n",
       "234682      0.048635          46              2.0           675000.0   \n",
       "278252      0.036066          38             19.0            56250.0   \n",
       "\n",
       "        Cash_loans  GENDER_FEMALE  active_client  relationship  \n",
       "9587             1              1              0             1  \n",
       "26285            1              0              1             1  \n",
       "132491           1              1              0             0  \n",
       "23225            1              0              1             1  \n",
       "132600           1              0              1             1  \n",
       "...            ...            ...            ...           ...  \n",
       "206635           1              1              1             1  \n",
       "282931           1              1              1             1  \n",
       "186728           1              1              1             1  \n",
       "234682           1              0              1             1  \n",
       "278252           1              1              1             1  \n",
       "\n",
       "[61491 rows x 24 columns]"
      ]
     },
     "execution_count": 60,
     "metadata": {},
     "output_type": "execute_result"
    }
   ],
   "source": [
    "X2"
   ]
  },
  {
   "cell_type": "code",
   "execution_count": 61,
   "metadata": {},
   "outputs": [],
   "source": [
    "X_train,X_test,y_train,y_test=train_test_split(X2,y2,test_size=0.2)"
   ]
  },
  {
   "cell_type": "code",
   "execution_count": 62,
   "metadata": {},
   "outputs": [
    {
     "name": "stdout",
     "output_type": "stream",
     "text": [
      "Train set: (49192, 24)\n",
      "Test set: (12299, 24)\n",
      "Train target: (49192,)\n",
      "Test target: (12299,)\n"
     ]
    }
   ],
   "source": [
    "print('Train set:',X_train.shape)\n",
    "print('Test set:',X_test.shape)\n",
    "print('Train target:',y_train.shape)\n",
    "print('Test target:',y_test.shape)"
   ]
  },
  {
   "cell_type": "markdown",
   "metadata": {},
   "source": [
    "Decomposition du best_lgm"
   ]
  },
  {
   "cell_type": "code",
   "execution_count": 63,
   "metadata": {},
   "outputs": [
    {
     "data": {
      "text/plain": [
       "Pipeline(steps=[('sampler', RandomUnderSampler()),\n",
       "                ('imputer', SimpleImputer(strategy='median')),\n",
       "                ('scaler', StandardScaler()),\n",
       "                ('estimator',\n",
       "                 LGBMClassifier(max_depth=3, min_data_in_leaf=500,\n",
       "                                num_leaves=20))])"
      ]
     },
     "execution_count": 63,
     "metadata": {},
     "output_type": "execute_result"
    }
   ],
   "source": [
    "best_LGBM"
   ]
  },
  {
   "cell_type": "code",
   "execution_count": 66,
   "metadata": {},
   "outputs": [],
   "source": [
    " #Sampling \n",
    "X_train_rus, y_train_rus=best_LGBM[0].fit_resample(X_train,y_train)"
   ]
  },
  {
   "cell_type": "code",
   "execution_count": 67,
   "metadata": {},
   "outputs": [
    {
     "data": {
      "text/plain": [
       "(8006, 24)"
      ]
     },
     "execution_count": 67,
     "metadata": {},
     "output_type": "execute_result"
    }
   ],
   "source": [
    "X_train_rus.shape"
   ]
  },
  {
   "cell_type": "code",
   "execution_count": 68,
   "metadata": {},
   "outputs": [
    {
     "data": {
      "text/plain": [
       "(8006, 24)"
      ]
     },
     "execution_count": 68,
     "metadata": {},
     "output_type": "execute_result"
    }
   ],
   "source": [
    "# Fill Nan with simple imputer\n",
    "X_tr=pd.DataFrame(best_LGBM[1].fit_transform(X_train_rus),columns=X_train_rus.columns)\n",
    "X_tr.shape"
   ]
  },
  {
   "cell_type": "code",
   "execution_count": 70,
   "metadata": {},
   "outputs": [
    {
     "data": {
      "text/plain": [
       "(8006, 23)"
      ]
     },
     "execution_count": 70,
     "metadata": {},
     "output_type": "execute_result"
    }
   ],
   "source": [
    "X_tmp=X_tr.drop(['SK_ID_CURR'],axis=1)\n",
    "X_tmp.shape"
   ]
  },
  {
   "cell_type": "code",
   "execution_count": 52,
   "metadata": {},
   "outputs": [],
   "source": [
    "#X_tr=best_model[1:-1].fit_transform(X_tmp)"
   ]
  },
  {
   "cell_type": "code",
   "execution_count": 64,
   "metadata": {},
   "outputs": [
    {
     "data": {
      "text/plain": [
       "StandardScaler()"
      ]
     },
     "execution_count": 64,
     "metadata": {},
     "output_type": "execute_result"
    }
   ],
   "source": [
    "best_LGBM[2]"
   ]
  },
  {
   "cell_type": "code",
   "execution_count": 72,
   "metadata": {},
   "outputs": [
    {
     "data": {
      "text/plain": [
       "(8006, 23)"
      ]
     },
     "execution_count": 72,
     "metadata": {},
     "output_type": "execute_result"
    }
   ],
   "source": [
    "# Scaling\n",
    "X_tr_transf=pd.DataFrame(best_LGBM[2].fit_transform(X_tmp), columns=X_tmp.columns)\n",
    "X_tr_transf.shape"
   ]
  },
  {
   "cell_type": "code",
   "execution_count": 73,
   "metadata": {},
   "outputs": [
    {
     "data": {
      "text/plain": [
       "FLAG_OWN_CAR           0\n",
       "FLAG_OWN_REALTY        0\n",
       "AMT_INCOME_TOTAL       0\n",
       "AMT_CREDIT             0\n",
       "AMT_ANNUITY            0\n",
       "CNT_FAM_MEMBERS        0\n",
       "EXT_SOURCE_1           0\n",
       "EXT_SOURCE_2           0\n",
       "EXT_SOURCE_3           0\n",
       "Prev_contract_nb       0\n",
       "Prev_AMT_CREDIT        0\n",
       "Refused_rate           0\n",
       "default_payment        0\n",
       "INCOME_CREDIT_PERC     0\n",
       "ANNUITY_INCOME_PERC    0\n",
       "PAYMENT_RATE           0\n",
       "client_age             0\n",
       "client_prof_exp        0\n",
       "INCOME_PER_PERSON      0\n",
       "Cash_loans             0\n",
       "GENDER_FEMALE          0\n",
       "active_client          0\n",
       "relationship           0\n",
       "dtype: int64"
      ]
     },
     "execution_count": 73,
     "metadata": {},
     "output_type": "execute_result"
    }
   ],
   "source": [
    "X_tr_transf.isna().sum()"
   ]
  },
  {
   "cell_type": "code",
   "execution_count": 75,
   "metadata": {},
   "outputs": [
    {
     "name": "stdout",
     "output_type": "stream",
     "text": [
      "[LightGBM] [Warning] min_data_in_leaf is set=500, min_child_samples=20 will be ignored. Current value: min_data_in_leaf=500\n",
      "[LightGBM] [Warning] min_data_in_leaf is set=500, min_child_samples=20 will be ignored. Current value: min_data_in_leaf=500\n",
      "[LightGBM] [Info] Number of positive: 4003, number of negative: 4003\n",
      "[LightGBM] [Info] Auto-choosing col-wise multi-threading, the overhead of testing was 0.000573 seconds.\n",
      "You can set `force_col_wise=true` to remove the overhead.\n",
      "[LightGBM] [Info] Total Bins 2863\n",
      "[LightGBM] [Info] Number of data points in the train set: 8006, number of used features: 23\n",
      "[LightGBM] [Info] [binary:BoostFromScore]: pavg=0.500000 -> initscore=0.000000\n",
      "[LightGBM] [Warning] No further splits with positive gain, best gain: -inf\n",
      "[LightGBM] [Warning] No further splits with positive gain, best gain: -inf\n",
      "[LightGBM] [Warning] No further splits with positive gain, best gain: -inf\n",
      "[LightGBM] [Warning] No further splits with positive gain, best gain: -inf\n",
      "[LightGBM] [Warning] No further splits with positive gain, best gain: -inf\n",
      "[LightGBM] [Warning] No further splits with positive gain, best gain: -inf\n",
      "[LightGBM] [Warning] No further splits with positive gain, best gain: -inf\n",
      "[LightGBM] [Warning] No further splits with positive gain, best gain: -inf\n",
      "[LightGBM] [Warning] No further splits with positive gain, best gain: -inf\n",
      "[LightGBM] [Warning] No further splits with positive gain, best gain: -inf\n",
      "[LightGBM] [Warning] No further splits with positive gain, best gain: -inf\n",
      "[LightGBM] [Warning] No further splits with positive gain, best gain: -inf\n",
      "[LightGBM] [Warning] No further splits with positive gain, best gain: -inf\n",
      "[LightGBM] [Warning] No further splits with positive gain, best gain: -inf\n",
      "[LightGBM] [Warning] No further splits with positive gain, best gain: -inf\n",
      "[LightGBM] [Warning] No further splits with positive gain, best gain: -inf\n",
      "[LightGBM] [Warning] No further splits with positive gain, best gain: -inf\n",
      "[LightGBM] [Warning] No further splits with positive gain, best gain: -inf\n",
      "[LightGBM] [Warning] No further splits with positive gain, best gain: -inf\n",
      "[LightGBM] [Warning] No further splits with positive gain, best gain: -inf\n",
      "[LightGBM] [Warning] No further splits with positive gain, best gain: -inf\n",
      "[LightGBM] [Warning] No further splits with positive gain, best gain: -inf\n",
      "[LightGBM] [Warning] No further splits with positive gain, best gain: -inf\n",
      "[LightGBM] [Warning] No further splits with positive gain, best gain: -inf\n",
      "[LightGBM] [Warning] No further splits with positive gain, best gain: -inf\n",
      "[LightGBM] [Warning] No further splits with positive gain, best gain: -inf\n",
      "[LightGBM] [Warning] No further splits with positive gain, best gain: -inf\n",
      "[LightGBM] [Warning] No further splits with positive gain, best gain: -inf\n",
      "[LightGBM] [Warning] No further splits with positive gain, best gain: -inf\n",
      "[LightGBM] [Warning] No further splits with positive gain, best gain: -inf\n",
      "[LightGBM] [Warning] No further splits with positive gain, best gain: -inf\n",
      "[LightGBM] [Warning] No further splits with positive gain, best gain: -inf\n",
      "[LightGBM] [Warning] No further splits with positive gain, best gain: -inf\n",
      "[LightGBM] [Warning] No further splits with positive gain, best gain: -inf\n",
      "[LightGBM] [Warning] No further splits with positive gain, best gain: -inf\n",
      "[LightGBM] [Warning] No further splits with positive gain, best gain: -inf\n",
      "[LightGBM] [Warning] No further splits with positive gain, best gain: -inf\n",
      "[LightGBM] [Warning] No further splits with positive gain, best gain: -inf\n",
      "[LightGBM] [Warning] No further splits with positive gain, best gain: -inf\n",
      "[LightGBM] [Warning] No further splits with positive gain, best gain: -inf\n",
      "[LightGBM] [Warning] No further splits with positive gain, best gain: -inf\n",
      "[LightGBM] [Warning] No further splits with positive gain, best gain: -inf\n",
      "[LightGBM] [Warning] No further splits with positive gain, best gain: -inf\n",
      "[LightGBM] [Warning] No further splits with positive gain, best gain: -inf\n",
      "[LightGBM] [Warning] No further splits with positive gain, best gain: -inf\n",
      "[LightGBM] [Warning] No further splits with positive gain, best gain: -inf\n",
      "[LightGBM] [Warning] No further splits with positive gain, best gain: -inf\n",
      "[LightGBM] [Warning] No further splits with positive gain, best gain: -inf\n",
      "[LightGBM] [Warning] No further splits with positive gain, best gain: -inf\n",
      "[LightGBM] [Warning] No further splits with positive gain, best gain: -inf\n",
      "[LightGBM] [Warning] No further splits with positive gain, best gain: -inf\n",
      "[LightGBM] [Warning] No further splits with positive gain, best gain: -inf\n",
      "[LightGBM] [Warning] No further splits with positive gain, best gain: -inf\n",
      "[LightGBM] [Warning] No further splits with positive gain, best gain: -inf\n",
      "[LightGBM] [Warning] No further splits with positive gain, best gain: -inf\n",
      "[LightGBM] [Warning] No further splits with positive gain, best gain: -inf\n",
      "[LightGBM] [Warning] No further splits with positive gain, best gain: -inf\n",
      "[LightGBM] [Warning] No further splits with positive gain, best gain: -inf\n",
      "[LightGBM] [Warning] No further splits with positive gain, best gain: -inf\n",
      "[LightGBM] [Warning] No further splits with positive gain, best gain: -inf\n",
      "[LightGBM] [Warning] No further splits with positive gain, best gain: -inf\n",
      "[LightGBM] [Warning] No further splits with positive gain, best gain: -inf\n",
      "[LightGBM] [Warning] No further splits with positive gain, best gain: -inf\n",
      "[LightGBM] [Warning] No further splits with positive gain, best gain: -inf\n",
      "[LightGBM] [Warning] No further splits with positive gain, best gain: -inf\n",
      "[LightGBM] [Warning] No further splits with positive gain, best gain: -inf\n",
      "[LightGBM] [Warning] No further splits with positive gain, best gain: -inf\n",
      "[LightGBM] [Warning] No further splits with positive gain, best gain: -inf\n",
      "[LightGBM] [Warning] No further splits with positive gain, best gain: -inf\n",
      "[LightGBM] [Warning] No further splits with positive gain, best gain: -inf\n",
      "[LightGBM] [Warning] No further splits with positive gain, best gain: -inf\n",
      "[LightGBM] [Warning] No further splits with positive gain, best gain: -inf\n",
      "[LightGBM] [Warning] No further splits with positive gain, best gain: -inf\n",
      "[LightGBM] [Warning] No further splits with positive gain, best gain: -inf\n",
      "[LightGBM] [Warning] No further splits with positive gain, best gain: -inf\n",
      "[LightGBM] [Warning] No further splits with positive gain, best gain: -inf\n",
      "[LightGBM] [Warning] No further splits with positive gain, best gain: -inf\n",
      "[LightGBM] [Warning] No further splits with positive gain, best gain: -inf\n",
      "[LightGBM] [Warning] No further splits with positive gain, best gain: -inf\n",
      "[LightGBM] [Warning] No further splits with positive gain, best gain: -inf\n",
      "[LightGBM] [Warning] No further splits with positive gain, best gain: -inf\n",
      "[LightGBM] [Warning] No further splits with positive gain, best gain: -inf\n",
      "[LightGBM] [Warning] No further splits with positive gain, best gain: -inf\n",
      "[LightGBM] [Warning] No further splits with positive gain, best gain: -inf\n",
      "[LightGBM] [Warning] No further splits with positive gain, best gain: -inf\n",
      "[LightGBM] [Warning] No further splits with positive gain, best gain: -inf\n",
      "[LightGBM] [Warning] No further splits with positive gain, best gain: -inf\n",
      "[LightGBM] [Warning] No further splits with positive gain, best gain: -inf\n",
      "[LightGBM] [Warning] No further splits with positive gain, best gain: -inf\n",
      "[LightGBM] [Warning] No further splits with positive gain, best gain: -inf\n",
      "[LightGBM] [Warning] No further splits with positive gain, best gain: -inf\n",
      "[LightGBM] [Warning] No further splits with positive gain, best gain: -inf\n",
      "[LightGBM] [Warning] No further splits with positive gain, best gain: -inf\n",
      "[LightGBM] [Warning] No further splits with positive gain, best gain: -inf\n",
      "[LightGBM] [Warning] No further splits with positive gain, best gain: -inf\n"
     ]
    },
    {
     "data": {
      "text/plain": [
       "LGBMClassifier(max_depth=3, min_data_in_leaf=500, num_leaves=20)"
      ]
     },
     "execution_count": 75,
     "metadata": {},
     "output_type": "execute_result"
    }
   ],
   "source": [
    "# Entrainement\n",
    "best_LGBM[-1].fit(X_tr_transf,y_train_rus)"
   ]
  },
  {
   "cell_type": "markdown",
   "metadata": {},
   "source": [
    "Décompostion du modèle en 3 étape:\n",
    "\n",
    "-> Random Under Sampling\n",
    "\n",
    "-> Imputer + Scaler\n",
    "\n",
    "-> LogReg()"
   ]
  },
  {
   "cell_type": "code",
   "execution_count": 81,
   "metadata": {},
   "outputs": [
    {
     "data": {
      "text/plain": [
       "Pipeline(steps=[('sampler', RandomUnderSampler()),\n",
       "                ('imputer', SimpleImputer(strategy='median'))])"
      ]
     },
     "execution_count": 81,
     "metadata": {},
     "output_type": "execute_result"
    }
   ],
   "source": [
    "best_LGBM[:-2]"
   ]
  },
  {
   "cell_type": "code",
   "execution_count": 80,
   "metadata": {},
   "outputs": [
    {
     "data": {
      "text/plain": [
       "StandardScaler()"
      ]
     },
     "execution_count": 80,
     "metadata": {},
     "output_type": "execute_result"
    }
   ],
   "source": [
    "best_LGBM[-2]"
   ]
  },
  {
   "cell_type": "code",
   "execution_count": 82,
   "metadata": {},
   "outputs": [],
   "source": [
    "pickle_out = open(\"samplerV2.pkl\",\"wb\")\n",
    "pickle.dump(best_LGBM[:-2], pickle_out)\n",
    "pickle_out.close()"
   ]
  },
  {
   "cell_type": "code",
   "execution_count": 83,
   "metadata": {},
   "outputs": [],
   "source": [
    "pickle_out = open(\"transformer2_V2.pkl\",\"wb\")\n",
    "pickle.dump(best_LGBM[-2], pickle_out)\n",
    "pickle_out.close()"
   ]
  },
  {
   "cell_type": "code",
   "execution_count": 84,
   "metadata": {},
   "outputs": [],
   "source": [
    "pickle_out = open(\"logreg2_V2.pkl\",\"wb\")\n",
    "pickle.dump(best_LGBM[-1], pickle_out)\n",
    "pickle_out.close()"
   ]
  },
  {
   "cell_type": "markdown",
   "metadata": {},
   "source": [
    "Test API:"
   ]
  },
  {
   "cell_type": "code",
   "execution_count": 62,
   "metadata": {},
   "outputs": [
    {
     "ename": "IndentationError",
     "evalue": "unexpected indent (1359803692.py, line 2)",
     "output_type": "error",
     "traceback": [
      "\u001b[1;36m  File \u001b[1;32m\"C:\\Users\\xavie\\AppData\\Local\\Temp\\ipykernel_31108\\1359803692.py\"\u001b[1;36m, line \u001b[1;32m2\u001b[0m\n\u001b[1;33m    data_for_shap=transf_data.drop(['SK_ID_CURR'],axis=1)\u001b[0m\n\u001b[1;37m    ^\u001b[0m\n\u001b[1;31mIndentationError\u001b[0m\u001b[1;31m:\u001b[0m unexpected indent\n"
     ]
    }
   ],
   "source": [
    "transf_data = pd.DataFrame(sampler.transform(filtered_data),columns = filtered_data.columns) # fit_resample necessite (X,y)\n",
    "    data_for_shap=transf_data.drop(['SK_ID_CURR'],axis=1)\n",
    "    data_for_shap_tr=pd.DataFrame(transformer2.transform(data_for_shap),columns=data_for_shap.columns)\n",
    "    explainer=shap.LinearExplainer(estimator2,data_for_shap_tr)\n",
    "    shap_values=explainer(data_for_shap_tr)\n",
    "    \n",
    "    svv=pd.DataFrame(shap_values.values, columns = data_for_shap.columns).round(2)\n",
    "    svv['SK_ID_CURR']=transf_data['SK_ID_CURR']\n",
    "    svd=pd.DataFrame(shap_values.data, columns = data_for_shap.columns).round(2)\n",
    "    svd['SK_ID_CURR']=transf_data['SK_ID_CURR']\n",
    "    svb=pd.DataFrame(shap_values.base_values).round(2)"
   ]
  },
  {
   "cell_type": "code",
   "execution_count": 63,
   "metadata": {},
   "outputs": [],
   "source": [
    "transf_data = pd.DataFrame(best_model[:-2].transform(X2),columns = X2.columns) # fit_resample necessite (X,y)"
   ]
  },
  {
   "cell_type": "code",
   "execution_count": 64,
   "metadata": {},
   "outputs": [
    {
     "data": {
      "text/plain": [
       "(61498, 16)"
      ]
     },
     "execution_count": 64,
     "metadata": {},
     "output_type": "execute_result"
    }
   ],
   "source": [
    "transf_data.shape"
   ]
  },
  {
   "cell_type": "code",
   "execution_count": 65,
   "metadata": {},
   "outputs": [],
   "source": [
    "data_for_shap=transf_data.drop(['SK_ID_CURR'],axis=1)"
   ]
  },
  {
   "cell_type": "code",
   "execution_count": 66,
   "metadata": {},
   "outputs": [],
   "source": [
    "data_for_shap_tr=pd.DataFrame(best_model[-2].transform(data_for_shap),columns=data_for_shap.columns)"
   ]
  },
  {
   "cell_type": "code",
   "execution_count": 67,
   "metadata": {},
   "outputs": [],
   "source": [
    "explainer=shap.LinearExplainer(best_model[-1],data_for_shap_tr)"
   ]
  },
  {
   "cell_type": "code",
   "execution_count": 68,
   "metadata": {},
   "outputs": [],
   "source": [
    "shap_values=explainer(data_for_shap_tr)"
   ]
  },
  {
   "cell_type": "code",
   "execution_count": 69,
   "metadata": {},
   "outputs": [
    {
     "data": {
      "text/html": [
       "<div>\n",
       "<style scoped>\n",
       "    .dataframe tbody tr th:only-of-type {\n",
       "        vertical-align: middle;\n",
       "    }\n",
       "\n",
       "    .dataframe tbody tr th {\n",
       "        vertical-align: top;\n",
       "    }\n",
       "\n",
       "    .dataframe thead th {\n",
       "        text-align: right;\n",
       "    }\n",
       "</style>\n",
       "<table border=\"1\" class=\"dataframe\">\n",
       "  <thead>\n",
       "    <tr style=\"text-align: right;\">\n",
       "      <th></th>\n",
       "      <th>FLAG_OWN_CAR</th>\n",
       "      <th>FLAG_OWN_REALTY</th>\n",
       "      <th>AMT_INCOME_TOTAL</th>\n",
       "      <th>AMT_CREDIT</th>\n",
       "      <th>AMT_ANNUITY</th>\n",
       "      <th>CNT_FAM_MEMBERS</th>\n",
       "      <th>EXT_SOURCE_1</th>\n",
       "      <th>EXT_SOURCE_2</th>\n",
       "      <th>EXT_SOURCE_3</th>\n",
       "      <th>client_age</th>\n",
       "      <th>client_prof_exp</th>\n",
       "      <th>Cash_loans</th>\n",
       "      <th>GENDER_FEMALE</th>\n",
       "      <th>active_client</th>\n",
       "      <th>relationship</th>\n",
       "    </tr>\n",
       "  </thead>\n",
       "  <tbody>\n",
       "    <tr>\n",
       "      <th>0</th>\n",
       "      <td>-0.19</td>\n",
       "      <td>-0.04</td>\n",
       "      <td>-0.01</td>\n",
       "      <td>-0.00</td>\n",
       "      <td>0.01</td>\n",
       "      <td>-0.01</td>\n",
       "      <td>0.05</td>\n",
       "      <td>-0.56</td>\n",
       "      <td>-0.10</td>\n",
       "      <td>-0.08</td>\n",
       "      <td>-0.04</td>\n",
       "      <td>0.03</td>\n",
       "      <td>0.21</td>\n",
       "      <td>0.11</td>\n",
       "      <td>-0.05</td>\n",
       "    </tr>\n",
       "    <tr>\n",
       "      <th>1</th>\n",
       "      <td>0.09</td>\n",
       "      <td>0.02</td>\n",
       "      <td>0.03</td>\n",
       "      <td>0.02</td>\n",
       "      <td>-0.03</td>\n",
       "      <td>-0.01</td>\n",
       "      <td>0.05</td>\n",
       "      <td>0.38</td>\n",
       "      <td>0.42</td>\n",
       "      <td>0.09</td>\n",
       "      <td>0.17</td>\n",
       "      <td>0.03</td>\n",
       "      <td>-0.11</td>\n",
       "      <td>-0.61</td>\n",
       "      <td>-0.05</td>\n",
       "    </tr>\n",
       "    <tr>\n",
       "      <th>2</th>\n",
       "      <td>0.09</td>\n",
       "      <td>0.02</td>\n",
       "      <td>0.05</td>\n",
       "      <td>-0.01</td>\n",
       "      <td>-0.03</td>\n",
       "      <td>-0.07</td>\n",
       "      <td>0.05</td>\n",
       "      <td>-0.56</td>\n",
       "      <td>-0.76</td>\n",
       "      <td>0.05</td>\n",
       "      <td>-0.00</td>\n",
       "      <td>0.03</td>\n",
       "      <td>-0.11</td>\n",
       "      <td>0.11</td>\n",
       "      <td>0.13</td>\n",
       "    </tr>\n",
       "    <tr>\n",
       "      <th>3</th>\n",
       "      <td>0.09</td>\n",
       "      <td>0.02</td>\n",
       "      <td>-0.01</td>\n",
       "      <td>0.01</td>\n",
       "      <td>-0.02</td>\n",
       "      <td>0.05</td>\n",
       "      <td>-0.45</td>\n",
       "      <td>-0.49</td>\n",
       "      <td>-0.51</td>\n",
       "      <td>0.01</td>\n",
       "      <td>-0.21</td>\n",
       "      <td>0.03</td>\n",
       "      <td>-0.11</td>\n",
       "      <td>0.11</td>\n",
       "      <td>-0.05</td>\n",
       "    </tr>\n",
       "    <tr>\n",
       "      <th>4</th>\n",
       "      <td>0.09</td>\n",
       "      <td>0.02</td>\n",
       "      <td>-0.05</td>\n",
       "      <td>0.01</td>\n",
       "      <td>-0.01</td>\n",
       "      <td>-0.07</td>\n",
       "      <td>0.05</td>\n",
       "      <td>-0.45</td>\n",
       "      <td>0.05</td>\n",
       "      <td>0.05</td>\n",
       "      <td>0.13</td>\n",
       "      <td>0.03</td>\n",
       "      <td>-0.11</td>\n",
       "      <td>0.11</td>\n",
       "      <td>0.13</td>\n",
       "    </tr>\n",
       "    <tr>\n",
       "      <th>...</th>\n",
       "      <td>...</td>\n",
       "      <td>...</td>\n",
       "      <td>...</td>\n",
       "      <td>...</td>\n",
       "      <td>...</td>\n",
       "      <td>...</td>\n",
       "      <td>...</td>\n",
       "      <td>...</td>\n",
       "      <td>...</td>\n",
       "      <td>...</td>\n",
       "      <td>...</td>\n",
       "      <td>...</td>\n",
       "      <td>...</td>\n",
       "      <td>...</td>\n",
       "      <td>...</td>\n",
       "    </tr>\n",
       "    <tr>\n",
       "      <th>61493</th>\n",
       "      <td>0.09</td>\n",
       "      <td>0.02</td>\n",
       "      <td>0.02</td>\n",
       "      <td>-0.07</td>\n",
       "      <td>0.02</td>\n",
       "      <td>0.05</td>\n",
       "      <td>0.05</td>\n",
       "      <td>0.37</td>\n",
       "      <td>-0.97</td>\n",
       "      <td>-0.03</td>\n",
       "      <td>-0.25</td>\n",
       "      <td>0.03</td>\n",
       "      <td>0.21</td>\n",
       "      <td>0.11</td>\n",
       "      <td>-0.05</td>\n",
       "    </tr>\n",
       "    <tr>\n",
       "      <th>61494</th>\n",
       "      <td>0.09</td>\n",
       "      <td>0.02</td>\n",
       "      <td>0.02</td>\n",
       "      <td>0.05</td>\n",
       "      <td>-0.05</td>\n",
       "      <td>-0.01</td>\n",
       "      <td>0.05</td>\n",
       "      <td>0.55</td>\n",
       "      <td>-0.35</td>\n",
       "      <td>0.08</td>\n",
       "      <td>0.17</td>\n",
       "      <td>0.03</td>\n",
       "      <td>-0.11</td>\n",
       "      <td>-0.61</td>\n",
       "      <td>-0.05</td>\n",
       "    </tr>\n",
       "    <tr>\n",
       "      <th>61495</th>\n",
       "      <td>0.09</td>\n",
       "      <td>0.02</td>\n",
       "      <td>0.03</td>\n",
       "      <td>-0.08</td>\n",
       "      <td>0.16</td>\n",
       "      <td>-0.01</td>\n",
       "      <td>0.05</td>\n",
       "      <td>-0.56</td>\n",
       "      <td>-0.83</td>\n",
       "      <td>0.12</td>\n",
       "      <td>0.17</td>\n",
       "      <td>0.03</td>\n",
       "      <td>-0.11</td>\n",
       "      <td>-0.61</td>\n",
       "      <td>-0.05</td>\n",
       "    </tr>\n",
       "    <tr>\n",
       "      <th>61496</th>\n",
       "      <td>0.09</td>\n",
       "      <td>-0.04</td>\n",
       "      <td>-0.17</td>\n",
       "      <td>-0.04</td>\n",
       "      <td>0.02</td>\n",
       "      <td>0.17</td>\n",
       "      <td>-0.11</td>\n",
       "      <td>0.18</td>\n",
       "      <td>-0.32</td>\n",
       "      <td>-0.00</td>\n",
       "      <td>-0.04</td>\n",
       "      <td>0.03</td>\n",
       "      <td>0.21</td>\n",
       "      <td>0.11</td>\n",
       "      <td>-0.05</td>\n",
       "    </tr>\n",
       "    <tr>\n",
       "      <th>61497</th>\n",
       "      <td>-0.19</td>\n",
       "      <td>0.02</td>\n",
       "      <td>-0.00</td>\n",
       "      <td>0.02</td>\n",
       "      <td>-0.05</td>\n",
       "      <td>0.05</td>\n",
       "      <td>-0.28</td>\n",
       "      <td>-0.36</td>\n",
       "      <td>0.57</td>\n",
       "      <td>0.00</td>\n",
       "      <td>0.10</td>\n",
       "      <td>0.03</td>\n",
       "      <td>-0.11</td>\n",
       "      <td>0.11</td>\n",
       "      <td>0.13</td>\n",
       "    </tr>\n",
       "  </tbody>\n",
       "</table>\n",
       "<p>61498 rows × 15 columns</p>\n",
       "</div>"
      ],
      "text/plain": [
       "       FLAG_OWN_CAR  FLAG_OWN_REALTY  AMT_INCOME_TOTAL  AMT_CREDIT  \\\n",
       "0             -0.19            -0.04             -0.01       -0.00   \n",
       "1              0.09             0.02              0.03        0.02   \n",
       "2              0.09             0.02              0.05       -0.01   \n",
       "3              0.09             0.02             -0.01        0.01   \n",
       "4              0.09             0.02             -0.05        0.01   \n",
       "...             ...              ...               ...         ...   \n",
       "61493          0.09             0.02              0.02       -0.07   \n",
       "61494          0.09             0.02              0.02        0.05   \n",
       "61495          0.09             0.02              0.03       -0.08   \n",
       "61496          0.09            -0.04             -0.17       -0.04   \n",
       "61497         -0.19             0.02             -0.00        0.02   \n",
       "\n",
       "       AMT_ANNUITY  CNT_FAM_MEMBERS  EXT_SOURCE_1  EXT_SOURCE_2  EXT_SOURCE_3  \\\n",
       "0             0.01            -0.01          0.05         -0.56         -0.10   \n",
       "1            -0.03            -0.01          0.05          0.38          0.42   \n",
       "2            -0.03            -0.07          0.05         -0.56         -0.76   \n",
       "3            -0.02             0.05         -0.45         -0.49         -0.51   \n",
       "4            -0.01            -0.07          0.05         -0.45          0.05   \n",
       "...            ...              ...           ...           ...           ...   \n",
       "61493         0.02             0.05          0.05          0.37         -0.97   \n",
       "61494        -0.05            -0.01          0.05          0.55         -0.35   \n",
       "61495         0.16            -0.01          0.05         -0.56         -0.83   \n",
       "61496         0.02             0.17         -0.11          0.18         -0.32   \n",
       "61497        -0.05             0.05         -0.28         -0.36          0.57   \n",
       "\n",
       "       client_age  client_prof_exp  Cash_loans  GENDER_FEMALE  active_client  \\\n",
       "0           -0.08            -0.04        0.03           0.21           0.11   \n",
       "1            0.09             0.17        0.03          -0.11          -0.61   \n",
       "2            0.05            -0.00        0.03          -0.11           0.11   \n",
       "3            0.01            -0.21        0.03          -0.11           0.11   \n",
       "4            0.05             0.13        0.03          -0.11           0.11   \n",
       "...           ...              ...         ...            ...            ...   \n",
       "61493       -0.03            -0.25        0.03           0.21           0.11   \n",
       "61494        0.08             0.17        0.03          -0.11          -0.61   \n",
       "61495        0.12             0.17        0.03          -0.11          -0.61   \n",
       "61496       -0.00            -0.04        0.03           0.21           0.11   \n",
       "61497        0.00             0.10        0.03          -0.11           0.11   \n",
       "\n",
       "       relationship  \n",
       "0             -0.05  \n",
       "1             -0.05  \n",
       "2              0.13  \n",
       "3             -0.05  \n",
       "4              0.13  \n",
       "...             ...  \n",
       "61493         -0.05  \n",
       "61494         -0.05  \n",
       "61495         -0.05  \n",
       "61496         -0.05  \n",
       "61497          0.13  \n",
       "\n",
       "[61498 rows x 15 columns]"
      ]
     },
     "execution_count": 69,
     "metadata": {},
     "output_type": "execute_result"
    }
   ],
   "source": [
    "svv=pd.DataFrame(shap_values.values, columns = data_for_shap.columns).round(2)\n",
    "svv"
   ]
  },
  {
   "cell_type": "code",
   "execution_count": 70,
   "metadata": {},
   "outputs": [
    {
     "data": {
      "text/html": [
       "<div>\n",
       "<style scoped>\n",
       "    .dataframe tbody tr th:only-of-type {\n",
       "        vertical-align: middle;\n",
       "    }\n",
       "\n",
       "    .dataframe tbody tr th {\n",
       "        vertical-align: top;\n",
       "    }\n",
       "\n",
       "    .dataframe thead th {\n",
       "        text-align: right;\n",
       "    }\n",
       "</style>\n",
       "<table border=\"1\" class=\"dataframe\">\n",
       "  <thead>\n",
       "    <tr style=\"text-align: right;\">\n",
       "      <th></th>\n",
       "      <th>FLAG_OWN_CAR</th>\n",
       "      <th>FLAG_OWN_REALTY</th>\n",
       "      <th>AMT_INCOME_TOTAL</th>\n",
       "      <th>AMT_CREDIT</th>\n",
       "      <th>AMT_ANNUITY</th>\n",
       "      <th>CNT_FAM_MEMBERS</th>\n",
       "      <th>EXT_SOURCE_1</th>\n",
       "      <th>EXT_SOURCE_2</th>\n",
       "      <th>EXT_SOURCE_3</th>\n",
       "      <th>client_age</th>\n",
       "      <th>client_prof_exp</th>\n",
       "      <th>Cash_loans</th>\n",
       "      <th>GENDER_FEMALE</th>\n",
       "      <th>active_client</th>\n",
       "      <th>relationship</th>\n",
       "      <th>SK_ID_CURR</th>\n",
       "    </tr>\n",
       "  </thead>\n",
       "  <tbody>\n",
       "    <tr>\n",
       "      <th>0</th>\n",
       "      <td>-0.19</td>\n",
       "      <td>-0.04</td>\n",
       "      <td>-0.01</td>\n",
       "      <td>-0.00</td>\n",
       "      <td>0.01</td>\n",
       "      <td>-0.01</td>\n",
       "      <td>0.05</td>\n",
       "      <td>-0.56</td>\n",
       "      <td>-0.10</td>\n",
       "      <td>-0.08</td>\n",
       "      <td>-0.04</td>\n",
       "      <td>0.03</td>\n",
       "      <td>0.21</td>\n",
       "      <td>0.11</td>\n",
       "      <td>-0.05</td>\n",
       "      <td>351895.0</td>\n",
       "    </tr>\n",
       "    <tr>\n",
       "      <th>1</th>\n",
       "      <td>0.09</td>\n",
       "      <td>0.02</td>\n",
       "      <td>0.03</td>\n",
       "      <td>0.02</td>\n",
       "      <td>-0.03</td>\n",
       "      <td>-0.01</td>\n",
       "      <td>0.05</td>\n",
       "      <td>0.38</td>\n",
       "      <td>0.42</td>\n",
       "      <td>0.09</td>\n",
       "      <td>0.17</td>\n",
       "      <td>0.03</td>\n",
       "      <td>-0.11</td>\n",
       "      <td>-0.61</td>\n",
       "      <td>-0.05</td>\n",
       "      <td>381608.0</td>\n",
       "    </tr>\n",
       "    <tr>\n",
       "      <th>2</th>\n",
       "      <td>0.09</td>\n",
       "      <td>0.02</td>\n",
       "      <td>0.05</td>\n",
       "      <td>-0.01</td>\n",
       "      <td>-0.03</td>\n",
       "      <td>-0.07</td>\n",
       "      <td>0.05</td>\n",
       "      <td>-0.56</td>\n",
       "      <td>-0.76</td>\n",
       "      <td>0.05</td>\n",
       "      <td>-0.00</td>\n",
       "      <td>0.03</td>\n",
       "      <td>-0.11</td>\n",
       "      <td>0.11</td>\n",
       "      <td>0.13</td>\n",
       "      <td>409120.0</td>\n",
       "    </tr>\n",
       "    <tr>\n",
       "      <th>3</th>\n",
       "      <td>0.09</td>\n",
       "      <td>0.02</td>\n",
       "      <td>-0.01</td>\n",
       "      <td>0.01</td>\n",
       "      <td>-0.02</td>\n",
       "      <td>0.05</td>\n",
       "      <td>-0.45</td>\n",
       "      <td>-0.49</td>\n",
       "      <td>-0.51</td>\n",
       "      <td>0.01</td>\n",
       "      <td>-0.21</td>\n",
       "      <td>0.03</td>\n",
       "      <td>-0.11</td>\n",
       "      <td>0.11</td>\n",
       "      <td>-0.05</td>\n",
       "      <td>221618.0</td>\n",
       "    </tr>\n",
       "    <tr>\n",
       "      <th>4</th>\n",
       "      <td>0.09</td>\n",
       "      <td>0.02</td>\n",
       "      <td>-0.05</td>\n",
       "      <td>0.01</td>\n",
       "      <td>-0.01</td>\n",
       "      <td>-0.07</td>\n",
       "      <td>0.05</td>\n",
       "      <td>-0.45</td>\n",
       "      <td>0.05</td>\n",
       "      <td>0.05</td>\n",
       "      <td>0.13</td>\n",
       "      <td>0.03</td>\n",
       "      <td>-0.11</td>\n",
       "      <td>0.11</td>\n",
       "      <td>0.13</td>\n",
       "      <td>189802.0</td>\n",
       "    </tr>\n",
       "    <tr>\n",
       "      <th>...</th>\n",
       "      <td>...</td>\n",
       "      <td>...</td>\n",
       "      <td>...</td>\n",
       "      <td>...</td>\n",
       "      <td>...</td>\n",
       "      <td>...</td>\n",
       "      <td>...</td>\n",
       "      <td>...</td>\n",
       "      <td>...</td>\n",
       "      <td>...</td>\n",
       "      <td>...</td>\n",
       "      <td>...</td>\n",
       "      <td>...</td>\n",
       "      <td>...</td>\n",
       "      <td>...</td>\n",
       "      <td>...</td>\n",
       "    </tr>\n",
       "    <tr>\n",
       "      <th>61493</th>\n",
       "      <td>0.09</td>\n",
       "      <td>0.02</td>\n",
       "      <td>0.02</td>\n",
       "      <td>-0.07</td>\n",
       "      <td>0.02</td>\n",
       "      <td>0.05</td>\n",
       "      <td>0.05</td>\n",
       "      <td>0.37</td>\n",
       "      <td>-0.97</td>\n",
       "      <td>-0.03</td>\n",
       "      <td>-0.25</td>\n",
       "      <td>0.03</td>\n",
       "      <td>0.21</td>\n",
       "      <td>0.11</td>\n",
       "      <td>-0.05</td>\n",
       "      <td>119280.0</td>\n",
       "    </tr>\n",
       "    <tr>\n",
       "      <th>61494</th>\n",
       "      <td>0.09</td>\n",
       "      <td>0.02</td>\n",
       "      <td>0.02</td>\n",
       "      <td>0.05</td>\n",
       "      <td>-0.05</td>\n",
       "      <td>-0.01</td>\n",
       "      <td>0.05</td>\n",
       "      <td>0.55</td>\n",
       "      <td>-0.35</td>\n",
       "      <td>0.08</td>\n",
       "      <td>0.17</td>\n",
       "      <td>0.03</td>\n",
       "      <td>-0.11</td>\n",
       "      <td>-0.61</td>\n",
       "      <td>-0.05</td>\n",
       "      <td>213899.0</td>\n",
       "    </tr>\n",
       "    <tr>\n",
       "      <th>61495</th>\n",
       "      <td>0.09</td>\n",
       "      <td>0.02</td>\n",
       "      <td>0.03</td>\n",
       "      <td>-0.08</td>\n",
       "      <td>0.16</td>\n",
       "      <td>-0.01</td>\n",
       "      <td>0.05</td>\n",
       "      <td>-0.56</td>\n",
       "      <td>-0.83</td>\n",
       "      <td>0.12</td>\n",
       "      <td>0.17</td>\n",
       "      <td>0.03</td>\n",
       "      <td>-0.11</td>\n",
       "      <td>-0.61</td>\n",
       "      <td>-0.05</td>\n",
       "      <td>290869.0</td>\n",
       "    </tr>\n",
       "    <tr>\n",
       "      <th>61496</th>\n",
       "      <td>0.09</td>\n",
       "      <td>-0.04</td>\n",
       "      <td>-0.17</td>\n",
       "      <td>-0.04</td>\n",
       "      <td>0.02</td>\n",
       "      <td>0.17</td>\n",
       "      <td>-0.11</td>\n",
       "      <td>0.18</td>\n",
       "      <td>-0.32</td>\n",
       "      <td>-0.00</td>\n",
       "      <td>-0.04</td>\n",
       "      <td>0.03</td>\n",
       "      <td>0.21</td>\n",
       "      <td>0.11</td>\n",
       "      <td>-0.05</td>\n",
       "      <td>101228.0</td>\n",
       "    </tr>\n",
       "    <tr>\n",
       "      <th>61497</th>\n",
       "      <td>-0.19</td>\n",
       "      <td>0.02</td>\n",
       "      <td>-0.00</td>\n",
       "      <td>0.02</td>\n",
       "      <td>-0.05</td>\n",
       "      <td>0.05</td>\n",
       "      <td>-0.28</td>\n",
       "      <td>-0.36</td>\n",
       "      <td>0.57</td>\n",
       "      <td>0.00</td>\n",
       "      <td>0.10</td>\n",
       "      <td>0.03</td>\n",
       "      <td>-0.11</td>\n",
       "      <td>0.11</td>\n",
       "      <td>0.13</td>\n",
       "      <td>409346.0</td>\n",
       "    </tr>\n",
       "  </tbody>\n",
       "</table>\n",
       "<p>61498 rows × 16 columns</p>\n",
       "</div>"
      ],
      "text/plain": [
       "       FLAG_OWN_CAR  FLAG_OWN_REALTY  AMT_INCOME_TOTAL  AMT_CREDIT  \\\n",
       "0             -0.19            -0.04             -0.01       -0.00   \n",
       "1              0.09             0.02              0.03        0.02   \n",
       "2              0.09             0.02              0.05       -0.01   \n",
       "3              0.09             0.02             -0.01        0.01   \n",
       "4              0.09             0.02             -0.05        0.01   \n",
       "...             ...              ...               ...         ...   \n",
       "61493          0.09             0.02              0.02       -0.07   \n",
       "61494          0.09             0.02              0.02        0.05   \n",
       "61495          0.09             0.02              0.03       -0.08   \n",
       "61496          0.09            -0.04             -0.17       -0.04   \n",
       "61497         -0.19             0.02             -0.00        0.02   \n",
       "\n",
       "       AMT_ANNUITY  CNT_FAM_MEMBERS  EXT_SOURCE_1  EXT_SOURCE_2  EXT_SOURCE_3  \\\n",
       "0             0.01            -0.01          0.05         -0.56         -0.10   \n",
       "1            -0.03            -0.01          0.05          0.38          0.42   \n",
       "2            -0.03            -0.07          0.05         -0.56         -0.76   \n",
       "3            -0.02             0.05         -0.45         -0.49         -0.51   \n",
       "4            -0.01            -0.07          0.05         -0.45          0.05   \n",
       "...            ...              ...           ...           ...           ...   \n",
       "61493         0.02             0.05          0.05          0.37         -0.97   \n",
       "61494        -0.05            -0.01          0.05          0.55         -0.35   \n",
       "61495         0.16            -0.01          0.05         -0.56         -0.83   \n",
       "61496         0.02             0.17         -0.11          0.18         -0.32   \n",
       "61497        -0.05             0.05         -0.28         -0.36          0.57   \n",
       "\n",
       "       client_age  client_prof_exp  Cash_loans  GENDER_FEMALE  active_client  \\\n",
       "0           -0.08            -0.04        0.03           0.21           0.11   \n",
       "1            0.09             0.17        0.03          -0.11          -0.61   \n",
       "2            0.05            -0.00        0.03          -0.11           0.11   \n",
       "3            0.01            -0.21        0.03          -0.11           0.11   \n",
       "4            0.05             0.13        0.03          -0.11           0.11   \n",
       "...           ...              ...         ...            ...            ...   \n",
       "61493       -0.03            -0.25        0.03           0.21           0.11   \n",
       "61494        0.08             0.17        0.03          -0.11          -0.61   \n",
       "61495        0.12             0.17        0.03          -0.11          -0.61   \n",
       "61496       -0.00            -0.04        0.03           0.21           0.11   \n",
       "61497        0.00             0.10        0.03          -0.11           0.11   \n",
       "\n",
       "       relationship  SK_ID_CURR  \n",
       "0             -0.05    351895.0  \n",
       "1             -0.05    381608.0  \n",
       "2              0.13    409120.0  \n",
       "3             -0.05    221618.0  \n",
       "4              0.13    189802.0  \n",
       "...             ...         ...  \n",
       "61493         -0.05    119280.0  \n",
       "61494         -0.05    213899.0  \n",
       "61495         -0.05    290869.0  \n",
       "61496         -0.05    101228.0  \n",
       "61497          0.13    409346.0  \n",
       "\n",
       "[61498 rows x 16 columns]"
      ]
     },
     "execution_count": 70,
     "metadata": {},
     "output_type": "execute_result"
    }
   ],
   "source": [
    "svv['SK_ID_CURR']=transf_data['SK_ID_CURR']\n",
    "svv"
   ]
  },
  {
   "cell_type": "code",
   "execution_count": 71,
   "metadata": {},
   "outputs": [
    {
     "ename": "IndexError",
     "evalue": "index 62000 is out of bounds for axis 0 with size 61498",
     "output_type": "error",
     "traceback": [
      "\u001b[1;31m---------------------------------------------------------------------------\u001b[0m",
      "\u001b[1;31mIndexError\u001b[0m                                Traceback (most recent call last)",
      "\u001b[1;32m~\\AppData\\Local\\Temp\\ipykernel_31108\\319513213.py\u001b[0m in \u001b[0;36m<module>\u001b[1;34m\u001b[0m\n\u001b[1;32m----> 1\u001b[1;33m \u001b[0mshap_values\u001b[0m\u001b[1;33m[\u001b[0m\u001b[1;36m62000\u001b[0m\u001b[1;33m]\u001b[0m\u001b[1;33m\u001b[0m\u001b[1;33m\u001b[0m\u001b[0m\n\u001b[0m",
      "\u001b[1;32mc:\\Users\\xavie\\anaconda3\\lib\\site-packages\\shap\\_explanation.py\u001b[0m in \u001b[0;36m__getitem__\u001b[1;34m(self, item)\u001b[0m\n\u001b[0;32m    419\u001b[0m         \u001b[1;32mif\u001b[0m \u001b[0mnew_self\u001b[0m \u001b[1;32mis\u001b[0m \u001b[1;32mNone\u001b[0m\u001b[1;33m:\u001b[0m\u001b[1;33m\u001b[0m\u001b[1;33m\u001b[0m\u001b[0m\n\u001b[0;32m    420\u001b[0m             \u001b[0mnew_self\u001b[0m \u001b[1;33m=\u001b[0m \u001b[0mcopy\u001b[0m\u001b[1;33m.\u001b[0m\u001b[0mcopy\u001b[0m\u001b[1;33m(\u001b[0m\u001b[0mself\u001b[0m\u001b[1;33m)\u001b[0m\u001b[1;33m\u001b[0m\u001b[1;33m\u001b[0m\u001b[0m\n\u001b[1;32m--> 421\u001b[1;33m         \u001b[0mnew_self\u001b[0m\u001b[1;33m.\u001b[0m\u001b[0m_s\u001b[0m \u001b[1;33m=\u001b[0m \u001b[0mnew_self\u001b[0m\u001b[1;33m.\u001b[0m\u001b[0m_s\u001b[0m\u001b[1;33m.\u001b[0m\u001b[0m__getitem__\u001b[0m\u001b[1;33m(\u001b[0m\u001b[0mitem\u001b[0m\u001b[1;33m)\u001b[0m\u001b[1;33m\u001b[0m\u001b[1;33m\u001b[0m\u001b[0m\n\u001b[0m\u001b[0;32m    422\u001b[0m         new_self.op_history.append({\n\u001b[0;32m    423\u001b[0m             \u001b[1;34m\"name\"\u001b[0m\u001b[1;33m:\u001b[0m \u001b[1;34m\"__getitem__\"\u001b[0m\u001b[1;33m,\u001b[0m\u001b[1;33m\u001b[0m\u001b[1;33m\u001b[0m\u001b[0m\n",
      "\u001b[1;32mc:\\Users\\xavie\\anaconda3\\lib\\site-packages\\slicer\\slicer.py\u001b[0m in \u001b[0;36m__getitem__\u001b[1;34m(self, item)\u001b[0m\n\u001b[0;32m    110\u001b[0m                 \u001b[0mindex_slicer\u001b[0m \u001b[1;33m=\u001b[0m \u001b[0mAtomicSlicer\u001b[0m\u001b[1;33m(\u001b[0m\u001b[0mindex_tup\u001b[0m\u001b[1;33m,\u001b[0m \u001b[0mmax_dim\u001b[0m\u001b[1;33m=\u001b[0m\u001b[1;36m1\u001b[0m\u001b[1;33m)\u001b[0m\u001b[1;33m\u001b[0m\u001b[1;33m\u001b[0m\u001b[0m\n\u001b[0;32m    111\u001b[0m                 \u001b[0mslicer_index\u001b[0m \u001b[1;33m=\u001b[0m \u001b[0mindex_slicer\u001b[0m\u001b[1;33m[\u001b[0m\u001b[0mtracked\u001b[0m\u001b[1;33m.\u001b[0m\u001b[0mdim\u001b[0m\u001b[1;33m]\u001b[0m\u001b[1;33m\u001b[0m\u001b[1;33m\u001b[0m\u001b[0m\n\u001b[1;32m--> 112\u001b[1;33m                 \u001b[0msliced_o\u001b[0m \u001b[1;33m=\u001b[0m \u001b[0mtracked\u001b[0m\u001b[1;33m[\u001b[0m\u001b[0mslicer_index\u001b[0m\u001b[1;33m]\u001b[0m\u001b[1;33m\u001b[0m\u001b[1;33m\u001b[0m\u001b[0m\n\u001b[0m\u001b[0;32m    113\u001b[0m                 \u001b[0msliced_dim\u001b[0m \u001b[1;33m=\u001b[0m \u001b[0mresolve_dim\u001b[0m\u001b[1;33m(\u001b[0m\u001b[0mindex_tup\u001b[0m\u001b[1;33m,\u001b[0m \u001b[0mtracked\u001b[0m\u001b[1;33m.\u001b[0m\u001b[0mdim\u001b[0m\u001b[1;33m)\u001b[0m\u001b[1;33m\u001b[0m\u001b[1;33m\u001b[0m\u001b[0m\n\u001b[0;32m    114\u001b[0m \u001b[1;33m\u001b[0m\u001b[0m\n",
      "\u001b[1;32mc:\\Users\\xavie\\anaconda3\\lib\\site-packages\\slicer\\slicer_internal.py\u001b[0m in \u001b[0;36m__getitem__\u001b[1;34m(self, item)\u001b[0m\n\u001b[0;32m     67\u001b[0m \u001b[1;33m\u001b[0m\u001b[0m\n\u001b[0;32m     68\u001b[0m         \u001b[1;31m# Slice according to object type.\u001b[0m\u001b[1;33m\u001b[0m\u001b[1;33m\u001b[0m\u001b[0m\n\u001b[1;32m---> 69\u001b[1;33m         \u001b[1;32mreturn\u001b[0m \u001b[0mUnifiedDataHandler\u001b[0m\u001b[1;33m.\u001b[0m\u001b[0mslice\u001b[0m\u001b[1;33m(\u001b[0m\u001b[0mself\u001b[0m\u001b[1;33m.\u001b[0m\u001b[0mo\u001b[0m\u001b[1;33m,\u001b[0m \u001b[0mindex_tup\u001b[0m\u001b[1;33m,\u001b[0m \u001b[0mself\u001b[0m\u001b[1;33m.\u001b[0m\u001b[0mmax_dim\u001b[0m\u001b[1;33m)\u001b[0m\u001b[1;33m\u001b[0m\u001b[1;33m\u001b[0m\u001b[0m\n\u001b[0m\u001b[0;32m     70\u001b[0m \u001b[1;33m\u001b[0m\u001b[0m\n\u001b[0;32m     71\u001b[0m \u001b[1;33m\u001b[0m\u001b[0m\n",
      "\u001b[1;32mc:\\Users\\xavie\\anaconda3\\lib\\site-packages\\slicer\\slicer_internal.py\u001b[0m in \u001b[0;36mslice\u001b[1;34m(cls, o, index_tup, max_dim)\u001b[0m\n\u001b[0;32m    580\u001b[0m         \u001b[0mtail_slice\u001b[0m \u001b[1;33m=\u001b[0m \u001b[0mcls\u001b[0m\u001b[1;33m.\u001b[0m\u001b[0mtype_map\u001b[0m\u001b[1;33m[\u001b[0m\u001b[0mo_type\u001b[0m\u001b[1;33m]\u001b[0m\u001b[1;33m.\u001b[0m\u001b[0mtail_slice\u001b[0m\u001b[1;33m\u001b[0m\u001b[1;33m\u001b[0m\u001b[0m\n\u001b[0;32m    581\u001b[0m \u001b[1;33m\u001b[0m\u001b[0m\n\u001b[1;32m--> 582\u001b[1;33m         \u001b[0mis_element\u001b[0m\u001b[1;33m,\u001b[0m \u001b[0msliced_o\u001b[0m\u001b[1;33m,\u001b[0m \u001b[0mcut\u001b[0m \u001b[1;33m=\u001b[0m \u001b[0mhead_slice\u001b[0m\u001b[1;33m(\u001b[0m\u001b[0mo\u001b[0m\u001b[1;33m,\u001b[0m \u001b[0mindex_tup\u001b[0m\u001b[1;33m,\u001b[0m \u001b[0mmax_dim\u001b[0m\u001b[1;33m)\u001b[0m\u001b[1;33m\u001b[0m\u001b[1;33m\u001b[0m\u001b[0m\n\u001b[0m\u001b[0;32m    583\u001b[0m         \u001b[0mout\u001b[0m \u001b[1;33m=\u001b[0m \u001b[0mtail_slice\u001b[0m\u001b[1;33m(\u001b[0m\u001b[0msliced_o\u001b[0m\u001b[1;33m,\u001b[0m \u001b[0mindex_tup\u001b[0m\u001b[1;33m[\u001b[0m\u001b[0mcut\u001b[0m\u001b[1;33m:\u001b[0m\u001b[1;33m]\u001b[0m\u001b[1;33m,\u001b[0m \u001b[0mmax_dim\u001b[0m \u001b[1;33m-\u001b[0m \u001b[0mcut\u001b[0m\u001b[1;33m,\u001b[0m \u001b[0mis_element\u001b[0m\u001b[1;33m)\u001b[0m\u001b[1;33m\u001b[0m\u001b[1;33m\u001b[0m\u001b[0m\n\u001b[0;32m    584\u001b[0m         \u001b[1;32mreturn\u001b[0m \u001b[0mout\u001b[0m\u001b[1;33m\u001b[0m\u001b[1;33m\u001b[0m\u001b[0m\n",
      "\u001b[1;32mc:\\Users\\xavie\\anaconda3\\lib\\site-packages\\slicer\\slicer_internal.py\u001b[0m in \u001b[0;36mhead_slice\u001b[1;34m(cls, o, index_tup, max_dim)\u001b[0m\n\u001b[0;32m    416\u001b[0m         \u001b[0mcut_index\u001b[0m \u001b[1;33m=\u001b[0m \u001b[0mindex_tup\u001b[0m\u001b[1;33m[\u001b[0m\u001b[1;33m:\u001b[0m\u001b[0mcut\u001b[0m\u001b[1;33m]\u001b[0m\u001b[1;33m\u001b[0m\u001b[1;33m\u001b[0m\u001b[0m\n\u001b[0;32m    417\u001b[0m         \u001b[0mis_element\u001b[0m \u001b[1;33m=\u001b[0m \u001b[0many\u001b[0m\u001b[1;33m(\u001b[0m\u001b[1;33m[\u001b[0m\u001b[1;32mTrue\u001b[0m \u001b[1;32mif\u001b[0m \u001b[0misinstance\u001b[0m\u001b[1;33m(\u001b[0m\u001b[0mx\u001b[0m\u001b[1;33m,\u001b[0m \u001b[0mint\u001b[0m\u001b[1;33m)\u001b[0m \u001b[1;32melse\u001b[0m \u001b[1;32mFalse\u001b[0m \u001b[1;32mfor\u001b[0m \u001b[0mx\u001b[0m \u001b[1;32min\u001b[0m \u001b[0mcut_index\u001b[0m\u001b[1;33m]\u001b[0m\u001b[1;33m)\u001b[0m\u001b[1;33m\u001b[0m\u001b[1;33m\u001b[0m\u001b[0m\n\u001b[1;32m--> 418\u001b[1;33m         \u001b[0msliced_o\u001b[0m \u001b[1;33m=\u001b[0m \u001b[0mo\u001b[0m\u001b[1;33m[\u001b[0m\u001b[0mcut_index\u001b[0m\u001b[1;33m]\u001b[0m\u001b[1;33m\u001b[0m\u001b[1;33m\u001b[0m\u001b[0m\n\u001b[0m\u001b[0;32m    419\u001b[0m \u001b[1;33m\u001b[0m\u001b[0m\n\u001b[0;32m    420\u001b[0m         \u001b[1;32mreturn\u001b[0m \u001b[0mis_element\u001b[0m\u001b[1;33m,\u001b[0m \u001b[0msliced_o\u001b[0m\u001b[1;33m,\u001b[0m \u001b[0mcut\u001b[0m\u001b[1;33m\u001b[0m\u001b[1;33m\u001b[0m\u001b[0m\n",
      "\u001b[1;31mIndexError\u001b[0m: index 62000 is out of bounds for axis 0 with size 61498"
     ]
    }
   ],
   "source": [
    "shap_values[62000]"
   ]
  },
  {
   "cell_type": "code",
   "execution_count": 90,
   "metadata": {},
   "outputs": [
    {
     "data": {
      "text/plain": [
       "shap._explanation.Explanation"
      ]
     },
     "execution_count": 90,
     "metadata": {},
     "output_type": "execute_result"
    }
   ],
   "source": [
    "type(shap_values)"
   ]
  },
  {
   "cell_type": "code",
   "execution_count": 81,
   "metadata": {},
   "outputs": [
    {
     "data": {
      "text/plain": [
       ".values =\n",
       "array([-1.87973890e-01, -4.00616298e-02, -1.26609466e-02, -6.03522468e-05,\n",
       "        6.13003661e-03, -8.27922236e-03,  4.84500337e-02, -5.56707210e-01,\n",
       "       -1.03666850e-01, -8.38350722e-02, -3.97042832e-02,  2.66822754e-02,\n",
       "        2.08322769e-01,  1.07251423e-01, -4.64317117e-02])\n",
       "\n",
       ".base_values =\n",
       "-0.19579387944436355\n",
       "\n",
       ".data =\n",
       "array([ 1.43508025, -1.48649183,  0.26268381,  0.0840153 ,  0.19893256,\n",
       "       -0.16225315, -0.04313659,  1.17022907,  0.32642423, -1.24928899,\n",
       "        0.20050707,  0.30085104, -1.27899291,  0.43007568,  0.60980409])"
      ]
     },
     "execution_count": 81,
     "metadata": {},
     "output_type": "execute_result"
    }
   ],
   "source": [
    "shap_values[0]"
   ]
  },
  {
   "cell_type": "code",
   "execution_count": 100,
   "metadata": {},
   "outputs": [
    {
     "data": {
      "image/png": "[encoded data removed]",
      "text/plain": [
       "<Figure size 800x650 with 1 Axes>"
      ]
     },
     "metadata": {},
     "output_type": "display_data"
    }
   ],
   "source": [
    "shap.plots.bar(shap_values[0])"
   ]
  },
  {
   "cell_type": "code",
   "execution_count": 102,
   "metadata": {},
   "outputs": [],
   "source": [
    "exp.feature_names"
   ]
  },
  {
   "cell_type": "code",
   "execution_count": 94,
   "metadata": {},
   "outputs": [
    {
     "data": {
      "text/plain": [
       "shap._explanation.Explanation"
      ]
     },
     "execution_count": 94,
     "metadata": {},
     "output_type": "execute_result"
    }
   ],
   "source": [
    "type(shap_values)"
   ]
  },
  {
   "cell_type": "code",
   "execution_count": 98,
   "metadata": {},
   "outputs": [
    {
     "data": {
      "text/plain": [
       "<bound method Explanation.cohorts of .values =\n",
       "array([[-0.18797389, -0.04006163, -0.01266095, ...,  0.20832277,\n",
       "         0.10725142, -0.04643171],\n",
       "       [ 0.0884583 ,  0.02063781,  0.0260153 , ..., -0.10731779,\n",
       "        -0.60775806, -0.04643171],\n",
       "       [ 0.0884583 ,  0.02063781,  0.04811602, ..., -0.10731779,\n",
       "         0.10725142,  0.12553759],\n",
       "       ...,\n",
       "       [ 0.0884583 ,  0.02063781,  0.03430307, ..., -0.10731779,\n",
       "        -0.60775806, -0.04643171],\n",
       "       [ 0.0884583 , -0.04006163, -0.17289112, ...,  0.20832277,\n",
       "         0.10725142, -0.04643171],\n",
       "       [-0.18797389,  0.02063781, -0.00161059, ..., -0.10731779,\n",
       "         0.10725142,  0.12553759]])\n",
       "\n",
       ".base_values =\n",
       "array([-0.19579388, -0.19579388, -0.19579388, ..., -0.19579388,\n",
       "       -0.19579388, -0.19579388])\n",
       "\n",
       ".data =\n",
       "array([[ 1.43508025, -1.48649183,  0.26268381, ..., -1.27899291,\n",
       "         0.43007568,  0.60980409],\n",
       "       [-0.69682514,  0.67272486, -0.43124586, ...,  0.78186516,\n",
       "        -2.32517219,  0.60980409],\n",
       "       [-0.69682514,  0.67272486, -0.8277771 , ...,  0.78186516,\n",
       "         0.43007568, -1.63987094],\n",
       "       ...,\n",
       "       [-0.69682514,  0.67272486, -0.57994508, ...,  0.78186516,\n",
       "        -2.32517219,  0.60980409],\n",
       "       [-0.69682514, -1.48649183,  3.13753529, ..., -1.27899291,\n",
       "         0.43007568,  0.60980409],\n",
       "       [ 1.43508025,  0.67272486,  0.06441819, ...,  0.78186516,\n",
       "         0.43007568, -1.63987094]])>"
      ]
     },
     "execution_count": 98,
     "metadata": {},
     "output_type": "execute_result"
    }
   ],
   "source": [
    "shap_values.cohorts"
   ]
  },
  {
   "cell_type": "code",
   "execution_count": 103,
   "metadata": {},
   "outputs": [],
   "source": [
    "v1=shap_values.values\n",
    "v2=shap_values.base_values\n",
    "v3=shap_values.data\n",
    "v4=shap_values.feature_names\n",
    "#v = np.concatenate((v1, v2, v3))"
   ]
  },
  {
   "cell_type": "code",
   "execution_count": 108,
   "metadata": {},
   "outputs": [],
   "source": [
    "exp=shap.Explanation(v1,feature_names=v4) #v2,v4)"
   ]
  },
  {
   "cell_type": "code",
   "execution_count": 109,
   "metadata": {},
   "outputs": [
    {
     "data": {
      "text/plain": [
       "shap._explanation.Explanation"
      ]
     },
     "execution_count": 109,
     "metadata": {},
     "output_type": "execute_result"
    }
   ],
   "source": [
    "type(exp)"
   ]
  },
  {
   "cell_type": "code",
   "execution_count": 110,
   "metadata": {},
   "outputs": [
    {
     "data": {
      "text/plain": [
       "<bound method Explanation.cohorts of .values =\n",
       "array([[-0.18797389, -0.04006163, -0.01266095, ...,  0.20832277,\n",
       "         0.10725142, -0.04643171],\n",
       "       [ 0.0884583 ,  0.02063781,  0.0260153 , ..., -0.10731779,\n",
       "        -0.60775806, -0.04643171],\n",
       "       [ 0.0884583 ,  0.02063781,  0.04811602, ..., -0.10731779,\n",
       "         0.10725142,  0.12553759],\n",
       "       ...,\n",
       "       [ 0.0884583 ,  0.02063781,  0.03430307, ..., -0.10731779,\n",
       "        -0.60775806, -0.04643171],\n",
       "       [ 0.0884583 , -0.04006163, -0.17289112, ...,  0.20832277,\n",
       "         0.10725142, -0.04643171],\n",
       "       [-0.18797389,  0.02063781, -0.00161059, ..., -0.10731779,\n",
       "         0.10725142,  0.12553759]])>"
      ]
     },
     "execution_count": 110,
     "metadata": {},
     "output_type": "execute_result"
    }
   ],
   "source": [
    "exp.cohorts"
   ]
  },
  {
   "cell_type": "code",
   "execution_count": 111,
   "metadata": {},
   "outputs": [
    {
     "data": {
      "image/png": "[encoded data removed]",
      "text/plain": [
       "<Figure size 800x650 with 1 Axes>"
      ]
     },
     "metadata": {},
     "output_type": "display_data"
    }
   ],
   "source": [
    "shap.plots.bar(exp[0])"
   ]
  },
  {
   "cell_type": "code",
   "execution_count": 112,
   "metadata": {},
   "outputs": [
    {
     "data": {
      "image/png": "[encoded data removed]",
      "text/plain": [
       "<Figure size 800x650 with 1 Axes>"
      ]
     },
     "metadata": {},
     "output_type": "display_data"
    }
   ],
   "source": [
    "shap.plots.bar(shap_values[0])"
   ]
  },
  {
   "cell_type": "code",
   "execution_count": 93,
   "metadata": {},
   "outputs": [
    {
     "data": {
      "text/plain": [
       "numpy.ndarray"
      ]
     },
     "execution_count": 93,
     "metadata": {},
     "output_type": "execute_result"
    }
   ],
   "source": [
    "type(v1)"
   ]
  },
  {
   "cell_type": "code",
   "execution_count": 89,
   "metadata": {},
   "outputs": [
    {
     "ename": "AttributeError",
     "evalue": "'numpy.ndarray' object has no attribute 'to_dict'",
     "output_type": "error",
     "traceback": [
      "\u001b[1;31m---------------------------------------------------------------------------\u001b[0m",
      "\u001b[1;31mAttributeError\u001b[0m                            Traceback (most recent call last)",
      "\u001b[1;32m~\\AppData\\Local\\Temp\\ipykernel_31108\\450918496.py\u001b[0m in \u001b[0;36m<module>\u001b[1;34m\u001b[0m\n\u001b[1;32m----> 1\u001b[1;33m \u001b[0mv\u001b[0m\u001b[1;33m=\u001b[0m\u001b[0mv\u001b[0m\u001b[1;33m.\u001b[0m\u001b[0mto_dict\u001b[0m\u001b[1;33m(\u001b[0m\u001b[1;33m)\u001b[0m\u001b[1;33m\u001b[0m\u001b[1;33m\u001b[0m\u001b[0m\n\u001b[0m",
      "\u001b[1;31mAttributeError\u001b[0m: 'numpy.ndarray' object has no attribute 'to_dict'"
     ]
    }
   ],
   "source": [
    "v=v.to_dict()"
   ]
  },
  {
   "cell_type": "code",
   "execution_count": null,
   "metadata": {},
   "outputs": [],
   "source": []
  }
 ],
 "metadata": {
  "kernelspec": {
   "display_name": "base",
   "language": "python",
   "name": "python3"
  },
  "language_info": {
   "codemirror_mode": {
    "name": "ipython",
    "version": 3
   },
   "file_extension": ".py",
   "mimetype": "text/x-python",
   "name": "python",
   "nbconvert_exporter": "python",
   "pygments_lexer": "ipython3",
   "version": "3.9.13"
  }
 },
 "nbformat": 4,
 "nbformat_minor": 2
}
