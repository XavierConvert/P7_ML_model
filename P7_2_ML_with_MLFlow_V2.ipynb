{
 "cells": [
  {
   "cell_type": "code",
   "execution_count": null,
   "id": "d335a4f9",
   "metadata": {},
   "outputs": [],
   "source": [
    "pwd"
   ]
  },
  {
   "cell_type": "markdown",
   "id": "7f9b61a0",
   "metadata": {},
   "source": [
    "# 1 Intro\n",
    "\n",
    "Notebook dédié à l'entrainement du modèle de ML\n",
    "- sur base application_train (train_V1.csv)\n",
    "- dummy classifier\n",
    "- modèles de classification: Regression Logistique, Random Forest, LGBM, XGBooost\n",
    "- transformation des variables catégorielles via OneHotEncoder puis via booléen (quand possible)\n",
    "- gestion de classes non équilibrées(RandomUnderSampler)\n"
   ]
  },
  {
   "cell_type": "markdown",
   "id": "11f6f2e7",
   "metadata": {},
   "source": [
    "## 1.1. Import"
   ]
  },
  {
   "cell_type": "code",
   "execution_count": null,
   "id": "e6e0b151",
   "metadata": {},
   "outputs": [],
   "source": [
    "import pandas as pd\n",
    "import numpy as np\n",
    "import matplotlib.pyplot as plt\n",
    "import seaborn as sns\n",
    "import chardet\n",
    "import missingno as msno\n",
    "from sklearn.model_selection import train_test_split\n",
    "from sklearn.dummy import DummyClassifier\n",
    "from sklearn.impute import KNNImputer\n",
    "from sklearn.impute import SimpleImputer\n",
    "from sklearn.preprocessing import StandardScaler\n",
    "from sklearn.preprocessing import FunctionTransformer\n",
    "from sklearn.preprocessing import OneHotEncoder\n",
    "from sklearn.compose import ColumnTransformer\n",
    "from sklearn.model_selection import GridSearchCV\n",
    "from sklearn.model_selection import cross_val_score\n",
    "from sklearn.pipeline import Pipeline\n",
    "from sklearn.metrics import *\n",
    "from sklearn.linear_model import LogisticRegression\n",
    "from sklearn.ensemble import RandomForestClassifier\n",
    "from sklearn.utils import class_weight\n",
    "from imblearn.under_sampling import RandomUnderSampler, CondensedNearestNeighbour, ClusterCentroids,EditedNearestNeighbours, AllKNN, TomekLinks\n",
    "from imblearn.over_sampling import SMOTE\n",
    "from imblearn.pipeline import Pipeline as Pipeline_imb\n",
    "import lightgbm as lgb\n",
    "from lightgbm import LGBMClassifier\n",
    "from lightgbm import plot_importance\n",
    "from xgboost import XGBClassifier\n",
    "import xgboost as xgb\n",
    "import mlflow\n",
    "from mlflow import log_metric, log_param, log_artifacts, log_metrics\n",
    "from mlflow.models import infer_signature\n",
    "from mlflow.sklearn import log_model\n",
    "import os\n",
    "import tempfile\n",
    "import datetime\n",
    "from datetime import datetime as dt\n",
    "import warnings\n",
    "warnings.filterwarnings('ignore')\n",
    "import pickle\n",
    "import yellowbrick\n",
    "from yellowbrick import ROCAUC"
   ]
  },
  {
   "cell_type": "markdown",
   "id": "3933a1ef",
   "metadata": {},
   "source": [
    "## 1.2 Fonctions utiles / set-up"
   ]
  },
  {
   "cell_type": "code",
   "execution_count": null,
   "id": "86783752",
   "metadata": {},
   "outputs": [],
   "source": [
    "from src.fonctions import *"
   ]
  },
  {
   "cell_type": "code",
   "execution_count": null,
   "id": "083210f4",
   "metadata": {},
   "outputs": [],
   "source": [
    "pd.set_option('display.max_columns', None)"
   ]
  },
  {
   "cell_type": "code",
   "execution_count": null,
   "id": "cde304f6",
   "metadata": {},
   "outputs": [],
   "source": [
    "DISPLAY=True\n",
    "\n",
    "\"\"\"If Dispaly == False then all cell starting starting with 'If Display=True' won't be ran.\n",
    "Else they will\n",
    "\n",
    "This short function allows to by-pass instructions which are long to run (ex MSNO on huge dataset or sns.pairplot)\"\"\""
   ]
  },
  {
   "cell_type": "markdown",
   "id": "7d4ae55c",
   "metadata": {},
   "source": [
    "# 2 Data"
   ]
  },
  {
   "cell_type": "markdown",
   "id": "26c54fca",
   "metadata": {},
   "source": [
    "## 2.1 Import and display"
   ]
  },
  {
   "cell_type": "code",
   "execution_count": null,
   "id": "0ab6062c",
   "metadata": {},
   "outputs": [],
   "source": [
    "train_V1=pd.read_csv('../train_V1.csv')"
   ]
  },
  {
   "cell_type": "code",
   "execution_count": null,
   "id": "958d9dd4",
   "metadata": {},
   "outputs": [],
   "source": [
    "train_V2=pd.read_csv('../train_V2.csv')"
   ]
  },
  {
   "cell_type": "code",
   "execution_count": null,
   "id": "71fb64b8",
   "metadata": {},
   "outputs": [],
   "source": [
    "train_V1.shape"
   ]
  },
  {
   "cell_type": "code",
   "execution_count": null,
   "id": "6af7cc5d",
   "metadata": {},
   "outputs": [],
   "source": [
    "train_V1.head()"
   ]
  },
  {
   "cell_type": "markdown",
   "id": "66f0e353",
   "metadata": {},
   "source": [
    "Select only 20% du dataset pour accelerer divers fits ci dessous"
   ]
  },
  {
   "cell_type": "code",
   "execution_count": null,
   "id": "3c25f93b",
   "metadata": {},
   "outputs": [],
   "source": [
    "train_V1=train_V1.sample(frac=0.2)\n",
    "train_V1.shape"
   ]
  },
  {
   "cell_type": "markdown",
   "id": "7dfc6a05",
   "metadata": {},
   "source": [
    "# 3 Phase 0: MachineLearning / Baseline\n",
    "- Sur base Application Train\n",
    "- Dummy Classifier"
   ]
  },
  {
   "cell_type": "markdown",
   "id": "a0b1bc5a",
   "metadata": {},
   "source": [
    "## 3.1. Séparation du jeu de données (features: X / target:y)\n",
    " et suppression de colonnes inutiles"
   ]
  },
  {
   "cell_type": "code",
   "execution_count": null,
   "id": "6408e809",
   "metadata": {},
   "outputs": [],
   "source": [
    "X=train_V1.drop(['SK_ID_CURR','TARGET','OWN_CAR_AGE','NAME_HOUSING_TYPE','AMT_GOODS_PRICE','active_client','relationship'],axis=1)\n",
    "X.shape"
   ]
  },
  {
   "cell_type": "code",
   "execution_count": null,
   "id": "d6e66aea",
   "metadata": {},
   "outputs": [],
   "source": [
    "y=train_V1['TARGET']\n",
    "y.shape"
   ]
  },
  {
   "cell_type": "code",
   "execution_count": null,
   "id": "b2074b07",
   "metadata": {},
   "outputs": [],
   "source": [
    "num_feat=X.select_dtypes(exclude=object).columns.to_list()\n",
    "num_feat"
   ]
  },
  {
   "cell_type": "code",
   "execution_count": null,
   "id": "743d71b1",
   "metadata": {},
   "outputs": [],
   "source": [
    "cat_feat=X.select_dtypes(include=object).columns.to_list()\n",
    "cat_feat"
   ]
  },
  {
   "cell_type": "markdown",
   "id": "21b29b76",
   "metadata": {},
   "source": [
    "## 3.2 Train-test split"
   ]
  },
  {
   "cell_type": "code",
   "execution_count": null,
   "id": "17dcfb03",
   "metadata": {},
   "outputs": [],
   "source": [
    "X_train,X_test,y_train,y_test=train_test_split(X,y,test_size=0.2)"
   ]
  },
  {
   "cell_type": "code",
   "execution_count": null,
   "id": "f0aced25",
   "metadata": {},
   "outputs": [],
   "source": [
    "print('Train set:',X_train.shape)\n",
    "print('Test set:',X_test.shape)\n",
    "print('Train target:',y_train.shape)\n",
    "print('Test target:',y_test.shape)"
   ]
  },
  {
   "cell_type": "markdown",
   "id": "080702d3",
   "metadata": {},
   "source": [
    "## 3.3 Entrainement du DummyClassifier"
   ]
  },
  {
   "cell_type": "code",
   "execution_count": null,
   "id": "9916fe49",
   "metadata": {},
   "outputs": [],
   "source": [
    "dc=DummyClassifier()"
   ]
  },
  {
   "cell_type": "code",
   "execution_count": null,
   "id": "ae33d15f",
   "metadata": {},
   "outputs": [],
   "source": [
    "dc.fit(X_train,y_train)"
   ]
  },
  {
   "cell_type": "code",
   "execution_count": null,
   "id": "3106cf1e",
   "metadata": {},
   "outputs": [],
   "source": [
    "dc_pred=dc.predict(X_test)"
   ]
  },
  {
   "cell_type": "code",
   "execution_count": null,
   "id": "6f62b856",
   "metadata": {},
   "outputs": [],
   "source": [
    "acc=accuracy_score(y_test, dc_pred)\n",
    "acc"
   ]
  },
  {
   "cell_type": "code",
   "execution_count": null,
   "id": "0d963f90",
   "metadata": {},
   "outputs": [],
   "source": [
    "error=1-dc.score(X_test,y_test)\n",
    "error"
   ]
  },
  {
   "cell_type": "code",
   "execution_count": null,
   "id": "33c595be",
   "metadata": {},
   "outputs": [],
   "source": [
    "1-acc\n"
   ]
  },
  {
   "cell_type": "code",
   "execution_count": null,
   "id": "b8abf53b",
   "metadata": {},
   "outputs": [],
   "source": [
    "ConfusionMatrixDisplay(confusion_matrix(y_test,dc_pred)).plot()"
   ]
  },
  {
   "cell_type": "code",
   "execution_count": null,
   "id": "14318445",
   "metadata": {},
   "outputs": [],
   "source": [
    "print_score(y_test, dc_pred)"
   ]
  },
  {
   "cell_type": "markdown",
   "id": "0473cdab",
   "metadata": {},
   "source": [
    "## 3.5 Log MLFlow"
   ]
  },
  {
   "cell_type": "code",
   "execution_count": null,
   "id": "08adb6a2",
   "metadata": {},
   "outputs": [],
   "source": [
    "params={}"
   ]
  },
  {
   "cell_type": "code",
   "execution_count": null,
   "id": "99961406",
   "metadata": {},
   "outputs": [],
   "source": [
    "metrics={\"accuracy\": accuracy_score(y_test, dc_pred), \"ROC AUC\": roc_auc_score(y_test, dc_pred)}"
   ]
  },
  {
   "cell_type": "code",
   "execution_count": null,
   "id": "6c23a2ba",
   "metadata": {},
   "outputs": [],
   "source": [
    "mlflow.set_tracking_uri(uri=\"http://127.0.0.1:8080\")"
   ]
  },
  {
   "cell_type": "code",
   "execution_count": null,
   "id": "511dff41",
   "metadata": {},
   "outputs": [],
   "source": [
    "mlflow.set_experiment('credit_default_learning')"
   ]
  },
  {
   "cell_type": "code",
   "execution_count": null,
   "id": "3aef909b",
   "metadata": {},
   "outputs": [],
   "source": [
    "with mlflow.start_run():\n",
    "       \n",
    "    # Log the hyperparameters\n",
    "    mlflow.log_params(params)\n",
    "\n",
    "    # Log the loss metric\n",
    "    mlflow.log_metrics(metrics)\n",
    "\n",
    "    # Set a tag that we can use to remind ourselves what this run was for\n",
    "    mlflow.set_tag(\"Training Info\", \"DummyClassifier for credit default\")\n",
    "\n",
    "    # Infer the model signature\n",
    "    #signature = infer_signature(X_train, dc.predict(X_train))\n",
    "\n",
    "    # Log the model\n",
    "\n",
    "    mlflow.sklearn.log_model(\n",
    "        sk_model=dc,\n",
    "        artifact_path=\"pret_a_depenser\",\n",
    "        #signature=signature,\n",
    "        input_example=X_train.iloc[:10],\n",
    "        registered_model_name=\"tracking-dummy_classifier\",\n",
    "    )\n"
   ]
  },
  {
   "cell_type": "markdown",
   "id": "81dd7f77",
   "metadata": {},
   "source": [
    "# 4 V1: Autres modèles et pipeline sur base train_V1"
   ]
  },
  {
   "cell_type": "markdown",
   "id": "f8bbf5a2",
   "metadata": {},
   "source": [
    "Pour le pipeline:\n",
    "- sampler: RandomUnderSampler() (imblearn) \n",
    "- transformer: OHE pour cat_feat / log pour feat AMT\n",
    "- imputer: SimpleImputer('median')\n",
    "- scaler: StandardScaler()\n",
    "- estimator = DummyClassifier(), LogReg(), RF(),LightGBM, XGBoost"
   ]
  },
  {
   "cell_type": "markdown",
   "id": "cd463aa9",
   "metadata": {},
   "source": [
    "Pour les metrics: priotité au ROC aUC\n",
    "récupération de F1, recall, accuracy, precision\n",
    "\n",
    "Et 'speci: fonction créée pour calculer spécificité (TN / (TN+FP)) qui doit être le + grand possible \n"
   ]
  },
  {
   "cell_type": "markdown",
   "id": "ee508973",
   "metadata": {},
   "source": [
    "#### Transformer"
   ]
  },
  {
   "cell_type": "code",
   "execution_count": null,
   "id": "129dc3e2",
   "metadata": {},
   "outputs": [],
   "source": [
    "log_fct = FunctionTransformer(np.log1p)"
   ]
  },
  {
   "cell_type": "code",
   "execution_count": null,
   "id": "99e6e5de",
   "metadata": {},
   "outputs": [],
   "source": [
    "transformer= ColumnTransformer(transformers=\n",
    "                               [\n",
    "                               ('OneHot',OneHotEncoder(sparse=False,handle_unknown='ignore'),cat_feat),\n",
    "                               ('num',log_fct,['AMT_INCOME_TOTAL','AMT_CREDIT','AMT_ANNUITY'])                            \n",
    "                               ],\n",
    "                               remainder='passthrough'\n",
    "                             )\n",
    "transformer"
   ]
  },
  {
   "cell_type": "markdown",
   "id": "cad045ac",
   "metadata": {},
   "source": [
    "#### Pipeline"
   ]
  },
  {
   "cell_type": "code",
   "execution_count": null,
   "id": "57e5b6b0",
   "metadata": {},
   "outputs": [],
   "source": [
    "pipeline=Pipeline_imb([\n",
    "    ('sampler',RandomUnderSampler()),\n",
    "    ('transformer',transformer),\n",
    "    ('imputer',SimpleImputer()),\n",
    "    ('scaler',StandardScaler()),    \n",
    "    ('estimator',LogisticRegression())\n",
    "])\n",
    "pipeline"
   ]
  },
  {
   "cell_type": "markdown",
   "id": "5ae02430",
   "metadata": {},
   "source": [
    "#### Paramgrid"
   ]
  },
  {
   "cell_type": "markdown",
   "id": "76f77811",
   "metadata": {},
   "source": [
    "- Avec ou sans scaler\n",
    "- Avec ou sans sampler (ici RandomUnderSampler() car reste plus de 20000 individus de chaque catégorie (A essayer avec d'autres techniques: SMOTE, oversmapling, class_weight...)\n",
    "- différents estimateurs: LogisticRegression, RandomForest, XGBoost, LightGBM"
   ]
  },
  {
   "cell_type": "code",
   "execution_count": null,
   "id": "a56fcc09",
   "metadata": {},
   "outputs": [],
   "source": [
    "param_grid={\n",
    "    'sampler':[RandomUnderSampler(), 'passthrough'],\n",
    "    'scaler':[StandardScaler(),'passthrough'],    \n",
    "    'estimator':[LogisticRegression(),RandomForestClassifier(),LGBMClassifier(),XGBClassifier()]\n",
    "}"
   ]
  },
  {
   "cell_type": "markdown",
   "id": "2c15f6d5",
   "metadata": {},
   "source": [
    "#### GridsearchCV"
   ]
  },
  {
   "cell_type": "code",
   "execution_count": null,
   "id": "76ec8566",
   "metadata": {},
   "outputs": [],
   "source": [
    "scoring = {\n",
    "        'roc_auc': 'roc_auc',\n",
    "        'accuracy': 'accuracy',\n",
    "        'f1': 'f1',\n",
    "        'recall':'recall',\n",
    "        'precision':'precision',\n",
    "        'speci': (make_scorer(my_specificity_score,))# greater_is_better=False,))\n",
    "}"
   ]
  },
  {
   "cell_type": "code",
   "execution_count": null,
   "id": "ccb6df8b",
   "metadata": {},
   "outputs": [],
   "source": [
    "grid= GridSearchCV(\n",
    "    pipeline,\n",
    "    param_grid=param_grid,\n",
    "    cv=5,\n",
    "    #scoring=('roc_auc','accuracy','f1','recall','precision'),\n",
    "    scoring=scoring,\n",
    "    n_jobs=-1,\n",
    "    verbose=2,\n",
    "    return_train_score=True,\n",
    "    refit='roc_auc')"
   ]
  },
  {
   "cell_type": "code",
   "execution_count": null,
   "id": "ebaf97ae",
   "metadata": {},
   "outputs": [],
   "source": [
    "if DISPLAY:\n",
    "    grid.fit(X,y)"
   ]
  },
  {
   "cell_type": "code",
   "execution_count": null,
   "id": "d2b49add",
   "metadata": {},
   "outputs": [],
   "source": [
    "if DISPLAY:\n",
    "    res=result(grid, log_target=1)\n",
    "    res.sort_values(by='mean_test_roc_auc',ascending=False).head(5)"
   ]
  },
  {
   "cell_type": "code",
   "execution_count": null,
   "id": "ff32627c",
   "metadata": {},
   "outputs": [],
   "source": [
    "RES=pd.DataFrame()"
   ]
  },
  {
   "cell_type": "code",
   "execution_count": null,
   "id": "36ae70fe",
   "metadata": {},
   "outputs": [],
   "source": [
    "RES=pd.concat([RES, res],axis=0, ignore_index=True)"
   ]
  },
  {
   "cell_type": "code",
   "execution_count": null,
   "id": "6d530e50",
   "metadata": {},
   "outputs": [],
   "source": [
    "RES.head(10)"
   ]
  },
  {
   "cell_type": "markdown",
   "id": "b852cba3",
   "metadata": {},
   "source": [
    "#### Log Mlflow"
   ]
  },
  {
   "cell_type": "code",
   "execution_count": null,
   "id": "a134d939",
   "metadata": {},
   "outputs": [],
   "source": [
    "log_results(grid, experiment_name='credit_default_learning',model_name='1st try_with_log_V1')"
   ]
  },
  {
   "cell_type": "markdown",
   "id": "e1600bb6",
   "metadata": {},
   "source": [
    "#### Même chose sans log"
   ]
  },
  {
   "cell_type": "code",
   "execution_count": null,
   "id": "c17d7f9f",
   "metadata": {},
   "outputs": [],
   "source": [
    "transformer2=ColumnTransformer(transformers=\n",
    "                               [\n",
    "                               ('OneHot',OneHotEncoder(sparse=False,handle_unknown='ignore'),cat_feat),\n",
    "                               ],\n",
    "                               remainder='passthrough'\n",
    "                             )\n",
    "transformer2"
   ]
  },
  {
   "cell_type": "code",
   "execution_count": null,
   "id": "2518f762",
   "metadata": {},
   "outputs": [],
   "source": [
    "pipeline2=Pipeline_imb([\n",
    "    ('sampler',RandomUnderSampler(replacement=True)),\n",
    "    ('transformer',transformer2),\n",
    "    ('imputer',SimpleImputer()),\n",
    "    ('scaler',StandardScaler()),\n",
    "    ('estimator',LogisticRegression())\n",
    "])\n",
    "pipeline2"
   ]
  },
  {
   "cell_type": "code",
   "execution_count": null,
   "id": "d6f80b3c",
   "metadata": {},
   "outputs": [],
   "source": [
    "grid= GridSearchCV(\n",
    "    pipeline2,\n",
    "    param_grid=param_grid,\n",
    "    cv=5,\n",
    "    scoring=scoring,\n",
    "    n_jobs=-1,\n",
    "    verbose=2,\n",
    "    return_train_score=True,\n",
    "    refit='roc_auc')"
   ]
  },
  {
   "cell_type": "code",
   "execution_count": null,
   "id": "64220a1a",
   "metadata": {},
   "outputs": [],
   "source": [
    "if DISPLAY:\n",
    "    grid.fit(X,y)"
   ]
  },
  {
   "cell_type": "code",
   "execution_count": null,
   "id": "b9e1cce7",
   "metadata": {},
   "outputs": [],
   "source": [
    "res=result(grid, log_target=0)\n",
    "res.sort_values(by='mean_test_roc_auc',ascending=False).head(5)"
   ]
  },
  {
   "cell_type": "code",
   "execution_count": null,
   "id": "31267989",
   "metadata": {},
   "outputs": [],
   "source": [
    "RES=pd.concat([RES, res],axis=0, ignore_index=True)\n",
    "RES.head(10)"
   ]
  },
  {
   "cell_type": "code",
   "execution_count": null,
   "id": "f349ed4e",
   "metadata": {},
   "outputs": [],
   "source": [
    "grid.best_params_"
   ]
  },
  {
   "cell_type": "markdown",
   "id": "48167362",
   "metadata": {},
   "source": [
    "#### MLflow"
   ]
  },
  {
   "cell_type": "code",
   "execution_count": null,
   "id": "08eb2e96",
   "metadata": {},
   "outputs": [],
   "source": [
    "log_results(grid,experiment_name='credit_default_learning',model_name='P7_sans_log_V1')"
   ]
  },
  {
   "cell_type": "markdown",
   "id": "6e1d0c54",
   "metadata": {},
   "source": [
    "#### Remplaçons certaines variables par leur booléen (Income type et Family status)"
   ]
  },
  {
   "cell_type": "code",
   "execution_count": null,
   "id": "4b4bdf02",
   "metadata": {},
   "outputs": [],
   "source": [
    "train_V1.columns.to_list()"
   ]
  },
  {
   "cell_type": "code",
   "execution_count": null,
   "id": "3643d002",
   "metadata": {},
   "outputs": [],
   "source": [
    "X=train_V1.drop(['SK_ID_CURR','TARGET','OWN_CAR_AGE','NAME_HOUSING_TYPE','AMT_GOODS_PRICE','NAME_INCOME_TYPE','NAME_FAMILY_STATUS'],axis=1)\n",
    "X.shape"
   ]
  },
  {
   "cell_type": "code",
   "execution_count": null,
   "id": "c59db620",
   "metadata": {},
   "outputs": [],
   "source": [
    "y.shape"
   ]
  },
  {
   "cell_type": "code",
   "execution_count": null,
   "id": "cc607afc",
   "metadata": {},
   "outputs": [],
   "source": [
    "cat_feat=X.select_dtypes(include=object).columns.to_list()\n",
    "cat_feat"
   ]
  },
  {
   "cell_type": "code",
   "execution_count": null,
   "id": "6b6d2d0c",
   "metadata": {},
   "outputs": [],
   "source": [
    "num_feat"
   ]
  },
  {
   "cell_type": "markdown",
   "id": "1841aaa8",
   "metadata": {},
   "source": [
    "#### avec passage au log (transformer)"
   ]
  },
  {
   "cell_type": "code",
   "execution_count": null,
   "id": "99154fab",
   "metadata": {},
   "outputs": [],
   "source": [
    "transformer= ColumnTransformer(transformers=\n",
    "                               [\n",
    "                               ('OneHot',OneHotEncoder(sparse=False,handle_unknown='ignore'),cat_feat),\n",
    "                               ('num',log_fct,['AMT_INCOME_TOTAL','AMT_CREDIT','AMT_ANNUITY'])\n",
    "                               ],\n",
    "                               remainder='passthrough'\n",
    "                             )\n",
    "transformer"
   ]
  },
  {
   "cell_type": "code",
   "execution_count": null,
   "id": "02aec035",
   "metadata": {},
   "outputs": [],
   "source": [
    "pipeline=Pipeline_imb([\n",
    "    ('sampler',RandomUnderSampler(replacement=True)),\n",
    "    ('transformer',transformer),\n",
    "    ('imputer',SimpleImputer()),\n",
    "    ('scaler',StandardScaler()),\n",
    "    ('estimator',DummyClassifier())\n",
    "])\n",
    "pipeline"
   ]
  },
  {
   "cell_type": "code",
   "execution_count": null,
   "id": "3175990d",
   "metadata": {},
   "outputs": [],
   "source": [
    "grid= GridSearchCV(\n",
    "    pipeline,\n",
    "    param_grid=param_grid,\n",
    "    cv=5,\n",
    "    scoring=scoring,\n",
    "    n_jobs=-1,\n",
    "    verbose=2,\n",
    "    return_train_score=True,\n",
    "    refit='roc_auc')"
   ]
  },
  {
   "cell_type": "code",
   "execution_count": null,
   "id": "b1e0ec7f",
   "metadata": {},
   "outputs": [],
   "source": [
    "if DISPLAY:\n",
    "    grid.fit(X,y)"
   ]
  },
  {
   "cell_type": "code",
   "execution_count": null,
   "id": "60a16477",
   "metadata": {},
   "outputs": [],
   "source": [
    "res=result(grid, log_target=1)\n",
    "res.sort_values(by='mean_test_roc_auc',ascending=False).head(10)"
   ]
  },
  {
   "cell_type": "code",
   "execution_count": null,
   "id": "daba102b",
   "metadata": {},
   "outputs": [],
   "source": [
    "RES=pd.concat([RES, res],axis=0, ignore_index=True)"
   ]
  },
  {
   "cell_type": "code",
   "execution_count": null,
   "id": "2165c164",
   "metadata": {},
   "outputs": [],
   "source": [
    "RES.sort_values(by='mean_test_roc_auc',ascending=False).head(20)"
   ]
  },
  {
   "cell_type": "markdown",
   "id": "71688ce2",
   "metadata": {},
   "source": [
    "#### MLflow"
   ]
  },
  {
   "cell_type": "code",
   "execution_count": null,
   "id": "3577dcdb",
   "metadata": {},
   "outputs": [],
   "source": [
    "log_results(grid,experiment_name='credit_default_learning',model_name='P7_bool_with_log_V1')"
   ]
  },
  {
   "cell_type": "markdown",
   "id": "0f04886c",
   "metadata": {},
   "source": [
    "#### sans passage au log (transformer2)"
   ]
  },
  {
   "cell_type": "code",
   "execution_count": null,
   "id": "a8018b32",
   "metadata": {},
   "outputs": [],
   "source": [
    "transformer2=ColumnTransformer(transformers=\n",
    "                               [\n",
    "                               ('OneHot',OneHotEncoder(sparse=False,handle_unknown='ignore'),cat_feat),\n",
    "                               ],\n",
    "                               remainder='passthrough'\n",
    "                             )\n",
    "transformer2"
   ]
  },
  {
   "cell_type": "code",
   "execution_count": null,
   "id": "51d9e313",
   "metadata": {},
   "outputs": [],
   "source": [
    "pipeline2=Pipeline_imb([\n",
    "    ('sampler',RandomUnderSampler(replacement=True)),\n",
    "    ('transformer',transformer2),\n",
    "    ('imputer',SimpleImputer()),\n",
    "    ('scaler',StandardScaler()),\n",
    "    ('estimator',DummyClassifier())\n",
    "])\n",
    "pipeline2"
   ]
  },
  {
   "cell_type": "code",
   "execution_count": null,
   "id": "f586194c",
   "metadata": {},
   "outputs": [],
   "source": [
    "grid= GridSearchCV(\n",
    "    pipeline2,\n",
    "    param_grid=param_grid,\n",
    "    cv=5,\n",
    "    scoring=scoring,\n",
    "    n_jobs=-1,\n",
    "    verbose=2,\n",
    "    return_train_score=True,\n",
    "    refit='roc_auc')"
   ]
  },
  {
   "cell_type": "code",
   "execution_count": null,
   "id": "e3324006",
   "metadata": {},
   "outputs": [],
   "source": [
    "if DISPLAY:\n",
    "    grid.fit(X,y)"
   ]
  },
  {
   "cell_type": "code",
   "execution_count": null,
   "id": "066f612b",
   "metadata": {},
   "outputs": [],
   "source": [
    "res=result(grid, log_target=0)\n",
    "res.sort_values(by='mean_test_roc_auc',ascending=False).head(10)"
   ]
  },
  {
   "cell_type": "code",
   "execution_count": null,
   "id": "f993b4b5",
   "metadata": {},
   "outputs": [],
   "source": [
    "RES=pd.concat([RES, res],axis=0, ignore_index=True)"
   ]
  },
  {
   "cell_type": "markdown",
   "id": "f3ecff36",
   "metadata": {},
   "source": [
    "#### MLflow"
   ]
  },
  {
   "cell_type": "code",
   "execution_count": null,
   "id": "afe721d8",
   "metadata": {},
   "outputs": [],
   "source": [
    "log_results(grid,experiment_name='credit_default_learning',model_name='P7_bool_sans_log_V1')"
   ]
  },
  {
   "cell_type": "markdown",
   "id": "52d6277b",
   "metadata": {},
   "source": [
    "#### Sans variable catégorielle"
   ]
  },
  {
   "cell_type": "code",
   "execution_count": null,
   "id": "d76787be",
   "metadata": {},
   "outputs": [],
   "source": [
    "train_V1.columns.to_list()"
   ]
  },
  {
   "cell_type": "code",
   "execution_count": null,
   "id": "87ba2d37",
   "metadata": {},
   "outputs": [],
   "source": [
    "X=train_V1.drop(['SK_ID_CURR','TARGET','OWN_CAR_AGE','NAME_HOUSING_TYPE','AMT_GOODS_PRICE','NAME_INCOME_TYPE','NAME_FAMILY_STATUS','NAME_EDUCATION_TYPE'],axis=1)\n",
    "X.shape"
   ]
  },
  {
   "cell_type": "code",
   "execution_count": null,
   "id": "07f3bf05",
   "metadata": {},
   "outputs": [],
   "source": [
    "cat_feat=X.select_dtypes(include=object).columns.to_list()\n",
    "cat_feat"
   ]
  },
  {
   "cell_type": "code",
   "execution_count": null,
   "id": "92a39eb3",
   "metadata": {},
   "outputs": [],
   "source": [
    "transformer3= ColumnTransformer(transformers=\n",
    "                               [\n",
    "                               ('num',log_fct,['AMT_INCOME_TOTAL','AMT_CREDIT','AMT_ANNUITY'])\n",
    "                               ]\n",
    "                             )\n",
    "transformer3"
   ]
  },
  {
   "cell_type": "code",
   "execution_count": null,
   "id": "cfa04b01",
   "metadata": {},
   "outputs": [],
   "source": [
    "pipeline3=Pipeline_imb([\n",
    "    ('sampler',RandomUnderSampler(replacement=True)),\n",
    "    ('transformer',transformer3),\n",
    "    ('imputer',SimpleImputer()),\n",
    "    ('scaler',StandardScaler()),\n",
    "    ('estimator',DummyClassifier())\n",
    "])\n",
    "pipeline3"
   ]
  },
  {
   "cell_type": "code",
   "execution_count": null,
   "id": "380c38dc",
   "metadata": {},
   "outputs": [],
   "source": [
    "param_grid={\n",
    "    'sampler':[RandomUnderSampler(replacement=True), 'passthrough'],'transformer':[transformer3,'passthrough'],\n",
    "    'scaler':[StandardScaler(),'passthrough'], \n",
    "    'estimator':[LogisticRegression(),RandomForestClassifier(),LGBMClassifier(),XGBClassifier()]\n",
    "}"
   ]
  },
  {
   "cell_type": "code",
   "execution_count": null,
   "id": "fccdd521",
   "metadata": {},
   "outputs": [],
   "source": [
    "grid= GridSearchCV(\n",
    "    pipeline3,\n",
    "    param_grid=param_grid,\n",
    "    cv=5,\n",
    "    scoring=scoring,\n",
    "    n_jobs=-1,\n",
    "    verbose=2,\n",
    "    return_train_score=True,\n",
    "    refit='roc_auc')"
   ]
  },
  {
   "cell_type": "code",
   "execution_count": null,
   "id": "2c0516fd",
   "metadata": {},
   "outputs": [],
   "source": [
    "if DISPLAY:\n",
    "    grid.fit(X,y)"
   ]
  },
  {
   "cell_type": "code",
   "execution_count": null,
   "id": "24ff46e2",
   "metadata": {},
   "outputs": [],
   "source": [
    "res=result(grid, log_target=0)\n",
    "res.sort_values(by='mean_test_roc_auc',ascending=False).head(10)"
   ]
  },
  {
   "cell_type": "code",
   "execution_count": null,
   "id": "6d09c64d",
   "metadata": {},
   "outputs": [],
   "source": [
    "RES=pd.concat([RES, res],axis=0, ignore_index=True)"
   ]
  },
  {
   "cell_type": "code",
   "execution_count": null,
   "id": "1812ec9d",
   "metadata": {},
   "outputs": [],
   "source": [
    "RES.sort_values(by='mean_test_roc_auc',ascending=False).head(10)"
   ]
  },
  {
   "cell_type": "code",
   "execution_count": null,
   "id": "89fa6d31",
   "metadata": {},
   "outputs": [],
   "source": [
    "RES.to_csv('../RES.csv', index =False)"
   ]
  },
  {
   "cell_type": "code",
   "execution_count": null,
   "id": "2b56ce85",
   "metadata": {},
   "outputs": [],
   "source": [
    "log_results(grid,experiment_name='credit_default_learning',model_name='P7_no_cat_feat_V1')"
   ]
  },
  {
   "cell_type": "code",
   "execution_count": null,
   "id": "0ca92189",
   "metadata": {},
   "outputs": [],
   "source": [
    "grid.best_estimator_"
   ]
  },
  {
   "cell_type": "code",
   "execution_count": null,
   "id": "874dd124",
   "metadata": {},
   "outputs": [],
   "source": [
    "grid.best_params_"
   ]
  },
  {
   "cell_type": "code",
   "execution_count": null,
   "id": "bb5d8328",
   "metadata": {},
   "outputs": [],
   "source": [
    "RES.sort_values(by='mean_test_roc_auc',ascending=False).head(20)"
   ]
  },
  {
   "cell_type": "markdown",
   "id": "fe2daa43",
   "metadata": {},
   "source": [
    "## 1eres conclusions\n",
    "\n",
    "- résultats meilleurs avec LogReg() et LGBM\n",
    "- LogReg() bcp + raide à entrainer\n",
    "- Avec sampler. Sans sampling, spécificité est très bonne mais recall proche de 0. Attention à ce score: sans sampling TN+TP est 10 fois plus important qu'avec testing.\n",
    "    => A omparer avec SMOTE\n",
    "- sans var catégorielles (ie sans passage par OHE) => à revérifier suite à ajout de reamainder = 'passthrough'\n",
    "- avec scaler\n",
    "- avec log\n",
    "- avec sampler (ie avec equilibrage des classes)\n",
    "\n",
    "est: LogReg()\n",
    "ROC_AUC: 0,7388\n",
    "Recall: 0,67\n",
    "Speci: 0.68\n",
    "\n",
    "=> Partir sur ces bases pour amélioratiosn des hyperparamètres"
   ]
  },
  {
   "cell_type": "code",
   "execution_count": null,
   "id": "da6826cc",
   "metadata": {},
   "outputs": [],
   "source": [
    "RES.sort_values(by='mean_test_f1',ascending=False).head(10)"
   ]
  },
  {
   "cell_type": "markdown",
   "id": "44cbc9e0",
   "metadata": {},
   "source": [
    "# 5 Sur base train_V2 \n",
    "\n",
    "Prise en compte de la V2 du features engiennering (train_V2.csv):\n",
    "- ajout de features inspirées du kernel disponible ne ressource du projetavec experimentatin de critères dans Param_grid\n",
    "- ajout de features issues des datasets annexes (bureau et previous applications)\n",
    "\n",
    "Par ailleurs essai avec:\n",
    "- imputer: KNNImputer()\n",
    "- sampler: SMOTE()"
   ]
  },
  {
   "cell_type": "markdown",
   "id": "b7bbb91c",
   "metadata": {},
   "source": [
    "## 5.1 Import "
   ]
  },
  {
   "cell_type": "code",
   "execution_count": null,
   "id": "841c990e",
   "metadata": {},
   "outputs": [],
   "source": [
    "train_V2=pd.read_csv('../train_V2.csv')"
   ]
  },
  {
   "cell_type": "code",
   "execution_count": null,
   "id": "50460840",
   "metadata": {},
   "outputs": [],
   "source": [
    "train_V2.shape"
   ]
  },
  {
   "cell_type": "markdown",
   "id": "b26ebe0e",
   "metadata": {},
   "source": [
    "Select only 20% du dataset pour accelerer divers fits ci dessous"
   ]
  },
  {
   "cell_type": "code",
   "execution_count": null,
   "id": "49c0b9e0",
   "metadata": {},
   "outputs": [],
   "source": [
    "train_V2=train_V2.sample(frac=0.2)\n",
    "train_V2.shape"
   ]
  },
  {
   "cell_type": "markdown",
   "id": "1bf77de3",
   "metadata": {},
   "source": [
    "## 5.2 Séparation du jeu de données (features: X / target:y)\n",
    "et suppression de colonnes inutiles"
   ]
  },
  {
   "cell_type": "code",
   "execution_count": null,
   "id": "722610cc",
   "metadata": {},
   "outputs": [],
   "source": [
    "X=train_V2.drop(['SK_ID_CURR','TARGET','OWN_CAR_AGE','NAME_HOUSING_TYPE','AMT_GOODS_PRICE','NAME_INCOME_TYPE','NAME_FAMILY_STATUS','NAME_EDUCATION_TYPE'],axis=1)\n",
    "X.shape"
   ]
  },
  {
   "cell_type": "code",
   "execution_count": null,
   "id": "8063cd63",
   "metadata": {},
   "outputs": [],
   "source": [
    "y=train_V2['TARGET']\n",
    "y.shape"
   ]
  },
  {
   "cell_type": "code",
   "execution_count": null,
   "id": "2981864c",
   "metadata": {},
   "outputs": [],
   "source": [
    "num_feat=X.select_dtypes(exclude=object).columns.to_list()\n",
    "num_feat"
   ]
  },
  {
   "cell_type": "code",
   "execution_count": null,
   "metadata": {},
   "outputs": [],
   "source": [
    "cat_feat=X.select_dtypes(include=object).columns.to_list()\n",
    "cat_feat"
   ]
  },
  {
   "cell_type": "markdown",
   "id": "e491f19a",
   "metadata": {},
   "source": [
    "## 5.3 Sans variable catégorielle"
   ]
  },
  {
   "cell_type": "code",
   "execution_count": null,
   "id": "fe91e710",
   "metadata": {},
   "outputs": [],
   "source": [
    "transformer= ColumnTransformer(transformers=\n",
    "                               [\n",
    "                               ('num',log_fct,['AMT_INCOME_TOTAL','AMT_CREDIT','AMT_ANNUITY'])\n",
    "                               ]\n",
    "                             )\n",
    "transformer"
   ]
  },
  {
   "cell_type": "code",
   "execution_count": null,
   "id": "d7e19d83",
   "metadata": {},
   "outputs": [],
   "source": [
    "pipeline=Pipeline_imb([\n",
    "    ('transformer',transformer),\n",
    "    ('imputer',SimpleImputer()),\n",
    "    ('sampler',RandomUnderSampler()),\n",
    "    ('scaler',StandardScaler()),\n",
    "    ('estimator',LogisticRegression())\n",
    "])\n",
    "pipeline"
   ]
  },
  {
   "cell_type": "code",
   "execution_count": null,
   "id": "ec80b046",
   "metadata": {},
   "outputs": [],
   "source": [
    "param_grid={\n",
    "    'sampler':[ RandomUnderSampler(), SMOTE()],\n",
    "    'transformer':[transformer,'passthrough'],\n",
    "    'scaler':[StandardScaler(),'passthrough'], \n",
    "    'estimator':[LogisticRegression(),LGBMClassifier()]\n",
    "}"
   ]
  },
  {
   "cell_type": "code",
   "execution_count": null,
   "id": "ab37bfae",
   "metadata": {},
   "outputs": [],
   "source": [
    "grid= GridSearchCV(\n",
    "    pipeline,\n",
    "    param_grid=param_grid,\n",
    "    cv=5,\n",
    "    scoring=scoring,\n",
    "    n_jobs=-1,\n",
    "    verbose=2,\n",
    "    return_train_score=True,\n",
    "    refit='roc_auc')"
   ]
  },
  {
   "cell_type": "code",
   "execution_count": null,
   "id": "1de9c573",
   "metadata": {},
   "outputs": [],
   "source": [
    "if DISPLAY:\n",
    "    grid.fit(X,y)"
   ]
  },
  {
   "cell_type": "code",
   "execution_count": null,
   "id": "737a2ea2",
   "metadata": {},
   "outputs": [],
   "source": [
    "res=result(grid,features='train_V2')\n",
    "res.sort_values(by='mean_test_roc_auc',ascending=False).head(10)"
   ]
  },
  {
   "cell_type": "code",
   "execution_count": null,
   "id": "daa24bb6",
   "metadata": {},
   "outputs": [],
   "source": [
    "RES=pd.concat([RES, res],axis=0, ignore_index=True)\n",
    "RES.sort_values(by='mean_test_roc_auc',ascending=False).head(10)"
   ]
  },
  {
   "cell_type": "code",
   "execution_count": null,
   "id": "c1f8b1f0",
   "metadata": {},
   "outputs": [],
   "source": [
    "RES.to_csv('../RES.csv', index =False)"
   ]
  },
  {
   "cell_type": "markdown",
   "id": "b9a962ac",
   "metadata": {},
   "source": [
    "Résultats légerement meilleurs sur train_V2"
   ]
  },
  {
   "cell_type": "code",
   "execution_count": null,
   "id": "067c5764",
   "metadata": {},
   "outputs": [],
   "source": [
    "grid.best_estimator_"
   ]
  },
  {
   "cell_type": "code",
   "execution_count": null,
   "id": "4dd2f1bb",
   "metadata": {},
   "outputs": [],
   "source": [
    "grid.best_params_"
   ]
  },
  {
   "cell_type": "markdown",
   "id": "b7c1ae45",
   "metadata": {},
   "source": [
    "### Log MLflow"
   ]
  },
  {
   "cell_type": "code",
   "execution_count": null,
   "id": "8fefd9ff",
   "metadata": {},
   "outputs": [],
   "source": [
    "log_results(grid,experiment_name='credit_default_learning',model_name='P7_no_cat_feat_V2',tags={'V2':'train_V2'})"
   ]
  },
  {
   "cell_type": "markdown",
   "id": "29a462a5",
   "metadata": {},
   "source": [
    "## 5.4 Essai divers under samplers\n",
    "\n",
    "Perimètre très réduit (1%; sur 20% dataset, entrainement très long)"
   ]
  },
  {
   "cell_type": "code",
   "execution_count": null,
   "id": "f4b93c90",
   "metadata": {},
   "outputs": [],
   "source": [
    "tmp=train_V2.sample(frac=0.05)\n",
    "tmp.shape"
   ]
  },
  {
   "cell_type": "code",
   "execution_count": null,
   "id": "a9203eb5",
   "metadata": {},
   "outputs": [],
   "source": [
    "X=tmp.drop(['SK_ID_CURR','TARGET','OWN_CAR_AGE','NAME_HOUSING_TYPE','AMT_GOODS_PRICE','NAME_INCOME_TYPE','NAME_FAMILY_STATUS','NAME_EDUCATION_TYPE'],axis=1)\n",
    "X.shape"
   ]
  },
  {
   "cell_type": "code",
   "execution_count": null,
   "id": "f64bce50",
   "metadata": {},
   "outputs": [],
   "source": [
    "y=tmp['TARGET']\n",
    "y.shape"
   ]
  },
  {
   "cell_type": "code",
   "execution_count": null,
   "id": "e9a0b45a",
   "metadata": {},
   "outputs": [],
   "source": [
    "pipeline=Pipeline_imb([\n",
    "    #('transformer',transformer3),\n",
    "    ('imputer',SimpleImputer()),\n",
    "    ('sampler',RandomUnderSampler()),\n",
    "    ('scaler',StandardScaler()),\n",
    "    ('estimator',LogisticRegression())\n",
    "])\n",
    "pipeline"
   ]
  },
  {
   "cell_type": "code",
   "execution_count": null,
   "id": "d0a48eb8",
   "metadata": {},
   "outputs": [],
   "source": [
    "param_grid={\n",
    "    'sampler':[RandomUnderSampler(),ClusterCentroids(),EditedNearestNeighbours(),TomekLinks()], #AllKNN()\n",
    "    #'transformer':[transformer3,'passthrough'],\n",
    "    'scaler':[StandardScaler()], \n",
    "    'estimator':[LogisticRegression(),LGBMClassifier()]\n",
    "}"
   ]
  },
  {
   "cell_type": "code",
   "execution_count": null,
   "id": "444491a7",
   "metadata": {},
   "outputs": [],
   "source": [
    "grid= GridSearchCV(\n",
    "    pipeline,\n",
    "    param_grid=param_grid,\n",
    "    cv=5,\n",
    "    scoring=scoring,\n",
    "    n_jobs=-1,\n",
    "    verbose=2,\n",
    "    return_train_score=True,\n",
    "    refit='roc_auc')"
   ]
  },
  {
   "cell_type": "code",
   "execution_count": null,
   "id": "eca7b67d",
   "metadata": {},
   "outputs": [],
   "source": [
    "if DISPLAY:\n",
    "    grid.fit(X,y)"
   ]
  },
  {
   "cell_type": "code",
   "execution_count": null,
   "id": "0c74ee66",
   "metadata": {},
   "outputs": [],
   "source": [
    "res=result(grid,transf_feat='test under sample',features='train_V2')\n",
    "res.sort_values(by='mean_test_roc_auc',ascending=False).head(10)"
   ]
  },
  {
   "cell_type": "markdown",
   "id": "244a2406",
   "metadata": {},
   "source": [
    "Pas de meilleurs résultats avec autres under samplers (et entrainements beaucoup plus longs)"
   ]
  },
  {
   "cell_type": "code",
   "execution_count": null,
   "id": "1b539fb9",
   "metadata": {},
   "outputs": [],
   "source": [
    "RES=pd.concat([RES, res],axis=0, ignore_index=True)\n",
    "RES.sort_values(by='mean_test_roc_auc',ascending=False).head(10)"
   ]
  },
  {
   "cell_type": "code",
   "execution_count": null,
   "id": "b47595f5",
   "metadata": {},
   "outputs": [],
   "source": [
    "RES.to_csv('../RES.csv', index =False)"
   ]
  },
  {
   "cell_type": "markdown",
   "id": "e2aee789",
   "metadata": {},
   "source": [
    "Log MLflow"
   ]
  },
  {
   "cell_type": "code",
   "execution_count": null,
   "id": "e8a63d33",
   "metadata": {},
   "outputs": [],
   "source": [
    "log_results(grid,experiment_name='credit_default_learning',model_name='P7_no_cat_feat_reduced_V2',tags={'V2':'reduced_train_V2'})"
   ]
  },
  {
   "cell_type": "markdown",
   "id": "76416ba3",
   "metadata": {},
   "source": [
    "## 5.5 Essai KNNImputer\n",
    "\n",
    "Perimètre très réduit (1%; sur 20% dataset, plantage systématique)"
   ]
  },
  {
   "cell_type": "code",
   "execution_count": null,
   "id": "bbd28db3",
   "metadata": {},
   "outputs": [],
   "source": [
    "pipeline=Pipeline_imb([\n",
    "    #('transformer',transformer3),\n",
    "    ('imputer',KNNImputer()),\n",
    "    ('sampler',RandomUnderSampler()),\n",
    "    ('scaler',StandardScaler()),\n",
    "    ('estimator',LogisticRegression())\n",
    "    ])\n",
    "pipeline"
   ]
  },
  {
   "cell_type": "code",
   "execution_count": null,
   "id": "07f0b4aa",
   "metadata": {},
   "outputs": [],
   "source": [
    "param_grid={\n",
    "    'sampler':[RandomUnderSampler()],\n",
    "    'scaler':[StandardScaler(),], \n",
    "    'estimator':[LogisticRegression(),LGBMClassifier(),]\n",
    "}"
   ]
  },
  {
   "cell_type": "code",
   "execution_count": null,
   "id": "ea0003ab",
   "metadata": {},
   "outputs": [],
   "source": [
    "grid= GridSearchCV(\n",
    "    pipeline,\n",
    "    param_grid=param_grid,\n",
    "    cv=5,\n",
    "    scoring=scoring,\n",
    "    n_jobs=-1,\n",
    "    verbose=2,\n",
    "    return_train_score=True,\n",
    "    refit='roc_auc')"
   ]
  },
  {
   "cell_type": "code",
   "execution_count": null,
   "id": "dce6cd3c",
   "metadata": {},
   "outputs": [],
   "source": [
    "grid.fit(X,y)"
   ]
  },
  {
   "cell_type": "code",
   "execution_count": null,
   "id": "fcd8db40",
   "metadata": {},
   "outputs": [],
   "source": [
    "res=result(grid,transf_feat='KNNImputer',features='train_V2')\n",
    "res.sort_values(by='mean_test_roc_auc',ascending=False).head(10)"
   ]
  },
  {
   "cell_type": "markdown",
   "id": "07f50d1e",
   "metadata": {},
   "source": [
    "Pas de meilleurs résultats avec KNN"
   ]
  },
  {
   "cell_type": "code",
   "execution_count": null,
   "id": "55e7f7ca",
   "metadata": {},
   "outputs": [],
   "source": [
    "RES=pd.concat([RES, res],axis=0, ignore_index=True)\n",
    "RES.sort_values(by='mean_test_roc_auc',ascending=False).head(10)"
   ]
  },
  {
   "cell_type": "code",
   "execution_count": null,
   "id": "822314c0",
   "metadata": {},
   "outputs": [],
   "source": [
    "RES.to_csv('../RES.csv', index =False)"
   ]
  },
  {
   "cell_type": "markdown",
   "id": "655cb166",
   "metadata": {},
   "source": [
    "Log MLflow"
   ]
  },
  {
   "cell_type": "code",
   "execution_count": null,
   "id": "f8540b85",
   "metadata": {},
   "outputs": [],
   "source": [
    "log_results(grid,experiment_name='credit_default_learning',model_name='P7_no_cat_feat_red_V2_KNNImp',tags={'V2':'reduced_train_V2'})"
   ]
  },
  {
   "cell_type": "markdown",
   "id": "acc10c38",
   "metadata": {},
   "source": [
    "# 6 Améliorations hyperparamètres:\n",
    "- sur best model LogReg()\n",
    "- sur best model LGBM()"
   ]
  },
  {
   "cell_type": "code",
   "execution_count": null,
   "id": "cb8f8dbf",
   "metadata": {},
   "outputs": [],
   "source": [
    "X=train_V2.drop(['SK_ID_CURR','TARGET','OWN_CAR_AGE','NAME_HOUSING_TYPE','AMT_GOODS_PRICE','NAME_INCOME_TYPE','NAME_FAMILY_STATUS','NAME_EDUCATION_TYPE'],axis=1)\n",
    "X.shape"
   ]
  },
  {
   "cell_type": "code",
   "execution_count": null,
   "id": "57877c35",
   "metadata": {},
   "outputs": [],
   "source": [
    "y=train_V2['TARGET']\n",
    "y.shape"
   ]
  },
  {
   "cell_type": "markdown",
   "metadata": {},
   "source": [
    "## 6.1 Sur LogReg()"
   ]
  },
  {
   "cell_type": "code",
   "execution_count": null,
   "id": "66e1e101",
   "metadata": {},
   "outputs": [],
   "source": [
    "best_logreg=Pipeline_imb([\n",
    "    ('sampler',RandomUnderSampler()),\n",
    "    ('imputer',SimpleImputer(strategy='median')),\n",
    "    ('scaler',StandardScaler()),\n",
    "    ('estimator',LogisticRegression())\n",
    "])\n",
    "best_logreg"
   ]
  },
  {
   "cell_type": "code",
   "execution_count": null,
   "id": "a12cfc16",
   "metadata": {},
   "outputs": [],
   "source": [
    "param_grid={\n",
    "    'sampler':[ RandomUnderSampler()],\n",
    "    'imputer':[SimpleImputer(strategy='median'),SimpleImputer(strategy='mean')],\n",
    "    'scaler':[StandardScaler()],\n",
    "    'estimator':[LogisticRegression()],\n",
    "    'estimator__solver':['newton-cg','lbfgs','sag', 'saga'],\n",
    "    'estimator__penalty':['none', 'elasticnet', 'l1', 'l2'],\n",
    "    'estimator__C':[0.001, 0.01, 0.1, 1, 10, 100]    \n",
    "}"
   ]
  },
  {
   "cell_type": "code",
   "execution_count": null,
   "id": "a7f37f04",
   "metadata": {},
   "outputs": [],
   "source": [
    "grid= GridSearchCV(\n",
    "    best_logreg,\n",
    "    param_grid=param_grid,\n",
    "    cv=5,\n",
    "    scoring=scoring,\n",
    "    n_jobs=-1,\n",
    "    verbose=2,\n",
    "    return_train_score=True,\n",
    "    refit='roc_auc')"
   ]
  },
  {
   "cell_type": "code",
   "execution_count": null,
   "id": "044169c3",
   "metadata": {},
   "outputs": [],
   "source": [
    "grid.fit(X,y)"
   ]
  },
  {
   "cell_type": "code",
   "execution_count": null,
   "id": "89a11e80",
   "metadata": {},
   "outputs": [],
   "source": [
    "res=result(grid,features='train_V2')\n",
    "res.sort_values(by='mean_test_roc_auc',ascending=False).head(10)"
   ]
  },
  {
   "cell_type": "code",
   "execution_count": null,
   "id": "01157259",
   "metadata": {},
   "outputs": [],
   "source": [
    "grid.best_estimator_"
   ]
  },
  {
   "cell_type": "code",
   "execution_count": null,
   "id": "1e2512cb",
   "metadata": {},
   "outputs": [],
   "source": [
    "grid.best_params_"
   ]
  },
  {
   "cell_type": "code",
   "execution_count": null,
   "id": "9c094769",
   "metadata": {},
   "outputs": [],
   "source": [
    "grid.best_score_"
   ]
  },
  {
   "cell_type": "code",
   "execution_count": null,
   "id": "09e5ab5d",
   "metadata": {},
   "outputs": [],
   "source": [
    "RES=pd.concat([RES, res],axis=0, ignore_index=True)\n",
    "RES.sort_values(by='mean_test_roc_auc',ascending=False).head(10)"
   ]
  },
  {
   "cell_type": "code",
   "execution_count": null,
   "id": "7641bc31",
   "metadata": {},
   "outputs": [],
   "source": [
    "RES.to_csv('../RES.csv', index =False)"
   ]
  },
  {
   "cell_type": "markdown",
   "id": "8607bd0c",
   "metadata": {},
   "source": [
    "Résultats équivalents. Après qlq runs amélioration du best score 0.7414 à 0.7443. \n",
    "\n",
    "J'arrête ici sur l'amélioration des hyperparamètres. Les résultats sont presque identiques et à chaque run ce sont des meilleurs hyperparamètres différents"
   ]
  },
  {
   "cell_type": "markdown",
   "id": "18e161fa",
   "metadata": {},
   "source": [
    "## 6.2 Sur LGBM()"
   ]
  },
  {
   "cell_type": "code",
   "execution_count": null,
   "id": "3e432ee0",
   "metadata": {},
   "outputs": [],
   "source": [
    "best_LGBM=Pipeline_imb([\n",
    "    ('sampler',RandomUnderSampler()),\n",
    "    ('imputer',SimpleImputer(strategy='median')),\n",
    "    ('scaler',StandardScaler()),\n",
    "    ('estimator',LGBMClassifier())\n",
    "])\n",
    "best_LGBM"
   ]
  },
  {
   "cell_type": "code",
   "execution_count": null,
   "id": "ac1720f7",
   "metadata": {},
   "outputs": [],
   "source": [
    "param_grid={\n",
    "    'sampler':[ RandomUnderSampler()],\n",
    "    'imputer':[SimpleImputer(strategy='median'),SimpleImputer(strategy='mean')],\n",
    "    'scaler':[StandardScaler()],\n",
    "    'estimator':[LGBMClassifier()],\n",
    "    'estimator__num_leaves':[20,25,31],\n",
    "    'estimator__max_depth':[3],#,6],\n",
    "    #'estimator__learning_rate':[0.001, 0.01, 0.1],\n",
    "    'estimator__min_data_in_leaf':[500,750,1000]\n",
    "}"
   ]
  },
  {
   "cell_type": "code",
   "execution_count": null,
   "id": "414b40a2",
   "metadata": {},
   "outputs": [],
   "source": [
    "grid= GridSearchCV(\n",
    "    best_LGBM,\n",
    "    param_grid=param_grid,\n",
    "    cv=5,\n",
    "    scoring=scoring,\n",
    "    n_jobs=-1,\n",
    "    verbose=2,\n",
    "    return_train_score=True,\n",
    "    refit='roc_auc')"
   ]
  },
  {
   "cell_type": "code",
   "execution_count": null,
   "id": "d6b6e0b7",
   "metadata": {},
   "outputs": [],
   "source": [
    "grid.fit(X,y)"
   ]
  },
  {
   "cell_type": "code",
   "execution_count": null,
   "id": "96be9ae0",
   "metadata": {},
   "outputs": [],
   "source": [
    "res=result(grid,features='train_V2')\n",
    "res.sort_values(by='mean_test_roc_auc',ascending=False).head(10)"
   ]
  },
  {
   "cell_type": "code",
   "execution_count": null,
   "id": "1ceab752",
   "metadata": {},
   "outputs": [],
   "source": [
    "grid.best_estimator_"
   ]
  },
  {
   "cell_type": "code",
   "execution_count": null,
   "id": "a80d9bf5",
   "metadata": {},
   "outputs": [],
   "source": [
    "grid.best_params_"
   ]
  },
  {
   "cell_type": "code",
   "execution_count": null,
   "id": "76272031",
   "metadata": {},
   "outputs": [],
   "source": [
    "grid.best_score_"
   ]
  },
  {
   "cell_type": "markdown",
   "id": "d4a61d60",
   "metadata": {},
   "source": [
    "Après qlq essais on atteint 0.75"
   ]
  },
  {
   "cell_type": "code",
   "execution_count": null,
   "id": "0e61977a",
   "metadata": {},
   "outputs": [],
   "source": [
    "RES=pd.concat([RES, res],axis=0, ignore_index=True)\n",
    "RES.sort_values(by='mean_test_roc_auc',ascending=False).head(10)"
   ]
  },
  {
   "cell_type": "markdown",
   "id": "33fcf689",
   "metadata": {},
   "source": [
    "Log Mlflow"
   ]
  },
  {
   "cell_type": "code",
   "execution_count": null,
   "id": "e5d2ef74",
   "metadata": {},
   "outputs": [],
   "source": [
    "log_results(grid,experiment_name='credit_default_learning',model_name='P7_no_cat_feat_V2',tags={'V2':'train_V2'})"
   ]
  },
  {
   "cell_type": "markdown",
   "id": "e814caf6",
   "metadata": {},
   "source": [
    "# 7 Amélioration modèle avec entrienement uniquement sur lignes sans NaN sur EXT_SOURCE_1, 2 et 3\n",
    "\n",
    "- Imputation par SimplImputer de 3 features les plus importantes me semble peu satisfaisant\n",
    "- Par ailleur nb d'invididus important, on peut se permettre d'exclure les individus avec NaN et réduire le sampling initial \n"
   ]
  },
  {
   "cell_type": "markdown",
   "id": "0b7e0043",
   "metadata": {},
   "source": [
    "## 7.1 Import"
   ]
  },
  {
   "cell_type": "code",
   "execution_count": null,
   "id": "3ede851c",
   "metadata": {},
   "outputs": [],
   "source": [
    "train_V2=pd.read_csv('../train_V2.csv')"
   ]
  },
  {
   "cell_type": "code",
   "execution_count": null,
   "id": "d854bbea",
   "metadata": {},
   "outputs": [],
   "source": [
    "train_V2= train_V2.drop(['SK_ID_CURR','OWN_CAR_AGE','NAME_HOUSING_TYPE','AMT_GOODS_PRICE','NAME_INCOME_TYPE','NAME_FAMILY_STATUS','NAME_EDUCATION_TYPE'],axis=1)"
   ]
  },
  {
   "cell_type": "code",
   "execution_count": null,
   "id": "f5781bfe",
   "metadata": {},
   "outputs": [],
   "source": [
    "train_V2.isna().sum()"
   ]
  },
  {
   "cell_type": "markdown",
   "id": "4f4774c9",
   "metadata": {},
   "source": [
    "Suppression des lignes avec NAN"
   ]
  },
  {
   "cell_type": "code",
   "execution_count": null,
   "id": "4732b32c",
   "metadata": {},
   "outputs": [],
   "source": [
    "train_V2=train_V2.drop(train_V2.loc[(train_V2['EXT_SOURCE_1'].isna())|(train_V2['EXT_SOURCE_2'].isna())|(train_V2['EXT_SOURCE_3'].isna())].index).reset_index(drop=True)\n",
    "train_V2.isna().mean().sort_values(ascending=False).round(2)"
   ]
  },
  {
   "cell_type": "code",
   "execution_count": null,
   "id": "03c9b7f0",
   "metadata": {},
   "outputs": [],
   "source": [
    "train_V2.shape"
   ]
  },
  {
   "cell_type": "code",
   "execution_count": null,
   "id": "bace11a7",
   "metadata": {},
   "outputs": [],
   "source": [
    "train_V2['TARGET'].value_counts(normalize=True)"
   ]
  },
  {
   "cell_type": "markdown",
   "id": "4d89429e",
   "metadata": {},
   "source": [
    "Distribution dansla target différente avec et sans NaN"
   ]
  },
  {
   "cell_type": "markdown",
   "id": "f4f28cdb",
   "metadata": {},
   "source": [
    "## 7.2 Séparation du jeu de données (features: X / target:y)"
   ]
  },
  {
   "cell_type": "code",
   "execution_count": null,
   "id": "653efcdb",
   "metadata": {},
   "outputs": [],
   "source": [
    "X=train_V2.drop(['TARGET'],axis=1)\n",
    "X.shape"
   ]
  },
  {
   "cell_type": "code",
   "execution_count": null,
   "id": "320de077",
   "metadata": {},
   "outputs": [],
   "source": [
    "y=train_V2['TARGET']\n",
    "y.shape"
   ]
  },
  {
   "cell_type": "markdown",
   "id": "1aaccb54",
   "metadata": {},
   "source": [
    "## 7.3 Entrainemet"
   ]
  },
  {
   "cell_type": "code",
   "execution_count": null,
   "id": "b78a9e87",
   "metadata": {},
   "outputs": [],
   "source": [
    "best_LGBM=Pipeline_imb([\n",
    "    ('sampler',RandomUnderSampler()),\n",
    "    ('imputer',SimpleImputer(strategy='median')),\n",
    "    ('scaler',StandardScaler()),\n",
    "    ('estimator',LGBMClassifier())\n",
    "])\n",
    "best_LGBM"
   ]
  },
  {
   "cell_type": "code",
   "execution_count": null,
   "id": "d3243298",
   "metadata": {},
   "outputs": [],
   "source": [
    "param_grid={\n",
    "    'sampler':[ RandomUnderSampler()],\n",
    "    #'imputer':[SimpleImputer(strategy='median'),SimpleImputer(strategy='mean')],\n",
    "    'scaler':[StandardScaler()],\n",
    "    'estimator':[LGBMClassifier()],\n",
    "    'estimator__num_leaves':[20,25,31],\n",
    "    'estimator__max_depth':[3,6],\n",
    "    'estimator__learning_rate':[0.001, 0.01, 0.1],\n",
    "    'estimator__min_data_in_leaf':[500,750,1000]\n",
    "}"
   ]
  },
  {
   "cell_type": "code",
   "execution_count": null,
   "id": "844c543b",
   "metadata": {},
   "outputs": [],
   "source": [
    "scoring={'roc_auc': 'roc_auc',\n",
    " 'accuracy': 'accuracy',\n",
    " 'f1': 'f1',\n",
    " 'recall': 'recall',\n",
    " 'precision': 'precision',\n",
    " 'speci': make_scorer(my_specificity_score)}"
   ]
  },
  {
   "cell_type": "code",
   "execution_count": null,
   "id": "1fa4e195",
   "metadata": {},
   "outputs": [],
   "source": [
    "grid= GridSearchCV(\n",
    "    best_LGBM,\n",
    "    param_grid=param_grid,\n",
    "    cv=10,\n",
    "    scoring=scoring,\n",
    "    n_jobs=-1,\n",
    "    verbose=2,\n",
    "    return_train_score=True,\n",
    "    refit='roc_auc')"
   ]
  },
  {
   "cell_type": "code",
   "execution_count": null,
   "id": "c3511819",
   "metadata": {},
   "outputs": [],
   "source": [
    "grid.fit(X,y)"
   ]
  },
  {
   "cell_type": "code",
   "execution_count": null,
   "id": "fe8910d8",
   "metadata": {},
   "outputs": [],
   "source": [
    "res=result(grid,features='EXT_SRC/no_NaN')\n",
    "res.sort_values(by='mean_test_roc_auc',ascending=False).head(10)"
   ]
  },
  {
   "cell_type": "code",
   "execution_count": null,
   "id": "86041487",
   "metadata": {},
   "outputs": [],
   "source": [
    "RES=pd.read_csv('../RES.csv')"
   ]
  },
  {
   "cell_type": "code",
   "execution_count": null,
   "id": "79b77b71",
   "metadata": {},
   "outputs": [],
   "source": [
    "RES=pd.concat([RES, res],axis=0, ignore_index=True)\n",
    "RES.sort_values(by='mean_test_roc_auc',ascending=False).head(10)"
   ]
  },
  {
   "cell_type": "code",
   "execution_count": null,
   "id": "e833b573",
   "metadata": {},
   "outputs": [],
   "source": [
    "RES.to_csv('../RES.csv', index =False)"
   ]
  },
  {
   "cell_type": "code",
   "execution_count": null,
   "id": "283d2228",
   "metadata": {},
   "outputs": [],
   "source": [
    "grid.best_estimator_"
   ]
  },
  {
   "cell_type": "code",
   "execution_count": null,
   "id": "a55c3f8c",
   "metadata": {},
   "outputs": [],
   "source": [
    "grid.best_params_"
   ]
  },
  {
   "cell_type": "code",
   "execution_count": null,
   "id": "3ce7d268",
   "metadata": {},
   "outputs": [],
   "source": [
    "grid.best_score_"
   ]
  },
  {
   "cell_type": "markdown",
   "id": "23650b59",
   "metadata": {},
   "source": [
    "## LogMlflow"
   ]
  },
  {
   "cell_type": "code",
   "execution_count": null,
   "id": "133c694a",
   "metadata": {},
   "outputs": [],
   "source": [
    "log_results(grid, experiment_name='credit_default_learning',model_name='train_V2_NoNaN on EXT_SRC')"
   ]
  },
  {
   "cell_type": "markdown",
   "id": "2073558e",
   "metadata": {},
   "source": [
    "# 8 Meilleurs modèles et représentation graphique \n",
    "\n",
    " - sur l'ensemble du dataset\n",
    " - y_pred vs y_true / matrice de confusion"
   ]
  },
  {
   "cell_type": "markdown",
   "id": "abd576f6",
   "metadata": {},
   "source": [
    "## 8.1 Recupération train_V2 et train_test split"
   ]
  },
  {
   "cell_type": "code",
   "execution_count": null,
   "id": "ff675886",
   "metadata": {},
   "outputs": [],
   "source": [
    "train=pd.read_csv('../train_V2.csv')\n",
    "train.shape"
   ]
  },
  {
   "cell_type": "code",
   "execution_count": null,
   "id": "78124f12",
   "metadata": {},
   "outputs": [],
   "source": [
    "X=train.drop(['SK_ID_CURR','TARGET','OWN_CAR_AGE','NAME_HOUSING_TYPE','AMT_GOODS_PRICE','NAME_INCOME_TYPE','NAME_FAMILY_STATUS','NAME_EDUCATION_TYPE'],axis=1)\n",
    "X.shape"
   ]
  },
  {
   "cell_type": "code",
   "execution_count": null,
   "id": "75411790",
   "metadata": {},
   "outputs": [],
   "source": [
    "y=train['TARGET']\n",
    "y.shape"
   ]
  },
  {
   "cell_type": "markdown",
   "id": "1af88557",
   "metadata": {},
   "source": [
    "Train test split"
   ]
  },
  {
   "cell_type": "code",
   "execution_count": null,
   "id": "078bffa8",
   "metadata": {},
   "outputs": [],
   "source": [
    "X_train,X_test,y_train,y_test=train_test_split(X,y,test_size=0.2)"
   ]
  },
  {
   "cell_type": "code",
   "execution_count": null,
   "id": "4d358e01",
   "metadata": {},
   "outputs": [],
   "source": [
    "print('Train set:',X_train.shape)\n",
    "print('Test set:',X_test.shape)\n",
    "print('Train target:',y_train.shape)\n",
    "print('Test target:',y_test.shape)"
   ]
  },
  {
   "cell_type": "markdown",
   "id": "cb59db2e",
   "metadata": {},
   "source": [
    "## 8.2 Best model (LightGBM)"
   ]
  },
  {
   "cell_type": "code",
   "execution_count": null,
   "metadata": {},
   "outputs": [],
   "source": [
    "grid.best_estimator_"
   ]
  },
  {
   "cell_type": "code",
   "execution_count": null,
   "metadata": {},
   "outputs": [],
   "source": [
    "best_LGBM=Pipeline_imb([\n",
    "    ('sampler',RandomUnderSampler()),\n",
    "    ('imputer',SimpleImputer(strategy='median')),\n",
    "    ('scaler',StandardScaler()),\n",
    "    ('estimator',LGBMClassifier(max_depth=6, min_data_in_leaf=500,\n",
    "                                num_leaves=25))\n",
    "])\n",
    "best_LGBM"
   ]
  },
  {
   "cell_type": "code",
   "execution_count": null,
   "id": "517b1672",
   "metadata": {},
   "outputs": [],
   "source": [
    "best_LGBM.fit(X_train,y_train)"
   ]
  },
  {
   "cell_type": "code",
   "execution_count": null,
   "id": "984c27f6",
   "metadata": {},
   "outputs": [],
   "source": [
    "lgbm_predict=best_LGBM.predict(X_test)"
   ]
  },
  {
   "cell_type": "code",
   "execution_count": null,
   "metadata": {},
   "outputs": [],
   "source": [
    "print_score(y_test, lgbm_predict)"
   ]
  },
  {
   "cell_type": "code",
   "execution_count": null,
   "id": "3f6341a0",
   "metadata": {},
   "outputs": [],
   "source": [
    "my_specificity_score(y_test,lgbm_predict)"
   ]
  },
  {
   "cell_type": "code",
   "execution_count": null,
   "id": "5af7fd69",
   "metadata": {},
   "outputs": [],
   "source": [
    "ConfusionMatrixDisplay(confusion_matrix(y_test,lgbm_predict)).plot(values_format='d')\n"
   ]
  },
  {
   "cell_type": "code",
   "execution_count": null,
   "metadata": {},
   "outputs": [],
   "source": [
    "ConfusionMatrixDisplay(confusion_matrix(y_test,lgbm_predict)).plot()"
   ]
  },
  {
   "cell_type": "code",
   "execution_count": null,
   "id": "9d3e0277",
   "metadata": {},
   "outputs": [],
   "source": [
    "from yellowbrick.classifier.rocauc import roc_auc\n",
    "roc_auc(best_LGBM, X_train, y_train, X_test=X_test, y_test=y_test, classes=['Crédit remboursé', 'Crédit non remboursé'])"
   ]
  },
  {
   "cell_type": "code",
   "execution_count": null,
   "id": "8fc33522",
   "metadata": {},
   "outputs": [],
   "source": [
    "from yellowbrick.classifier import PrecisionRecallCurve\n",
    "viz = PrecisionRecallCurve(best_LGBM)\n",
    "viz.fit(X_train, y_train)\n",
    "viz.score(X_test, y_test)\n",
    "viz.show()"
   ]
  },
  {
   "cell_type": "markdown",
   "id": "ba99015e",
   "metadata": {},
   "source": [
    "## 8.3 Best LogReg"
   ]
  },
  {
   "cell_type": "code",
   "execution_count": null,
   "id": "d84ed51b",
   "metadata": {},
   "outputs": [],
   "source": [
    "best_logreg=Pipeline_imb([\n",
    "    ('sampler',RandomUnderSampler()),\n",
    "    ('imputer',SimpleImputer(strategy='median')),\n",
    "    ('scaler',StandardScaler()),\n",
    "    ('estimator',LogisticRegression(C=10, penalty='none'))\n",
    "])\n",
    "best_logreg\n"
   ]
  },
  {
   "cell_type": "code",
   "execution_count": null,
   "id": "3b464fd4",
   "metadata": {},
   "outputs": [],
   "source": [
    "best_logreg.fit(X_train,y_train)"
   ]
  },
  {
   "cell_type": "code",
   "execution_count": null,
   "id": "a9cbd2d4",
   "metadata": {},
   "outputs": [],
   "source": [
    "logreg_predict=best_logreg.predict(X_test)"
   ]
  },
  {
   "cell_type": "code",
   "execution_count": null,
   "id": "a3b23522",
   "metadata": {},
   "outputs": [],
   "source": [
    "print_score(y_test, logreg_predict)"
   ]
  },
  {
   "cell_type": "code",
   "execution_count": null,
   "metadata": {},
   "outputs": [],
   "source": [
    "my_specificity_score(y_test, logreg_predict)"
   ]
  },
  {
   "cell_type": "code",
   "execution_count": null,
   "id": "3408264d",
   "metadata": {},
   "outputs": [],
   "source": [
    "ConfusionMatrixDisplay(confusion_matrix(y_test,logreg_predict)).plot()"
   ]
  },
  {
   "cell_type": "markdown",
   "id": "24efc53f",
   "metadata": {},
   "source": [
    "## 8.4 Sauvegarde de best_lgbm au format pkl\n",
    "\n",
    "Pour utilisation dans API"
   ]
  },
  {
   "cell_type": "code",
   "execution_count": null,
   "metadata": {},
   "outputs": [],
   "source": [
    "pickle_out = open(\"best_lgbm2.pkl\",\"wb\")\n",
    "pickle.dump(best_LGBM, pickle_out)\n",
    "pickle_out.close()"
   ]
  },
  {
   "cell_type": "code",
   "execution_count": null,
   "id": "9f6276d9",
   "metadata": {},
   "outputs": [],
   "source": [
    "bm= open(\"best_lgbm2.pkl\",\"rb\")\n",
    "best_LGBM=pd.read_pickle(bm)\n",
    "best_LGBM"
   ]
  },
  {
   "cell_type": "code",
   "execution_count": null,
   "id": "bd8f8de0",
   "metadata": {},
   "outputs": [],
   "source": [
    "### Create a Pickle file using serialization for API (cf part 7, done now in order to get right best_model)\n",
    "\n",
    "#pickle_out = open(\"classifier.pkl\",\"wb\")\n",
    "#pickle.dump(best_model, pickle_out)\n",
    "#pickle_out.close()"
   ]
  },
  {
   "cell_type": "markdown",
   "id": "f8b8e272",
   "metadata": {},
   "source": [
    "# 9 Optimisation du seuil optimal de proba\n",
    "\n",
    "En considérant que les pertes engendrées par un crédit non remboursé peuvent être diminuées par la revente du bien financé, alors on peut augmenter le suiel à partir duquel l'EC refuse l'octroi du crédit\n",
    "\n",
    "Quels est ce seuil?\n",
    "\n",
    "Plusieurs étapes pour y parvenir:\n",
    "\n",
    "-  Plusieurs essais de défintion du gain ou de la perte par crédit en fonction de y-pred, d'un taux d'interet imaginaire et d'un taux de récuparation appliqué au prix du bien financé,\n",
    "si le crédit n'est pas remboursé.\n",
    "=> calcul_gain_gross\n",
    "- Ajout de la variable seuil \n",
    "=> calcul_gain_proba_unit\n",
    "- Puis fonction permettant d'atblir une grille seuil / gain total pour prêt à dépenser\n",
    "=> calcul_seuil_optimal\n",
    "\n",
    "Plusieurs contraintes\n",
    "\n",
    "- AMNT_GOOD_PRICE nécessaire dans cette fonction mais non utilisée pour prédiction (essai avec drop dans ColumnsTransformer ==> KO)\n",
    "- Or prédiction nécessaire\n",
    "- Mais prédiction se basant sur BEST_LGBM qui contient un sampler (RandomUnderSampler) qui diminue la taille du dataset entrainé\n",
    "=> nécessité de décomposer le modèle (sampler, imputer et scaler avec AMNT_GOOD_PRICE), estimator sans AMNT_GOOD_PRICE \n",
    "- Par ailleurs en passant le dataset dans le scaler dans Best_LGBM, les montants deviennent inexploitable\n",
    "- Le taux d'interet n'est pas connu => à défaulter\n",
    "- nb d'annuités inconnu => forcé dans un 1er temps (montant du crédit / montant de l'annuité) puis abandonné\n",
    "- Si un crédit n'est pas remboursé nous ne savons pas si une partie a été remboursée ou non => je considère que rien n'a été remboursé (= perte de tout le capital prêté)"
   ]
  },
  {
   "cell_type": "markdown",
   "id": "86e20d61",
   "metadata": {},
   "source": [
    "## 9.1 Décomposition et reconstruction de best_LGBM\n",
    "\n",
    "Sur base Train_V2"
   ]
  },
  {
   "cell_type": "code",
   "execution_count": null,
   "id": "8f606b14",
   "metadata": {},
   "outputs": [],
   "source": [
    "train_V2.shape"
   ]
  },
  {
   "cell_type": "markdown",
   "id": "403c44e6",
   "metadata": {},
   "source": [
    "Dans X_tmp, j'inclus AMT_GOODS_PRICE"
   ]
  },
  {
   "cell_type": "code",
   "execution_count": null,
   "id": "4e7c40a5",
   "metadata": {},
   "outputs": [],
   "source": [
    "X_tmp=train_V2.drop(['TARGET','OWN_CAR_AGE','NAME_HOUSING_TYPE','NAME_INCOME_TYPE','NAME_FAMILY_STATUS','NAME_EDUCATION_TYPE'],axis=1)\n",
    "X_tmp.shape"
   ]
  },
  {
   "cell_type": "code",
   "execution_count": null,
   "id": "d33cfeb2",
   "metadata": {},
   "outputs": [],
   "source": [
    "y=train_V2['TARGET']\n",
    "y.shape"
   ]
  },
  {
   "cell_type": "markdown",
   "id": "b7fca69d",
   "metadata": {},
   "source": [
    "Train test split sur base X_tmp"
   ]
  },
  {
   "cell_type": "code",
   "execution_count": null,
   "id": "e6befe77",
   "metadata": {},
   "outputs": [],
   "source": [
    "X_train,X_test,y_train,y_test=train_test_split(X_tmp,y,test_size=0.2)"
   ]
  },
  {
   "cell_type": "code",
   "execution_count": null,
   "id": "3ca4684c",
   "metadata": {},
   "outputs": [],
   "source": [
    "print('Train set:',X_train.shape)\n",
    "print('Test set:',X_test.shape)\n",
    "print('Train target:',y_train.shape)\n",
    "print('Test target:',y_test.shape)"
   ]
  },
  {
   "cell_type": "code",
   "execution_count": null,
   "id": "ce811abf",
   "metadata": {},
   "outputs": [],
   "source": [
    "best_LGBM=Pipeline_imb([\n",
    "    ('sampler',RandomUnderSampler()),\n",
    "    ('imputer',SimpleImputer(strategy='median')),\n",
    "    ('scaler',StandardScaler()),\n",
    "    ('estimator',LGBMClassifier(max_depth=6, min_data_in_leaf=500,\n",
    "                                num_leaves=25))\n",
    "])\n",
    "best_LGBM"
   ]
  },
  {
   "cell_type": "markdown",
   "id": "c67b0af2",
   "metadata": {},
   "source": [
    "Decomposition du modèle avec fonction créée"
   ]
  },
  {
   "cell_type": "code",
   "execution_count": null,
   "id": "ce8c01b4",
   "metadata": {},
   "outputs": [],
   "source": [
    "def decomposition_modele(modele, X_train=X_train,X_test=X_test,y_train=y_train,):\n",
    "    '''\n",
    "    \n",
    "    ##### Mettre à jour fonctions.py API_V2 #####    \n",
    "    \n",
    "    Fonction permettant de décomposer un modèle (pipeline) imbalanced ou non afin de dérouler les différents étapes de preprocessing sans la partie estimator.\n",
    "    Le but étant de pouvoir gérer la feature importance en conservant le nom des colonnes de X_train\n",
    "    \n",
    "    ATTENTION: cette fonction ne fonctionne qu'avec un type précis de pipeline davec les étapes suivantes:\n",
    "    - le 1er step (non obligatoire) de UnderSampling (uniquement RandomUnderSampler())\n",
    "    - un ou plusieurs steps de transformation (scaler/imputer)\n",
    "    - le dernier correspo,d à l'estimateur\n",
    "    \n",
    "    Arguments:\n",
    "    - modele: de type pipeline\n",
    "    - X_train\n",
    "    - X_test\n",
    "    - y_train (necessaire pour le resampling)\n",
    "    '''\n",
    "        \n",
    "    # Si modèle imbalanced:\n",
    "    \n",
    "    if str(modele[0]) == 'RandomUnderSampler()':\n",
    "        \n",
    "        #Sampling\n",
    "        \n",
    "        X_tr, y_train_rus=modele[0].fit_resample(X_train,y_train)\n",
    "    \n",
    "        # Preprocessing X_train\n",
    "    \n",
    "        X_tr=modele[1:-1].fit_transform(X_tr)\n",
    "        X_tr_transf=pd.DataFrame(X_tr, columns=X_train.columns)\n",
    "    \n",
    "        # Preprocessing X_test\n",
    "    \n",
    "        #X_te_transf=modele[1:-1].fit_transform(X_test)\n",
    "        X_te_transf=modele[1:-1].transform(X_test)\n",
    "        X_te_transf=pd.DataFrame(X_te_transf, columns=X_train.columns)\n",
    "        \n",
    "    else: # si classes équilibrées\n",
    "        \n",
    "        y_train_rus = y_train\n",
    "        X_tr=modele[:-1].fit_transform(X_train)\n",
    "        X_tr_transf=pd.DataFrame(X_tr, columns=X_train.columns)\n",
    "    \n",
    "        # Preprocessing y_train\n",
    "    \n",
    "        #X_te_transf=modele[:-1].fit_transform(X_test)\n",
    "        X_te_transf=modele[:-1].transform(X_test)\n",
    "        \n",
    "        X_te_transf=pd.DataFrame(X_te_transf, columns=X_train.columns)\n",
    "    \n",
    "       \n",
    "    return X_tr_transf,X_te_transf, y_train_rus"
   ]
  },
  {
   "cell_type": "code",
   "execution_count": null,
   "id": "49f3d340",
   "metadata": {},
   "outputs": [],
   "source": [
    "best_LGBM[0]"
   ]
  },
  {
   "cell_type": "code",
   "execution_count": null,
   "id": "b9bf60b1",
   "metadata": {},
   "outputs": [],
   "source": [
    "X_train_rus,X_test_sca,y_train_rus=decomposition_modele(best_LGBM)"
   ]
  },
  {
   "cell_type": "markdown",
   "id": "6d0a426a",
   "metadata": {},
   "source": [
    "rus = RandomUnderSampler\n",
    "\n",
    "X-train-rus, X_test_sca, et y_train_rus contiennent AMNT GOOD PRICES"
   ]
  },
  {
   "cell_type": "code",
   "execution_count": null,
   "id": "1f7b5125",
   "metadata": {},
   "outputs": [],
   "source": [
    "print('Train set:',X_train_rus.shape)\n",
    "print('Test set:',X_test_sca.shape)\n",
    "print('Train target:',y_train_rus.shape)\n",
    "print('Test target:',y_test.shape)"
   ]
  },
  {
   "cell_type": "markdown",
   "id": "2411e161",
   "metadata": {},
   "source": [
    "#### Avant entrainement du modèle, je retire la feat AMT_GOODS_PRICE\n",
    "- sur X_train-rus \n",
    "- sur X_test scalé"
   ]
  },
  {
   "cell_type": "code",
   "execution_count": null,
   "id": "70f10a33",
   "metadata": {},
   "outputs": [],
   "source": [
    "X_train_rus=X_train_rus.drop(['AMT_GOODS_PRICE'],axis=1)\n",
    "X_train_rus"
   ]
  },
  {
   "cell_type": "code",
   "execution_count": null,
   "id": "8469b486",
   "metadata": {},
   "outputs": [],
   "source": [
    "X_test_sca=X_test_sca.drop(['AMT_GOODS_PRICE'],axis=1)\n",
    "X_test_sca"
   ]
  },
  {
   "cell_type": "markdown",
   "id": "c8dcb390",
   "metadata": {},
   "source": [
    "### Entrainement du modèle"
   ]
  },
  {
   "cell_type": "code",
   "execution_count": null,
   "id": "0c5ed99d",
   "metadata": {},
   "outputs": [],
   "source": [
    "EST=best_LGBM[-1]\n",
    "EST"
   ]
  },
  {
   "cell_type": "code",
   "execution_count": null,
   "id": "56dfef01",
   "metadata": {},
   "outputs": [],
   "source": [
    "#EST=LGBMClassifier(max_depth=3, min_data_in_leaf=500,\n",
    "#                                num_leaves=20)"
   ]
  },
  {
   "cell_type": "code",
   "execution_count": null,
   "id": "18ec8c4b",
   "metadata": {},
   "outputs": [],
   "source": [
    "EST.fit(X_train_rus, y_train_rus)"
   ]
  },
  {
   "cell_type": "code",
   "execution_count": null,
   "id": "0c9eee67",
   "metadata": {},
   "outputs": [],
   "source": [
    "y_pred=EST.predict(X_test_sca)"
   ]
  },
  {
   "cell_type": "code",
   "execution_count": null,
   "id": "d2a5179d",
   "metadata": {},
   "outputs": [],
   "source": [
    "y_pred"
   ]
  },
  {
   "cell_type": "code",
   "execution_count": null,
   "id": "f36ab10a",
   "metadata": {},
   "outputs": [],
   "source": [
    "y_proba=EST.predict_proba(X_test_sca)\n",
    "y_proba"
   ]
  },
  {
   "cell_type": "code",
   "execution_count": null,
   "id": "4dd09032",
   "metadata": {},
   "outputs": [],
   "source": [
    "y_proba[:,0]"
   ]
  },
  {
   "cell_type": "code",
   "execution_count": null,
   "id": "aebfd764",
   "metadata": {},
   "outputs": [],
   "source": [
    "#y_proba[:,1]"
   ]
  },
  {
   "cell_type": "code",
   "execution_count": null,
   "id": "cf94422a",
   "metadata": {},
   "outputs": [],
   "source": [
    "np.unique(y_pred, return_counts=True)"
   ]
  },
  {
   "cell_type": "code",
   "execution_count": null,
   "id": "c7e865d0",
   "metadata": {},
   "outputs": [],
   "source": [
    "print_score(y_test, y_pred)"
   ]
  },
  {
   "cell_type": "code",
   "execution_count": null,
   "id": "d70bf27d",
   "metadata": {},
   "outputs": [],
   "source": [
    "my_specificity_score(y_test,y_pred)"
   ]
  },
  {
   "cell_type": "code",
   "execution_count": null,
   "id": "f7c8e132",
   "metadata": {},
   "outputs": [],
   "source": [
    "ConfusionMatrixDisplay(confusion_matrix(y_test,y_pred)).plot()"
   ]
  },
  {
   "cell_type": "code",
   "execution_count": null,
   "id": "6ca2522e",
   "metadata": {},
   "outputs": [],
   "source": [
    "ConfusionMatrixDisplay(confusion_matrix(y_test,y_pred)).plot()"
   ]
  },
  {
   "cell_type": "code",
   "execution_count": null,
   "id": "b18ad79e",
   "metadata": {},
   "outputs": [],
   "source": [
    "y_pred"
   ]
  },
  {
   "cell_type": "markdown",
   "id": "324a1b5d",
   "metadata": {},
   "source": [
    "### Reconstituion du df X_test avec:\n",
    "- AMNT_GOODS_PRICE (note  du 22/02/24: AMNT8GOOD_PRICE n'a pa sété retiré de X_test mais de X_te_SCA)\n",
    "- y_true => y_test\n",
    "- y_pred => colonne prédictions\n",
    "- y_proba => en 2 colonnes proba_0 et proba_1 ou une seule colonne sachant que proba_1=1 - proba_0\n"
   ]
  },
  {
   "cell_type": "markdown",
   "id": "4afff94b",
   "metadata": {},
   "source": [
    "Ici copier d'abord y_test"
   ]
  },
  {
   "cell_type": "code",
   "execution_count": null,
   "id": "76a9bbfb",
   "metadata": {},
   "outputs": [],
   "source": [
    "X_test['y_true']=y_test\n",
    "X_test"
   ]
  },
  {
   "cell_type": "code",
   "execution_count": null,
   "id": "32bd8b6d",
   "metadata": {},
   "outputs": [],
   "source": [
    "X_test['predictions']=y_pred\n",
    "X_test"
   ]
  },
  {
   "cell_type": "code",
   "execution_count": null,
   "id": "3c1eaee0",
   "metadata": {},
   "outputs": [],
   "source": [
    "X_test['proba_0']=y_proba[:,0]\n",
    "X_test"
   ]
  },
  {
   "cell_type": "markdown",
   "id": "9899f50a",
   "metadata": {},
   "source": [
    "Ajout de la colonne nb d'annuité qui va nosu permettre de calculer le montant d'interet gagné ou perdu"
   ]
  },
  {
   "cell_type": "code",
   "execution_count": null,
   "id": "f892fa09",
   "metadata": {},
   "outputs": [],
   "source": [
    "X_test['nb_annuité']=round(X_test['AMT_CREDIT']/X_test['AMT_ANNUITY'],0)\n",
    "X_test['nb_annuité'].describe()"
   ]
  },
  {
   "cell_type": "code",
   "execution_count": null,
   "id": "74645bdf",
   "metadata": {},
   "outputs": [],
   "source": [
    "X_test.loc[(X_test['y_true']==0) & (X_test['predictions']==1),:].head()"
   ]
  },
  {
   "cell_type": "markdown",
   "id": "ba447fc5",
   "metadata": {},
   "source": [
    "X_test_2 ci dessous permet de remettre l'index à 0. \n",
    "- Plus facile pour tester les différentes fonction de calcul de gain"
   ]
  },
  {
   "cell_type": "code",
   "execution_count": null,
   "id": "b421d9f8",
   "metadata": {},
   "outputs": [],
   "source": [
    "X_test_2=X_test.copy()"
   ]
  },
  {
   "cell_type": "code",
   "execution_count": null,
   "id": "485b4f8c",
   "metadata": {},
   "outputs": [],
   "source": [
    "X_test_2.reset_index(inplace=True)"
   ]
  },
  {
   "cell_type": "code",
   "execution_count": null,
   "id": "c4c8b45e",
   "metadata": {},
   "outputs": [],
   "source": [
    "X_test_2.loc[(X_test_2['y_true']==0) & (X_test_2['predictions']==0),:].head()"
   ]
  },
  {
   "cell_type": "markdown",
   "id": "cc4114d4",
   "metadata": {},
   "source": [
    "## 9.2 Fonctions permettant de calculer le P/L par crédit puis sur l'ensemble du dataset\n",
    "\n",
    "Ci dessous plusiseurs hypothèses:\n",
    "\n",
    "1. Dans un 1er calcul prise en compte du manque à gagner (Faux positif) et de perte qui aurait dû être évitées (Faux négatif) => abandonné pour simplifiaction\n",
    "2. en considérant ou non que les interets ne sont perçus qu'une année ou sur l'ensembel de la durée de vie du crédit => une seule annuité retenue pour simplification\n",
    "\n",
    "Reflexion sur les différents cas de figure:\n",
    "\n",
    "- Si y-pred = y_true = 0 => gain= interêts perçus sur le crédit = M * i * n\n",
    "    \n",
    "    M= Montant du crédit ;    \n",
    "    i = taux d'interêt ;    \n",
    "    n = nb d'année;\n",
    "        \n",
    "    Mais pas de gain par rapport à la situation sans modèle de prédiction\n",
    "    \n",
    "\n",
    "- Si y-pred = y_true = 1 => Si on considère que le prêt a été accordé à tort dans la réalité et que grace à notre modèle on n'octroie pas le crédit, le gain est une perte évitée soit:\n",
    "\n",
    "    Montant du crédit moins revente du produit financé (moins décôte de 30%) => M-(30% * PP)\n",
    "\n",
    "- Si y_pred =1 et y_true= 0 => Faux négatif: montant non accordé à tort: Manque à gagner (perte) = M * i * n\n",
    "\n",
    "- SI y_pred = 0 et y_true =1 => Faux positif: montant accordé à tort: Perte = Montant du crédit - revente du bien acheté (avec décote de 30% par ex) => M-(30% * PP)\n",
    "\n",
    "Rappel:  les NaN sur AMNT_GOODS_PRICE ont été défaultés avec le montant du crédit associé (cf nobe explo/transfo: les seuls NaN sont sur des crédits revolving pour lesquels dans la plupart des cas le montant de crédit est égal au prix du bien financé)"
   ]
  },
  {
   "cell_type": "code",
   "execution_count": null,
   "id": "8abc2a21",
   "metadata": {},
   "outputs": [],
   "source": [
    "def calcul_gain_unit(ser, lost_coeff =0.3, taux=0.05): #y_true, y_pred\n",
    "    \n",
    "    '''Le but de cette fonction est de calculer le différentiel de gain grâce au modèle de prédiction comparé à la réalisation dans la vraie vie'''\n",
    "        \n",
    "    if ser['predictions']: # ==1 , pas de prêt\n",
    "        if ser['y_true']: #==1; on ne perd plus d'argent grace au modèle de prédiction: gain\n",
    "            return round(ser['AMT_CREDIT']-lost_coeff*ser['AMT_GOODS_PRICE'],2)\n",
    "        else: # y_true = 0: on a refusé le crédit à tort: manque à gagner = interets non perçus = M*i*n (interets simples)\n",
    "            return round(-(ser['AMT_CREDIT']*taux*ser['nb_annuité']),2)\n",
    "    if not ser['predictions']: #==0, prêt accordé (pas de différence avec la réalité)\n",
    "        return 0 \n",
    "        #if y_true: #==1, prêt non remboursé, donc prêt accordé à tort=> perte = M-(30% * PP)\n",
    "        #    return -(ser['AMT_CREDIT']-lost_coeff*ser['AMT_GOODS_PRICE'])\n",
    "        #elif: # y_true = 0 pas de différence : le gain est le même avec et sans modèle de prédiction\n",
    "        #    return 0\n",
    "        \n",
    "            \n",
    "        "
   ]
  },
  {
   "cell_type": "code",
   "execution_count": null,
   "id": "600e0e81",
   "metadata": {},
   "outputs": [],
   "source": [
    "def calcul_gain_unit_1an(ser, lost_coeff =0.3, taux=0.05): #y_true, y_pred\n",
    "    \n",
    "    '''Variante de la fn calcul_gain_unit où l'on considère une seule annuité'''\n",
    "        \n",
    "    if ser['predictions']: # ==1 , pas de prêt\n",
    "        if ser['y_true']: #==1; on ne perd plus d'argent grace au modèle de prédiction: gain\n",
    "            return round(ser['AMT_CREDIT']-lost_coeff*ser['AMT_GOODS_PRICE'],2)\n",
    "        else: # y_true = 0: on a refusé le crédit à tort: manque à gagner = interets non perçus = M*i*n (interets simples)\n",
    "            return round(-(ser['AMT_CREDIT']*taux),2)\n",
    "    if not ser['predictions']: #==0, prêt accordé (pas de différence avec la réalité)\n",
    "        return 0 "
   ]
  },
  {
   "cell_type": "markdown",
   "id": "bbb820df",
   "metadata": {},
   "source": [
    "Test fonction calcul_gain_unit"
   ]
  },
  {
   "cell_type": "code",
   "execution_count": null,
   "id": "a191971d",
   "metadata": {},
   "outputs": [],
   "source": [
    "X_test.iloc[19].T"
   ]
  },
  {
   "cell_type": "code",
   "execution_count": null,
   "id": "52b70a3f",
   "metadata": {},
   "outputs": [],
   "source": [
    "calcul_gain_unit(X_test.iloc[19].T)"
   ]
  },
  {
   "cell_type": "code",
   "execution_count": null,
   "id": "dac30cbf",
   "metadata": {},
   "outputs": [],
   "source": [
    "def calcul_gain_total(df):\n",
    "    df['Gain']=0\n",
    "    for i in range(len(df)):\n",
    "        #calcul_gain_unit(df.iloc[i].T)\n",
    "        df['Gain'].iloc[i]=calcul_gain_unit(df.iloc[i].T)\n",
    "    return round(df['Gain'].sum(),2)"
   ]
  },
  {
   "cell_type": "markdown",
   "id": "ae80920a",
   "metadata": {},
   "source": [
    "Test fonction calcul_gain_total"
   ]
  },
  {
   "cell_type": "code",
   "execution_count": null,
   "id": "2112acc8",
   "metadata": {},
   "outputs": [],
   "source": [
    "calcul_gain_total(X_test)"
   ]
  },
  {
   "cell_type": "markdown",
   "id": "b3aa7cb0",
   "metadata": {},
   "source": [
    "Montant très négatif. Expliqué par:\n",
    "\n",
    "- taux de récup et règle basée sur nb d'annuités \n",
    "- par le fait que l'on n'a pas les crédits refusés dans la réalité et qui auraient été octroyés grâce au modèle"
   ]
  },
  {
   "cell_type": "markdown",
   "id": "199c7406",
   "metadata": {},
   "source": [
    "Si 1 seule annuité"
   ]
  },
  {
   "cell_type": "code",
   "execution_count": null,
   "id": "22589936",
   "metadata": {},
   "outputs": [],
   "source": [
    "def calcul_gain_total_1an(df):\n",
    "    df['Gain']=0\n",
    "    for i in range(len(df)):\n",
    "        #calcul_gain_unit(df.iloc[i].T)\n",
    "        df['Gain'].iloc[i]=calcul_gain_unit_1an(df.iloc[i].T)\n",
    "    return round(df['Gain'].sum(),2)"
   ]
  },
  {
   "cell_type": "code",
   "execution_count": null,
   "id": "1311a39a",
   "metadata": {},
   "outputs": [],
   "source": [
    "calcul_gain_total_1an(X_test)"
   ]
  },
  {
   "cell_type": "markdown",
   "id": "504c92fa",
   "metadata": {},
   "source": [
    "Cette fois on gagne"
   ]
  },
  {
   "cell_type": "markdown",
   "id": "921de7c5",
   "metadata": {},
   "source": [
    "### 9.2.1 Version alternative\n",
    "\n",
    "pour un crédit donné, calcul du gain ou de la perte, en focntion de la prédictions. Pas de notion de perte évitée ou de manque à gagner"
   ]
  },
  {
   "cell_type": "code",
   "execution_count": null,
   "id": "4fd5ca99",
   "metadata": {},
   "outputs": [],
   "source": [
    "def calcul_gain_gross(ser, lost_coeff =0.3, taux=0.05): #y_true, y_pred\n",
    "    \n",
    "    if ser['predictions']:\n",
    "        return 0\n",
    "    \n",
    "    if not ser['y_true']: # == 0 > prêt accordé et remboursé: gains = interets\n",
    "        return round(ser['AMT_CREDIT']*taux*ser['nb_annuité'],2)\n",
    "    \n",
    "    if ser['y_true']: # ==1 prêt accordé à tort : perte K  - vente des biens\n",
    "        return round(-ser['AMT_CREDIT']-lost_coeff * ser['AMT_GOODS_PRICE'],2)"
   ]
  },
  {
   "cell_type": "markdown",
   "id": "957aa9b6",
   "metadata": {},
   "source": [
    "Test de la fn calcul_gain_gross"
   ]
  },
  {
   "cell_type": "code",
   "execution_count": null,
   "id": "6fd5ab72",
   "metadata": {},
   "outputs": [],
   "source": [
    "calcul_gain_gross(X_test.iloc[19].T)"
   ]
  },
  {
   "cell_type": "code",
   "execution_count": null,
   "id": "7521f7f2",
   "metadata": {},
   "outputs": [],
   "source": [
    "X_test.iloc[0].T"
   ]
  },
  {
   "cell_type": "code",
   "execution_count": null,
   "id": "1b2b5d55",
   "metadata": {},
   "outputs": [],
   "source": [
    "calcul_gain_gross(X_test.iloc[0].T)"
   ]
  },
  {
   "cell_type": "code",
   "execution_count": null,
   "id": "d459e102",
   "metadata": {},
   "outputs": [],
   "source": [
    "def calcul_gain_total_1an(df):\n",
    "    df['Gain']=0\n",
    "    for i in range(len(df)):\n",
    "        #calcul_gain_unit(df.iloc[i].T)\n",
    "        df['Gain'].iloc[i]=calcul_gain_unit_1an(df.iloc[i].T)\n",
    "    return round(df['Gain'].sum(),2)"
   ]
  },
  {
   "cell_type": "code",
   "execution_count": null,
   "id": "3ba3ba5a",
   "metadata": {},
   "outputs": [],
   "source": [
    "def calcul_gain_gross_total(df):\n",
    "    gain=[]\n",
    "    gain_total = 0\n",
    "    for i in range(len(df)):\n",
    "        gain.append(calcul_gain_gross(df.iloc[i].T))\n",
    "        \n",
    "        #df['Gain_net'].iloc[i]=calcul_gain_unit(df.iloc[i].T)\n",
    "        gain_total+=gain[i]\n",
    "    return round(gain_total,2)"
   ]
  },
  {
   "cell_type": "code",
   "execution_count": null,
   "id": "474cbd26",
   "metadata": {},
   "outputs": [],
   "source": [
    "calcul_gain_gross_total(X_test)"
   ]
  },
  {
   "cell_type": "markdown",
   "id": "9dbdd934",
   "metadata": {},
   "source": [
    "## 9.3 Optimisation du seuil optimal"
   ]
  },
  {
   "cell_type": "code",
   "execution_count": null,
   "id": "3102ca28",
   "metadata": {},
   "outputs": [],
   "source": [
    "def calcul_gain_proba_unit(ser,seuil=0.50, lost_coeff =0.3, taux=0.05):\n",
    "    \n",
    "    \"\"\"Fonction permettant de calculer le gain ou la perte attendus sur un prêt accordé selon qu'il ait été remboursé ou non\n",
    "    \n",
    "    ##### METTRE A JOUR fonctions.py de API_V2 #####\n",
    "    \n",
    "    \n",
    "    Args:\n",
    "    - ser: serie Pandas => colonne 'probe_0' du dataset \n",
    "    - seuil: par défaut = 0.5 (seuil de base pour définri la classe 0 ou 1 d'une prédiction)\n",
    "    -lost_coeff: estimation du taux de revente d'un bien financé par le crédit (utilisé en cas d'impayé)\n",
    "    - taux: taux d'intéret du crédit\n",
    "        \n",
    "    \"\"\"\n",
    "    if ser['proba_0'] < seuil:\n",
    "        return 0    \n",
    "            \n",
    "    #if ser['predictions']:\n",
    "    #    return 0\n",
    "    \n",
    "    \n",
    "    \n",
    "    if not ser['y_true']: # == 0 > prêt accordé et remboursé: gains = interets\n",
    "        #Version où les interets sont perçus sur toutes les annuités\n",
    "        #return round(ser['AMT_CREDIT']*taux*ser['nb_annuité'],2)\n",
    "        \n",
    "        #Version où l'on ne perçoit les int qu'une seule fois\n",
    "        return round(ser['AMT_CREDIT']*taux,2)\n",
    "    \n",
    "    if ser['y_true']: # ==1 prêt accordé à tort : perte K  - vente des biens\n",
    "        return round(-ser['AMT_CREDIT']-lost_coeff * ser['AMT_GOODS_PRICE'],2)"
   ]
  },
  {
   "cell_type": "code",
   "execution_count": null,
   "id": "327097c6",
   "metadata": {},
   "outputs": [],
   "source": [
    "X_test_2.loc[(X_test_2['y_true']==0) & (X_test_2['predictions']==1),:].head()"
   ]
  },
  {
   "cell_type": "code",
   "execution_count": null,
   "id": "6c04488b",
   "metadata": {},
   "outputs": [],
   "source": [
    "X_test_2.iloc[5].T"
   ]
  },
  {
   "cell_type": "code",
   "execution_count": null,
   "id": "49e8facf",
   "metadata": {},
   "outputs": [],
   "source": [
    "for i in [0.2,0.3,0.4]:\n",
    "    print(f'gain ={calcul_gain_proba_unit(X_test.iloc[5].T,seuil=i)}')"
   ]
  },
  {
   "cell_type": "code",
   "execution_count": null,
   "id": "6090ac18",
   "metadata": {},
   "outputs": [],
   "source": [
    "range(len(np.arange(0,1.05,0.05)))"
   ]
  },
  {
   "cell_type": "code",
   "execution_count": null,
   "id": "b9d85271",
   "metadata": {},
   "outputs": [],
   "source": [
    "def calcul_seuil_optimal(df):\n",
    "    \n",
    "    \"\"\" Fonction renvoyant un DataFrame renvoyant pour une série (entre 0 et 1), le gain total attendu.\n",
    "    DataFrame utilisé pour définir le seuil optimal à partir duquel on considère que le prêt, qu'il ait été accordé ou non, rapportera de l'argent\n",
    "    Dépend de la fonction calcul_gain_proba_unit définie + haut\n",
    "    \n",
    "    ##### METTRE A JOUR fonctions.py de API_V2? #####\n",
    "\n",
    "    Arg:    \n",
    "    df: contenant ['proba_0'] (predict proba 0)\n",
    "    \n",
    "    \"\"\"\n",
    "    \n",
    "    best_thresh=pd.DataFrame(columns=['threshold','Gain_total'])\n",
    "    #global best_thresh\n",
    "    \n",
    "    for thr,j in zip(np.arange(0,1.05,0.05),range(len(np.arange(0,1.05,0.05)))): \n",
    "        gain=[]\n",
    "        gain_total = 0\n",
    "        \n",
    "        for i in range(len(df)):\n",
    "            gain.append(calcul_gain_proba_unit(df.iloc[i].T,thr,taux=0.04,lost_coeff=0.3))\n",
    "            gain_total+=gain[i]\n",
    "        \n",
    "        tmp=pd.DataFrame([[round(thr,2),gain_total]],columns=['threshold','Gain_total'])\n",
    "        \n",
    "        best_thresh=pd.concat([best_thresh,tmp],axis=0,ignore_index=True)\n",
    "        \n",
    "    return best_thresh #gain_total"
   ]
  },
  {
   "cell_type": "code",
   "execution_count": null,
   "id": "ad8f5254",
   "metadata": {},
   "outputs": [],
   "source": [
    "thresh=calcul_seuil_optimal(X_test)\n",
    "thresh"
   ]
  },
  {
   "cell_type": "code",
   "execution_count": null,
   "id": "9f00bae4",
   "metadata": {},
   "outputs": [],
   "source": [
    "fig = plt.figure(figsize=(6,4),constrained_layout = True)\n",
    "plt.plot(thresh['threshold'],thresh['Gain_total'], color='teal', label='CA')\n",
    "#plt.plot(hist.history['val_loss'], color='orange', label='val_loss')\n",
    "listOf_Xticks = thresh['threshold']\n",
    "plt.xticks(listOf_Xticks,rotation='vertical')\n",
    "fig.suptitle('evolution du CA en fn du seuil', fontsize=20)\n",
    "plt.legend(loc=\"upper right\")\n",
    "plt.show()"
   ]
  },
  {
   "cell_type": "code",
   "execution_count": null,
   "id": "d9c28f57",
   "metadata": {},
   "outputs": [],
   "source": [
    "thresh['Gain_total'].max()"
   ]
  },
  {
   "cell_type": "code",
   "execution_count": null,
   "id": "0a71f59f",
   "metadata": {},
   "outputs": [],
   "source": [
    "thresh.loc[thresh['Gain_total']==thresh['Gain_total'].max(),:]"
   ]
  },
  {
   "cell_type": "markdown",
   "id": "7984d0f5",
   "metadata": {},
   "source": [
    "#### Vérification calcul:"
   ]
  },
  {
   "cell_type": "code",
   "execution_count": null,
   "id": "5e9ce847",
   "metadata": {},
   "outputs": [],
   "source": [
    "X_test.shape"
   ]
  },
  {
   "cell_type": "code",
   "execution_count": null,
   "id": "47c0e2c9",
   "metadata": {},
   "outputs": [],
   "source": [
    "X_test.loc[X_test['y_true']==0].shape"
   ]
  },
  {
   "cell_type": "code",
   "execution_count": null,
   "id": "2ab7bf94",
   "metadata": {},
   "outputs": [],
   "source": [
    "X_test.loc[X_test['y_true']==1].shape"
   ]
  },
  {
   "cell_type": "code",
   "execution_count": null,
   "id": "adb64d59",
   "metadata": {},
   "outputs": [],
   "source": [
    "X_test.loc[(X_test['y_true']==0),'AMT_CREDIT'].sum()*0.04#-X_test.loc[(X_test['y_true']==1),'AMT_GOODS_PRICE'].sum()*0.3"
   ]
  },
  {
   "cell_type": "code",
   "execution_count": null,
   "id": "3fad1c07",
   "metadata": {},
   "outputs": [],
   "source": [
    "tmp= X_test.loc[(X_test['y_true']==1),['AMT_GOODS_PRICE','AMT_CREDIT']]"
   ]
  },
  {
   "cell_type": "code",
   "execution_count": null,
   "id": "57ef89ee",
   "metadata": {},
   "outputs": [],
   "source": [
    "tmp['AMT_CREDIT'].sum()-0.3*(tmp['AMT_GOODS_PRICE'].sum())"
   ]
  },
  {
   "cell_type": "code",
   "execution_count": null,
   "id": "e685c2f9",
   "metadata": {},
   "outputs": [],
   "source": [
    "X_test.loc[(X_test['y_true']==0),'AMT_CREDIT'].sum()*0.04 - tmp['AMT_CREDIT'].sum()-0.3*(tmp['AMT_GOODS_PRICE'].sum())"
   ]
  },
  {
   "cell_type": "code",
   "execution_count": null,
   "metadata": {},
   "outputs": [],
   "source": [
    "thresh.loc[thresh['Gain_total']==thresh['Gain_total'].min(),:]"
   ]
  },
  {
   "cell_type": "markdown",
   "id": "48a60b14",
   "metadata": {},
   "source": [
    "### Conclusion\n",
    "\n",
    "Seuil opptimal = 0.7\n",
    "\n",
    "Point d'amélioration: inclure le calcul du gain max dans la comparaison entre les modèles"
   ]
  },
  {
   "cell_type": "markdown",
   "id": "5cbd6d37",
   "metadata": {},
   "source": [
    "# 10 Préparation df pour API\n",
    "\n",
    "X_test (données sur lesquelles le modèle n'est pas entrainé) duquel je retire les colonnes ajoutées:\n",
    "- 'y_true',\n",
    "- 'predictions',\n",
    "- 'proba_0',\n",
    "- 'nb_annuité',\n",
    "- 'Gain'"
   ]
  },
  {
   "cell_type": "code",
   "execution_count": null,
   "id": "46ef492c",
   "metadata": {},
   "outputs": [],
   "source": [
    "X_test=X_test.drop(['y_true','predictions','proba_0','nb_annuité'],axis=1)\n",
    "X_test.shape"
   ]
  },
  {
   "cell_type": "markdown",
   "id": "cecb4d59",
   "metadata": {},
   "source": [
    "## Modification des entêtes de colonnes pour meilleure lecture dans dashboard"
   ]
  },
  {
   "cell_type": "markdown",
   "id": "daf65f2b",
   "metadata": {},
   "source": [
    "N/A pour le moment: sera géré dans le dashboard via un expander d'explication"
   ]
  },
  {
   "cell_type": "markdown",
   "id": "be69a0db",
   "metadata": {},
   "source": [
    "## Serialisation pour API\n",
    "\n",
    "Serialisation depuis pd.to_picle()"
   ]
  },
  {
   "cell_type": "code",
   "execution_count": null,
   "id": "ac346ab4",
   "metadata": {},
   "outputs": [],
   "source": [
    "X_test.to_pickle(\"./data2pkl_V2.pkl\")"
   ]
  },
  {
   "cell_type": "code",
   "execution_count": null,
   "id": "e1de3120",
   "metadata": {},
   "outputs": [],
   "source": [
    "ds= open(\"data2pkl_V2.pkl\",\"rb\")\n",
    "ds_sample=pd.read_pickle(ds)\n",
    "ds_sample"
   ]
  },
  {
   "cell_type": "code",
   "execution_count": null,
   "id": "b315327a",
   "metadata": {},
   "outputs": [],
   "source": [
    "ds_sample=ds_sample.sample(frac=0.2)\n",
    "ds_sample.shape\n"
   ]
  },
  {
   "cell_type": "code",
   "execution_count": null,
   "id": "57c1ef88",
   "metadata": {},
   "outputs": [],
   "source": [
    "ds_sample.to_pickle(\"./data_smpl.pkl\")"
   ]
  },
  {
   "cell_type": "code",
   "execution_count": null,
   "id": "5de2c0c5",
   "metadata": {},
   "outputs": [],
   "source": [
    "X_test.to_csv('C:/Users/xavie/P7/P7_API/data_sample_V2.csv', index=False)"
   ]
  },
  {
   "cell_type": "code",
   "execution_count": null,
   "id": "fbf1793d",
   "metadata": {},
   "outputs": [],
   "source": []
  }
 ],
 "metadata": {
  "kernelspec": {
   "display_name": "Python 3 (ipykernel)",
   "language": "python",
   "name": "python3"
  },
  "language_info": {
   "codemirror_mode": {
    "name": "ipython",
    "version": 3
   },
   "file_extension": ".py",
   "mimetype": "text/x-python",
   "name": "python",
   "nbconvert_exporter": "python",
   "pygments_lexer": "ipython3",
   "version": "3.9.13"
  }
 },
 "nbformat": 4,
 "nbformat_minor": 5
}
